{
 "cells": [
  {
   "cell_type": "code",
   "execution_count": 1,
   "id": "391b0dcd",
   "metadata": {},
   "outputs": [],
   "source": [
    "import torch\n",
    "import torch.nn as nn\n",
    "import torch.optim as optim\n",
    "from torch.utils.data import Dataset,DataLoader\n",
    "import torch.nn.functional as F\n",
    "from torchdiffeq import odeint\n",
    "\n",
    "import numpy as np\n",
    "import pandas as pd\n",
    "import matplotlib.pyplot as plt\n",
    "from sklearn.model_selection import train_test_split\n",
    "import math\n",
    "from tqdm import tqdm\n",
    "\n",
    "from sklearn.preprocessing import MinMaxScaler\n",
    "from sklearn.preprocessing import QuantileTransformer\n",
    "import copy\n",
    "\n",
    "import sys\n",
    "sys.path.append('..')\n",
    "\n",
    "from src.data.data_loader import MIMICDataset,import_data,collate_fn_padd\n",
    "from src.data.data_scaler import PreProcess\n",
    "from src.utils import setup_logger\n",
    "from src.models.models import Baseline,NormalOutputNN,ODEGRU\n",
    "from src.utils import seed_everything\n",
    "\n",
    "def glc_invtransform(x):\n",
    "    x = x.copy()\n",
    "    x = np.exp(x + np.log(140))\n",
    "    return x\n",
    "\n",
    "ginv = glc_invtransform"
   ]
  },
  {
   "cell_type": "code",
   "execution_count": 2,
   "id": "7669eb7e",
   "metadata": {},
   "outputs": [],
   "source": [
    "df = import_data('../data/treatment_only_analysis.csv',verbose=False)"
   ]
  },
  {
   "cell_type": "code",
   "execution_count": 3,
   "id": "01c557e5",
   "metadata": {},
   "outputs": [
    {
     "data": {
      "text/plain": [
       "Index(['subject_id', 'hadm_id', 'icustay_id', 'icu_admissiontime',\n",
       "       'icu_dischargetime', 'timer', 'timer_dt', 'glc', 'glc_dt',\n",
       "       'input_short_injection', 'input_short_push', 'input_intermediate',\n",
       "       'input_long', 'starttime', 'endtime', 'input_hrs', 'infxstop', 'msk0',\n",
       "       'msk'],\n",
       "      dtype='object')"
      ]
     },
     "execution_count": 3,
     "metadata": {},
     "output_type": "execute_result"
    }
   ],
   "source": [
    "df.columns"
   ]
  },
  {
   "cell_type": "code",
   "execution_count": 4,
   "id": "34ced0f1",
   "metadata": {},
   "outputs": [
    {
     "name": "stdout",
     "output_type": "stream",
     "text": [
      "reconfiguring data...\n",
      "excluded patients: 0\n",
      "excluded rows: 0\n"
     ]
    }
   ],
   "source": [
    "FEATURES = [ 'glc','input_short_injection', \n",
    "            'input_short_push', 'input_intermediate','input_long','input_hrs']\n",
    "preproc = PreProcess(FEATURES,QuantileTransformer())\n",
    "SEQUENCE_LEN = -1\n",
    "preproc.fit(df)\n",
    "#df = df.loc[~df.glc.isnull()].copy()\n",
    "df = df.iloc[0:5000,:].copy()\n",
    "df_preproc = preproc.transform(df)\n",
    "df_preproc.loc[df_preproc.glc.isnull(),'glc'] = 999.\n",
    "data_mimic = MIMICDataset(df_preproc,FEATURES,pad=SEQUENCE_LEN)"
   ]
  },
  {
   "cell_type": "code",
   "execution_count": 5,
   "id": "7fa8ac4e",
   "metadata": {},
   "outputs": [
    {
     "data": {
      "text/html": [
       "<div>\n",
       "<style scoped>\n",
       "    .dataframe tbody tr th:only-of-type {\n",
       "        vertical-align: middle;\n",
       "    }\n",
       "\n",
       "    .dataframe tbody tr th {\n",
       "        vertical-align: top;\n",
       "    }\n",
       "\n",
       "    .dataframe thead th {\n",
       "        text-align: right;\n",
       "    }\n",
       "</style>\n",
       "<table border=\"1\" class=\"dataframe\">\n",
       "  <thead>\n",
       "    <tr style=\"text-align: right;\">\n",
       "      <th></th>\n",
       "      <th>subject_id</th>\n",
       "      <th>hadm_id</th>\n",
       "      <th>icustay_id</th>\n",
       "      <th>icu_admissiontime</th>\n",
       "      <th>icu_dischargetime</th>\n",
       "      <th>timer</th>\n",
       "      <th>timer_dt</th>\n",
       "      <th>glc</th>\n",
       "      <th>glc_dt</th>\n",
       "      <th>input_short_injection</th>\n",
       "      <th>input_short_push</th>\n",
       "      <th>input_intermediate</th>\n",
       "      <th>input_long</th>\n",
       "      <th>starttime</th>\n",
       "      <th>endtime</th>\n",
       "      <th>input_hrs</th>\n",
       "      <th>infxstop</th>\n",
       "      <th>msk0</th>\n",
       "      <th>msk</th>\n",
       "    </tr>\n",
       "  </thead>\n",
       "  <tbody>\n",
       "    <tr>\n",
       "      <th>0</th>\n",
       "      <td>55973</td>\n",
       "      <td>152234</td>\n",
       "      <td>200001</td>\n",
       "      <td>0.0</td>\n",
       "      <td>73.88</td>\n",
       "      <td>2.88</td>\n",
       "      <td>20.78</td>\n",
       "      <td>118.0</td>\n",
       "      <td>72.0</td>\n",
       "      <td>0.0</td>\n",
       "      <td>0.0</td>\n",
       "      <td>0.0</td>\n",
       "      <td>0.0</td>\n",
       "      <td>NaN</td>\n",
       "      <td>NaN</td>\n",
       "      <td>0.000000</td>\n",
       "      <td>NaN</td>\n",
       "      <td>0</td>\n",
       "      <td>0</td>\n",
       "    </tr>\n",
       "    <tr>\n",
       "      <th>1</th>\n",
       "      <td>55973</td>\n",
       "      <td>152234</td>\n",
       "      <td>200001</td>\n",
       "      <td>0.0</td>\n",
       "      <td>73.88</td>\n",
       "      <td>20.78</td>\n",
       "      <td>26.88</td>\n",
       "      <td>72.0</td>\n",
       "      <td>135.0</td>\n",
       "      <td>0.0</td>\n",
       "      <td>0.0</td>\n",
       "      <td>0.0</td>\n",
       "      <td>0.0</td>\n",
       "      <td>NaN</td>\n",
       "      <td>NaN</td>\n",
       "      <td>0.000000</td>\n",
       "      <td>NaN</td>\n",
       "      <td>0</td>\n",
       "      <td>0</td>\n",
       "    </tr>\n",
       "    <tr>\n",
       "      <th>2</th>\n",
       "      <td>55973</td>\n",
       "      <td>152234</td>\n",
       "      <td>200001</td>\n",
       "      <td>0.0</td>\n",
       "      <td>73.88</td>\n",
       "      <td>26.88</td>\n",
       "      <td>36.88</td>\n",
       "      <td>135.0</td>\n",
       "      <td>106.0</td>\n",
       "      <td>0.0</td>\n",
       "      <td>0.0</td>\n",
       "      <td>0.0</td>\n",
       "      <td>0.0</td>\n",
       "      <td>NaN</td>\n",
       "      <td>NaN</td>\n",
       "      <td>0.000000</td>\n",
       "      <td>NaN</td>\n",
       "      <td>0</td>\n",
       "      <td>0</td>\n",
       "    </tr>\n",
       "    <tr>\n",
       "      <th>3</th>\n",
       "      <td>55973</td>\n",
       "      <td>152234</td>\n",
       "      <td>200001</td>\n",
       "      <td>0.0</td>\n",
       "      <td>73.88</td>\n",
       "      <td>36.88</td>\n",
       "      <td>44.88</td>\n",
       "      <td>106.0</td>\n",
       "      <td>125.0</td>\n",
       "      <td>0.0</td>\n",
       "      <td>0.0</td>\n",
       "      <td>0.0</td>\n",
       "      <td>0.0</td>\n",
       "      <td>NaN</td>\n",
       "      <td>NaN</td>\n",
       "      <td>0.000000</td>\n",
       "      <td>NaN</td>\n",
       "      <td>0</td>\n",
       "      <td>0</td>\n",
       "    </tr>\n",
       "    <tr>\n",
       "      <th>4</th>\n",
       "      <td>55973</td>\n",
       "      <td>152234</td>\n",
       "      <td>200001</td>\n",
       "      <td>0.0</td>\n",
       "      <td>73.88</td>\n",
       "      <td>44.88</td>\n",
       "      <td>50.88</td>\n",
       "      <td>125.0</td>\n",
       "      <td>101.0</td>\n",
       "      <td>0.0</td>\n",
       "      <td>0.0</td>\n",
       "      <td>0.0</td>\n",
       "      <td>0.0</td>\n",
       "      <td>NaN</td>\n",
       "      <td>NaN</td>\n",
       "      <td>0.000000</td>\n",
       "      <td>NaN</td>\n",
       "      <td>0</td>\n",
       "      <td>0</td>\n",
       "    </tr>\n",
       "    <tr>\n",
       "      <th>...</th>\n",
       "      <td>...</td>\n",
       "      <td>...</td>\n",
       "      <td>...</td>\n",
       "      <td>...</td>\n",
       "      <td>...</td>\n",
       "      <td>...</td>\n",
       "      <td>...</td>\n",
       "      <td>...</td>\n",
       "      <td>...</td>\n",
       "      <td>...</td>\n",
       "      <td>...</td>\n",
       "      <td>...</td>\n",
       "      <td>...</td>\n",
       "      <td>...</td>\n",
       "      <td>...</td>\n",
       "      <td>...</td>\n",
       "      <td>...</td>\n",
       "      <td>...</td>\n",
       "      <td>...</td>\n",
       "    </tr>\n",
       "    <tr>\n",
       "      <th>4999</th>\n",
       "      <td>52125</td>\n",
       "      <td>161239</td>\n",
       "      <td>201621</td>\n",
       "      <td>0.0</td>\n",
       "      <td>33.20</td>\n",
       "      <td>8.20</td>\n",
       "      <td>9.50</td>\n",
       "      <td>159.0</td>\n",
       "      <td>144.0</td>\n",
       "      <td>0.0</td>\n",
       "      <td>0.0</td>\n",
       "      <td>0.0</td>\n",
       "      <td>0.0</td>\n",
       "      <td>8.20</td>\n",
       "      <td>9.50</td>\n",
       "      <td>3.000000</td>\n",
       "      <td>0.0</td>\n",
       "      <td>0</td>\n",
       "      <td>0</td>\n",
       "    </tr>\n",
       "    <tr>\n",
       "      <th>5000</th>\n",
       "      <td>52125</td>\n",
       "      <td>161239</td>\n",
       "      <td>201621</td>\n",
       "      <td>0.0</td>\n",
       "      <td>33.20</td>\n",
       "      <td>9.50</td>\n",
       "      <td>10.55</td>\n",
       "      <td>144.0</td>\n",
       "      <td>139.0</td>\n",
       "      <td>0.0</td>\n",
       "      <td>0.0</td>\n",
       "      <td>0.0</td>\n",
       "      <td>0.0</td>\n",
       "      <td>9.50</td>\n",
       "      <td>10.55</td>\n",
       "      <td>4.001388</td>\n",
       "      <td>0.0</td>\n",
       "      <td>0</td>\n",
       "      <td>0</td>\n",
       "    </tr>\n",
       "    <tr>\n",
       "      <th>5001</th>\n",
       "      <td>52125</td>\n",
       "      <td>161239</td>\n",
       "      <td>201621</td>\n",
       "      <td>0.0</td>\n",
       "      <td>33.20</td>\n",
       "      <td>10.55</td>\n",
       "      <td>11.45</td>\n",
       "      <td>139.0</td>\n",
       "      <td>132.0</td>\n",
       "      <td>0.0</td>\n",
       "      <td>0.0</td>\n",
       "      <td>0.0</td>\n",
       "      <td>0.0</td>\n",
       "      <td>10.55</td>\n",
       "      <td>11.45</td>\n",
       "      <td>5.003550</td>\n",
       "      <td>0.0</td>\n",
       "      <td>0</td>\n",
       "      <td>0</td>\n",
       "    </tr>\n",
       "    <tr>\n",
       "      <th>5002</th>\n",
       "      <td>52125</td>\n",
       "      <td>161239</td>\n",
       "      <td>201621</td>\n",
       "      <td>0.0</td>\n",
       "      <td>33.20</td>\n",
       "      <td>11.45</td>\n",
       "      <td>12.50</td>\n",
       "      <td>132.0</td>\n",
       "      <td>107.0</td>\n",
       "      <td>0.0</td>\n",
       "      <td>0.0</td>\n",
       "      <td>0.0</td>\n",
       "      <td>0.0</td>\n",
       "      <td>11.45</td>\n",
       "      <td>13.45</td>\n",
       "      <td>6.006553</td>\n",
       "      <td>1.0</td>\n",
       "      <td>0</td>\n",
       "      <td>0</td>\n",
       "    </tr>\n",
       "    <tr>\n",
       "      <th>5003</th>\n",
       "      <td>52125</td>\n",
       "      <td>161239</td>\n",
       "      <td>201621</td>\n",
       "      <td>0.0</td>\n",
       "      <td>33.20</td>\n",
       "      <td>12.50</td>\n",
       "      <td>13.45</td>\n",
       "      <td>107.0</td>\n",
       "      <td>90.0</td>\n",
       "      <td>0.0</td>\n",
       "      <td>0.0</td>\n",
       "      <td>0.0</td>\n",
       "      <td>0.0</td>\n",
       "      <td>11.45</td>\n",
       "      <td>13.45</td>\n",
       "      <td>6.006553</td>\n",
       "      <td>1.0</td>\n",
       "      <td>0</td>\n",
       "      <td>0</td>\n",
       "    </tr>\n",
       "  </tbody>\n",
       "</table>\n",
       "<p>4668 rows × 19 columns</p>\n",
       "</div>"
      ],
      "text/plain": [
       "      subject_id  hadm_id  icustay_id  icu_admissiontime  icu_dischargetime  \\\n",
       "0          55973   152234      200001                0.0              73.88   \n",
       "1          55973   152234      200001                0.0              73.88   \n",
       "2          55973   152234      200001                0.0              73.88   \n",
       "3          55973   152234      200001                0.0              73.88   \n",
       "4          55973   152234      200001                0.0              73.88   \n",
       "...          ...      ...         ...                ...                ...   \n",
       "4999       52125   161239      201621                0.0              33.20   \n",
       "5000       52125   161239      201621                0.0              33.20   \n",
       "5001       52125   161239      201621                0.0              33.20   \n",
       "5002       52125   161239      201621                0.0              33.20   \n",
       "5003       52125   161239      201621                0.0              33.20   \n",
       "\n",
       "      timer  timer_dt    glc  glc_dt  input_short_injection  input_short_push  \\\n",
       "0      2.88     20.78  118.0    72.0                    0.0               0.0   \n",
       "1     20.78     26.88   72.0   135.0                    0.0               0.0   \n",
       "2     26.88     36.88  135.0   106.0                    0.0               0.0   \n",
       "3     36.88     44.88  106.0   125.0                    0.0               0.0   \n",
       "4     44.88     50.88  125.0   101.0                    0.0               0.0   \n",
       "...     ...       ...    ...     ...                    ...               ...   \n",
       "4999   8.20      9.50  159.0   144.0                    0.0               0.0   \n",
       "5000   9.50     10.55  144.0   139.0                    0.0               0.0   \n",
       "5001  10.55     11.45  139.0   132.0                    0.0               0.0   \n",
       "5002  11.45     12.50  132.0   107.0                    0.0               0.0   \n",
       "5003  12.50     13.45  107.0    90.0                    0.0               0.0   \n",
       "\n",
       "      input_intermediate  input_long  starttime  endtime  input_hrs  infxstop  \\\n",
       "0                    0.0         0.0        NaN      NaN   0.000000       NaN   \n",
       "1                    0.0         0.0        NaN      NaN   0.000000       NaN   \n",
       "2                    0.0         0.0        NaN      NaN   0.000000       NaN   \n",
       "3                    0.0         0.0        NaN      NaN   0.000000       NaN   \n",
       "4                    0.0         0.0        NaN      NaN   0.000000       NaN   \n",
       "...                  ...         ...        ...      ...        ...       ...   \n",
       "4999                 0.0         0.0       8.20     9.50   3.000000       0.0   \n",
       "5000                 0.0         0.0       9.50    10.55   4.001388       0.0   \n",
       "5001                 0.0         0.0      10.55    11.45   5.003550       0.0   \n",
       "5002                 0.0         0.0      11.45    13.45   6.006553       1.0   \n",
       "5003                 0.0         0.0      11.45    13.45   6.006553       1.0   \n",
       "\n",
       "      msk0  msk  \n",
       "0        0    0  \n",
       "1        0    0  \n",
       "2        0    0  \n",
       "3        0    0  \n",
       "4        0    0  \n",
       "...    ...  ...  \n",
       "4999     0    0  \n",
       "5000     0    0  \n",
       "5001     0    0  \n",
       "5002     0    0  \n",
       "5003     0    0  \n",
       "\n",
       "[4668 rows x 19 columns]"
      ]
     },
     "execution_count": 5,
     "metadata": {},
     "output_type": "execute_result"
    }
   ],
   "source": [
    "df.loc[~df.glc.isnull()]"
   ]
  },
  {
   "cell_type": "code",
   "execution_count": 31,
   "id": "64bad96e",
   "metadata": {},
   "outputs": [],
   "source": [
    "DT_SCALER = 1 / 24\n",
    "SEQUENCE_LENGTH = 100\n",
    "LAMBDA = 0.1\n",
    "\n",
    "class NormalOutputNN(nn.Module):\n",
    "    \"\"\"\n",
    "    Probabilistic outcome neural net\n",
    "    - Normal distribution\n",
    "    \"\"\"\n",
    "    def __init__(self,hidden_dim,device):\n",
    "        super(NormalOutputNN, self).__init__()\n",
    "        \n",
    "        self.mu_net = nn.Sequential(\n",
    "            nn.Linear(hidden_dim, hidden_dim//2),\n",
    "            nn.Tanh(),\n",
    "            nn.Linear(hidden_dim//2, 1)\n",
    "        ).to(device)\n",
    "        self.sigma_net = nn.Sequential(\n",
    "            nn.Linear(hidden_dim, hidden_dim//2),\n",
    "            nn.Tanh(),\n",
    "            nn.Linear(hidden_dim//2, 1),\n",
    "            nn.Softplus(),\n",
    "        ).to(device)\n",
    "\n",
    "    def forward(self, z):\n",
    "        mu = self.mu_net(z)\n",
    "        sigma = self.sigma_net(z)\n",
    "        return (mu,sigma)\n",
    "\n",
    "class LatentODE3_(nn.Module):\n",
    "    \"\"\"\n",
    "    dglucose/dt = NN(glucose,insulin)\n",
    "    \"\"\"\n",
    "    def __init__(self,hidden_dim,hidden_dim_input,hidden_dim_obs,batch_size,device):\n",
    "        super(LatentODE3_, self).__init__()\n",
    "        \n",
    "        self.hidden_dim,self.hidden_dim_obs,self.hidden_dim_input = hidden_dim,hidden_dim_obs,hidden_dim_input\n",
    "        #self.x = torch.zeros(batch_size,SEQUENCE_LENGTH,feature_dim).to(device)\n",
    "        self.dt = torch.zeros(batch_size,SEQUENCE_LENGTH,1).to(device)\n",
    "        self.device = device\n",
    "        \n",
    "        # dh/dt\n",
    "        dh_dim = hidden_dim+hidden_dim_obs+hidden_dim_input\n",
    "        self.dh = nn.Sequential(\n",
    "            nn.Linear(dh_dim, max(50,dh_dim * 2)),\n",
    "            nn.Tanh(),\n",
    "            nn.Linear(max(50,dh_dim * 2), hidden_dim),\n",
    "        )\n",
    "        # dza/dt\n",
    "        self.dz_a = nn.Sequential(\n",
    "            nn.Linear(hidden_dim_input, max(hidden_dim_input * 2,50)),\n",
    "            nn.Tanh(),\n",
    "            nn.Linear(max(hidden_dim_input * 2,50), hidden_dim_input),\n",
    "            nn.Tanh(),\n",
    "        )\n",
    "        # dzx/dt\n",
    "        self.dz_x = nn.Sequential(\n",
    "            nn.Linear(hidden_dim_obs, max(hidden_dim_obs * 2,50)),\n",
    "            nn.Tanh(),\n",
    "            nn.Linear(max(hidden_dim_obs * 2,50), hidden_dim_obs),\n",
    "            nn.Tanh(),\n",
    "        )\n",
    "        \n",
    "\n",
    "        # small weights to bound d/dt\n",
    "        for m in self.dh.modules():\n",
    "            if isinstance(m, nn.Linear):\n",
    "                nn.init.normal_(m.weight, mean=0, std=0.1)\n",
    "                nn.init.constant_(m.bias, val=0)\n",
    "        for m in self.dz_a.modules():\n",
    "            if isinstance(m, nn.Linear):\n",
    "                nn.init.normal_(m.weight, mean=0, std=0.1)\n",
    "                nn.init.constant_(m.bias, val=0)\n",
    "        for m in self.dz_x.modules():\n",
    "            if isinstance(m, nn.Linear):\n",
    "                nn.init.normal_(m.weight, mean=0, std=0.1)\n",
    "                nn.init.constant_(m.bias, val=0)\n",
    "\n",
    "    def forward(self, t, z):\n",
    "        # dz/dt\n",
    "        dh = self.dh(z)*(self.dt*DT_SCALER)\n",
    "        dz_a = self.dz_a(z[:,:,self.hidden_dim:(self.hidden_dim+self.hidden_dim_input)])*(self.dt*DT_SCALER)\n",
    "        dz_x = self.dz_x(z[:,:,(self.hidden_dim+self.hidden_dim_input):])*(self.dt*DT_SCALER)\n",
    "        return torch.cat((dh,dz_a,dz_x),2)\n",
    "    \n",
    "    def solve_ode(self, z, t):\n",
    "        #self.x = x  # overwrite\n",
    "        self.dt = t\n",
    "        outputs = odeint(self, z, torch.tensor([0,1.0]).to(self.device),rtol=1e-3,atol=1e-3)[1]\n",
    "        return outputs\n",
    "\n",
    "class LatentODE3(Baseline):\n",
    "\n",
    "    def __init__(self, output_net,feature_dims,hidden_dims, p, output_dim, batch_size,device):\n",
    "        Baseline.__init__(self, device)\n",
    "        self.obs_dim,self.input_dim = feature_dims\n",
    "        self.hidden_dim,self.hidden_dim_obs,self.hidden_dim_input = hidden_dims\n",
    "        \n",
    "        # continuous dynamics\n",
    "        self.ODENet = LatentODE3_(self.hidden_dim,self.hidden_dim_input,self.hidden_dim_obs,batch_size,device).to(device)\n",
    "\n",
    "        # discrete dynamics\n",
    "        jumpNN_obs_dim = self.obs_dim+self.hidden_dim+self.hidden_dim_obs\n",
    "        self.jumpNN_obs = nn.Sequential(\n",
    "            nn.Linear(jumpNN_obs_dim, jumpNN_obs_dim),\n",
    "            nn.Tanh(),\n",
    "            nn.Linear(jumpNN_obs_dim, self.hidden_dim_obs)\n",
    "        ).to(device)\n",
    "        jumpNN_input_dim = self.input_dim+self.hidden_dim+self.hidden_dim_input\n",
    "        self.jumpNN_input = nn.Sequential(\n",
    "            nn.Linear(jumpNN_input_dim, jumpNN_input_dim),\n",
    "            nn.Tanh(),\n",
    "            nn.Linear(jumpNN_input_dim, self.hidden_dim_input)\n",
    "        ).to(device)\n",
    "        self.init_h = nn.Sequential(\n",
    "            nn.Linear(self.obs_dim+self.input_dim, self.hidden_dim),\n",
    "            nn.Tanh(),\n",
    "            nn.Linear(self.hidden_dim, self.hidden_dim)\n",
    "        ).to(device)\n",
    "\n",
    "\n",
    "        # output net\n",
    "        self.output_net = output_net(self.hidden_dim,device).to(device)\n",
    "\n",
    "    def forward(self,dt,x,p=0.0,training=False):\n",
    "        \n",
    "        x_input = x[:,:,self.obs_dim:] \n",
    "        x = x[:,:,0:self.obs_dim] \n",
    "        \n",
    "        # dimensions\n",
    "        batch_size = x.size(0)\n",
    "        T = x.size(1)\n",
    "        \n",
    "        # intialise empty outputs\n",
    "        mu_out = torch.zeros(batch_size,T,1,device = self.device)\n",
    "        sigma_out = torch.zeros(batch_size,T,1,device = self.device)\n",
    "        mu0_out = torch.zeros(batch_size,T,1,device = self.device)\n",
    "        sigma0_out = torch.zeros(batch_size,T,1,device = self.device)\n",
    "        \n",
    "        # intial states\n",
    "        eps_init = 0.001\n",
    "        #h_t = torch.zeros(batch_size,1,self.hidden_dim,device = self.device)\n",
    "        za_t = torch.zeros(batch_size,1,self.hidden_dim_input,device = self.device)\n",
    "        zx_t  = torch.zeros(batch_size,1,self.hidden_dim_obs,device = self.device)\n",
    "        \n",
    "        h_t = self.init_h(torch.cat((x[:,0:(1),:],x_input[:,0:(1),:]),2))\n",
    "        \n",
    "        # loop through data\n",
    "        for i in range(0,T):\n",
    "            # time gaps for this event\n",
    "            dt_i = (dt[:,i,:][:,1] - dt[:,i,:][:,0]).unsqueeze(1).unsqueeze(1)\n",
    "            \n",
    "            # jumps\n",
    "            msk_x = x[:,i:(i+1),:] == 999.\n",
    "            zx_t_new = self.jumpNN_obs(torch.cat((x[:,i:(i+1),:],zx_t,h_t),2))\n",
    "            zx_t = zx_t_new*~msk_x + zx_t*msk_x\n",
    "            msk_a = x_input[:,i:(i+1),:].sum(2) == 0.\n",
    "            za_t_new = self.jumpNN_input(torch.cat((x_input[:,i:(i+1),:],za_t,h_t),2))\n",
    "            za_t = za_t_new*~msk_a.unsqueeze(2) + za_t*msk_a.unsqueeze(2)\n",
    "        \n",
    "            # continuous dynamics\n",
    "            z_all_t = torch.cat((h_t,za_t,zx_t),dim=2)\n",
    "            z_all_t = self.ODENet.solve_ode(z_all_t,dt_i)\n",
    "            h_t = z_all_t[:,:,0:self.hidden_dim]\n",
    "            za_t = z_all_t[:,:,self.hidden_dim:(self.hidden_dim+self.hidden_dim_input)]\n",
    "            zx_t = z_all_t[:,:,(self.hidden_dim+self.hidden_dim_input):]\n",
    "            \n",
    "            # output network\n",
    "            mu_t,sigma_t = self.output_net(h_t)\n",
    "            mu_out[:,i:(i+1),:] = mu_t\n",
    "            sigma_out[:,i:(i+1),:] = sigma_t\n",
    "            \n",
    "        return (mu_out,sigma_out)\n",
    "    \n",
    "    def loss_fn(self,preds,y,y0,msk,msk0):\n",
    "        # extract\n",
    "        m_, s_ = preds\n",
    "                \n",
    "        # log probs\n",
    "        # prediction\n",
    "        distribution = torch.distributions.normal.Normal(m_[msk], s_[msk])\n",
    "        likelihood = distribution.log_prob(y[msk].unsqueeze(1))\n",
    "        \n",
    "        llik = torch.sum(likelihood)\n",
    "        return -llik\n",
    "    \n",
    "    def eval_fn(self,preds,y,msk):\n",
    "        # extract\n",
    "        m_, s_ = preds\n",
    "                \n",
    "        # log probs\n",
    "        distribution = torch.distributions.normal.Normal(m_[msk], s_[msk])\n",
    "        likelihood = distribution.log_prob(y[msk].unsqueeze(1))\n",
    "        \n",
    "        llik = torch.sum(likelihood)\n",
    "        return -llik"
   ]
  },
  {
   "cell_type": "code",
   "execution_count": 32,
   "id": "41b2730e",
   "metadata": {},
   "outputs": [],
   "source": [
    "model = LatentODE3(NormalOutputNN,(1,5),(8,4,4), 0.1, 1, 64, \"cpu\")"
   ]
  },
  {
   "cell_type": "code",
   "execution_count": 33,
   "id": "3172f25b",
   "metadata": {},
   "outputs": [],
   "source": [
    "#model = ODEGRU(6, 8, 0.1, 1, 64,\"cpu\")"
   ]
  },
  {
   "cell_type": "code",
   "execution_count": 34,
   "id": "a3c6da62",
   "metadata": {},
   "outputs": [
    {
     "data": {
      "text/plain": [
       "2992"
      ]
     },
     "execution_count": 34,
     "metadata": {},
     "output_type": "execute_result"
    }
   ],
   "source": [
    "model_parameters = filter(lambda p: p.requires_grad, model.parameters())\n",
    "params = sum([np.prod(p.size()) for p in model_parameters])\n",
    "params"
   ]
  },
  {
   "cell_type": "code",
   "execution_count": 35,
   "id": "b94a915d",
   "metadata": {},
   "outputs": [],
   "source": [
    "dl_train = DataLoader(data_mimic,batch_size=64,collate_fn=collate_fn_padd)"
   ]
  },
  {
   "cell_type": "code",
   "execution_count": 36,
   "id": "d8c22aaf",
   "metadata": {},
   "outputs": [],
   "source": [
    "model_optim = optim.RMSprop(model.parameters(), lr=1e-2)\n",
    "NEPOCHS = 20\n",
    "for epoch in range(0,NEPOCHS):\n",
    "    model.train_single_epoch(dl_train,model_optim,verbose=False)"
   ]
  },
  {
   "cell_type": "code",
   "execution_count": 37,
   "id": "aeeca70e",
   "metadata": {},
   "outputs": [
    {
     "data": {
      "text/plain": [
       "<matplotlib.collections.PathCollection at 0x7fdcec150590>"
      ]
     },
     "execution_count": 37,
     "metadata": {},
     "output_type": "execute_result"
    },
    {
     "data": {
      "image/png": "[encoded data removed]",
      "text/plain": [
       "<Figure size 432x288 with 1 Axes>"
      ]
     },
     "metadata": {
      "needs_background": "light"
     },
     "output_type": "display_data"
    }
   ],
   "source": [
    "preds = model.predict(dl_train)\n",
    "plt.scatter(preds[0],df_preproc.loc[df_preproc.msk==0].glc_dt)"
   ]
  },
  {
   "cell_type": "code",
   "execution_count": 38,
   "id": "fc075b8f",
   "metadata": {},
   "outputs": [
    {
     "data": {
      "text/plain": [
       "<matplotlib.collections.PathCollection at 0x7fdce1fbff50>"
      ]
     },
     "execution_count": 38,
     "metadata": {},
     "output_type": "execute_result"
    },
    {
     "data": {
      "image/png": "[encoded data removed]",
      "text/plain": [
       "<Figure size 432x288 with 1 Axes>"
      ]
     },
     "metadata": {
      "needs_background": "light"
     },
     "output_type": "display_data"
    }
   ],
   "source": [
    "plt.scatter(ginv(preds[0]),ginv(df_preproc.loc[df_preproc.msk==0].glc_dt))"
   ]
  },
  {
   "cell_type": "code",
   "execution_count": 39,
   "id": "1a288a3f",
   "metadata": {},
   "outputs": [
    {
     "data": {
      "text/plain": [
       "59.15345713796856"
      ]
     },
     "execution_count": 39,
     "metadata": {},
     "output_type": "execute_result"
    }
   ],
   "source": [
    "np.sqrt(np.mean((ginv(preds[0]) - ginv(df_preproc.loc[df_preproc.msk==0].glc_dt))**2))"
   ]
  },
  {
   "cell_type": "code",
   "execution_count": 40,
   "id": "f144d014",
   "metadata": {},
   "outputs": [
    {
     "data": {
      "text/plain": [
       "44.85867747867749"
      ]
     },
     "execution_count": 40,
     "metadata": {},
     "output_type": "execute_result"
    }
   ],
   "source": [
    "np.sqrt(np.mean((ginv(df_preproc.loc[(df_preproc.msk==0) & (df_preproc.glc != 999.)].glc) - ginv(df_preproc.loc[(df_preproc.msk==0) & (df_preproc.glc != 999.)].glc_dt))**2))"
   ]
  },
  {
   "cell_type": "code",
   "execution_count": 41,
   "id": "49d1cc01",
   "metadata": {},
   "outputs": [
    {
     "data": {
      "text/plain": [
       "(array([ 331.,  412.,  594., 1841.,  690.,  495.,   96.,   82.,   69.,\n",
       "          60.]),\n",
       " array([101.774284, 113.84387 , 125.91345 , 137.98303 , 150.05261 ,\n",
       "        162.12221 , 174.19179 , 186.26137 , 198.33096 , 210.40054 ,\n",
       "        222.47012 ], dtype=float32),\n",
       " <BarContainer object of 10 artists>)"
      ]
     },
     "execution_count": 41,
     "metadata": {},
     "output_type": "execute_result"
    },
    {
     "data": {
      "image/png": "[encoded data removed]",
      "text/plain": [
       "<Figure size 432x288 with 1 Axes>"
      ]
     },
     "metadata": {
      "needs_background": "light"
     },
     "output_type": "display_data"
    }
   ],
   "source": [
    "plt.hist(ginv(preds[0]))"
   ]
  },
  {
   "cell_type": "code",
   "execution_count": 17,
   "id": "7dbfb45f",
   "metadata": {},
   "outputs": [
    {
     "data": {
      "text/plain": [
       "(array([  88., 1243., 2009.,  729.,  302.,  143.,   57.,   56.,   28.,\n",
       "          15.]),\n",
       " array([ 20. ,  67.8, 115.6, 163.4, 211.2, 259. , 306.8, 354.6, 402.4,\n",
       "        450.2, 498. ]),\n",
       " <BarContainer object of 10 artists>)"
      ]
     },
     "execution_count": 17,
     "metadata": {},
     "output_type": "execute_result"
    },
    {
     "data": {
      "image/png": "[encoded data removed]",
      "text/plain": [
       "<Figure size 432x288 with 1 Axes>"
      ]
     },
     "metadata": {
      "needs_background": "light"
     },
     "output_type": "display_data"
    }
   ],
   "source": [
    "plt.hist(ginv(df_preproc.loc[df_preproc.msk==0].glc_dt))"
   ]
  },
  {
   "cell_type": "code",
   "execution_count": 18,
   "id": "6da505e7",
   "metadata": {},
   "outputs": [
    {
     "data": {
      "text/plain": [
       "(array([3.000e+00, 6.000e+00, 1.600e+01, 6.000e+01, 1.940e+02, 1.415e+03,\n",
       "        2.771e+03, 1.750e+02, 2.800e+01, 2.000e+00]),\n",
       " array([-365.73945618, -306.81744843, -247.89544067, -188.97343292,\n",
       "        -130.05142517,  -71.12941742,  -12.20740967,   46.71459808,\n",
       "         105.63660583,  164.55861359,  223.48062134]),\n",
       " <BarContainer object of 10 artists>)"
      ]
     },
     "execution_count": 18,
     "metadata": {},
     "output_type": "execute_result"
    },
    {
     "data": {
      "image/png": "[encoded data removed]",
      "text/plain": [
       "<Figure size 432x288 with 1 Axes>"
      ]
     },
     "metadata": {
      "needs_background": "light"
     },
     "output_type": "display_data"
    }
   ],
   "source": [
    "plt.hist(ginv(preds[0])-ginv(df_preproc.loc[df_preproc.msk==0].glc_dt))"
   ]
  },
  {
   "cell_type": "code",
   "execution_count": null,
   "id": "954fe3a8",
   "metadata": {},
   "outputs": [],
   "source": []
  }
 ],
 "metadata": {
  "environment": {
   "name": "pytorch-gpu.1-9.m75",
   "type": "gcloud",
   "uri": "gcr.io/deeplearning-platform-release/pytorch-gpu.1-9:m75"
  },
  "kernelspec": {
   "display_name": "Python 3",
   "language": "python",
   "name": "python3"
  },
  "language_info": {
   "codemirror_mode": {
    "name": "ipython",
    "version": 3
   },
   "file_extension": ".py",
   "mimetype": "text/x-python",
   "name": "python",
   "nbconvert_exporter": "python",
   "pygments_lexer": "ipython3",
   "version": "3.7.10"
  }
 },
 "nbformat": 4,
 "nbformat_minor": 5
}
