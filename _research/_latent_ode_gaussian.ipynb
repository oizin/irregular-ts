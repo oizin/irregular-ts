{
 "cells": [
  {
   "cell_type": "code",
   "execution_count": 102,
   "id": "8d38e4d1",
   "metadata": {},
   "outputs": [],
   "source": [
    "import torch\n",
    "import torch.nn as nn\n",
    "import torch.optim as optim\n",
    "from torch.utils.data import Dataset,DataLoader\n",
    "\n",
    "import argparse\n",
    "import logging\n",
    "from tqdm import tqdm\n",
    "import numpy as np\n",
    "import pandas as pd\n",
    "import logging\n",
    "import os\n",
    "import math\n",
    "import copy\n",
    "import matplotlib.pyplot as plt\n",
    "import optuna\n",
    "from datetime import datetime\n",
    "import random\n",
    "from sklearn.model_selection import train_test_split\n",
    "\n",
    "from sklearn.preprocessing import MinMaxScaler\n",
    "from sklearn.preprocessing import QuantileTransformer\n",
    "import copy\n",
    "\n",
    "import scipy.stats"
   ]
  },
  {
   "cell_type": "code",
   "execution_count": 103,
   "id": "0224faba",
   "metadata": {},
   "outputs": [],
   "source": [
    "import sys\n",
    "sys.path.append('..')"
   ]
  },
  {
   "cell_type": "code",
   "execution_count": 104,
   "id": "68e6eb6a",
   "metadata": {},
   "outputs": [],
   "source": [
    "from src.data.data_loader import MIMICDataset,import_data\n",
    "from src.utils import setup_logger\n",
    "from src.training.training_nn import *\n",
    "from src.models.models import ODERNN,GRU\n",
    "from src.utils import seed_everything"
   ]
  },
  {
   "cell_type": "code",
   "execution_count": 105,
   "id": "a7916a46",
   "metadata": {},
   "outputs": [],
   "source": [
    "def glc_transform(x):\n",
    "    x = x.copy()\n",
    "    x[x > 0] = np.log(x[x > 0]) - np.log(140)\n",
    "    return x\n",
    "\n",
    "def glc_invtransform(x):\n",
    "    x = x.copy()\n",
    "    x = np.exp(x + np.log(140))\n",
    "    return x\n",
    "\n",
    "ginv = glc_invtransform"
   ]
  },
  {
   "cell_type": "code",
   "execution_count": 106,
   "id": "ec3a3e6b",
   "metadata": {},
   "outputs": [
    {
     "name": "stdout",
     "output_type": "stream",
     "text": [
      "excluding: 211846\n",
      "excluding: 264238\n",
      "excluding: 297331\n",
      "excluding: 261264\n",
      "excluding: 205074\n",
      "excluding: 297801\n",
      "excluding: 279326\n",
      "excluding: 225659\n",
      "excluding: 232921\n",
      "excluding: 227412\n",
      "excluding: 205994\n",
      "excluding: 214363\n",
      "excluding: 287055\n",
      "excluding: 291764\n",
      "excluding: 248411\n",
      "excluding: 266873\n",
      "excluding: 268199\n",
      "excluding: 235137\n",
      "excluding: 220805\n",
      "excluding: 258014\n",
      "excluding: 289703\n",
      "excluding: 223996\n",
      "excluding: 221391\n",
      "excluding: 281374\n",
      "excluding: 204747\n",
      "excluding: 223704\n",
      "excluding: 251319\n",
      "excluding: 261819\n",
      "excluding: 278095\n",
      "excluding: 259808\n",
      "excluding: 222242\n",
      "excluding: 218639\n",
      "excluding: 218465\n",
      "excluding: 284881\n",
      "excluding: 284284\n",
      "excluding: 285966\n",
      "excluding: 291611\n",
      "excluding: 268578\n",
      "excluding: 272859\n",
      "excluding: 229041\n",
      "excluding: 239443\n",
      "excluding: 221828\n",
      "excluding: 252077\n",
      "excluding: 262484\n",
      "excluding: 280186\n",
      "excluding: 202559\n",
      "excluding: 288669\n",
      "excluding: 277462\n",
      "excluding: 296952\n",
      "excluding: 210562\n",
      "excluding: 280745\n",
      "excluding: 251758\n",
      "excluding: 278934\n",
      "excluding: 288807\n",
      "excluding: 221033\n",
      "excluding: 246543\n",
      "excluding: 271208\n",
      "excluding: 293084\n",
      "excluding: 202714\n",
      "excluding: 297635\n",
      "excluding: 280799\n",
      "excluding: 258549\n",
      "excluding: 269417\n",
      "excluding: 223471\n",
      "excluding: 239736\n",
      "excluding: 294237\n",
      "excluding: 243803\n",
      "excluding: 222350\n",
      "excluding: 218705\n",
      "excluding: 297943\n",
      "excluding: 289354\n",
      "excluding: 204986\n",
      "excluding: 213468\n",
      "excluding: 274648\n",
      "excluding: 240980\n",
      "excluding: 222292\n",
      "excluding: 258288\n",
      "excluding: 207128\n",
      "excluding: 246416\n",
      "excluding: 283117\n",
      "excluding: 206028\n",
      "excluding: 218423\n",
      "excluding: 298627\n",
      "excluding: 212110\n",
      "excluding: 212121\n",
      "excluding: 212151\n",
      "excluding: 229893\n",
      "excluding: 275212\n",
      "excluding: 276121\n",
      "excluding: 242840\n",
      "excluding: 282272\n",
      "excluding: 257430\n",
      "excluding: 285903\n",
      "excluding: 298605\n",
      "excluding: 282291\n",
      "excluding: 211381\n",
      "excluding: 203383\n",
      "excluding: 222576\n",
      "excluding: 268690\n",
      "excluding: 286819\n",
      "excluding: 258269\n",
      "excluding: 281297\n",
      "excluding: 282072\n",
      "excluding: 294099\n",
      "excluding: 267317\n",
      "excluding: 290969\n",
      "excluding: 216820\n",
      "excluding: 214617\n",
      "excluding: 206486\n",
      "excluding: 208494\n",
      "excluding: 299979\n",
      "excluding: 223916\n",
      "excluding: 241835\n",
      "excluding: 289318\n",
      "excluding: 277903\n",
      "excluding: 246005\n",
      "excluding: 228667\n",
      "excluding: 232359\n",
      "excluding: 280828\n",
      "excluding: 226341\n",
      "excluding: 265516\n",
      "excluding: 262894\n",
      "excluding: 284523\n",
      "excluding: 296071\n",
      "excluding: 259501\n",
      "excluding: 286542\n",
      "excluding: 244682\n",
      "excluding: 236634\n",
      "excluding: 242563\n",
      "excluding: 251756\n",
      "excluding: 216905\n",
      "excluding: 298260\n",
      "excluding: 209297\n",
      "excluding: 265363\n",
      "excluding: 279306\n",
      "excluding: 275192\n",
      "excluding: 263747\n",
      "excluding: 275345\n",
      "excluding: 269458\n",
      "excluding: 244667\n",
      "excluding: 243292\n",
      "excluding: 243513\n",
      "excluding: 279201\n",
      "excluding: 295974\n",
      "excluding: 239526\n",
      "excluding: 214486\n",
      "excluding: 291444\n",
      "excluding: 249864\n",
      "excluding: 245966\n",
      "excluding: 278738\n",
      "excluding: 249702\n",
      "excluding: 229727\n",
      "excluding: 287356\n",
      "excluding: 204890\n",
      "excluding: 222850\n",
      "excluding: 225057\n",
      "excluding: 286123\n",
      "excluding: 220435\n",
      "excluding: 210644\n",
      "excluding: 249484\n",
      "excluding: 211261\n",
      "excluding: 282141\n",
      "excluding: 297761\n",
      "excluding: 247191\n",
      "excluding: 263882\n",
      "excluding: 294580\n",
      "excluding: 262198\n",
      "excluding: 231385\n",
      "excluding: 224903\n",
      "excluding: 272903\n",
      "excluding: 224706\n",
      "excluding: 273651\n",
      "excluding: 204002\n",
      "excluding: 213202\n",
      "excluding: 275720\n",
      "excluding: 285482\n",
      "excluding: 273448\n",
      "excluding: 207377\n",
      "excluding: 217548\n",
      "excluding: 244286\n",
      "excluding: 223783\n",
      "excluding: 220965\n",
      "excluding: 224207\n",
      "excluding: 274861\n",
      "excluding: 259680\n",
      "excluding: 288134\n",
      "excluding: 244378\n",
      "excluding: 211808\n",
      "excluding: 221574\n",
      "excluding: 209481\n",
      "excluding: 225724\n",
      "excluding: 227847\n",
      "excluding: 239190\n",
      "excluding: 241059\n",
      "excluding: 291415\n",
      "excluding: 244426\n",
      "excluding: 246207\n",
      "excluding: 286372\n",
      "excluding: 221255\n",
      "excluding: 248275\n",
      "excluding: 209406\n",
      "excluding: 235578\n",
      "excluding: 274871\n",
      "excluding: 226778\n",
      "excluding: 296220\n",
      "excluding: 271703\n",
      "excluding: 249489\n",
      "excluding: 279721\n",
      "excluding: 218344\n",
      "excluding: 262411\n",
      "excluding: 202296\n",
      "excluding: 294458\n",
      "excluding: 296039\n",
      "excluding: 221647\n",
      "excluding: 234187\n",
      "excluding: 286177\n",
      "excluding: 224095\n",
      "excluding: 283778\n",
      "excluding: 253324\n",
      "excluding: 258717\n",
      "excluding: 259964\n",
      "excluding: 291578\n",
      "excluding: 216706\n",
      "excluding: 227319\n",
      "excluding: 227630\n",
      "excluding: 283506\n",
      "excluding: 266068\n",
      "excluding: 225866\n",
      "excluding: 288856\n",
      "excluding: 273281\n",
      "excluding: 241846\n",
      "excluding: 209188\n",
      "excluding: 233409\n",
      "excluding: 284564\n",
      "excluding: 263490\n",
      "excluding: 205021\n",
      "excluding: 219405\n",
      "excluding: 237945\n",
      "excluding: 211377\n",
      "excluding: 232329\n",
      "excluding: 226090\n",
      "excluding: 255781\n",
      "excluding: 295784\n",
      "excluding: 215027\n",
      "excluding: 225469\n",
      "excluding: 298724\n",
      "excluding: 216409\n",
      "excluding: 274709\n",
      "excluding: 247731\n",
      "excluding: 222472\n",
      "excluding: 230517\n",
      "excluding: 219269\n",
      "excluding: 225104\n",
      "excluding: 282973\n",
      "excluding: 297544\n",
      "excluding: 247823\n",
      "excluding: 241162\n",
      "excluding: 218325\n",
      "excluding: 280546\n",
      "excluding: 267729\n",
      "excluding: 267525\n",
      "excluding: 207544\n",
      "excluding: 260411\n",
      "excluding: 217274\n",
      "excluding: 251179\n",
      "excluding: 276910\n",
      "excluding: 257021\n",
      "excluding: 219370\n",
      "excluding: 278149\n"
     ]
    }
   ],
   "source": [
    "DATA_PATH = \"../data/analysis.csv\"\n",
    "df = import_data(DATA_PATH)\n"
   ]
  },
  {
   "cell_type": "code",
   "execution_count": 107,
   "id": "fe075ded",
   "metadata": {},
   "outputs": [
    {
     "name": "stdout",
     "output_type": "stream",
     "text": [
      "(392756, 9)\n"
     ]
    }
   ],
   "source": [
    "print(df.shape)"
   ]
  },
  {
   "cell_type": "code",
   "execution_count": 6,
   "id": "06f3330b",
   "metadata": {},
   "outputs": [],
   "source": [
    "# seed\n",
    "\n",
    "df.glc = glc_transform(df.glc)\n",
    "df.glc_dt = glc_transform(df.glc_dt)\n",
    "df['t0'] = df.timer_hr\n",
    "df['t1'] = df.timer_hr + df.dt\n"
   ]
  },
  {
   "cell_type": "code",
   "execution_count": 7,
   "id": "250b542a",
   "metadata": {},
   "outputs": [
    {
     "data": {
      "text/html": [
       "<div>\n",
       "<style scoped>\n",
       "    .dataframe tbody tr th:only-of-type {\n",
       "        vertical-align: middle;\n",
       "    }\n",
       "\n",
       "    .dataframe tbody tr th {\n",
       "        vertical-align: top;\n",
       "    }\n",
       "\n",
       "    .dataframe thead th {\n",
       "        text-align: right;\n",
       "    }\n",
       "</style>\n",
       "<table border=\"1\" class=\"dataframe\">\n",
       "  <thead>\n",
       "    <tr style=\"text-align: right;\">\n",
       "      <th></th>\n",
       "      <th>icustay_id</th>\n",
       "      <th>timer_hr</th>\n",
       "      <th>injection</th>\n",
       "      <th>input_hrs</th>\n",
       "      <th>input</th>\n",
       "      <th>glc</th>\n",
       "      <th>dt</th>\n",
       "      <th>glc_1</th>\n",
       "      <th>msk</th>\n",
       "      <th>t0</th>\n",
       "      <th>t1</th>\n",
       "    </tr>\n",
       "  </thead>\n",
       "  <tbody>\n",
       "    <tr>\n",
       "      <th>131</th>\n",
       "      <td>214619</td>\n",
       "      <td>6.527500</td>\n",
       "      <td>0</td>\n",
       "      <td>0.0</td>\n",
       "      <td>0.0</td>\n",
       "      <td>-0.007168</td>\n",
       "      <td>3.133333</td>\n",
       "      <td>NaN</td>\n",
       "      <td>1</td>\n",
       "      <td>6.527500</td>\n",
       "      <td>9.660833</td>\n",
       "    </tr>\n",
       "    <tr>\n",
       "      <th>132</th>\n",
       "      <td>214619</td>\n",
       "      <td>9.660833</td>\n",
       "      <td>1</td>\n",
       "      <td>0.0</td>\n",
       "      <td>2.0</td>\n",
       "      <td>NaN</td>\n",
       "      <td>5.466667</td>\n",
       "      <td>0.000000</td>\n",
       "      <td>0</td>\n",
       "      <td>9.660833</td>\n",
       "      <td>15.127500</td>\n",
       "    </tr>\n",
       "    <tr>\n",
       "      <th>133</th>\n",
       "      <td>214619</td>\n",
       "      <td>15.127500</td>\n",
       "      <td>0</td>\n",
       "      <td>0.0</td>\n",
       "      <td>0.0</td>\n",
       "      <td>0.000000</td>\n",
       "      <td>0.183333</td>\n",
       "      <td>NaN</td>\n",
       "      <td>1</td>\n",
       "      <td>15.127500</td>\n",
       "      <td>15.310833</td>\n",
       "    </tr>\n",
       "    <tr>\n",
       "      <th>134</th>\n",
       "      <td>214619</td>\n",
       "      <td>15.310833</td>\n",
       "      <td>1</td>\n",
       "      <td>0.0</td>\n",
       "      <td>2.0</td>\n",
       "      <td>NaN</td>\n",
       "      <td>4.983333</td>\n",
       "      <td>0.088795</td>\n",
       "      <td>0</td>\n",
       "      <td>15.310833</td>\n",
       "      <td>20.294167</td>\n",
       "    </tr>\n",
       "    <tr>\n",
       "      <th>135</th>\n",
       "      <td>214619</td>\n",
       "      <td>20.294167</td>\n",
       "      <td>0</td>\n",
       "      <td>0.0</td>\n",
       "      <td>0.0</td>\n",
       "      <td>0.088795</td>\n",
       "      <td>1.333333</td>\n",
       "      <td>NaN</td>\n",
       "      <td>1</td>\n",
       "      <td>20.294167</td>\n",
       "      <td>21.627500</td>\n",
       "    </tr>\n",
       "    <tr>\n",
       "      <th>136</th>\n",
       "      <td>214619</td>\n",
       "      <td>21.627500</td>\n",
       "      <td>1</td>\n",
       "      <td>0.0</td>\n",
       "      <td>4.0</td>\n",
       "      <td>NaN</td>\n",
       "      <td>5.500000</td>\n",
       "      <td>-0.250295</td>\n",
       "      <td>0</td>\n",
       "      <td>21.627500</td>\n",
       "      <td>27.127500</td>\n",
       "    </tr>\n",
       "    <tr>\n",
       "      <th>137</th>\n",
       "      <td>214619</td>\n",
       "      <td>27.127500</td>\n",
       "      <td>0</td>\n",
       "      <td>0.0</td>\n",
       "      <td>0.0</td>\n",
       "      <td>-0.250295</td>\n",
       "      <td>6.000000</td>\n",
       "      <td>-0.232112</td>\n",
       "      <td>0</td>\n",
       "      <td>27.127500</td>\n",
       "      <td>33.127500</td>\n",
       "    </tr>\n",
       "    <tr>\n",
       "      <th>138</th>\n",
       "      <td>214619</td>\n",
       "      <td>33.127500</td>\n",
       "      <td>0</td>\n",
       "      <td>0.0</td>\n",
       "      <td>0.0</td>\n",
       "      <td>-0.232112</td>\n",
       "      <td>6.583333</td>\n",
       "      <td>-0.121361</td>\n",
       "      <td>0</td>\n",
       "      <td>33.127500</td>\n",
       "      <td>39.710833</td>\n",
       "    </tr>\n",
       "    <tr>\n",
       "      <th>139</th>\n",
       "      <td>214619</td>\n",
       "      <td>39.710833</td>\n",
       "      <td>0</td>\n",
       "      <td>0.0</td>\n",
       "      <td>0.0</td>\n",
       "      <td>-0.121361</td>\n",
       "      <td>5.350000</td>\n",
       "      <td>-0.097455</td>\n",
       "      <td>0</td>\n",
       "      <td>39.710833</td>\n",
       "      <td>45.060833</td>\n",
       "    </tr>\n",
       "    <tr>\n",
       "      <th>140</th>\n",
       "      <td>214619</td>\n",
       "      <td>45.060833</td>\n",
       "      <td>0</td>\n",
       "      <td>0.0</td>\n",
       "      <td>0.0</td>\n",
       "      <td>-0.097455</td>\n",
       "      <td>0.066667</td>\n",
       "      <td>NaN</td>\n",
       "      <td>1</td>\n",
       "      <td>45.060833</td>\n",
       "      <td>45.127500</td>\n",
       "    </tr>\n",
       "    <tr>\n",
       "      <th>141</th>\n",
       "      <td>214619</td>\n",
       "      <td>45.127500</td>\n",
       "      <td>1</td>\n",
       "      <td>0.0</td>\n",
       "      <td>2.0</td>\n",
       "      <td>NaN</td>\n",
       "      <td>7.000000</td>\n",
       "      <td>-0.179468</td>\n",
       "      <td>0</td>\n",
       "      <td>45.127500</td>\n",
       "      <td>52.127500</td>\n",
       "    </tr>\n",
       "    <tr>\n",
       "      <th>142</th>\n",
       "      <td>214619</td>\n",
       "      <td>52.127500</td>\n",
       "      <td>0</td>\n",
       "      <td>0.0</td>\n",
       "      <td>0.0</td>\n",
       "      <td>-0.179468</td>\n",
       "      <td>5.300000</td>\n",
       "      <td>-0.154151</td>\n",
       "      <td>0</td>\n",
       "      <td>52.127500</td>\n",
       "      <td>57.427500</td>\n",
       "    </tr>\n",
       "    <tr>\n",
       "      <th>143</th>\n",
       "      <td>214619</td>\n",
       "      <td>57.427500</td>\n",
       "      <td>0</td>\n",
       "      <td>0.0</td>\n",
       "      <td>0.0</td>\n",
       "      <td>-0.154151</td>\n",
       "      <td>5.700000</td>\n",
       "      <td>-0.241162</td>\n",
       "      <td>0</td>\n",
       "      <td>57.427500</td>\n",
       "      <td>63.127500</td>\n",
       "    </tr>\n",
       "    <tr>\n",
       "      <th>144</th>\n",
       "      <td>214619</td>\n",
       "      <td>63.127500</td>\n",
       "      <td>0</td>\n",
       "      <td>0.0</td>\n",
       "      <td>0.0</td>\n",
       "      <td>-0.241162</td>\n",
       "      <td>24.650000</td>\n",
       "      <td>-0.278203</td>\n",
       "      <td>0</td>\n",
       "      <td>63.127500</td>\n",
       "      <td>87.777500</td>\n",
       "    </tr>\n",
       "    <tr>\n",
       "      <th>145</th>\n",
       "      <td>214619</td>\n",
       "      <td>87.777500</td>\n",
       "      <td>0</td>\n",
       "      <td>0.0</td>\n",
       "      <td>0.0</td>\n",
       "      <td>-0.278203</td>\n",
       "      <td>5.183333</td>\n",
       "      <td>-0.043803</td>\n",
       "      <td>0</td>\n",
       "      <td>87.777500</td>\n",
       "      <td>92.960833</td>\n",
       "    </tr>\n",
       "    <tr>\n",
       "      <th>146</th>\n",
       "      <td>214619</td>\n",
       "      <td>92.960833</td>\n",
       "      <td>0</td>\n",
       "      <td>0.0</td>\n",
       "      <td>0.0</td>\n",
       "      <td>-0.043803</td>\n",
       "      <td>0.233333</td>\n",
       "      <td>NaN</td>\n",
       "      <td>1</td>\n",
       "      <td>92.960833</td>\n",
       "      <td>93.194167</td>\n",
       "    </tr>\n",
       "    <tr>\n",
       "      <th>147</th>\n",
       "      <td>214619</td>\n",
       "      <td>93.194167</td>\n",
       "      <td>1</td>\n",
       "      <td>0.0</td>\n",
       "      <td>2.0</td>\n",
       "      <td>NaN</td>\n",
       "      <td>6.383333</td>\n",
       "      <td>NaN</td>\n",
       "      <td>1</td>\n",
       "      <td>93.194167</td>\n",
       "      <td>99.577500</td>\n",
       "    </tr>\n",
       "    <tr>\n",
       "      <th>148</th>\n",
       "      <td>214619</td>\n",
       "      <td>99.577500</td>\n",
       "      <td>1</td>\n",
       "      <td>0.0</td>\n",
       "      <td>2.0</td>\n",
       "      <td>NaN</td>\n",
       "      <td>4.933333</td>\n",
       "      <td>NaN</td>\n",
       "      <td>1</td>\n",
       "      <td>99.577500</td>\n",
       "      <td>104.510833</td>\n",
       "    </tr>\n",
       "    <tr>\n",
       "      <th>149</th>\n",
       "      <td>214619</td>\n",
       "      <td>104.510833</td>\n",
       "      <td>1</td>\n",
       "      <td>0.0</td>\n",
       "      <td>2.0</td>\n",
       "      <td>NaN</td>\n",
       "      <td>6.100000</td>\n",
       "      <td>-0.188052</td>\n",
       "      <td>0</td>\n",
       "      <td>104.510833</td>\n",
       "      <td>110.610833</td>\n",
       "    </tr>\n",
       "    <tr>\n",
       "      <th>150</th>\n",
       "      <td>214619</td>\n",
       "      <td>110.610833</td>\n",
       "      <td>0</td>\n",
       "      <td>0.0</td>\n",
       "      <td>0.0</td>\n",
       "      <td>-0.188052</td>\n",
       "      <td>5.516667</td>\n",
       "      <td>-0.154151</td>\n",
       "      <td>0</td>\n",
       "      <td>110.610833</td>\n",
       "      <td>116.127500</td>\n",
       "    </tr>\n",
       "  </tbody>\n",
       "</table>\n",
       "</div>"
      ],
      "text/plain": [
       "     icustay_id    timer_hr  injection  input_hrs  input       glc         dt  \\\n",
       "131      214619    6.527500          0        0.0    0.0 -0.007168   3.133333   \n",
       "132      214619    9.660833          1        0.0    2.0       NaN   5.466667   \n",
       "133      214619   15.127500          0        0.0    0.0  0.000000   0.183333   \n",
       "134      214619   15.310833          1        0.0    2.0       NaN   4.983333   \n",
       "135      214619   20.294167          0        0.0    0.0  0.088795   1.333333   \n",
       "136      214619   21.627500          1        0.0    4.0       NaN   5.500000   \n",
       "137      214619   27.127500          0        0.0    0.0 -0.250295   6.000000   \n",
       "138      214619   33.127500          0        0.0    0.0 -0.232112   6.583333   \n",
       "139      214619   39.710833          0        0.0    0.0 -0.121361   5.350000   \n",
       "140      214619   45.060833          0        0.0    0.0 -0.097455   0.066667   \n",
       "141      214619   45.127500          1        0.0    2.0       NaN   7.000000   \n",
       "142      214619   52.127500          0        0.0    0.0 -0.179468   5.300000   \n",
       "143      214619   57.427500          0        0.0    0.0 -0.154151   5.700000   \n",
       "144      214619   63.127500          0        0.0    0.0 -0.241162  24.650000   \n",
       "145      214619   87.777500          0        0.0    0.0 -0.278203   5.183333   \n",
       "146      214619   92.960833          0        0.0    0.0 -0.043803   0.233333   \n",
       "147      214619   93.194167          1        0.0    2.0       NaN   6.383333   \n",
       "148      214619   99.577500          1        0.0    2.0       NaN   4.933333   \n",
       "149      214619  104.510833          1        0.0    2.0       NaN   6.100000   \n",
       "150      214619  110.610833          0        0.0    0.0 -0.188052   5.516667   \n",
       "\n",
       "        glc_1  msk          t0          t1  \n",
       "131       NaN    1    6.527500    9.660833  \n",
       "132  0.000000    0    9.660833   15.127500  \n",
       "133       NaN    1   15.127500   15.310833  \n",
       "134  0.088795    0   15.310833   20.294167  \n",
       "135       NaN    1   20.294167   21.627500  \n",
       "136 -0.250295    0   21.627500   27.127500  \n",
       "137 -0.232112    0   27.127500   33.127500  \n",
       "138 -0.121361    0   33.127500   39.710833  \n",
       "139 -0.097455    0   39.710833   45.060833  \n",
       "140       NaN    1   45.060833   45.127500  \n",
       "141 -0.179468    0   45.127500   52.127500  \n",
       "142 -0.154151    0   52.127500   57.427500  \n",
       "143 -0.241162    0   57.427500   63.127500  \n",
       "144 -0.278203    0   63.127500   87.777500  \n",
       "145 -0.043803    0   87.777500   92.960833  \n",
       "146       NaN    1   92.960833   93.194167  \n",
       "147       NaN    1   93.194167   99.577500  \n",
       "148       NaN    1   99.577500  104.510833  \n",
       "149 -0.188052    0  104.510833  110.610833  \n",
       "150 -0.154151    0  110.610833  116.127500  "
      ]
     },
     "execution_count": 7,
     "metadata": {},
     "output_type": "execute_result"
    }
   ],
   "source": [
    "df.loc[df.icustay_id == 214619].iloc[0:20,:]"
   ]
  },
  {
   "cell_type": "code",
   "execution_count": 8,
   "id": "1ea56a91",
   "metadata": {},
   "outputs": [
    {
     "name": "stdout",
     "output_type": "stream",
     "text": [
      "excluding: 256919\n",
      "excluding: 294754\n",
      "excluding: 226871\n",
      "excluding: 259557\n",
      "excluding: 244481\n",
      "excluding: 278881\n",
      "excluding: 215858\n",
      "excluding: 203601\n",
      "excluding: 297226\n",
      "excluding: 270562\n",
      "excluding: 253103\n",
      "excluding: 213252\n",
      "excluding: 233427\n",
      "excluding: 210919\n",
      "excluding: 229391\n",
      "excluding: 214980\n",
      "excluding: 235909\n",
      "excluding: 283329\n",
      "excluding: 288876\n",
      "excluding: 246711\n",
      "excluding: 242544\n",
      "excluding: 271802\n",
      "excluding: 259510\n",
      "excluding: 240831\n",
      "excluding: 256330\n",
      "excluding: 215799\n",
      "excluding: 257328\n",
      "excluding: 262192\n",
      "excluding: 283259\n",
      "excluding: 282645\n",
      "excluding: 294375\n",
      "excluding: 224125\n",
      "excluding: 207781\n",
      "excluding: 276632\n",
      "excluding: 294864\n",
      "excluding: 215429\n",
      "excluding: 276835\n"
     ]
    }
   ],
   "source": [
    "df['glc'] = df.groupby('icustay_id').glc.fillna(method='ffill')\n",
    "df = df.loc[~df.glc.isnull()]\n",
    "\n",
    "for id_ in df.icustay_id.unique():\n",
    "    df_id = df.loc[df.icustay_id == id_,:]\n",
    "    if (sum(df_id.msk) == df_id.shape[0]):\n",
    "        df.drop(df.loc[df.icustay_id == id_,:].index,inplace=True)\n",
    "        print(\"excluding:\",id_)"
   ]
  },
  {
   "cell_type": "code",
   "execution_count": 9,
   "id": "d0a99f82",
   "metadata": {},
   "outputs": [],
   "source": [
    "# df['input'] = df['input']/50\n",
    "# df['input_hrs'] = df['input_hrs']/30\n",
    "\n",
    "qt = QuantileTransformer(n_quantiles=10, random_state=0)\n",
    "df['input'] = qt.fit_transform(df['input'].to_numpy().reshape(-1, 1))\n",
    "qt = QuantileTransformer(n_quantiles=10, random_state=0)\n",
    "df['input_hrs'] = qt.fit_transform(df['input_hrs'].to_numpy().reshape(-1, 1))\n",
    "\n",
    "# sample_ids = df.icustay_id.unique()[0:2000]\n",
    "# train_ids, test_ids = train_test_split(sample_ids,test_size=0.25)\n",
    "\n",
    "train_ids, test_ids = train_test_split(df.icustay_id.unique(),test_size=0.25)\n",
    "\n",
    "df_train = df.loc[df.icustay_id.isin(train_ids)]\n",
    "df_valid = df.loc[df.icustay_id.isin(test_ids)]\n"
   ]
  },
  {
   "cell_type": "code",
   "execution_count": 10,
   "id": "d16aeca0",
   "metadata": {},
   "outputs": [
    {
     "data": {
      "image/png": "[encoded data removed]",
      "text/plain": [
       "<Figure size 432x288 with 1 Axes>"
      ]
     },
     "metadata": {
      "needs_background": "light"
     },
     "output_type": "display_data"
    }
   ],
   "source": [
    "plt.hist(df['input_hrs'])\n",
    "plt.show()"
   ]
  },
  {
   "cell_type": "code",
   "execution_count": 11,
   "id": "8230b2ef",
   "metadata": {},
   "outputs": [
    {
     "data": {
      "image/png": "[encoded data removed]",
      "text/plain": [
       "<Figure size 432x288 with 1 Axes>"
      ]
     },
     "metadata": {
      "needs_background": "light"
     },
     "output_type": "display_data"
    }
   ],
   "source": [
    "plt.hist(df['input'])\n",
    "plt.show()"
   ]
  },
  {
   "cell_type": "code",
   "execution_count": 12,
   "id": "8074cf31",
   "metadata": {},
   "outputs": [],
   "source": [
    "FEATURE_VARS = [\"injection\",\"input_hrs\",\"input\",\"glc\"]\n",
    "TIME_VARS = [\"t0\",\"t1\"]\n",
    "\n",
    "class MIMICDataset(Dataset):\n",
    "    \"\"\"\n",
    "    Args:\n",
    "        patientunitstayids: \n",
    "        df:\n",
    "        ...\n",
    "    \n",
    "    Example:\n",
    "    \"\"\"\n",
    "    def __init__(self,df,verbose=True):\n",
    "        self.X,self.y,self.msk,self.dt = self.load_data(df,verbose=verbose)\n",
    "        \n",
    "    def __len__(self):\n",
    "        return len(self.y)\n",
    "    \n",
    "    def __getitem__(self, idx):\n",
    "        return self.X[idx],self.y[idx],self.msk[idx],self.dt[idx]\n",
    "    \n",
    "    def load_data(self,df,verbose):\n",
    "        X_list, y_list, msk_list, dt_list = [], [], [], []\n",
    "        ids = df.icustay_id.unique()\n",
    "        if verbose:\n",
    "            print(\"reconfiguring data...\")\n",
    "        for id_ in ids:\n",
    "            df_id = df.loc[df.icustay_id == id_,:]\n",
    "            if (sum(df_id.msk) == df_id.shape[0]):\n",
    "                print(\"excluding:\",id_)\n",
    "                continue\n",
    "            X = df_id.loc[:,FEATURE_VARS]\n",
    "            y = df_id.loc[:,\"glc_dt\"]\n",
    "            msk = df_id.loc[:,\"msk\"]\n",
    "            dt = df_id.loc[:,TIME_VARS]\n",
    "            X = np.array(X).astype(np.float32)\n",
    "            y = np.array(y).astype(np.float32)\n",
    "            msk = np.array(msk).astype(np.int32)\n",
    "            dt = np.array(dt).astype(np.float32)\n",
    "            X_list.append(X)\n",
    "            y_list.append(y)\n",
    "            msk_list.append(msk)\n",
    "            dt_list.append(dt)\n",
    "        return X_list,y_list,msk_list,dt_list"
   ]
  },
  {
   "cell_type": "code",
   "execution_count": 13,
   "id": "da378b6e",
   "metadata": {},
   "outputs": [
    {
     "name": "stdout",
     "output_type": "stream",
     "text": [
      "reconfiguring data...\n",
      "reconfiguring data...\n"
     ]
    }
   ],
   "source": [
    "dl_train = DataLoader(MIMICDataset(df_train),batch_size=1)\n",
    "dl_valid = DataLoader(MIMICDataset(df_valid),batch_size=1)\n",
    "dataloaders = {'train':dl_train,'validation':dl_valid}"
   ]
  },
  {
   "cell_type": "code",
   "execution_count": null,
   "id": "a8d7caef",
   "metadata": {},
   "outputs": [],
   "source": []
  },
  {
   "cell_type": "code",
   "execution_count": 14,
   "id": "f8ba3a75",
   "metadata": {},
   "outputs": [],
   "source": [
    "import torch \n",
    "import torch.nn as nn\n",
    "import torch.nn.functional as F\n",
    "#from torchdiffeq import odeint_adjoint as odeint\n",
    "from torchdiffeq import odeint\n",
    "\n",
    "import math\n",
    "\n",
    "# Base ----------------------------------------------------------------------------\n",
    "\n",
    "import torch.nn.functional as F\n",
    "\n",
    "class Baseline(nn.Module):\n",
    "    def __init__(self, input_dim, hidden_dim, p, output_dim, device):\n",
    "        super(Baseline, self).__init__()\n",
    "        \n",
    "        self.input_dim = input_dim\n",
    "        self.hidden_dim = hidden_dim\n",
    "        self.output_dim = output_dim\n",
    "        self.p = p\n",
    "        self.device = device\n",
    "        \n",
    "    def train_single_epoch(self,dataloader,optim):\n",
    "        loss = 0.0\n",
    "        for i, (x, y, msk, dt) in enumerate(dataloader):\n",
    "            x = x.to(self.device)\n",
    "            y = y.view(-1,1).to(self.device)\n",
    "            dt = dt.to(self.device)\n",
    "            msk = msk.bool().to(self.device)\n",
    "            optim.zero_grad()\n",
    "            preds = self.forward(dt,x)\n",
    "            loss_step = self.loss_fn(preds,y,~msk.squeeze(0))\n",
    "            loss_step.backward()\n",
    "            #torch.nn.utils.clip_grad_norm_(self.parameters(), 10.0)\n",
    "            optim.step()\n",
    "            loss += loss_step.item()\n",
    "            if i % 1e3 == 0:\n",
    "                print(\"BATCH_loss : {:05.3f}\".format(loss_step.item()))\n",
    "        loss /= (i + 1)\n",
    "        print(\"EPOCH_loss : {:05.3f}\".format(loss))\n",
    "        \n",
    "        return loss\n",
    "        \n",
    "    def evaluate(self,dataloader,p=0.0):\n",
    "        rmse, loss = 0., 0.\n",
    "        N = 0\n",
    "        y_preds = []\n",
    "        y_tests = []\n",
    "        msks = []\n",
    "        #dts = []\n",
    "        with tqdm(total=len(dataloader)) as t:\n",
    "            for i, (x, y, msk, dt) in enumerate(dataloader):\n",
    "                N += sum((msk == 0).squeeze(0)).item()\n",
    "                x = x.to(self.device)\n",
    "                y = y.view(-1,1).to(self.device)\n",
    "                dt = dt.to(self.device)\n",
    "                # model prediction\n",
    "                y_ = self.forward(dt,x)\n",
    "                y_preds.append([yc.detach().cpu().numpy() for yc in y_]) \n",
    "                y_tests.append(y.cpu().numpy())\n",
    "                msk = msk.bool().to(self.device)\n",
    "                rmse += self.get_sse(y_,y,~msk.squeeze(0)).item()\n",
    "                loss += self.loss_fn(y_,y,~msk.squeeze(0)).item()\n",
    "                msks.append(msk.cpu().numpy())\n",
    "                t.update()\n",
    "        rmse /= N\n",
    "        loss /= (i + 1)\n",
    "        rmse = math.sqrt(rmse)\n",
    "        print(\"_rmse : {:05.3f}\".format(rmse))\n",
    "        print(\"_loss : {:05.3f}\".format(loss))\n",
    "        return loss,rmse, y_preds, y_tests, msks\n",
    "\n",
    "    def get_sse(self,y_,y,msk):\n",
    "        \"\"\"\n",
    "        SSE: sum of squared errors\n",
    "        \"\"\"\n",
    "        if type(y_) == tuple:\n",
    "            y_ = y_[0]\n",
    "        c = torch.log(torch.tensor(140.0))\n",
    "        rmse = torch.sum((torch.exp(y_[msk] + c) - torch.exp(y[msk] + c))**2)\n",
    "        return rmse"
   ]
  },
  {
   "cell_type": "code",
   "execution_count": 15,
   "id": "c6884af4",
   "metadata": {},
   "outputs": [],
   "source": [
    "    \n",
    "class ODEFunc(nn.Module):\n",
    "    \"\"\"\n",
    "    dglucose/dt = NN(glucose,insulin)\n",
    "    \"\"\"\n",
    "    def __init__(self,input_dim,hidden_dim):\n",
    "        super(ODEFunc, self).__init__()\n",
    "\n",
    "        self.net = nn.Sequential(\n",
    "            nn.Linear(input_dim+hidden_dim, 50),\n",
    "            nn.Tanh(),\n",
    "            nn.Linear(50, hidden_dim),\n",
    "        )\n",
    "\n",
    "        for m in self.net.modules():\n",
    "            if isinstance(m, nn.Linear):\n",
    "                nn.init.normal_(m.weight, mean=0, std=0.1)\n",
    "                nn.init.constant_(m.bias, val=0)\n",
    "\n",
    "    def forward(self, z, x):\n",
    "        zx = torch.cat((z,x),1)\n",
    "        return self.net(zx)\n",
    "    \n",
    "class LatentODE(Baseline):\n",
    "\n",
    "    def __init__(self, input_dim, hidden_dim, p, output_dim, device):\n",
    "        Baseline.__init__(self,input_dim, hidden_dim, p, output_dim, device)\n",
    "        self.device = device\n",
    "        self.func = ODEFunc(input_dim,hidden_dim).to(device)\n",
    "        self.sigma = nn.Sequential(\n",
    "            nn.Linear(hidden_dim, hidden_dim),\n",
    "            nn.Tanh(),\n",
    "            nn.Linear(hidden_dim, 1),\n",
    "            nn.Softplus()\n",
    "        )\n",
    "        self.mu = nn.Sequential(\n",
    "            nn.Linear(hidden_dim, hidden_dim),\n",
    "            nn.Tanh(),\n",
    "            nn.Linear(hidden_dim, 1)\n",
    "        )\n",
    "\n",
    "    def forward(self, dt, x):\n",
    "        \n",
    "        \n",
    "        x = x.squeeze(0)\n",
    "        dt = dt.squeeze(0)\n",
    "        T = x.size(0)\n",
    "        \n",
    "        mu_out,sigma_out= torch.zeros(T,1,device = self.device),torch.zeros(T,1,device = self.device) \n",
    "        z_t = torch.zeros(1,self.hidden_dim,device = self.device)\n",
    "        for i in range(0,T):\n",
    "            \n",
    "            # embedding layer\n",
    "            # ....\n",
    "            \n",
    "            # encode - ODE\n",
    "            x_i = x[i].unsqueeze(0)\n",
    "            z_t = self.euler(self.func,z_t.clone(),x_i,dt[i],h=1.0)\n",
    "            \n",
    "            # output layer \n",
    "            sigma = self.sigma(z_t.clone())\n",
    "            mu = self.mu(z_t.clone())\n",
    "            sigma_out[i] = sigma\n",
    "            mu_out[i] = mu\n",
    "        \n",
    "        return (mu_out,sigma_out)\n",
    "    \n",
    "    def loss_fn(self,mu_s_,y,msk):\n",
    "        y_, s_ = mu_s_\n",
    "        distribution = torch.distributions.normal.Normal(y_[msk], s_[msk])\n",
    "        likelihood = distribution.log_prob(y[msk])\n",
    "        return -torch.mean(likelihood)\n",
    "\n",
    "    def euler(self,func,y0,x,t,h):\n",
    "        if (t[1]-t[0]) == 0:\n",
    "            return y0\n",
    "        else :\n",
    "            tsteps = torch.linspace(t[0],t[1],int(2+(t[1]-t[0]) // h))\n",
    "            hs = torch.diff(tsteps)\n",
    "            #y = copy.deepcopy(y0)\n",
    "            y = y0\n",
    "            for h in hs:\n",
    "                y += h*func(y,x)\n",
    "        return y \n"
   ]
  },
  {
   "cell_type": "code",
   "execution_count": 16,
   "id": "96b00a51",
   "metadata": {},
   "outputs": [],
   "source": [
    "    \n",
    "class ODEFunc(nn.Module):\n",
    "    \"\"\"\n",
    "    dglucose/dt = NN(glucose,insulin)\n",
    "    \"\"\"\n",
    "    def __init__(self,input_dim,hidden_dim):\n",
    "        super(ODEFunc, self).__init__()\n",
    "\n",
    "        self.net = nn.Sequential(\n",
    "            nn.Linear(hidden_dim, 50),\n",
    "            nn.Tanh(),\n",
    "            nn.Linear(50, hidden_dim),\n",
    "        )\n",
    "\n",
    "        for m in self.net.modules():\n",
    "            if isinstance(m, nn.Linear):\n",
    "                nn.init.normal_(m.weight, mean=0, std=0.1)\n",
    "                nn.init.constant_(m.bias, val=0)\n",
    "\n",
    "    def forward(self, z):\n",
    "        return self.net(z)\n",
    "\n",
    "class LatentODE1(Baseline):\n",
    "\n",
    "    def __init__(self, input_dim, hidden_dim, p, output_dim, device):\n",
    "        Baseline.__init__(self,input_dim, hidden_dim, p, output_dim, device)\n",
    "        self.device = device\n",
    "        self.encoder = nn.LSTMCell(input_dim,hidden_dim)\n",
    "        self.func = ODEFunc(input_dim,hidden_dim).to(device)\n",
    "        self.sigma = nn.Sequential(\n",
    "            nn.Linear(hidden_dim, hidden_dim),\n",
    "            nn.ReLU(),\n",
    "            nn.Linear(hidden_dim, 1),\n",
    "            nn.Softplus()\n",
    "        )\n",
    "        self.mu = nn.Sequential(\n",
    "            nn.Linear(hidden_dim, hidden_dim),\n",
    "            nn.ReLU(),\n",
    "            nn.Linear(hidden_dim, 1)\n",
    "        )\n",
    "\n",
    "    def forward(self, dt, x):\n",
    "        \n",
    "        \n",
    "        x = x.squeeze(0)\n",
    "        dt = dt.squeeze(0)\n",
    "        T = x.size(0)\n",
    "        \n",
    "        mu_out,sigma_out = torch.zeros(T,1,device = self.device),torch.zeros(T,1,device = self.device) \n",
    "        #z_t = torch.zeros(1,self.hidden_dim,device = self.device)\n",
    "        z_1 = torch.zeros(1,self.hidden_dim,device = self.device)\n",
    "        c_1 = torch.zeros(1,self.hidden_dim,device = self.device)\n",
    "        for i in range(0,T):\n",
    "            # encode \n",
    "            z_1,c_1 = self.encoder(x[i].unsqueeze(0),(z_1.detach().clone(),c_1.detach().clone()))\n",
    "            \n",
    "            # ODE\n",
    "            z_2 = self.euler(self.func,z_1,dt[i],1.0)\n",
    "            \n",
    "            # decode \n",
    "            sigma = self.sigma(z_2)\n",
    "            mu = self.mu(z_2)\n",
    "            sigma_out[i] = sigma\n",
    "            mu_out[i] = mu\n",
    "        \n",
    "        return (mu_out,sigma_out)\n",
    "    \n",
    "    def loss_fn(self,mu_s_,y,msk):\n",
    "        y_, s_ = mu_s_\n",
    "        distribution = torch.distributions.normal.Normal(y_[msk], s_[msk])\n",
    "        likelihood = distribution.log_prob(y[msk])\n",
    "        return -torch.mean(likelihood)\n",
    "    \n",
    "    def euler(self,func,z0,t,h):\n",
    "        if (t[1]-t[0]) == 0:\n",
    "            return z0\n",
    "        else:\n",
    "            tsteps = torch.linspace(t[0],t[1],int(2+(t[1]-t[0]) // h))\n",
    "            hs = torch.diff(tsteps)\n",
    "            #y = copy.deepcopy(y0)\n",
    "            z = z0.detach().clone()\n",
    "            for h in hs:\n",
    "                z += h*func(z.detach().clone())\n",
    "        return z \n",
    "\n"
   ]
  },
  {
   "cell_type": "code",
   "execution_count": 17,
   "id": "ee41db0a",
   "metadata": {},
   "outputs": [],
   "source": [
    "    \n",
    "class ODEFunc(nn.Module):\n",
    "    \"\"\"\n",
    "    dglucose/dt = NN(glucose,insulin)\n",
    "    \"\"\"\n",
    "    def __init__(self,input_dim,hidden_dim):\n",
    "        super(ODEFunc, self).__init__()\n",
    "\n",
    "        self.net = nn.Sequential(\n",
    "            nn.Linear(input_dim+hidden_dim, 50),\n",
    "            nn.Tanh(),\n",
    "            nn.Linear(50, hidden_dim),\n",
    "        )\n",
    "\n",
    "        for m in self.net.modules():\n",
    "            if isinstance(m, nn.Linear):\n",
    "                nn.init.normal_(m.weight, mean=0, std=0.1)\n",
    "                nn.init.constant_(m.bias, val=0)\n",
    "\n",
    "    def forward(self, z, x=None):\n",
    "        if x != None:\n",
    "            zx = torch.cat((z,x),1)\n",
    "        else:\n",
    "            zx = z\n",
    "        return self.net(zx)\n",
    "    \n",
    "class LatentODE2(Baseline):\n",
    "\n",
    "    def __init__(self, input_dim, hidden_dim, p, output_dim, device):\n",
    "        Baseline.__init__(self,input_dim, hidden_dim, p, output_dim, device)\n",
    "        self.device = device\n",
    "        self.func = ODEFunc(input_dim,hidden_dim).to(device)\n",
    "        self.dfunc = ODEFunc(0,hidden_dim).to(device)\n",
    "        self.sigma = nn.Sequential(\n",
    "            nn.Linear(hidden_dim, hidden_dim),\n",
    "            nn.Tanh(),\n",
    "            nn.Linear(hidden_dim, 1),\n",
    "            nn.Softplus()\n",
    "        )\n",
    "        self.mu = nn.Sequential(\n",
    "            nn.Linear(hidden_dim, hidden_dim),\n",
    "            nn.Tanh(),\n",
    "            nn.Linear(hidden_dim, 1)\n",
    "        )\n",
    "\n",
    "    def forward(self, dt, x):\n",
    "        \n",
    "        \n",
    "        x = x.squeeze(0)\n",
    "        dt = dt.squeeze(0)\n",
    "        T = x.size(0)\n",
    "        \n",
    "        mu_out,sigma_out= torch.zeros(T,1,device = self.device),torch.zeros(T,1,device = self.device) \n",
    "        z_t = torch.zeros(1,self.hidden_dim,device = self.device)\n",
    "        for i in range(0,T):\n",
    "            # update hidden state\n",
    "            z_t = self.euler1(self.dfunc,z_t.clone(),dt[i],h=1.0)\n",
    "            \n",
    "            # encode ODE\n",
    "            x_i = x[i].unsqueeze(0)\n",
    "            z_t = self.euler(self.func,z_t.clone(),x_i,dt[i],h=1.0)\n",
    "            \n",
    "            # decode \n",
    "            sigma = self.sigma(z_t.clone())\n",
    "            mu = self.mu(z_t.clone())\n",
    "            sigma_out[i] = sigma\n",
    "            mu_out[i] = mu\n",
    "        \n",
    "        return (mu_out,sigma_out)\n",
    "    \n",
    "    def loss_fn(self,mu_s_,y,msk):\n",
    "        y_, s_ = mu_s_\n",
    "        distribution = torch.distributions.normal.Normal(y_[msk], s_[msk])\n",
    "        likelihood = distribution.log_prob(y[msk])\n",
    "        return -torch.mean(likelihood)\n",
    "\n",
    "    def euler(self,func,y0,x,t,h):\n",
    "        if (t[1]-t[0]) == 0:\n",
    "            return y0\n",
    "        else :\n",
    "            tsteps = torch.linspace(t[0],t[1],int(2+(t[1]-t[0]) // h))\n",
    "            hs = torch.diff(tsteps)\n",
    "            #y = copy.deepcopy(y0)\n",
    "            y = y0\n",
    "            for h in hs:\n",
    "                y += h*func(y,x)\n",
    "        return y \n",
    "\n",
    "    def euler1(self,func,y0,t,h):\n",
    "        if (t[1]-t[0]) == 0:\n",
    "            return y0\n",
    "        else :\n",
    "            tsteps = torch.linspace(t[0],t[1],int(2+(t[1]-t[0]) // h))\n",
    "            hs = torch.diff(tsteps)\n",
    "            #y = copy.deepcopy(y0)\n",
    "            y = y0.detach().clone()\n",
    "            for h in hs:\n",
    "                y += h*func(y.detach().clone())\n",
    "        return y \n"
   ]
  },
  {
   "cell_type": "code",
   "execution_count": 18,
   "id": "0242dacd",
   "metadata": {},
   "outputs": [],
   "source": [
    "model = LatentODE(4, 8, 0.5, 1, \"cuda\").to(\"cuda\")"
   ]
  },
  {
   "cell_type": "code",
   "execution_count": 19,
   "id": "79dffa2b",
   "metadata": {},
   "outputs": [],
   "source": [
    "t = next(iter(dl_train))[3].squeeze(0).to(\"cuda\")\n",
    "x = next(iter(dl_train))[0].squeeze(0).to(\"cuda\")\n",
    "y = next(iter(dl_train))[1].squeeze(0)\n",
    "msk = next(iter(dl_train))[2].squeeze(0)\n",
    "y_ = model(t,x)\n",
    "#print(y_[1])\n",
    "#model(t[:1].unsqueeze(0),x[:1].unsqueeze(0))\n",
    "# model(t[0],x[0]) # doesn't work but that's okay"
   ]
  },
  {
   "cell_type": "code",
   "execution_count": 20,
   "id": "00958d80",
   "metadata": {},
   "outputs": [],
   "source": [
    "model_optim = optim.RMSprop(model.parameters(), lr=1e-3)"
   ]
  },
  {
   "cell_type": "code",
   "execution_count": 21,
   "id": "0e0b3da1",
   "metadata": {},
   "outputs": [
    {
     "name": "stdout",
     "output_type": "stream",
     "text": [
      "BATCH_loss : 0.822\n",
      "BATCH_loss : 0.255\n",
      "BATCH_loss : 0.306\n",
      "BATCH_loss : -0.110\n",
      "BATCH_loss : -0.102\n",
      "BATCH_loss : 0.505\n",
      "BATCH_loss : 0.300\n",
      "BATCH_loss : -0.275\n",
      "BATCH_loss : 0.088\n",
      "EPOCH_loss : 0.133\n",
      "BATCH_loss : 0.417\n",
      "BATCH_loss : 0.134\n",
      "BATCH_loss : 0.281\n",
      "BATCH_loss : -0.172\n",
      "BATCH_loss : -0.148\n",
      "BATCH_loss : 0.438\n",
      "BATCH_loss : 0.294\n",
      "BATCH_loss : -0.268\n",
      "BATCH_loss : 0.114\n",
      "EPOCH_loss : 0.062\n",
      "BATCH_loss : 0.190\n",
      "BATCH_loss : 0.139\n",
      "BATCH_loss : 0.299\n",
      "BATCH_loss : -0.163\n",
      "BATCH_loss : -0.130\n",
      "BATCH_loss : 0.434\n",
      "BATCH_loss : 0.339\n",
      "BATCH_loss : -0.279\n",
      "BATCH_loss : 0.090\n",
      "EPOCH_loss : 0.054\n"
     ]
    },
    {
     "data": {
      "text/plain": [
       "0.05367414123724263"
      ]
     },
     "execution_count": 21,
     "metadata": {},
     "output_type": "execute_result"
    }
   ],
   "source": [
    "model.train_single_epoch(dl_train,model_optim)\n",
    "model.train_single_epoch(dl_train,model_optim)\n",
    "model.train_single_epoch(dl_train,model_optim)"
   ]
  },
  {
   "cell_type": "code",
   "execution_count": 22,
   "id": "8cc33b12",
   "metadata": {},
   "outputs": [
    {
     "name": "stderr",
     "output_type": "stream",
     "text": [
      "100%|██████████| 2797/2797 [02:30<00:00, 18.54it/s]"
     ]
    },
    {
     "name": "stdout",
     "output_type": "stream",
     "text": [
      "_rmse : 38.774\n",
      "_loss : 0.037\n"
     ]
    },
    {
     "name": "stderr",
     "output_type": "stream",
     "text": [
      "\n"
     ]
    }
   ],
   "source": [
    "loss,rmse, y_preds, y_tests, msks = model.evaluate(dl_valid)"
   ]
  },
  {
   "cell_type": "code",
   "execution_count": 1,
   "id": "0dc92580",
   "metadata": {},
   "outputs": [
    {
     "ename": "NameError",
     "evalue": "name 'rmse' is not defined",
     "output_type": "error",
     "traceback": [
      "\u001b[0;31m---------------------------------------------------------------------------\u001b[0m",
      "\u001b[0;31mNameError\u001b[0m                                 Traceback (most recent call last)",
      "\u001b[0;32m<ipython-input-1-31b3c02e10e9>\u001b[0m in \u001b[0;36m<module>\u001b[0;34m()\u001b[0m\n\u001b[0;32m----> 1\u001b[0;31m \u001b[0mrmse\u001b[0m\u001b[0;34m\u001b[0m\u001b[0;34m\u001b[0m\u001b[0m\n\u001b[0m",
      "\u001b[0;31mNameError\u001b[0m: name 'rmse' is not defined"
     ]
    }
   ],
   "source": [
    "rmse"
   ]
  },
  {
   "cell_type": "code",
   "execution_count": 24,
   "id": "03a665b6",
   "metadata": {},
   "outputs": [
    {
     "name": "stderr",
     "output_type": "stream",
     "text": [
      "/opt/conda/lib/python3.7/site-packages/ipykernel_launcher.py:1: SettingWithCopyWarning: \n",
      "A value is trying to be set on a copy of a slice from a DataFrame.\n",
      "Try using .loc[row_indexer,col_indexer] = value instead\n",
      "\n",
      "See the caveats in the documentation: https://pandas.pydata.org/pandas-docs/stable/user_guide/indexing.html#returning-a-view-versus-a-copy\n",
      "  \"\"\"Entry point for launching an IPython kernel.\n",
      "/opt/conda/lib/python3.7/site-packages/pandas/core/indexing.py:1720: SettingWithCopyWarning: \n",
      "A value is trying to be set on a copy of a slice from a DataFrame.\n",
      "Try using .loc[row_indexer,col_indexer] = value instead\n",
      "\n",
      "See the caveats in the documentation: https://pandas.pydata.org/pandas-docs/stable/user_guide/indexing.html#returning-a-view-versus-a-copy\n",
      "  self._setitem_single_column(loc, value, pi)\n",
      "/opt/conda/lib/python3.7/site-packages/ipykernel_launcher.py:3: SettingWithCopyWarning: \n",
      "A value is trying to be set on a copy of a slice from a DataFrame.\n",
      "Try using .loc[row_indexer,col_indexer] = value instead\n",
      "\n",
      "See the caveats in the documentation: https://pandas.pydata.org/pandas-docs/stable/user_guide/indexing.html#returning-a-view-versus-a-copy\n",
      "  This is separate from the ipykernel package so we can avoid doing imports until\n"
     ]
    },
    {
     "name": "stdout",
     "output_type": "stream",
     "text": [
      "RMSE (locf): 42.7021\n"
     ]
    }
   ],
   "source": [
    "df_valid[\"glc_dt_locf\"] = df_valid.glc\n",
    "df_valid.loc[df_valid.glc_dt_locf == 0,'glc_dt_locf'] = np.NaN\n",
    "df_valid[\"glc_dt_locf\"] = df_valid.groupby('icustay_id')[\"glc_dt_locf\"].ffill()\n",
    "res_rmse_locf = math.sqrt(np.mean((ginv(df_valid.glc_dt_locf[df_valid.msk==0]) - ginv(df_valid.glc_dt[df_valid.msk==0]))**2))\n",
    "print(\"RMSE (locf): {:05.4f}\".format(res_rmse_locf))"
   ]
  },
  {
   "cell_type": "code",
   "execution_count": 25,
   "id": "d72b4167",
   "metadata": {},
   "outputs": [
    {
     "data": {
      "text/plain": [
       "0.2744527608038444"
      ]
     },
     "execution_count": 25,
     "metadata": {},
     "output_type": "execute_result"
    }
   ],
   "source": [
    "math.sqrt(np.mean((df_valid.glc[df_valid.msk==0] - df_valid.glc_dt[df_valid.msk==0])**2))"
   ]
  },
  {
   "cell_type": "code",
   "execution_count": 26,
   "id": "81c0b1e8",
   "metadata": {},
   "outputs": [
    {
     "data": {
      "text/plain": [
       "0.9080123487455226"
      ]
     },
     "execution_count": 26,
     "metadata": {},
     "output_type": "execute_result"
    }
   ],
   "source": [
    "rmse / res_rmse_locf"
   ]
  },
  {
   "cell_type": "code",
   "execution_count": 27,
   "id": "1034dcba",
   "metadata": {},
   "outputs": [],
   "source": [
    "mu_preds = [y[0] for y in y_preds]\n",
    "s_preds = [y[1] for y in y_preds]"
   ]
  },
  {
   "cell_type": "code",
   "execution_count": 28,
   "id": "f58e7726",
   "metadata": {},
   "outputs": [],
   "source": [
    "mu_preds = np.concatenate(mu_preds)\n",
    "y_tests = np.concatenate(y_tests)"
   ]
  },
  {
   "cell_type": "code",
   "execution_count": 29,
   "id": "e895482f",
   "metadata": {},
   "outputs": [],
   "source": [
    "s_preds = np.concatenate(s_preds)"
   ]
  },
  {
   "cell_type": "code",
   "execution_count": 30,
   "id": "2553ccb9",
   "metadata": {},
   "outputs": [
    {
     "name": "stderr",
     "output_type": "stream",
     "text": [
      "/opt/conda/lib/python3.7/site-packages/ipykernel_launcher.py:1: SettingWithCopyWarning: \n",
      "A value is trying to be set on a copy of a slice from a DataFrame.\n",
      "Try using .loc[row_indexer,col_indexer] = value instead\n",
      "\n",
      "See the caveats in the documentation: https://pandas.pydata.org/pandas-docs/stable/user_guide/indexing.html#returning-a-view-versus-a-copy\n",
      "  \"\"\"Entry point for launching an IPython kernel.\n",
      "/opt/conda/lib/python3.7/site-packages/ipykernel_launcher.py:2: SettingWithCopyWarning: \n",
      "A value is trying to be set on a copy of a slice from a DataFrame.\n",
      "Try using .loc[row_indexer,col_indexer] = value instead\n",
      "\n",
      "See the caveats in the documentation: https://pandas.pydata.org/pandas-docs/stable/user_guide/indexing.html#returning-a-view-versus-a-copy\n",
      "  \n"
     ]
    }
   ],
   "source": [
    "df_valid['mu_preds'] = mu_preds\n",
    "df_valid['s_preds'] = s_preds"
   ]
  },
  {
   "cell_type": "code",
   "execution_count": 31,
   "id": "a112fd82",
   "metadata": {},
   "outputs": [
    {
     "name": "stdout",
     "output_type": "stream",
     "text": [
      "time ahead (hours): 00.00-01.00\n",
      "N: 12994\n",
      "RMSE (locf): 34.8289\n",
      "RMSE (model): 34.8033\n",
      "0.9993\n",
      "time ahead (hours): 01.00-02.00\n",
      "N: 13162\n",
      "RMSE (locf): 35.0508\n",
      "RMSE (model): 32.4935\n",
      "0.9270\n",
      "time ahead (hours): 02.00-03.00\n",
      "N:  4179\n",
      "RMSE (locf): 45.7201\n",
      "RMSE (model): 42.6710\n",
      "0.9333\n",
      "time ahead (hours): 03.00-04.00\n",
      "N:  3012\n",
      "RMSE (locf): 55.1400\n",
      "RMSE (model): 49.0660\n",
      "0.8898\n",
      "time ahead (hours): 04.00-05.00\n",
      "N:  3746\n",
      "RMSE (locf): 54.2085\n",
      "RMSE (model): 48.2914\n",
      "0.8908\n",
      "time ahead (hours): 05.00-06.00\n",
      "N:  7417\n",
      "RMSE (locf): 48.8122\n",
      "RMSE (model): 41.9843\n",
      "0.8601\n",
      "time ahead (hours): 06.00-07.00\n",
      "N:  7041\n",
      "RMSE (locf): 42.6655\n",
      "RMSE (model): 37.5998\n",
      "0.8813\n",
      "time ahead (hours): 07.00-08.00\n",
      "N:  1087\n",
      "RMSE (locf): 48.6503\n",
      "RMSE (model): 42.6095\n",
      "0.8758\n",
      "time ahead (hours): 08.00-09.00\n",
      "N:   593\n",
      "RMSE (locf): 50.5273\n",
      "RMSE (model): 40.2239\n",
      "0.7961\n",
      "time ahead (hours): 09.00-10.00\n",
      "N:   491\n",
      "RMSE (locf): 58.5637\n",
      "RMSE (model): 49.6358\n",
      "0.8476\n",
      "time ahead (hours): 10.00-11.00\n",
      "N:   543\n",
      "RMSE (locf): 52.2484\n",
      "RMSE (model): 44.9420\n",
      "0.8602\n",
      "time ahead (hours): 11.00-12.00\n",
      "N:   933\n",
      "RMSE (locf): 44.1272\n",
      "RMSE (model): 40.1399\n",
      "0.9096\n"
     ]
    }
   ],
   "source": [
    "dts = np.linspace(0,11,12)\n",
    "dts = np.append(dts,12.)\n",
    "for i in range(dts.shape[0]-1):\n",
    "    print('time ahead (hours): {:05.2f}-{:05.2f}'.format(dts[i],dts[i+1]))\n",
    "    msk = (df_valid.msk==0) & (df_valid.dt >= dts[i]) & (df_valid.dt < dts[i+1])\n",
    "    print(\"N: {:5}\".format(sum(msk)))\n",
    "    res_rmse_locf = math.sqrt(np.mean((ginv(df_valid.glc_dt_locf[msk]) - ginv(df_valid.glc_dt[msk]))**2))\n",
    "    print(\"RMSE (locf): {:05.4f}\".format(res_rmse_locf))\n",
    "    res_rmse_model = math.sqrt(np.mean((ginv(df_valid.mu_preds[msk]) - ginv(df_valid.glc_dt[msk]))**2))\n",
    "    print(\"RMSE (model): {:05.4f}\".format(res_rmse_model))\n",
    "    print(\"{:05.4f}\".format(res_rmse_model/res_rmse_locf))"
   ]
  },
  {
   "cell_type": "code",
   "execution_count": 32,
   "id": "d619ae9a",
   "metadata": {},
   "outputs": [
    {
     "name": "stdout",
     "output_type": "stream",
     "text": [
      "[295385]\n"
     ]
    },
    {
     "data": {
      "text/plain": [
       "[<matplotlib.lines.Line2D at 0x7f1536c54bd0>]"
      ]
     },
     "execution_count": 32,
     "metadata": {},
     "output_type": "execute_result"
    },
    {
     "data": {
      "image/png": "[encoded data removed]",
      "text/plain": [
       "<Figure size 432x288 with 1 Axes>"
      ]
     },
     "metadata": {
      "needs_background": "light"
     },
     "output_type": "display_data"
    }
   ],
   "source": [
    "ids = df_valid.icustay_id.unique()\n",
    "id_ = random.sample(list(ids),1)\n",
    "print(id_)\n",
    "df_i = df_valid.loc[(df_valid.icustay_id == id_[0])]\n",
    "plt.scatter(df_i.t1,df_i.glc_dt)\n",
    "plt.plot(df_i.t1[df_i.msk == 0],df_i.mu_preds[df_i.msk == 0],'-r')\n",
    "plt.plot(df_i.t1[df_i.msk == 0],df_i.mu_preds[df_i.msk == 0] + 2*df_i.s_preds[df_i.msk == 0],'--r')\n",
    "plt.plot(df_i.t1[df_i.msk == 0],df_i.mu_preds[df_i.msk == 0] - 2*df_i.s_preds[df_i.msk == 0],'--r')"
   ]
  },
  {
   "cell_type": "code",
   "execution_count": 33,
   "id": "590b0e3b",
   "metadata": {},
   "outputs": [],
   "source": [
    "msks = np.concatenate([msk[0] for msk in msks])"
   ]
  },
  {
   "cell_type": "code",
   "execution_count": 34,
   "id": "1c1c3575",
   "metadata": {},
   "outputs": [],
   "source": [
    "prob_test = scipy.stats.norm(mu_preds[~msks].reshape(-1,1), s_preds[~msks].reshape(-1,1)).cdf(y_tests[~msks])"
   ]
  },
  {
   "cell_type": "code",
   "execution_count": 35,
   "id": "d0b9682a",
   "metadata": {},
   "outputs": [
    {
     "data": {
      "text/plain": [
       "(array([3593., 4471., 6012., 7260., 7993., 8000., 7091., 5804., 4386.,\n",
       "        3488.]),\n",
       " array([1.31193948e-23, 9.99999999e-02, 2.00000000e-01, 3.00000000e-01,\n",
       "        4.00000000e-01, 5.00000000e-01, 6.00000000e-01, 7.00000000e-01,\n",
       "        7.99999999e-01, 8.99999999e-01, 9.99999999e-01]),\n",
       " <BarContainer object of 10 artists>)"
      ]
     },
     "execution_count": 35,
     "metadata": {},
     "output_type": "execute_result"
    },
    {
     "data": {
      "image/png": "[encoded data removed]",
      "text/plain": [
       "<Figure size 432x288 with 1 Axes>"
      ]
     },
     "metadata": {
      "needs_background": "light"
     },
     "output_type": "display_data"
    }
   ],
   "source": [
    "plt.hist(prob_test)"
   ]
  },
  {
   "cell_type": "code",
   "execution_count": 36,
   "id": "40d4273d",
   "metadata": {},
   "outputs": [
    {
     "name": "stdout",
     "output_type": "stream",
     "text": [
      "variance of probabilities:\n"
     ]
    },
    {
     "data": {
      "text/plain": [
       "0.06281430287357101"
      ]
     },
     "execution_count": 36,
     "metadata": {},
     "output_type": "execute_result"
    }
   ],
   "source": [
    "print(\"variance of probabilities:\")\n",
    "np.var(prob_test)"
   ]
  },
  {
   "cell_type": "code",
   "execution_count": 37,
   "id": "b47ffc0e",
   "metadata": {},
   "outputs": [
    {
     "data": {
      "text/plain": [
       "[<matplotlib.lines.Line2D at 0x7f1536d8e8d0>]"
      ]
     },
     "execution_count": 37,
     "metadata": {},
     "output_type": "execute_result"
    },
    {
     "data": {
      "image/png": "[encoded data removed]",
      "text/plain": [
       "<Figure size 432x288 with 1 Axes>"
      ]
     },
     "metadata": {
      "needs_background": "light"
     },
     "output_type": "display_data"
    }
   ],
   "source": [
    "plt.scatter(mu_preds[msks],y_tests[msks])\n",
    "xs = np.linspace(-1.5,1.5)\n",
    "plt.plot(xs,xs,'--r')"
   ]
  },
  {
   "cell_type": "code",
   "execution_count": null,
   "id": "71ab6214",
   "metadata": {},
   "outputs": [],
   "source": []
  },
  {
   "cell_type": "code",
   "execution_count": null,
   "id": "fb6d24ea",
   "metadata": {},
   "outputs": [],
   "source": []
  },
  {
   "cell_type": "code",
   "execution_count": null,
   "id": "77a70bf9",
   "metadata": {},
   "outputs": [],
   "source": []
  },
  {
   "cell_type": "code",
   "execution_count": null,
   "id": "9e3f5c0c",
   "metadata": {},
   "outputs": [],
   "source": []
  },
  {
   "cell_type": "code",
   "execution_count": null,
   "id": "9f5941be",
   "metadata": {},
   "outputs": [],
   "source": []
  },
  {
   "cell_type": "code",
   "execution_count": null,
   "id": "857aabf1",
   "metadata": {},
   "outputs": [],
   "source": []
  },
  {
   "cell_type": "code",
   "execution_count": null,
   "id": "5371e374",
   "metadata": {},
   "outputs": [],
   "source": []
  },
  {
   "cell_type": "code",
   "execution_count": 38,
   "id": "d19b3f89",
   "metadata": {},
   "outputs": [],
   "source": [
    "t = next(iter(dl_train))[3].squeeze(0).to(\"cuda\")\n",
    "x = next(iter(dl_train))[0].squeeze(0).to(\"cuda\")\n",
    "y = next(iter(dl_train))[1].squeeze(0)\n",
    "msk = next(iter(dl_train))[2].squeeze(0)\n",
    "y_ = model(t,x)"
   ]
  },
  {
   "cell_type": "code",
   "execution_count": 39,
   "id": "af8c2b38",
   "metadata": {},
   "outputs": [],
   "source": [
    "# FEATURE_VARS = [\"injection\",\"input_hrs\",\"input\",\"glc\"]"
   ]
  },
  {
   "cell_type": "code",
   "execution_count": 40,
   "id": "64abc403",
   "metadata": {},
   "outputs": [
    {
     "name": "stdout",
     "output_type": "stream",
     "text": [
      "[196.92879 178.18855]\n"
     ]
    },
    {
     "data": {
      "text/plain": [
       "array([[179.52472],\n",
       "       [171.74664]], dtype=float32)"
      ]
     },
     "execution_count": 40,
     "metadata": {},
     "output_type": "execute_result"
    }
   ],
   "source": [
    "xx = torch.tensor([[0.0000,  0.0000, 0.000, 0.3412],\n",
    "        [ 0.0000,  0.0000,  0.0000, 0.2412]], device='cuda:0')\n",
    "print(ginv(xx[:,3].cpu().numpy()))\n",
    "tt = torch.tensor([[0.0081, 1.0081],\n",
    "        [3.0081, 3.4081]], device='cuda:0')\n",
    "ys = model(tt,xx)\n",
    "ginv(ys[0].detach().cpu().numpy())"
   ]
  },
  {
   "cell_type": "code",
   "execution_count": 41,
   "id": "ed6c2180",
   "metadata": {},
   "outputs": [],
   "source": [
    "ys = model(tt,xx)"
   ]
  },
  {
   "cell_type": "code",
   "execution_count": 42,
   "id": "1ea997f4",
   "metadata": {},
   "outputs": [
    {
     "data": {
      "text/plain": [
       "array([[179.52472],\n",
       "       [171.74664]], dtype=float32)"
      ]
     },
     "execution_count": 42,
     "metadata": {},
     "output_type": "execute_result"
    }
   ],
   "source": [
    "ginv(ys[0].detach().cpu().numpy())"
   ]
  },
  {
   "cell_type": "code",
   "execution_count": 43,
   "id": "07b97ef1",
   "metadata": {},
   "outputs": [
    {
     "data": {
      "text/plain": [
       "59081"
      ]
     },
     "execution_count": 43,
     "metadata": {},
     "output_type": "execute_result"
    }
   ],
   "source": [
    "sum((df_train.injection > 0) & (df_train.input > 0))"
   ]
  },
  {
   "cell_type": "code",
   "execution_count": 44,
   "id": "12174807",
   "metadata": {},
   "outputs": [
    {
     "data": {
      "text/plain": [
       "(array([8.4720e+03, 1.6510e+04, 2.2487e+04, 1.4453e+04, 1.0515e+04,\n",
       "        8.2930e+03, 6.4170e+03, 4.9300e+03, 2.6960e+03, 7.2000e+02,\n",
       "        4.0400e+02, 1.2900e+02, 6.8000e+01, 4.7000e+01, 2.1000e+01,\n",
       "        2.0000e+01, 5.0000e+00, 8.0000e+00, 3.0000e+00, 1.0000e+00]),\n",
       " array([0.16716999, 0.19559592, 0.22402185, 0.25244778, 0.28087372,\n",
       "        0.30929965, 0.33772555, 0.36615148, 0.3945774 , 0.42300335,\n",
       "        0.45142928, 0.4798552 , 0.5082811 , 0.53670704, 0.565133  ,\n",
       "        0.5935589 , 0.62198484, 0.6504108 , 0.6788367 , 0.70726264,\n",
       "        0.73568857], dtype=float32),\n",
       " <BarContainer object of 20 artists>)"
      ]
     },
     "execution_count": 44,
     "metadata": {},
     "output_type": "execute_result"
    },
    {
     "data": {
      "image/png": "[encoded data removed]",
      "text/plain": [
       "<Figure size 432x288 with 1 Axes>"
      ]
     },
     "metadata": {
      "needs_background": "light"
     },
     "output_type": "display_data"
    }
   ],
   "source": [
    "plt.hist(s_preds[s_preds<1.0],bins=20)"
   ]
  },
  {
   "cell_type": "code",
   "execution_count": null,
   "id": "136aa0f7",
   "metadata": {},
   "outputs": [],
   "source": []
  }
 ],
 "metadata": {
  "environment": {
   "name": "pytorch-gpu.1-8.m69",
   "type": "gcloud",
   "uri": "gcr.io/deeplearning-platform-release/pytorch-gpu.1-8:m69"
  },
  "kernelspec": {
   "display_name": "Python 3",
   "language": "python",
   "name": "python3"
  },
  "language_info": {
   "codemirror_mode": {
    "name": "ipython",
    "version": 3
   },
   "file_extension": ".py",
   "mimetype": "text/x-python",
   "name": "python",
   "nbconvert_exporter": "python",
   "pygments_lexer": "ipython3",
   "version": "3.7.10"
  }
 },
 "nbformat": 4,
 "nbformat_minor": 5
}
