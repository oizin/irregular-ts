{
 "cells": [
  {
   "cell_type": "code",
   "execution_count": 1,
   "id": "515bed25",
   "metadata": {},
   "outputs": [],
   "source": [
    "import torch\n",
    "import torch.nn as nn\n",
    "import torch.optim as optim\n",
    "from torch.utils.data import Dataset,DataLoader\n",
    "\n",
    "import argparse\n",
    "import logging\n",
    "from tqdm import tqdm\n",
    "import numpy as np\n",
    "import pandas as pd\n",
    "import logging\n",
    "import os\n",
    "import math\n",
    "import copy\n",
    "import matplotlib.pyplot as plt\n",
    "import optuna\n",
    "from datetime import datetime\n",
    "import random\n",
    "from sklearn.model_selection import train_test_split\n",
    "\n",
    "from sklearn.preprocessing import MinMaxScaler\n",
    "from sklearn.preprocessing import QuantileTransformer\n",
    "import copy\n",
    "\n",
    "import scipy.stats\n"
   ]
  },
  {
   "cell_type": "code",
   "execution_count": 2,
   "id": "44bfd04a",
   "metadata": {},
   "outputs": [],
   "source": [
    "import sys\n",
    "sys.path.append('..')"
   ]
  },
  {
   "cell_type": "code",
   "execution_count": 3,
   "id": "c44a4903",
   "metadata": {},
   "outputs": [],
   "source": [
    "from src.data.data_loader import MIMICDataset,import_data\n",
    "from src.utils import setup_logger\n",
    "from src.training.training_nn import *\n",
    "from src.models.models import ODERNN,GRU\n",
    "from src.utils import seed_everything"
   ]
  },
  {
   "cell_type": "code",
   "execution_count": 4,
   "id": "07fed090",
   "metadata": {},
   "outputs": [],
   "source": [
    "def glc_transform(x):\n",
    "    x = x.copy()\n",
    "    x[x > 0] = np.log(x[x > 0]) - np.log(140)\n",
    "    return x\n",
    "\n",
    "def glc_invtransform(x):\n",
    "    x = x.copy()\n",
    "    x = np.exp(x + np.log(140))\n",
    "    return x\n",
    "\n",
    "ginv = glc_invtransform"
   ]
  },
  {
   "cell_type": "code",
   "execution_count": 5,
   "id": "5b9a7fd3",
   "metadata": {},
   "outputs": [
    {
     "name": "stdout",
     "output_type": "stream",
     "text": [
      "excluding: 234981\n",
      "excluding: 297801\n",
      "excluding: 289280\n",
      "excluding: 281374\n",
      "excluding: 221828\n",
      "excluding: 280186\n",
      "excluding: 237411\n",
      "excluding: 280745\n",
      "excluding: 226061\n",
      "excluding: 249123\n",
      "excluding: 280799\n",
      "excluding: 253567\n",
      "excluding: 265402\n",
      "excluding: 213468\n",
      "excluding: 274648\n",
      "excluding: 296828\n",
      "excluding: 251353\n",
      "excluding: 253448\n",
      "excluding: 229929\n",
      "excluding: 285794\n",
      "excluding: 228667\n",
      "excluding: 227099\n",
      "excluding: 255499\n",
      "excluding: 263747\n",
      "excluding: 262078\n",
      "excluding: 294580\n",
      "excluding: 290772\n",
      "excluding: 206288\n",
      "excluding: 284250\n",
      "excluding: 221647\n",
      "excluding: 263642\n",
      "excluding: 275903\n",
      "excluding: 248988\n",
      "excluding: 288820\n",
      "excluding: 238796\n",
      "excluding: 241858\n"
     ]
    }
   ],
   "source": [
    "# seed\n",
    "\n",
    "DATA_PATH = \"../data/analysis.csv\"\n",
    "df = import_data(DATA_PATH)\n",
    "df.glc = glc_transform(df.glc)\n",
    "df.glc_1 = glc_transform(df.glc_1)\n",
    "df['t0'] = df.timer_hr\n",
    "df['t1'] = df.timer_hr + df.dt\n",
    "df['glc'] = df.groupby('icustay_id').glc.fillna(method='ffill')\n",
    "df = df.loc[~df.glc.isnull()]\n",
    "\n",
    "# df['input'] = df['input']/50\n",
    "# df['input_hrs'] = df['input_hrs']/30\n",
    "\n",
    "qt = QuantileTransformer(n_quantiles=10, random_state=0)\n",
    "df['input'] = qt.fit_transform(df['input'].to_numpy().reshape(-1, 1))\n",
    "qt = QuantileTransformer(n_quantiles=10, random_state=0)\n",
    "df['input_hrs'] = qt.fit_transform(df['input_hrs'].to_numpy().reshape(-1, 1))\n",
    "\n",
    "sample_ids = df.icustay_id.unique()[0:5000]\n",
    "\n",
    "train_ids, test_ids = train_test_split(sample_ids,test_size=0.25)\n",
    "\n",
    "train_ids, test_ids = train_test_split(df.icustay_id.unique(),test_size=0.25)\n",
    "\n",
    "df_train = df.loc[df.icustay_id.isin(train_ids)]\n",
    "df_valid = df.loc[df.icustay_id.isin(test_ids)]\n"
   ]
  },
  {
   "cell_type": "code",
   "execution_count": 6,
   "id": "213d6e6d",
   "metadata": {},
   "outputs": [],
   "source": [
    "FEATURE_VARS = [\"injection\",\"input_hrs\",\"input\",\"glc\"]\n",
    "TIME_VARS = [\"t0\",\"t1\"]\n",
    "\n",
    "class MIMICDataset(Dataset):\n",
    "    \"\"\"\n",
    "    Args:\n",
    "        patientunitstayids: \n",
    "        df:\n",
    "        ...\n",
    "    \n",
    "    Example:\n",
    "    \"\"\"\n",
    "    def __init__(self,df,verbose=True):\n",
    "        self.X,self.y,self.msk,self.dt = self.load_data(df,verbose=verbose)\n",
    "        \n",
    "    def __len__(self):\n",
    "        return len(self.y)\n",
    "    \n",
    "    def __getitem__(self, idx):\n",
    "        return self.X[idx],self.y[idx],self.msk[idx],self.dt[idx]\n",
    "    \n",
    "    def load_data(self,df,verbose):\n",
    "        X_list, y_list, msk_list, dt_list = [], [], [], []\n",
    "        ids = df.icustay_id.unique()\n",
    "        if verbose:\n",
    "            print(\"reconfiguring data...\")\n",
    "        for id_ in ids:\n",
    "            df_id = df.loc[df.icustay_id == id_,:]\n",
    "            if (sum(df_id.msk) == df_id.shape[0]):\n",
    "                print(\"excluding:\",id_)\n",
    "                continue\n",
    "            X = df_id.loc[:,FEATURE_VARS]\n",
    "            y = df_id.loc[:,\"glc_1\"]\n",
    "            msk = df_id.loc[:,\"msk\"]\n",
    "            dt = df_id.loc[:,TIME_VARS]\n",
    "            X = np.array(X).astype(np.float32)\n",
    "            y = np.array(y).astype(np.float32)\n",
    "            msk = np.array(msk).astype(np.int32)\n",
    "            dt = np.array(dt).astype(np.float32)\n",
    "            X_list.append(X)\n",
    "            y_list.append(y)\n",
    "            msk_list.append(msk)\n",
    "            dt_list.append(dt)\n",
    "        return X_list,y_list,msk_list,dt_list"
   ]
  },
  {
   "cell_type": "code",
   "execution_count": 7,
   "id": "604336fa",
   "metadata": {},
   "outputs": [
    {
     "name": "stdout",
     "output_type": "stream",
     "text": [
      "reconfiguring data...\n",
      "excluding: 258717\n",
      "reconfiguring data...\n",
      "excluding: 241162\n"
     ]
    }
   ],
   "source": [
    "dl_train = DataLoader(MIMICDataset(df_train),batch_size=1)\n",
    "dl_valid = DataLoader(MIMICDataset(df_valid),batch_size=1)\n",
    "dataloaders = {'train':dl_train,'validation':dl_valid}"
   ]
  },
  {
   "cell_type": "code",
   "execution_count": 8,
   "id": "e200ef07",
   "metadata": {},
   "outputs": [],
   "source": [
    "import torch \n",
    "import torch.nn as nn\n",
    "import torch.nn.functional as F\n",
    "#from torchdiffeq import odeint_adjoint as odeint\n",
    "from torchdiffeq import odeint\n",
    "\n",
    "import math\n",
    "\n",
    "# Base ----------------------------------------------------------------------------\n",
    "\n",
    "import torch.nn.functional as F\n",
    "\n",
    "class Baseline(nn.Module):\n",
    "    def __init__(self, input_dim, hidden_dim, p, output_dim, device):\n",
    "        super(Baseline, self).__init__()\n",
    "        \n",
    "        self.input_dim = input_dim\n",
    "        self.hidden_dim = hidden_dim\n",
    "        self.output_dim = output_dim\n",
    "        self.p = p\n",
    "        self.device = device\n",
    "        \n",
    "    def train_single_epoch(self,dataloader,optim):\n",
    "        loss = 0.0\n",
    "        for i, (x, y, msk, dt) in enumerate(dataloader):\n",
    "            x = x.to(self.device)\n",
    "            y = y.view(-1,1).to(self.device)\n",
    "            dt = dt.to(self.device)\n",
    "            msk = msk.bool().to(self.device)\n",
    "            optim.zero_grad()\n",
    "            preds = self.forward(dt,x)\n",
    "            loss_step = self.loss_fn(preds,y,~msk.squeeze(0))\n",
    "            loss_step.backward()\n",
    "            #torch.nn.utils.clip_grad_norm_(self.parameters(), 10.0)\n",
    "            optim.step()\n",
    "            loss += loss_step.item()\n",
    "            if i % 1e3 == 0:\n",
    "                print(\"BATCH_loss : {:05.3f}\".format(loss_step.item()))\n",
    "        loss /= (i + 1)\n",
    "        print(\"EPOCH_loss : {:05.3f}\".format(loss))\n",
    "        \n",
    "        return loss\n",
    "        \n",
    "    def evaluate(self,dataloader,p=0.0):\n",
    "        rmse, loss = 0., 0.\n",
    "        N = 0\n",
    "        y_preds = []\n",
    "        y_tests = []\n",
    "        msks = []\n",
    "        #dts = []\n",
    "        with tqdm(total=len(dataloader)) as t:\n",
    "            for i, (x, y, msk, dt) in enumerate(dataloader):\n",
    "                N += sum((msk == 0).squeeze(0)).item()\n",
    "                x = x.to(self.device)\n",
    "                y = y.view(-1,1).to(self.device)\n",
    "                dt = dt.to(self.device)\n",
    "                # model prediction\n",
    "                y_ = self.forward(dt,x)\n",
    "                y_preds.append([yc.detach().cpu().numpy() for yc in y_]) \n",
    "                y_tests.append(y.cpu().numpy())\n",
    "                msk = msk.bool().to(self.device)\n",
    "                rmse += self.get_sse(y_,y,~msk.squeeze(0)).item()\n",
    "                loss += self.loss_fn(y_,y,~msk.squeeze(0)).item()\n",
    "                msks.append(msk.cpu().numpy())\n",
    "                t.update()\n",
    "        rmse /= N\n",
    "        loss /= (i + 1)\n",
    "        rmse = math.sqrt(rmse)\n",
    "        print(\"_rmse : {:05.3f}\".format(rmse))\n",
    "        print(\"_loss : {:05.3f}\".format(loss))\n",
    "        return loss,rmse, y_preds, y_tests, msks\n",
    "\n",
    "    def get_sse(self,y_,y,msk):\n",
    "        \"\"\"\n",
    "        SSE: sum of squared errors\n",
    "        \"\"\"\n",
    "        if type(y_) == tuple:\n",
    "            y_ = y_[0]\n",
    "        c = torch.log(torch.tensor(140.0))\n",
    "        rmse = torch.sum((torch.exp(y_[msk] + c) - torch.exp(y[msk] + c))**2)\n",
    "        return rmse"
   ]
  },
  {
   "cell_type": "code",
   "execution_count": 9,
   "id": "8382f8d6",
   "metadata": {},
   "outputs": [],
   "source": [
    "def euler(func,y0,x,t,h):\n",
    "    if (t[1]-t[0]) == 0:\n",
    "        return y0\n",
    "    else :\n",
    "        tsteps = torch.linspace(t[0],t[1],int(2+(t[1]-t[0]) // h))\n",
    "        hs = torch.diff(tsteps)\n",
    "        y = copy.deepcopy(y0)\n",
    "        for h in hs:\n",
    "            y += h*func(y,x)\n",
    "        return y "
   ]
  },
  {
   "cell_type": "code",
   "execution_count": 10,
   "id": "f1d86a66",
   "metadata": {},
   "outputs": [],
   "source": [
    "class ODEFunc(nn.Module):\n",
    "    \"\"\"\n",
    "    dglucose/dt = NN(glucose,insulin)\n",
    "    \"\"\"\n",
    "    def __init__(self,input_dim):\n",
    "        super(ODEFunc, self).__init__()\n",
    "\n",
    "        self.net = nn.Sequential(\n",
    "            nn.Linear(input_dim, 50),\n",
    "            nn.ReLU(),\n",
    "            nn.Linear(50, 1),\n",
    "        )\n",
    "\n",
    "        for m in self.net.modules():\n",
    "            if isinstance(m, nn.Linear):\n",
    "                nn.init.normal_(m.weight, mean=0, std=0.1)\n",
    "                nn.init.constant_(m.bias, val=0)\n",
    "\n",
    "    def forward(self, y, x):\n",
    "        yx = torch.cat((y,x),1)\n",
    "        return self.net(yx)\n",
    "    \n",
    "class ODE(Baseline):\n",
    "\n",
    "    def __init__(self, input_dim, hidden_dim, p, output_dim, device):\n",
    "        Baseline.__init__(self,input_dim, hidden_dim, p, output_dim, device)\n",
    "        self.device = device\n",
    "        self.func = ODEFunc(input_dim).to(device)\n",
    "        self.sigma = nn.Sequential(\n",
    "            nn.Linear(input_dim+hidden_dim, 10),\n",
    "            nn.ReLU(),\n",
    "            nn.Linear(10, 1),\n",
    "            nn.Softplus()\n",
    "        )\n",
    "        \n",
    "    def forward(self, dt, x):\n",
    "        \n",
    "        # encode - 'identity' encoder\n",
    "        x = x.squeeze(0)\n",
    "        dt = dt.squeeze(0)\n",
    "        T = x.size(0)\n",
    "        \n",
    "        # ODE\n",
    "        mu_out = torch.zeros(T,1,device = self.device)\n",
    "        for i in range(0,T):\n",
    "            y0 = x[i][3].unsqueeze(0).unsqueeze(0)\n",
    "            x_i = x[i][:3].unsqueeze(0)\n",
    "            mu_out[i] = euler(self.func,y0,x_i,dt[i],h=1.0)\n",
    "            \n",
    "        # decode \n",
    "        sigma_input = torch.cat((x.unsqueeze(0),mu_out.unsqueeze(0)),2).to(self.device)\n",
    "        sigma_out = self.sigma(sigma_input)[0,:,:]\n",
    "        \n",
    "        return (mu_out,sigma_out)\n",
    "    \n",
    "    def loss_fn(self,mu_s_,y,msk):\n",
    "        y_, s_ = mu_s_\n",
    "        distribution = torch.distributions.normal.Normal(y_[msk], s_[msk])\n",
    "        likelihood = distribution.log_prob(y[msk])\n",
    "        return -torch.mean(likelihood)\n"
   ]
  },
  {
   "cell_type": "code",
   "execution_count": 11,
   "id": "bb166dbc",
   "metadata": {},
   "outputs": [],
   "source": [
    "model = ODE(4, 1, 0.5, 1, \"cuda\").to(\"cuda\")"
   ]
  },
  {
   "cell_type": "code",
   "execution_count": 39,
   "id": "a2df276e",
   "metadata": {},
   "outputs": [
    {
     "name": "stdout",
     "output_type": "stream",
     "text": [
      "2\n",
      "torch.Size([98, 1])\n"
     ]
    }
   ],
   "source": [
    "t = next(iter(dl_train))[3].squeeze(0).to(\"cuda\")\n",
    "x = next(iter(dl_train))[0].squeeze(0).to(\"cuda\")\n",
    "y = next(iter(dl_train))[1].squeeze(0)\n",
    "msk = next(iter(dl_train))[2].squeeze(0)\n",
    "y_ = model(t,x)\n",
    "print(len(y_))\n",
    "model(t[:1].unsqueeze(0),x[:1].unsqueeze(0))\n",
    "print(y_[1].shape)\n",
    "# model(t[0],x[0]) # doesn't work but that's okay"
   ]
  },
  {
   "cell_type": "code",
   "execution_count": 13,
   "id": "aae15b8e",
   "metadata": {},
   "outputs": [
    {
     "data": {
      "text/plain": [
       "(tensor([[0.6769],\n",
       "         [0.1087],\n",
       "         [0.4191]], device='cuda:0', grad_fn=<CopySlices>),\n",
       " tensor([[0.7933],\n",
       "         [0.7892],\n",
       "         [0.7944]], device='cuda:0', grad_fn=<SliceBackward>))"
      ]
     },
     "execution_count": 13,
     "metadata": {},
     "output_type": "execute_result"
    }
   ],
   "source": [
    "model(t[:3],x[:3])"
   ]
  },
  {
   "cell_type": "code",
   "execution_count": 14,
   "id": "b7253251",
   "metadata": {},
   "outputs": [],
   "source": [
    "model_optim = optim.RMSprop(model.parameters(), lr=1e-3)"
   ]
  },
  {
   "cell_type": "code",
   "execution_count": 15,
   "id": "466beb0c",
   "metadata": {},
   "outputs": [
    {
     "name": "stdout",
     "output_type": "stream",
     "text": [
      "BATCH_loss : 0.760\n",
      "BATCH_loss : 0.161\n",
      "BATCH_loss : 0.019\n",
      "BATCH_loss : -0.194\n",
      "BATCH_loss : -0.265\n",
      "BATCH_loss : -0.598\n",
      "BATCH_loss : 0.585\n",
      "BATCH_loss : -0.387\n",
      "BATCH_loss : -0.053\n",
      "BATCH_loss : -0.472\n",
      "EPOCH_loss : 0.002\n"
     ]
    },
    {
     "data": {
      "text/plain": [
       "0.0017761398511894357"
      ]
     },
     "execution_count": 15,
     "metadata": {},
     "output_type": "execute_result"
    }
   ],
   "source": [
    "model.train_single_epoch(dl_train,model_optim)\n",
    "model.train_single_epoch(dl_train,model_optim)\n",
    "model.train_single_epoch(dl_train,model_optim)\n",
    "model.train_single_epoch(dl_train,model_optim)\n",
    "model.train_single_epoch(dl_train,model_optim)"
   ]
  },
  {
   "cell_type": "code",
   "execution_count": 51,
   "id": "a08207d7",
   "metadata": {},
   "outputs": [
    {
     "name": "stderr",
     "output_type": "stream",
     "text": [
      "100%|██████████| 3011/3011 [02:05<00:00, 24.08it/s]"
     ]
    },
    {
     "name": "stdout",
     "output_type": "stream",
     "text": [
      "_rmse : 39.236\n",
      "_loss : -0.008\n"
     ]
    },
    {
     "name": "stderr",
     "output_type": "stream",
     "text": [
      "\n"
     ]
    }
   ],
   "source": [
    "loss,rmse, y_preds, y_tests, msks = model.evaluate(dl_valid)"
   ]
  },
  {
   "cell_type": "code",
   "execution_count": 17,
   "id": "0b71ecfd",
   "metadata": {},
   "outputs": [
    {
     "data": {
      "text/plain": [
       "39.23648686540101"
      ]
     },
     "execution_count": 17,
     "metadata": {},
     "output_type": "execute_result"
    }
   ],
   "source": [
    "rmse"
   ]
  },
  {
   "cell_type": "code",
   "execution_count": 18,
   "id": "e4eb88e5",
   "metadata": {},
   "outputs": [
    {
     "name": "stdout",
     "output_type": "stream",
     "text": [
      "RMSE (locf): 41.8159\n"
     ]
    },
    {
     "name": "stderr",
     "output_type": "stream",
     "text": [
      "/opt/conda/lib/python3.7/site-packages/ipykernel_launcher.py:1: SettingWithCopyWarning: \n",
      "A value is trying to be set on a copy of a slice from a DataFrame.\n",
      "Try using .loc[row_indexer,col_indexer] = value instead\n",
      "\n",
      "See the caveats in the documentation: https://pandas.pydata.org/pandas-docs/stable/user_guide/indexing.html#returning-a-view-versus-a-copy\n",
      "  \"\"\"Entry point for launching an IPython kernel.\n",
      "/opt/conda/lib/python3.7/site-packages/pandas/core/indexing.py:1720: SettingWithCopyWarning: \n",
      "A value is trying to be set on a copy of a slice from a DataFrame.\n",
      "Try using .loc[row_indexer,col_indexer] = value instead\n",
      "\n",
      "See the caveats in the documentation: https://pandas.pydata.org/pandas-docs/stable/user_guide/indexing.html#returning-a-view-versus-a-copy\n",
      "  self._setitem_single_column(loc, value, pi)\n",
      "/opt/conda/lib/python3.7/site-packages/ipykernel_launcher.py:3: SettingWithCopyWarning: \n",
      "A value is trying to be set on a copy of a slice from a DataFrame.\n",
      "Try using .loc[row_indexer,col_indexer] = value instead\n",
      "\n",
      "See the caveats in the documentation: https://pandas.pydata.org/pandas-docs/stable/user_guide/indexing.html#returning-a-view-versus-a-copy\n",
      "  This is separate from the ipykernel package so we can avoid doing imports until\n"
     ]
    }
   ],
   "source": [
    "df_valid[\"glc_1_locf\"] = df_valid.glc\n",
    "df_valid.loc[df_valid.glc_1_locf == 0,'glc_1_locf'] = np.NaN\n",
    "df_valid[\"glc_1_locf\"] = df_valid.groupby('icustay_id')[\"glc_1_locf\"].ffill()\n",
    "res_rmse_locf = math.sqrt(np.mean((ginv(df_valid.glc_1_locf[df_valid.msk==0]) - ginv(df_valid.glc_1[df_valid.msk==0]))**2))\n",
    "print(\"RMSE (locf): {:05.4f}\".format(res_rmse_locf))"
   ]
  },
  {
   "cell_type": "code",
   "execution_count": 19,
   "id": "27889530",
   "metadata": {},
   "outputs": [
    {
     "data": {
      "text/plain": [
       "0.9383141250776871"
      ]
     },
     "execution_count": 19,
     "metadata": {},
     "output_type": "execute_result"
    }
   ],
   "source": [
    "rmse / res_rmse_locf"
   ]
  },
  {
   "cell_type": "code",
   "execution_count": 52,
   "id": "e86d9dec",
   "metadata": {},
   "outputs": [],
   "source": [
    "mu_preds = [y[0] for y in y_preds]\n",
    "s_preds = [y[1] for y in y_preds]"
   ]
  },
  {
   "cell_type": "code",
   "execution_count": 53,
   "id": "d799b55a",
   "metadata": {},
   "outputs": [],
   "source": [
    "mu_preds = np.concatenate(mu_preds)\n",
    "y_tests = np.concatenate(y_tests)"
   ]
  },
  {
   "cell_type": "code",
   "execution_count": 54,
   "id": "2a5d2102",
   "metadata": {},
   "outputs": [],
   "source": [
    "s_preds = np.concatenate(s_preds)"
   ]
  },
  {
   "cell_type": "code",
   "execution_count": 55,
   "id": "f24bc919",
   "metadata": {},
   "outputs": [],
   "source": [
    "msks = np.concatenate([msk[0] for msk in msks])"
   ]
  },
  {
   "cell_type": "code",
   "execution_count": 60,
   "id": "6c7925ef",
   "metadata": {},
   "outputs": [
    {
     "data": {
      "text/plain": [
       "141514"
      ]
     },
     "execution_count": 60,
     "metadata": {},
     "output_type": "execute_result"
    }
   ],
   "source": [
    "len(y_tests)"
   ]
  },
  {
   "cell_type": "code",
   "execution_count": 78,
   "id": "c2d93a9a",
   "metadata": {},
   "outputs": [],
   "source": [
    "prob_test = scipy.stats.norm(mu_preds[~msks].reshape(-1,1), s_preds[~msks].reshape(-1,1)).cdf(y_tests[~msks])"
   ]
  },
  {
   "cell_type": "code",
   "execution_count": 79,
   "id": "222d9666",
   "metadata": {},
   "outputs": [
    {
     "data": {
      "text/plain": [
       "(array([ 5645.,  7884., 10974., 14172., 18599., 15847., 10582.,  7840.,\n",
       "         5780.,  4467.]),\n",
       " array([5.57176458e-19, 1.00000000e-01, 2.00000000e-01, 3.00000000e-01,\n",
       "        4.00000000e-01, 5.00000000e-01, 6.00000000e-01, 7.00000000e-01,\n",
       "        8.00000000e-01, 9.00000000e-01, 1.00000000e+00]),\n",
       " <BarContainer object of 10 artists>)"
      ]
     },
     "execution_count": 79,
     "metadata": {},
     "output_type": "execute_result"
    },
    {
     "data": {
      "image/png": "[encoded data removed]",
      "text/plain": [
       "<Figure size 432x288 with 1 Axes>"
      ]
     },
     "metadata": {
      "needs_background": "light"
     },
     "output_type": "display_data"
    }
   ],
   "source": [
    "plt.hist(prob_test)"
   ]
  },
  {
   "cell_type": "code",
   "execution_count": 80,
   "id": "8eff0d0e",
   "metadata": {},
   "outputs": [
    {
     "data": {
      "text/plain": [
       "0.05396115557151737"
      ]
     },
     "execution_count": 80,
     "metadata": {},
     "output_type": "execute_result"
    }
   ],
   "source": [
    "np.var(prob_test)"
   ]
  },
  {
   "cell_type": "code",
   "execution_count": null,
   "id": "d8be6da0",
   "metadata": {},
   "outputs": [],
   "source": []
  },
  {
   "cell_type": "code",
   "execution_count": 81,
   "id": "2fbcdc18",
   "metadata": {},
   "outputs": [
    {
     "data": {
      "text/plain": [
       "[<matplotlib.lines.Line2D at 0x7f56ce77a4d0>]"
      ]
     },
     "execution_count": 81,
     "metadata": {},
     "output_type": "execute_result"
    },
    {
     "data": {
      "image/png": "[encoded data removed]",
      "text/plain": [
       "<Figure size 432x288 with 1 Axes>"
      ]
     },
     "metadata": {
      "needs_background": "light"
     },
     "output_type": "display_data"
    }
   ],
   "source": [
    "plt.scatter(mu_preds[msks],y_tests[msks])\n",
    "xs = np.linspace(-1.5,1.5)\n",
    "plt.plot(xs,xs,'--r')"
   ]
  },
  {
   "cell_type": "code",
   "execution_count": 82,
   "id": "de24c7e1",
   "metadata": {},
   "outputs": [
    {
     "data": {
      "text/plain": [
       "array([[-0.15006368],\n",
       "       [-0.05333729],\n",
       "       [-0.19815966],\n",
       "       ...,\n",
       "       [-0.17297353],\n",
       "       [-0.37285155],\n",
       "       [-0.29027912]], dtype=float32)"
      ]
     },
     "execution_count": 82,
     "metadata": {},
     "output_type": "execute_result"
    }
   ],
   "source": [
    "mu_preds"
   ]
  },
  {
   "cell_type": "code",
   "execution_count": 83,
   "id": "1bc1d72f",
   "metadata": {},
   "outputs": [],
   "source": [
    "t = next(iter(dl_train))[3].squeeze(0).to(\"cuda\")\n",
    "x = next(iter(dl_train))[0].squeeze(0).to(\"cuda\")\n",
    "y = next(iter(dl_train))[1].squeeze(0)\n",
    "msk = next(iter(dl_train))[2].squeeze(0)\n",
    "y_ = model(t,x)"
   ]
  },
  {
   "cell_type": "code",
   "execution_count": 84,
   "id": "d8c03104",
   "metadata": {},
   "outputs": [],
   "source": [
    "# FEATURE_VARS = [\"injection\",\"input_hrs\",\"input\",\"glc\"]"
   ]
  },
  {
   "cell_type": "code",
   "execution_count": 41,
   "id": "6a399613",
   "metadata": {},
   "outputs": [
    {
     "name": "stdout",
     "output_type": "stream",
     "text": [
      "[178.18855 178.18855]\n"
     ]
    },
    {
     "data": {
      "text/plain": [
       "array([[168.32649],\n",
       "       [176.66199]], dtype=float32)"
      ]
     },
     "execution_count": 41,
     "metadata": {},
     "output_type": "execute_result"
    }
   ],
   "source": [
    "xx = torch.tensor([[0.0000,  0.0000, 0.000, 0.2412],\n",
    "        [ 0.0000,  0.0000,  0.0000, 0.2412]], device='cuda:0')\n",
    "print(ginv(xx[:,3].cpu().numpy()))\n",
    "tt = torch.tensor([[0.0081, 3.0081],\n",
    "        [3.0081, 3.4081]], device='cuda:0')\n",
    "ys = model(tt,xx)\n",
    "ginv(ys[0].detach().cpu().numpy())"
   ]
  },
  {
   "cell_type": "code",
   "execution_count": null,
   "id": "21d397db",
   "metadata": {},
   "outputs": [],
   "source": [
    "ys = model(tt,xx)"
   ]
  },
  {
   "cell_type": "code",
   "execution_count": null,
   "id": "94f49610",
   "metadata": {},
   "outputs": [],
   "source": [
    "ginv(ys[0].detach().cpu().numpy())"
   ]
  },
  {
   "cell_type": "code",
   "execution_count": 92,
   "id": "c9a04ed9",
   "metadata": {},
   "outputs": [
    {
     "data": {
      "text/plain": [
       "61177"
      ]
     },
     "execution_count": 92,
     "metadata": {},
     "output_type": "execute_result"
    }
   ],
   "source": [
    "sum((df_train.injection > 0) & (df_train.input > 0))"
   ]
  },
  {
   "cell_type": "code",
   "execution_count": 44,
   "id": "69de720f",
   "metadata": {},
   "outputs": [
    {
     "data": {
      "text/plain": [
       "(array([5.3834e+04, 5.4721e+04, 2.0918e+04, 1.3612e+04, 5.3930e+03,\n",
       "        1.6530e+03, 5.6000e+02, 2.0500e+02, 1.5200e+02, 9.7000e+01,\n",
       "        8.0000e+01, 5.1000e+01, 4.3000e+01, 2.4000e+01, 2.9000e+01,\n",
       "        2.3000e+01, 1.5000e+01, 1.8000e+01, 1.4000e+01, 1.8000e+01]),\n",
       " array([0.15608256, 0.19776084, 0.23943913, 0.2811174 , 0.3227957 ,\n",
       "        0.36447397, 0.40615225, 0.44783053, 0.4895088 , 0.5311871 ,\n",
       "        0.57286537, 0.6145437 , 0.656222  , 0.69790024, 0.73957855,\n",
       "        0.7812568 , 0.8229351 , 0.86461335, 0.90629166, 0.9479699 ,\n",
       "        0.9896482 ], dtype=float32),\n",
       " <BarContainer object of 20 artists>)"
      ]
     },
     "execution_count": 44,
     "metadata": {},
     "output_type": "execute_result"
    },
    {
     "data": {
      "image/png": "[encoded data removed]",
      "text/plain": [
       "<Figure size 432x288 with 1 Axes>"
      ]
     },
     "metadata": {
      "needs_background": "light"
     },
     "output_type": "display_data"
    }
   ],
   "source": [
    "plt.hist(s_preds[s_preds<1.0],bins=20)"
   ]
  },
  {
   "cell_type": "code",
   "execution_count": null,
   "id": "ea49e1e8",
   "metadata": {},
   "outputs": [],
   "source": []
  }
 ],
 "metadata": {
  "environment": {
   "name": "pytorch-gpu.1-8.m69",
   "type": "gcloud",
   "uri": "gcr.io/deeplearning-platform-release/pytorch-gpu.1-8:m69"
  },
  "kernelspec": {
   "display_name": "Python 3",
   "language": "python",
   "name": "python3"
  },
  "language_info": {
   "codemirror_mode": {
    "name": "ipython",
    "version": 3
   },
   "file_extension": ".py",
   "mimetype": "text/x-python",
   "name": "python",
   "nbconvert_exporter": "python",
   "pygments_lexer": "ipython3",
   "version": "3.7.10"
  }
 },
 "nbformat": 4,
 "nbformat_minor": 5
}
