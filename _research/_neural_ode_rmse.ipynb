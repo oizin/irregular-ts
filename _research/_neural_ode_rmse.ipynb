{
 "cells": [
  {
   "cell_type": "code",
   "execution_count": 1,
   "id": "01a3117f",
   "metadata": {},
   "outputs": [],
   "source": [
    "import torch\n",
    "import torch.nn as nn\n",
    "import torch.optim as optim\n",
    "from torch.utils.data import Dataset,DataLoader\n",
    "\n",
    "import argparse\n",
    "import logging\n",
    "from tqdm import tqdm\n",
    "import numpy as np\n",
    "import pandas as pd\n",
    "import logging\n",
    "import os\n",
    "import math\n",
    "import copy\n",
    "import matplotlib.pyplot as plt\n",
    "import optuna\n",
    "from datetime import datetime\n",
    "import random\n",
    "from sklearn.model_selection import train_test_split\n",
    "\n",
    "import copy\n",
    "from sklearn.preprocessing import MinMaxScaler\n",
    "from sklearn.preprocessing import QuantileTransformer"
   ]
  },
  {
   "cell_type": "code",
   "execution_count": 2,
   "id": "223961a8",
   "metadata": {},
   "outputs": [],
   "source": [
    "import sys\n",
    "sys.path.append('..')"
   ]
  },
  {
   "cell_type": "code",
   "execution_count": 3,
   "id": "510e5095",
   "metadata": {},
   "outputs": [],
   "source": [
    "from src.data.data_loader import MIMICDataset,import_data\n",
    "from src.utils import setup_logger\n",
    "from src.training.training_nn import *\n",
    "from src.models.models import ODERNN,GRU\n",
    "from src.utils import seed_everything"
   ]
  },
  {
   "cell_type": "code",
   "execution_count": 4,
   "id": "8c443a87",
   "metadata": {},
   "outputs": [],
   "source": [
    "def seed_everything(seed=1234):\n",
    "    \"\"\"\n",
    "    Ensure reproducible results\n",
    "    \n",
    "    Args\n",
    "        seed: random seed (an integer)\n",
    "    \"\"\"\n",
    "    random.seed(seed)\n",
    "    os.environ['PYTHONHASHSEED'] = str(seed)\n",
    "    np.random.seed(seed)\n",
    "    torch.manual_seed(seed)\n",
    "    torch.cuda.manual_seed(seed)\n",
    "    torch.backends.cudnn.deterministic = True\n",
    "\n",
    "seed_everything()    "
   ]
  },
  {
   "cell_type": "code",
   "execution_count": 5,
   "id": "e2b20d44",
   "metadata": {},
   "outputs": [],
   "source": [
    "def glc_transform(x):\n",
    "    x = x.copy()\n",
    "    x[x > 0] = np.log(x[x > 0]) - np.log(140)\n",
    "    return x\n",
    "\n",
    "def glc_invtransform(x):\n",
    "    x = x.copy()\n",
    "    x = np.exp(x + np.log(140))\n",
    "    return x\n",
    "\n",
    "ginv = glc_invtransform"
   ]
  },
  {
   "cell_type": "code",
   "execution_count": 6,
   "id": "989771ab",
   "metadata": {},
   "outputs": [
    {
     "name": "stdout",
     "output_type": "stream",
     "text": [
      "excluding: 200024\n",
      "excluding: 200586\n",
      "excluding: 201104\n",
      "excluding: 201173\n",
      "excluding: 201605\n",
      "excluding: 203383\n",
      "excluding: 205463\n",
      "excluding: 205830\n",
      "excluding: 206288\n",
      "excluding: 206986\n",
      "excluding: 208691\n",
      "excluding: 208937\n",
      "excluding: 212690\n",
      "excluding: 212925\n",
      "excluding: 214617\n",
      "excluding: 215027\n",
      "excluding: 215250\n",
      "excluding: 216192\n",
      "excluding: 216504\n",
      "excluding: 216867\n",
      "excluding: 217645\n",
      "excluding: 218713\n",
      "excluding: 218874\n",
      "excluding: 219153\n",
      "excluding: 219305\n",
      "excluding: 220024\n",
      "excluding: 220671\n",
      "excluding: 220704\n",
      "excluding: 221494\n",
      "excluding: 221514\n",
      "excluding: 221574\n",
      "excluding: 221812\n",
      "excluding: 222096\n",
      "excluding: 223717\n",
      "excluding: 224428\n",
      "excluding: 226283\n",
      "excluding: 227040\n",
      "excluding: 227991\n",
      "excluding: 228262\n",
      "excluding: 229133\n",
      "excluding: 229142\n",
      "excluding: 229929\n",
      "excluding: 230012\n",
      "excluding: 230384\n",
      "excluding: 231775\n",
      "excluding: 232042\n",
      "excluding: 232582\n",
      "excluding: 233553\n",
      "excluding: 234981\n",
      "excluding: 235824\n",
      "excluding: 236999\n",
      "excluding: 237956\n",
      "excluding: 238662\n",
      "excluding: 240029\n",
      "excluding: 240043\n",
      "excluding: 241162\n",
      "excluding: 241858\n",
      "excluding: 245283\n",
      "excluding: 245481\n",
      "excluding: 245797\n",
      "excluding: 246509\n",
      "excluding: 247191\n",
      "excluding: 247831\n",
      "excluding: 249809\n",
      "excluding: 250329\n",
      "excluding: 251008\n",
      "excluding: 252314\n",
      "excluding: 252591\n",
      "excluding: 253402\n",
      "excluding: 254345\n",
      "excluding: 255499\n",
      "excluding: 257353\n",
      "excluding: 258717\n",
      "excluding: 259024\n",
      "excluding: 259870\n",
      "excluding: 260932\n",
      "excluding: 261264\n",
      "excluding: 262078\n",
      "excluding: 262940\n",
      "excluding: 263133\n",
      "excluding: 263642\n",
      "excluding: 264048\n",
      "excluding: 264655\n",
      "excluding: 264914\n",
      "excluding: 265069\n",
      "excluding: 266377\n",
      "excluding: 267367\n",
      "excluding: 269649\n",
      "excluding: 271127\n",
      "excluding: 272414\n",
      "excluding: 272903\n",
      "excluding: 273102\n",
      "excluding: 275175\n",
      "excluding: 275192\n",
      "excluding: 277137\n",
      "excluding: 277327\n",
      "excluding: 277477\n",
      "excluding: 277949\n",
      "excluding: 278500\n",
      "excluding: 278855\n",
      "excluding: 279337\n",
      "excluding: 279937\n",
      "excluding: 280799\n",
      "excluding: 282423\n",
      "excluding: 282997\n",
      "excluding: 284250\n",
      "excluding: 285213\n",
      "excluding: 285482\n",
      "excluding: 285794\n",
      "excluding: 285846\n",
      "excluding: 286788\n",
      "excluding: 287616\n",
      "excluding: 289705\n",
      "excluding: 290296\n",
      "excluding: 291068\n",
      "excluding: 291475\n",
      "excluding: 291578\n",
      "excluding: 292296\n",
      "excluding: 293368\n",
      "excluding: 293622\n",
      "excluding: 294099\n",
      "excluding: 294641\n",
      "excluding: 295338\n",
      "excluding: 295834\n",
      "excluding: 296104\n",
      "excluding: 297313\n",
      "excluding: 297801\n",
      "excluding: 297962\n",
      "excluding: 298516\n",
      "excluding: 298724\n"
     ]
    },
    {
     "ename": "AttributeError",
     "evalue": "'DataFrame' object has no attribute 'glc_1'",
     "output_type": "error",
     "traceback": [
      "\u001b[0;31m---------------------------------------------------------------------------\u001b[0m",
      "\u001b[0;31mAttributeError\u001b[0m                            Traceback (most recent call last)",
      "\u001b[0;32m<ipython-input-6-c1dc66d1116d>\u001b[0m in \u001b[0;36m<module>\u001b[0;34m()\u001b[0m\n\u001b[1;32m      4\u001b[0m \u001b[0mdf\u001b[0m \u001b[0;34m=\u001b[0m \u001b[0mimport_data\u001b[0m\u001b[0;34m(\u001b[0m\u001b[0mDATA_PATH\u001b[0m\u001b[0;34m)\u001b[0m\u001b[0;34m\u001b[0m\u001b[0;34m\u001b[0m\u001b[0m\n\u001b[1;32m      5\u001b[0m \u001b[0mdf\u001b[0m\u001b[0;34m.\u001b[0m\u001b[0mglc\u001b[0m \u001b[0;34m=\u001b[0m \u001b[0mglc_transform\u001b[0m\u001b[0;34m(\u001b[0m\u001b[0mdf\u001b[0m\u001b[0;34m.\u001b[0m\u001b[0mglc\u001b[0m\u001b[0;34m)\u001b[0m\u001b[0;34m\u001b[0m\u001b[0;34m\u001b[0m\u001b[0m\n\u001b[0;32m----> 6\u001b[0;31m \u001b[0mdf\u001b[0m\u001b[0;34m.\u001b[0m\u001b[0mglc_1\u001b[0m \u001b[0;34m=\u001b[0m \u001b[0mglc_transform\u001b[0m\u001b[0;34m(\u001b[0m\u001b[0mdf\u001b[0m\u001b[0;34m.\u001b[0m\u001b[0mglc_1\u001b[0m\u001b[0;34m)\u001b[0m\u001b[0;34m\u001b[0m\u001b[0;34m\u001b[0m\u001b[0m\n\u001b[0m\u001b[1;32m      7\u001b[0m \u001b[0mdf\u001b[0m\u001b[0;34m[\u001b[0m\u001b[0;34m't0'\u001b[0m\u001b[0;34m]\u001b[0m \u001b[0;34m=\u001b[0m \u001b[0mdf\u001b[0m\u001b[0;34m.\u001b[0m\u001b[0mtimer_hr\u001b[0m\u001b[0;34m\u001b[0m\u001b[0;34m\u001b[0m\u001b[0m\n\u001b[1;32m      8\u001b[0m \u001b[0mdf\u001b[0m\u001b[0;34m[\u001b[0m\u001b[0;34m't1'\u001b[0m\u001b[0;34m]\u001b[0m \u001b[0;34m=\u001b[0m \u001b[0mdf\u001b[0m\u001b[0;34m.\u001b[0m\u001b[0mtimer_hr\u001b[0m \u001b[0;34m+\u001b[0m \u001b[0mdf\u001b[0m\u001b[0;34m.\u001b[0m\u001b[0mdt\u001b[0m\u001b[0;34m\u001b[0m\u001b[0;34m\u001b[0m\u001b[0m\n",
      "\u001b[0;32m/opt/conda/lib/python3.7/site-packages/pandas/core/generic.py\u001b[0m in \u001b[0;36m__getattr__\u001b[0;34m(self, name)\u001b[0m\n\u001b[1;32m   5065\u001b[0m             \u001b[0;32mif\u001b[0m \u001b[0mself\u001b[0m\u001b[0;34m.\u001b[0m\u001b[0m_info_axis\u001b[0m\u001b[0;34m.\u001b[0m\u001b[0m_can_hold_identifiers_and_holds_name\u001b[0m\u001b[0;34m(\u001b[0m\u001b[0mname\u001b[0m\u001b[0;34m)\u001b[0m\u001b[0;34m:\u001b[0m\u001b[0;34m\u001b[0m\u001b[0;34m\u001b[0m\u001b[0m\n\u001b[1;32m   5066\u001b[0m                 \u001b[0;32mreturn\u001b[0m \u001b[0mself\u001b[0m\u001b[0;34m[\u001b[0m\u001b[0mname\u001b[0m\u001b[0;34m]\u001b[0m\u001b[0;34m\u001b[0m\u001b[0;34m\u001b[0m\u001b[0m\n\u001b[0;32m-> 5067\u001b[0;31m             \u001b[0;32mreturn\u001b[0m \u001b[0mobject\u001b[0m\u001b[0;34m.\u001b[0m\u001b[0m__getattribute__\u001b[0m\u001b[0;34m(\u001b[0m\u001b[0mself\u001b[0m\u001b[0;34m,\u001b[0m \u001b[0mname\u001b[0m\u001b[0;34m)\u001b[0m\u001b[0;34m\u001b[0m\u001b[0;34m\u001b[0m\u001b[0m\n\u001b[0m\u001b[1;32m   5068\u001b[0m \u001b[0;34m\u001b[0m\u001b[0m\n\u001b[1;32m   5069\u001b[0m     \u001b[0;32mdef\u001b[0m \u001b[0m__setattr__\u001b[0m\u001b[0;34m(\u001b[0m\u001b[0mself\u001b[0m\u001b[0;34m,\u001b[0m \u001b[0mname\u001b[0m\u001b[0;34m,\u001b[0m \u001b[0mvalue\u001b[0m\u001b[0;34m)\u001b[0m\u001b[0;34m:\u001b[0m\u001b[0;34m\u001b[0m\u001b[0;34m\u001b[0m\u001b[0m\n",
      "\u001b[0;31mAttributeError\u001b[0m: 'DataFrame' object has no attribute 'glc_1'"
     ]
    }
   ],
   "source": [
    "# seed\n",
    "\n",
    "DATA_PATH = \"../data/analysis.csv\"\n",
    "df = import_data(DATA_PATH)\n",
    "df.glc = glc_transform(df.glc)\n",
    "df.glc_1 = glc_transform(df.glc_1)\n",
    "df['t0'] = df.timer_hr\n",
    "df['t1'] = df.timer_hr + df.dt\n",
    "df['glc'] = df.groupby('icustay_id').glc.fillna(method='ffill')\n",
    "df = df.loc[~df.glc.isnull()]"
   ]
  },
  {
   "cell_type": "code",
   "execution_count": null,
   "id": "ef437c72",
   "metadata": {},
   "outputs": [],
   "source": [
    "qt = QuantileTransformer(n_quantiles=10, random_state=0)\n",
    "df['input'] = qt.fit_transform(df['input'].to_numpy().reshape(-1, 1))\n",
    "qt = QuantileTransformer(n_quantiles=10, random_state=0)\n",
    "df['input_hrs'] = qt.fit_transform(df['input_hrs'].to_numpy().reshape(-1, 1))\n",
    "\n",
    "sample_ids = df.icustay_id.unique()[0:5000]\n",
    "\n",
    "train_ids, test_ids = train_test_split(sample_ids,test_size=0.25)\n",
    "\n",
    "df_train = df.loc[df.icustay_id.isin(train_ids)]\n",
    "df_valid = df.loc[df.icustay_id.isin(test_ids)]\n"
   ]
  },
  {
   "cell_type": "code",
   "execution_count": null,
   "id": "46126609",
   "metadata": {},
   "outputs": [],
   "source": [
    "FEATURE_VARS = [\"injection\",\"input_hrs\",\"input\",\"glc\"]\n",
    "TIME_VARS = [\"t0\",\"t1\"]\n",
    "\n",
    "class MIMICDataset(Dataset):\n",
    "    \"\"\"\n",
    "    Args:\n",
    "        patientunitstayids: \n",
    "        df:\n",
    "        ...\n",
    "    \n",
    "    Example:\n",
    "    \"\"\"\n",
    "    def __init__(self,df,verbose=True):\n",
    "        self.X,self.y,self.msk,self.dt = self.load_data(df,verbose=verbose)\n",
    "        \n",
    "    def __len__(self):\n",
    "        return len(self.y)\n",
    "    \n",
    "    def __getitem__(self, idx):\n",
    "        return self.X[idx],self.y[idx],self.msk[idx],self.dt[idx]\n",
    "    \n",
    "    def load_data(self,df,verbose):\n",
    "        X_list, y_list, msk_list, dt_list = [], [], [], []\n",
    "        ids = df.icustay_id.unique()\n",
    "        if verbose:\n",
    "            print(\"reconfiguring data...\")\n",
    "        for id_ in ids:\n",
    "            df_id = df.loc[df.icustay_id == id_,:]\n",
    "            if (sum(df_id.msk) == df_id.shape[0]):\n",
    "                print(\"excluding:\",id_)\n",
    "                continue\n",
    "            X = df_id.loc[:,FEATURE_VARS]\n",
    "            y = df_id.loc[:,\"glc_1\"]\n",
    "            msk = df_id.loc[:,\"msk\"]\n",
    "            dt = df_id.loc[:,TIME_VARS]\n",
    "            X = np.array(X).astype(np.float32)\n",
    "            y = np.array(y).astype(np.float32)\n",
    "            msk = np.array(msk).astype(np.int32)\n",
    "            dt = np.array(dt).astype(np.float32)\n",
    "            X_list.append(X)\n",
    "            y_list.append(y)\n",
    "            msk_list.append(msk)\n",
    "            dt_list.append(dt)\n",
    "        return X_list,y_list,msk_list,dt_list"
   ]
  },
  {
   "cell_type": "code",
   "execution_count": null,
   "id": "e15adb81",
   "metadata": {},
   "outputs": [],
   "source": []
  },
  {
   "cell_type": "code",
   "execution_count": null,
   "id": "38ece765",
   "metadata": {},
   "outputs": [],
   "source": [
    "dl_train = DataLoader(MIMICDataset(df_train),batch_size=1)\n",
    "dl_valid = DataLoader(MIMICDataset(df_valid),batch_size=1)\n",
    "dataloaders = {'train':dl_train,'validation':dl_valid}"
   ]
  },
  {
   "cell_type": "code",
   "execution_count": null,
   "id": "a81ba101",
   "metadata": {},
   "outputs": [],
   "source": []
  },
  {
   "cell_type": "code",
   "execution_count": 10,
   "id": "8398173c",
   "metadata": {},
   "outputs": [],
   "source": [
    "import torch \n",
    "import torch.nn as nn\n",
    "import torch.nn.functional as F\n",
    "#from torchdiffeq import odeint_adjoint as odeint\n",
    "from torchdiffeq import odeint\n",
    "\n",
    "import math\n",
    "\n",
    "# Base ----------------------------------------------------------------------------\n",
    "\n",
    "import torch.nn.functional as F\n",
    "\n",
    "class Baseline(nn.Module):\n",
    "    def __init__(self, input_dim, hidden_dim, p, output_dim, device):\n",
    "        super(Baseline, self).__init__()\n",
    "        \n",
    "        self.input_dim = input_dim\n",
    "        self.hidden_dim = hidden_dim\n",
    "        self.output_dim = output_dim\n",
    "        self.p = p\n",
    "        self.device = device\n",
    "        \n",
    "    def train_single_epoch(self,dataloader,optim):\n",
    "        loss = 0.0\n",
    "        for i, (x, y, msk, dt) in enumerate(dataloader):\n",
    "            x = x.to(self.device)\n",
    "            y = y.view(-1,1).to(self.device)\n",
    "            dt = dt.to(self.device)\n",
    "            msk = msk.bool().to(self.device)\n",
    "            optim.zero_grad()\n",
    "            preds = self.forward(dt,x)\n",
    "            loss_step = self.loss_fn(preds,y,~msk.squeeze(0))\n",
    "            loss_step.backward()\n",
    "            torch.nn.utils.clip_grad_norm_(self.parameters(), 2.0)\n",
    "            optim.step()\n",
    "            loss += loss_step.item()\n",
    "            if i % 1e3 == 0:\n",
    "                print(\"BATCH_loss : {:05.3f}\".format(loss_step.item()))\n",
    "        loss /= (i + 1)\n",
    "        print(\"EPOCH_loss : {:05.3f}\".format(loss))\n",
    "        \n",
    "        return loss\n",
    "        \n",
    "    def evaluate(self,dataloader,p=0.0):\n",
    "        rmse, loss = 0., 0.\n",
    "        N = 0\n",
    "        y_preds = []\n",
    "        y_tests = []\n",
    "        msks = []\n",
    "        #dts = []\n",
    "        with tqdm(total=len(dataloader)) as t:\n",
    "            for i, (x, y, msk, dt) in enumerate(dataloader):\n",
    "                N += sum((msk == 0).squeeze(0)).item()\n",
    "                x = x.to(self.device)\n",
    "                y = y.view(-1,1).to(self.device)\n",
    "                dt = dt.to(self.device)\n",
    "                # model prediction\n",
    "                y_ = self.forward(dt,x)\n",
    "                y_preds.append([yc.detach().cpu().numpy() for yc in y_]) \n",
    "                y_tests.append(y.cpu().numpy())\n",
    "                msk = msk.bool().to(self.device)\n",
    "                rmse += self.get_sse(y_,y,~msk.squeeze(0)).item()\n",
    "                loss += self.loss_fn(y_,y,~msk.squeeze(0)).item()\n",
    "                msks.append(msk.cpu().numpy())\n",
    "                t.update()\n",
    "        rmse /= N\n",
    "        loss /= (i + 1)\n",
    "        rmse = math.sqrt(rmse)\n",
    "        print(\"_rmse : {:05.3f}\".format(rmse))\n",
    "        print(\"_loss : {:05.3f}\".format(loss))\n",
    "        return loss,rmse, y_preds, y_tests, msks\n",
    "\n",
    "    def get_sse(self,y_,y,msk):\n",
    "        \"\"\"\n",
    "        SSE: sum of squared errors\n",
    "        \"\"\"\n",
    "        if type(y_) == tuple:\n",
    "            y_ = y_[0]\n",
    "        c = torch.log(torch.tensor(140.0))\n",
    "        rmse = torch.sum((torch.exp(y_[msk] + c) - torch.exp(y[msk] + c))**2)\n",
    "        return rmse"
   ]
  },
  {
   "cell_type": "code",
   "execution_count": 11,
   "id": "631671fa",
   "metadata": {},
   "outputs": [],
   "source": [
    "def euler(func,y0,x,t,h):\n",
    "    if (t[1]-t[0]) == 0:\n",
    "        return y0\n",
    "    else :\n",
    "        tsteps = torch.linspace(t[0],t[1],int(2+(t[1]-t[0]) // h))\n",
    "        hs = torch.diff(tsteps)\n",
    "        y = copy.deepcopy(y0)\n",
    "        for h in hs:\n",
    "            y += h*func(y,x)\n",
    "        return y "
   ]
  },
  {
   "cell_type": "code",
   "execution_count": 12,
   "id": "3d64461d",
   "metadata": {},
   "outputs": [],
   "source": [
    "class ODEFunc(nn.Module):\n",
    "    \"\"\"\n",
    "    dglucose/dt = NN(glucose,insulin)\n",
    "    \"\"\"\n",
    "    def __init__(self,input_dim):\n",
    "        super(ODEFunc, self).__init__()\n",
    "\n",
    "        self.net = nn.Sequential(\n",
    "            nn.Linear(input_dim+1, 50),\n",
    "            nn.Tanh(),\n",
    "            nn.Linear(50, 1),\n",
    "        )\n",
    "\n",
    "        for m in self.net.modules():\n",
    "            if isinstance(m, nn.Linear):\n",
    "                nn.init.normal_(m.weight, mean=0, std=0.1)\n",
    "                nn.init.constant_(m.bias, val=0)\n",
    "\n",
    "    def forward(self, y, x):\n",
    "        yx = torch.cat((y,x),1)\n",
    "        return self.net(yx)\n",
    "    \n",
    "class ODE(Baseline):\n",
    "\n",
    "    def __init__(self, input_dim, hidden_dim, p, output_dim, device):\n",
    "        Baseline.__init__(self,input_dim, hidden_dim, p, output_dim, device)\n",
    "        self.device = device\n",
    "        self.func = ODEFunc(input_dim).to(device)\n",
    "        \n",
    "    def forward(self, dt, x):\n",
    "        \n",
    "        x = x.squeeze(0)\n",
    "        dt = dt.squeeze(0)\n",
    "        T = x.size(0)\n",
    "        \n",
    "        mu_out = torch.zeros(T,1,device = self.device)\n",
    "        for i in range(0,T):\n",
    "            y0 = x[i][3].unsqueeze(0).unsqueeze(0)\n",
    "            x_i = x[i].unsqueeze(0)\n",
    "            mu_out[i] = euler(self.func,y0,x_i,dt[i],h=1.0)\n",
    "            \n",
    "        return mu_out\n",
    "    \n",
    "    def loss_fn(self,y_,y,msk):\n",
    "        return torch.mean((y_[msk] - y[msk])**2)\n"
   ]
  },
  {
   "cell_type": "code",
   "execution_count": 13,
   "id": "d78d2a2f",
   "metadata": {},
   "outputs": [],
   "source": [
    "model = ODE(4, 1, 0.5, 1, \"cuda\")"
   ]
  },
  {
   "cell_type": "code",
   "execution_count": 14,
   "id": "ca66c821",
   "metadata": {},
   "outputs": [
    {
     "data": {
      "text/plain": [
       "tensor([[-0.2451]], device='cuda:0', grad_fn=<CopySlices>)"
      ]
     },
     "execution_count": 14,
     "metadata": {},
     "output_type": "execute_result"
    }
   ],
   "source": [
    "t = next(iter(dl_train))[3].squeeze(0).to(\"cuda\")\n",
    "x = next(iter(dl_train))[0].squeeze(0).to(\"cuda\")\n",
    "y = next(iter(dl_train))[1].squeeze(0)\n",
    "msk = next(iter(dl_train))[2].squeeze(0)\n",
    "y_ = model(t,x)\n",
    "model(t[:1].unsqueeze(0),x[:1].unsqueeze(0))\n",
    "# model(t[0],x[0]) # doesn't work but that's okay"
   ]
  },
  {
   "cell_type": "code",
   "execution_count": 15,
   "id": "6a7a2527",
   "metadata": {},
   "outputs": [],
   "source": [
    "model_optim = optim.RMSprop(model.parameters(), lr=1e-3)"
   ]
  },
  {
   "cell_type": "code",
   "execution_count": 16,
   "id": "4aad83b7",
   "metadata": {},
   "outputs": [
    {
     "name": "stdout",
     "output_type": "stream",
     "text": [
      "BATCH_loss : 0.048\n",
      "BATCH_loss : 0.007\n",
      "EPOCH_loss : 0.062\n",
      "BATCH_loss : 0.040\n",
      "BATCH_loss : 0.008\n",
      "EPOCH_loss : 0.061\n"
     ]
    },
    {
     "data": {
      "text/plain": [
       "0.06099225716506286"
      ]
     },
     "execution_count": 16,
     "metadata": {},
     "output_type": "execute_result"
    }
   ],
   "source": [
    "model.train_single_epoch(dl_train,model_optim)\n",
    "model.train_single_epoch(dl_train,model_optim)"
   ]
  },
  {
   "cell_type": "code",
   "execution_count": 17,
   "id": "075df987",
   "metadata": {},
   "outputs": [
    {
     "name": "stderr",
     "output_type": "stream",
     "text": [
      "100%|██████████| 500/500 [00:21<00:00, 22.97it/s]"
     ]
    },
    {
     "name": "stdout",
     "output_type": "stream",
     "text": [
      "_rmse : 41.083\n",
      "_loss : 0.064\n"
     ]
    },
    {
     "name": "stderr",
     "output_type": "stream",
     "text": [
      "\n"
     ]
    }
   ],
   "source": [
    "loss,rmse, y_preds, y_tests, msks = model.evaluate(dl_valid)"
   ]
  },
  {
   "cell_type": "code",
   "execution_count": 18,
   "id": "b848b2db",
   "metadata": {},
   "outputs": [
    {
     "data": {
      "text/plain": [
       "41.08347036697773"
      ]
     },
     "execution_count": 18,
     "metadata": {},
     "output_type": "execute_result"
    }
   ],
   "source": [
    "rmse"
   ]
  },
  {
   "cell_type": "code",
   "execution_count": 19,
   "id": "9bd3989c",
   "metadata": {},
   "outputs": [
    {
     "name": "stdout",
     "output_type": "stream",
     "text": [
      "RMSE (locf): 43.1631\n"
     ]
    },
    {
     "name": "stderr",
     "output_type": "stream",
     "text": [
      "/opt/conda/lib/python3.7/site-packages/ipykernel_launcher.py:1: SettingWithCopyWarning: \n",
      "A value is trying to be set on a copy of a slice from a DataFrame.\n",
      "Try using .loc[row_indexer,col_indexer] = value instead\n",
      "\n",
      "See the caveats in the documentation: https://pandas.pydata.org/pandas-docs/stable/user_guide/indexing.html#returning-a-view-versus-a-copy\n",
      "  \"\"\"Entry point for launching an IPython kernel.\n",
      "/opt/conda/lib/python3.7/site-packages/pandas/core/indexing.py:1720: SettingWithCopyWarning: \n",
      "A value is trying to be set on a copy of a slice from a DataFrame.\n",
      "Try using .loc[row_indexer,col_indexer] = value instead\n",
      "\n",
      "See the caveats in the documentation: https://pandas.pydata.org/pandas-docs/stable/user_guide/indexing.html#returning-a-view-versus-a-copy\n",
      "  self._setitem_single_column(loc, value, pi)\n",
      "/opt/conda/lib/python3.7/site-packages/ipykernel_launcher.py:3: SettingWithCopyWarning: \n",
      "A value is trying to be set on a copy of a slice from a DataFrame.\n",
      "Try using .loc[row_indexer,col_indexer] = value instead\n",
      "\n",
      "See the caveats in the documentation: https://pandas.pydata.org/pandas-docs/stable/user_guide/indexing.html#returning-a-view-versus-a-copy\n",
      "  This is separate from the ipykernel package so we can avoid doing imports until\n"
     ]
    }
   ],
   "source": [
    "df_valid[\"glc_1_locf\"] = df_valid.glc\n",
    "df_valid.loc[df_valid.glc_1_locf == 0,'glc_1_locf'] = np.NaN\n",
    "df_valid[\"glc_1_locf\"] = df_valid.groupby('icustay_id')[\"glc_1_locf\"].ffill()\n",
    "res_rmse_locf = math.sqrt(np.mean((ginv(df_valid.glc_1_locf[df_valid.msk==0]) - ginv(df_valid.glc_1[df_valid.msk==0]))**2))\n",
    "print(\"RMSE (locf): {:05.4f}\".format(res_rmse_locf))"
   ]
  },
  {
   "cell_type": "code",
   "execution_count": 20,
   "id": "e2e59615",
   "metadata": {},
   "outputs": [
    {
     "data": {
      "text/plain": [
       "0.9518190853090943"
      ]
     },
     "execution_count": 20,
     "metadata": {},
     "output_type": "execute_result"
    }
   ],
   "source": [
    "rmse / res_rmse_locf"
   ]
  },
  {
   "cell_type": "code",
   "execution_count": 21,
   "id": "d16a76c6",
   "metadata": {},
   "outputs": [],
   "source": [
    "y_preds = np.concatenate(y_preds)\n",
    "y_tests = np.concatenate(y_tests)"
   ]
  },
  {
   "cell_type": "code",
   "execution_count": 22,
   "id": "573ccfa4",
   "metadata": {},
   "outputs": [],
   "source": [
    "msks = np.concatenate([msk[0] for msk in msks])"
   ]
  },
  {
   "cell_type": "code",
   "execution_count": 23,
   "id": "ca3fa2f6",
   "metadata": {},
   "outputs": [
    {
     "data": {
      "text/plain": [
       "[<matplotlib.lines.Line2D at 0x7f3c68abb290>]"
      ]
     },
     "execution_count": 23,
     "metadata": {},
     "output_type": "execute_result"
    },
    {
     "data": {
      "image/png": "[encoded data removed]",
      "text/plain": [
       "<Figure size 432x288 with 1 Axes>"
      ]
     },
     "metadata": {
      "needs_background": "light"
     },
     "output_type": "display_data"
    }
   ],
   "source": [
    "plt.scatter(y_preds[msks],y_tests[msks])\n",
    "xs = np.linspace(-1.5,1.5)\n",
    "plt.plot(xs,xs,'--r')"
   ]
  },
  {
   "cell_type": "code",
   "execution_count": null,
   "id": "0be94920",
   "metadata": {},
   "outputs": [],
   "source": []
  },
  {
   "cell_type": "code",
   "execution_count": 24,
   "id": "1117c15f",
   "metadata": {},
   "outputs": [],
   "source": [
    "t = next(iter(dl_train))[3].squeeze(0).to(\"cuda\")\n",
    "x = next(iter(dl_train))[0].squeeze(0).to(\"cuda\")\n",
    "y = next(iter(dl_train))[1].squeeze(0)\n",
    "msk = next(iter(dl_train))[2].squeeze(0)\n",
    "y_ = model(t,x)"
   ]
  },
  {
   "cell_type": "code",
   "execution_count": 25,
   "id": "a867cbc5",
   "metadata": {},
   "outputs": [],
   "source": [
    "# FEATURE_VARS = [\"injection\",\"input_hrs\",\"input\",\"glc\"]"
   ]
  },
  {
   "cell_type": "code",
   "execution_count": 26,
   "id": "c03329c9",
   "metadata": {},
   "outputs": [],
   "source": [
    "# xx = torch.tensor([[ 0.0000,  0.4000,  inputs[0], 0.3412],\n",
    "#         [ 0.0000,  0.0000,  0.0000, 0.2412]], device='cuda:0')\n",
    "# tt = torch.tensor([[2.0081, 4.0081],\n",
    "#         [3.0081, 3.4081]], device='cuda:0')"
   ]
  },
  {
   "cell_type": "code",
   "execution_count": 27,
   "id": "acd5c49f",
   "metadata": {},
   "outputs": [],
   "source": [
    "# ginv(xx[:,3].cpu().numpy())"
   ]
  },
  {
   "cell_type": "code",
   "execution_count": 28,
   "id": "0fce8dc9",
   "metadata": {},
   "outputs": [],
   "source": [
    "# ys = model(tt,xx)"
   ]
  },
  {
   "cell_type": "code",
   "execution_count": 29,
   "id": "877d2501",
   "metadata": {},
   "outputs": [],
   "source": [
    "# ginv(ys.detach().cpu().numpy())"
   ]
  },
  {
   "cell_type": "code",
   "execution_count": 30,
   "id": "64f232ee",
   "metadata": {},
   "outputs": [],
   "source": [
    "# FEATURE_VARS = [\"injection\",\"input_hrs\",\"input\",\"glc\"]"
   ]
  },
  {
   "cell_type": "code",
   "execution_count": 120,
   "id": "9419f97a",
   "metadata": {},
   "outputs": [
    {
     "name": "stdout",
     "output_type": "stream",
     "text": [
      "188.98023306064033\n"
     ]
    },
    {
     "data": {
      "text/plain": [
       "array([[163.73433],\n",
       "       [174.47978]], dtype=float32)"
      ]
     },
     "execution_count": 120,
     "metadata": {},
     "output_type": "execute_result"
    }
   ],
   "source": [
    "print(ginv(np.array(0.3)))\n",
    "xx = torch.tensor([[0.0000,  0.0,  0.0, 0.3],\n",
    "        [ 0.0000,  0.0000,  0.0000, 0.2412]], device='cuda:0')\n",
    "tt = torch.tensor([[0.0081, 3.0081],\n",
    "        [3.0081, 3.4081]], device='cuda:0')\n",
    "ginv(model(tt,xx).detach().cpu().numpy())"
   ]
  },
  {
   "cell_type": "code",
   "execution_count": null,
   "id": "70584e86",
   "metadata": {},
   "outputs": [],
   "source": [
    "# time gap = 3 hours\n",
    "#input = 0 -> 163\n",
    "#input = 0.9 -> 154\n",
    "#input = 0.9 & injection = 1 -> 163\n",
    "#input_hrs = 0 -> 163\n",
    "#input_hrs = 0.8 -> 129"
   ]
  },
  {
   "cell_type": "code",
   "execution_count": 124,
   "id": "9d073103",
   "metadata": {},
   "outputs": [],
   "source": [
    "max_in = 200\n",
    "inputs = np.linspace(0.,1.0,max_in,dtype=np.float32)"
   ]
  },
  {
   "cell_type": "code",
   "execution_count": 141,
   "id": "26b95c86",
   "metadata": {},
   "outputs": [
    {
     "data": {
      "text/plain": [
       "<matplotlib.collections.PathCollection at 0x7f3c5cd22b50>"
      ]
     },
     "execution_count": 141,
     "metadata": {},
     "output_type": "execute_result"
    },
    {
     "data": {
      "image/png": "[encoded data removed]",
      "text/plain": [
       "<Figure size 432x288 with 1 Axes>"
      ]
     },
     "metadata": {
      "needs_background": "light"
     },
     "output_type": "display_data"
    }
   ],
   "source": [
    "change = np.zeros(max_in)\n",
    "for i in range(max_in):\n",
    "    xx = torch.tensor([[0.0000,  0.0000,  inputs[i], 0.2],\n",
    "            [ 0.0000,  0.0000,  0.0000, 0.2412]], device='cuda:0')\n",
    "    tt = torch.tensor([[0.0081, 3.0081],\n",
    "            [3.0081, 3.4081]], device='cuda:0')\n",
    "    ys = model(tt,xx)\n",
    "    change[i] = ginv(xx[:,3].cpu().numpy())[0]-ginv(ys.detach().cpu().numpy())[0].item()\n",
    "plt.scatter(inputs,change)"
   ]
  },
  {
   "cell_type": "code",
   "execution_count": 66,
   "id": "f34e3f58",
   "metadata": {},
   "outputs": [],
   "source": [
    "max_in = 200\n",
    "inputs = np.linspace(0,1.0,max_in,dtype=np.float32)"
   ]
  },
  {
   "cell_type": "code",
   "execution_count": 67,
   "id": "2e770087",
   "metadata": {},
   "outputs": [
    {
     "data": {
      "text/plain": [
       "<matplotlib.collections.PathCollection at 0x7f3c696b00d0>"
      ]
     },
     "execution_count": 67,
     "metadata": {},
     "output_type": "execute_result"
    },
    {
     "data": {
      "image/png": "[encoded data removed]",
      "text/plain": [
       "<Figure size 432x288 with 1 Axes>"
      ]
     },
     "metadata": {
      "needs_background": "light"
     },
     "output_type": "display_data"
    }
   ],
   "source": [
    "change = np.zeros(max_in)\n",
    "for i in range(max_in):\n",
    "    xx = torch.tensor([[0.0000,  inputs[i],  0.0, 0.2],\n",
    "            [ 0.0000,  0.0000,  0.0000, 0.2412]], device='cuda:0')\n",
    "    tt = torch.tensor([[0.0081, 3.0081],\n",
    "            [3.0081, 3.4081]], device='cuda:0')\n",
    "    ys = model(tt,xx)\n",
    "    change[i] = ginv(xx[:,3].cpu().numpy())[0]-ginv(ys.detach().cpu().numpy())[0].item()\n",
    "plt.scatter(inputs,change)"
   ]
  },
  {
   "cell_type": "code",
   "execution_count": 36,
   "id": "624ee32f",
   "metadata": {},
   "outputs": [
    {
     "data": {
      "text/plain": [
       "(array([   9.,   60.,  197.,  788., 1262.,  913.,  484.,  199.,   74.,\n",
       "          24.]),\n",
       " array([-0.81450804, -0.60476563, -0.39502323, -0.18528082,  0.02446158,\n",
       "         0.23420398,  0.44394639,  0.65368879,  0.8634312 ,  1.0731736 ,\n",
       "         1.28291601]),\n",
       " <BarContainer object of 10 artists>)"
      ]
     },
     "execution_count": 36,
     "metadata": {},
     "output_type": "execute_result"
    },
    {
     "data": {
      "image/png": "[encoded data removed]",
      "text/plain": [
       "<Figure size 432x288 with 1 Axes>"
      ]
     },
     "metadata": {
      "needs_background": "light"
     },
     "output_type": "display_data"
    }
   ],
   "source": [
    "plt.hist(df_valid.loc[df_valid.input > 0.0,['glc']])"
   ]
  },
  {
   "cell_type": "code",
   "execution_count": 37,
   "id": "80e0cc78",
   "metadata": {},
   "outputs": [
    {
     "data": {
      "text/plain": [
       "glc    0.208368\n",
       "dtype: float64"
      ]
     },
     "execution_count": 37,
     "metadata": {},
     "output_type": "execute_result"
    }
   ],
   "source": [
    "np.mean(df_valid.loc[df_valid.input > 0.0,['glc']])"
   ]
  },
  {
   "cell_type": "code",
   "execution_count": 59,
   "id": "7416dd52",
   "metadata": {},
   "outputs": [
    {
     "data": {
      "text/plain": [
       "glc_1    0.139029\n",
       "dtype: float64"
      ]
     },
     "execution_count": 59,
     "metadata": {},
     "output_type": "execute_result"
    }
   ],
   "source": [
    "np.mean(df_valid.loc[df_valid.input > 0.0,['glc_1']])"
   ]
  },
  {
   "cell_type": "code",
   "execution_count": 126,
   "id": "a491aab2",
   "metadata": {},
   "outputs": [
    {
     "data": {
      "image/png": "[encoded data removed]",
      "text/plain": [
       "<Figure size 432x288 with 1 Axes>"
      ]
     },
     "metadata": {
      "needs_background": "light"
     },
     "output_type": "display_data"
    }
   ],
   "source": [
    "plt.hist(df_valid.loc[df_valid.input > -1000.0,['input']],30)\n",
    "plt.show()"
   ]
  },
  {
   "cell_type": "code",
   "execution_count": 129,
   "id": "590c2e10",
   "metadata": {},
   "outputs": [
    {
     "data": {
      "image/png": "[encoded data removed]",
      "text/plain": [
       "<Figure size 432x288 with 1 Axes>"
      ]
     },
     "metadata": {
      "needs_background": "light"
     },
     "output_type": "display_data"
    }
   ],
   "source": [
    "plt.hist(df_valid.loc[(df_valid.input > -1000.0) & (df_valid.injection == 1),['input']],30)\n",
    "plt.show()"
   ]
  },
  {
   "cell_type": "code",
   "execution_count": 127,
   "id": "c3e444b9",
   "metadata": {},
   "outputs": [
    {
     "data": {
      "image/png": "[encoded data removed]",
      "text/plain": [
       "<Figure size 432x288 with 1 Axes>"
      ]
     },
     "metadata": {
      "needs_background": "light"
     },
     "output_type": "display_data"
    }
   ],
   "source": [
    "plt.hist(df_valid.loc[df_valid.input_hrs > -1000.0,['input_hrs']],30)\n",
    "plt.show()"
   ]
  },
  {
   "cell_type": "code",
   "execution_count": null,
   "id": "6abdda93",
   "metadata": {},
   "outputs": [],
   "source": []
  },
  {
   "cell_type": "code",
   "execution_count": 39,
   "id": "e227ee4b",
   "metadata": {},
   "outputs": [
    {
     "data": {
      "text/plain": [
       "<matplotlib.collections.PathCollection at 0x7f3c68e1b210>"
      ]
     },
     "execution_count": 39,
     "metadata": {},
     "output_type": "execute_result"
    },
    {
     "data": {
      "image/png": "[encoded data removed]",
      "text/plain": [
       "<Figure size 432x288 with 1 Axes>"
      ]
     },
     "metadata": {
      "needs_background": "light"
     },
     "output_type": "display_data"
    }
   ],
   "source": [
    "plt.scatter(df_valid.loc[df_valid.input_hrs > 0.0,['glc']].to_numpy().reshape(-1),\n",
    "            df_valid.loc[df_valid.input_hrs > 0.0,['glc_1']].to_numpy().reshape(-1))"
   ]
  },
  {
   "cell_type": "code",
   "execution_count": 40,
   "id": "c7503240",
   "metadata": {},
   "outputs": [],
   "source": [
    "from sklearn.linear_model import LinearRegression"
   ]
  },
  {
   "cell_type": "code",
   "execution_count": 76,
   "id": "63a8339f",
   "metadata": {},
   "outputs": [],
   "source": [
    "x1 = df_valid.loc[(df_valid.input > 0.0) & (df_valid.msk == 0),['glc']].to_numpy()\n",
    "y1 = df_valid.loc[(df_valid.input > 0.0) & (df_valid.msk == 0),['glc_1']].to_numpy()"
   ]
  },
  {
   "cell_type": "code",
   "execution_count": 77,
   "id": "626839b9",
   "metadata": {},
   "outputs": [],
   "source": [
    "reg = LinearRegression().fit(x1,y1)"
   ]
  },
  {
   "cell_type": "code",
   "execution_count": 78,
   "id": "99f9f33d",
   "metadata": {},
   "outputs": [
    {
     "data": {
      "text/plain": [
       "array([[0.61753677]])"
      ]
     },
     "execution_count": 78,
     "metadata": {},
     "output_type": "execute_result"
    }
   ],
   "source": [
    "reg.coef_"
   ]
  },
  {
   "cell_type": "code",
   "execution_count": 79,
   "id": "e5a676ad",
   "metadata": {},
   "outputs": [
    {
     "data": {
      "text/plain": [
       "array([-0.01587074])"
      ]
     },
     "execution_count": 79,
     "metadata": {},
     "output_type": "execute_result"
    }
   ],
   "source": [
    "reg.intercept_"
   ]
  },
  {
   "cell_type": "code",
   "execution_count": 136,
   "id": "691cc6cb",
   "metadata": {},
   "outputs": [
    {
     "data": {
      "text/html": [
       "<div>\n",
       "<style scoped>\n",
       "    .dataframe tbody tr th:only-of-type {\n",
       "        vertical-align: middle;\n",
       "    }\n",
       "\n",
       "    .dataframe tbody tr th {\n",
       "        vertical-align: top;\n",
       "    }\n",
       "\n",
       "    .dataframe thead th {\n",
       "        text-align: right;\n",
       "    }\n",
       "</style>\n",
       "<table border=\"1\" class=\"dataframe\">\n",
       "  <thead>\n",
       "    <tr style=\"text-align: right;\">\n",
       "      <th></th>\n",
       "      <th>icustay_id</th>\n",
       "      <th>timer_hr</th>\n",
       "      <th>injection</th>\n",
       "      <th>input_hrs</th>\n",
       "      <th>input</th>\n",
       "      <th>glc</th>\n",
       "      <th>dt</th>\n",
       "      <th>glc_1</th>\n",
       "      <th>msk</th>\n",
       "      <th>t0</th>\n",
       "      <th>t1</th>\n",
       "    </tr>\n",
       "  </thead>\n",
       "  <tbody>\n",
       "    <tr>\n",
       "      <th>135</th>\n",
       "      <td>253656</td>\n",
       "      <td>18.691389</td>\n",
       "      <td>1</td>\n",
       "      <td>0.844222</td>\n",
       "      <td>0.906367</td>\n",
       "      <td>-0.241162</td>\n",
       "      <td>0.116667</td>\n",
       "      <td>-0.028988</td>\n",
       "      <td>0</td>\n",
       "      <td>18.691389</td>\n",
       "      <td>18.808056</td>\n",
       "    </tr>\n",
       "    <tr>\n",
       "      <th>138</th>\n",
       "      <td>253656</td>\n",
       "      <td>19.874722</td>\n",
       "      <td>1</td>\n",
       "      <td>0.844222</td>\n",
       "      <td>0.891386</td>\n",
       "      <td>-0.028988</td>\n",
       "      <td>2.750000</td>\n",
       "      <td>0.336472</td>\n",
       "      <td>0</td>\n",
       "      <td>19.874722</td>\n",
       "      <td>22.624722</td>\n",
       "    </tr>\n",
       "    <tr>\n",
       "      <th>140</th>\n",
       "      <td>253656</td>\n",
       "      <td>22.708056</td>\n",
       "      <td>1</td>\n",
       "      <td>0.000000</td>\n",
       "      <td>0.893883</td>\n",
       "      <td>0.336472</td>\n",
       "      <td>3.983333</td>\n",
       "      <td>0.517943</td>\n",
       "      <td>0</td>\n",
       "      <td>22.708056</td>\n",
       "      <td>26.691389</td>\n",
       "    </tr>\n",
       "    <tr>\n",
       "      <th>142</th>\n",
       "      <td>253656</td>\n",
       "      <td>26.841389</td>\n",
       "      <td>1</td>\n",
       "      <td>0.000000</td>\n",
       "      <td>0.896380</td>\n",
       "      <td>0.517943</td>\n",
       "      <td>4.850000</td>\n",
       "      <td>0.649345</td>\n",
       "      <td>0</td>\n",
       "      <td>26.841389</td>\n",
       "      <td>31.691389</td>\n",
       "    </tr>\n",
       "    <tr>\n",
       "      <th>164</th>\n",
       "      <td>253656</td>\n",
       "      <td>50.658056</td>\n",
       "      <td>1</td>\n",
       "      <td>0.000000</td>\n",
       "      <td>0.893883</td>\n",
       "      <td>0.256855</td>\n",
       "      <td>1.033333</td>\n",
       "      <td>0.509396</td>\n",
       "      <td>0</td>\n",
       "      <td>50.658056</td>\n",
       "      <td>51.691389</td>\n",
       "    </tr>\n",
       "    <tr>\n",
       "      <th>...</th>\n",
       "      <td>...</td>\n",
       "      <td>...</td>\n",
       "      <td>...</td>\n",
       "      <td>...</td>\n",
       "      <td>...</td>\n",
       "      <td>...</td>\n",
       "      <td>...</td>\n",
       "      <td>...</td>\n",
       "      <td>...</td>\n",
       "      <td>...</td>\n",
       "      <td>...</td>\n",
       "    </tr>\n",
       "    <tr>\n",
       "      <th>91594</th>\n",
       "      <td>206276</td>\n",
       "      <td>9.566944</td>\n",
       "      <td>1</td>\n",
       "      <td>0.000000</td>\n",
       "      <td>0.890137</td>\n",
       "      <td>0.424334</td>\n",
       "      <td>3.100000</td>\n",
       "      <td>-0.028988</td>\n",
       "      <td>0</td>\n",
       "      <td>9.566944</td>\n",
       "      <td>12.666944</td>\n",
       "    </tr>\n",
       "    <tr>\n",
       "      <th>91599</th>\n",
       "      <td>206276</td>\n",
       "      <td>22.033611</td>\n",
       "      <td>1</td>\n",
       "      <td>0.000000</td>\n",
       "      <td>0.888889</td>\n",
       "      <td>0.082238</td>\n",
       "      <td>4.783333</td>\n",
       "      <td>0.055570</td>\n",
       "      <td>0</td>\n",
       "      <td>22.033611</td>\n",
       "      <td>26.816944</td>\n",
       "    </tr>\n",
       "    <tr>\n",
       "      <th>91602</th>\n",
       "      <td>206276</td>\n",
       "      <td>33.316944</td>\n",
       "      <td>1</td>\n",
       "      <td>0.000000</td>\n",
       "      <td>0.888889</td>\n",
       "      <td>0.095310</td>\n",
       "      <td>3.666667</td>\n",
       "      <td>-0.154151</td>\n",
       "      <td>0</td>\n",
       "      <td>33.316944</td>\n",
       "      <td>36.983611</td>\n",
       "    </tr>\n",
       "    <tr>\n",
       "      <th>91609</th>\n",
       "      <td>206276</td>\n",
       "      <td>57.566944</td>\n",
       "      <td>1</td>\n",
       "      <td>0.000000</td>\n",
       "      <td>0.888889</td>\n",
       "      <td>0.139762</td>\n",
       "      <td>3.733333</td>\n",
       "      <td>-0.145852</td>\n",
       "      <td>0</td>\n",
       "      <td>57.566944</td>\n",
       "      <td>61.300278</td>\n",
       "    </tr>\n",
       "    <tr>\n",
       "      <th>91618</th>\n",
       "      <td>206276</td>\n",
       "      <td>93.783611</td>\n",
       "      <td>1</td>\n",
       "      <td>0.000000</td>\n",
       "      <td>0.888889</td>\n",
       "      <td>0.428996</td>\n",
       "      <td>5.550000</td>\n",
       "      <td>-0.154151</td>\n",
       "      <td>0</td>\n",
       "      <td>93.783611</td>\n",
       "      <td>99.333611</td>\n",
       "    </tr>\n",
       "  </tbody>\n",
       "</table>\n",
       "<p>6716 rows × 11 columns</p>\n",
       "</div>"
      ],
      "text/plain": [
       "       icustay_id   timer_hr  injection  input_hrs     input       glc  \\\n",
       "135        253656  18.691389          1   0.844222  0.906367 -0.241162   \n",
       "138        253656  19.874722          1   0.844222  0.891386 -0.028988   \n",
       "140        253656  22.708056          1   0.000000  0.893883  0.336472   \n",
       "142        253656  26.841389          1   0.000000  0.896380  0.517943   \n",
       "164        253656  50.658056          1   0.000000  0.893883  0.256855   \n",
       "...           ...        ...        ...        ...       ...       ...   \n",
       "91594      206276   9.566944          1   0.000000  0.890137  0.424334   \n",
       "91599      206276  22.033611          1   0.000000  0.888889  0.082238   \n",
       "91602      206276  33.316944          1   0.000000  0.888889  0.095310   \n",
       "91609      206276  57.566944          1   0.000000  0.888889  0.139762   \n",
       "91618      206276  93.783611          1   0.000000  0.888889  0.428996   \n",
       "\n",
       "             dt     glc_1  msk         t0         t1  \n",
       "135    0.116667 -0.028988    0  18.691389  18.808056  \n",
       "138    2.750000  0.336472    0  19.874722  22.624722  \n",
       "140    3.983333  0.517943    0  22.708056  26.691389  \n",
       "142    4.850000  0.649345    0  26.841389  31.691389  \n",
       "164    1.033333  0.509396    0  50.658056  51.691389  \n",
       "...         ...       ...  ...        ...        ...  \n",
       "91594  3.100000 -0.028988    0   9.566944  12.666944  \n",
       "91599  4.783333  0.055570    0  22.033611  26.816944  \n",
       "91602  3.666667 -0.154151    0  33.316944  36.983611  \n",
       "91609  3.733333 -0.145852    0  57.566944  61.300278  \n",
       "91618  5.550000 -0.154151    0  93.783611  99.333611  \n",
       "\n",
       "[6716 rows x 11 columns]"
      ]
     },
     "execution_count": 136,
     "metadata": {},
     "output_type": "execute_result"
    }
   ],
   "source": [
    "df_train.loc[(df_train.injection > 0) & (df_train.msk == 0)]"
   ]
  },
  {
   "cell_type": "code",
   "execution_count": null,
   "id": "6a267c58",
   "metadata": {},
   "outputs": [],
   "source": []
  }
 ],
 "metadata": {
  "environment": {
   "name": "pytorch-gpu.1-8.m69",
   "type": "gcloud",
   "uri": "gcr.io/deeplearning-platform-release/pytorch-gpu.1-8:m69"
  },
  "kernelspec": {
   "display_name": "Python 3",
   "language": "python",
   "name": "python3"
  },
  "language_info": {
   "codemirror_mode": {
    "name": "ipython",
    "version": 3
   },
   "file_extension": ".py",
   "mimetype": "text/x-python",
   "name": "python",
   "nbconvert_exporter": "python",
   "pygments_lexer": "ipython3",
   "version": "3.7.10"
  }
 },
 "nbformat": 4,
 "nbformat_minor": 5
}
