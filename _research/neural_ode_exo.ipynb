{
 "cells": [
  {
   "cell_type": "markdown",
   "id": "5befb058",
   "metadata": {},
   "source": [
    "Things I've fixed:  \n",
    "\n",
    "* number of rows - pad at 100\n",
    "\n"
   ]
  },
  {
   "cell_type": "markdown",
   "id": "5a7ad869",
   "metadata": {},
   "source": [
    "Some timings on the validation data (so multiply by 10)\n",
    "\n",
    "batch size: 56  \n",
    "CUDA - CPU times: user 2min 13s, sys: 1.11 s, total: 2min 14s  \n",
    "CPU - CPU times: user 1min 18s, sys: 3.22 s, total: 1min 21s  \n",
    "\n",
    "batch size: 128  \n",
    "CUDA - CPU times: user 1min 31s, sys: 651 ms, total: 1min 32s  \n",
    "CPU - CPU times: user 1min 18s, sys: 3.22 s, total: 1min 21s  "
   ]
  },
  {
   "cell_type": "code",
   "execution_count": 5,
   "id": "e3c8010d",
   "metadata": {},
   "outputs": [],
   "source": [
    "import torch\n",
    "import torch.nn as nn\n",
    "import torch.optim as optim\n",
    "from torch.utils.data import Dataset,DataLoader\n",
    "\n",
    "import argparse\n",
    "import logging\n",
    "from tqdm import tqdm\n",
    "import numpy as np\n",
    "import pandas as pd\n",
    "import logging\n",
    "import os\n",
    "import math\n",
    "import copy\n",
    "import matplotlib.pyplot as plt\n",
    "import optuna\n",
    "from datetime import datetime\n",
    "import random\n",
    "from sklearn.model_selection import train_test_split\n",
    "\n",
    "from sklearn.preprocessing import MinMaxScaler\n",
    "from sklearn.preprocessing import QuantileTransformer\n",
    "import copy\n",
    "\n",
    "import scipy.stats"
   ]
  },
  {
   "cell_type": "code",
   "execution_count": 6,
   "id": "c3f88339",
   "metadata": {},
   "outputs": [],
   "source": [
    "%matplotlib inline"
   ]
  },
  {
   "cell_type": "code",
   "execution_count": 7,
   "id": "842a62d3",
   "metadata": {},
   "outputs": [],
   "source": [
    "import sys\n",
    "sys.path.append('..')\n",
    "import time"
   ]
  },
  {
   "cell_type": "code",
   "execution_count": 8,
   "id": "40baa583",
   "metadata": {},
   "outputs": [],
   "source": [
    "from src.data.data_loader import MIMICDataset,import_data\n",
    "from src.utils import setup_logger\n",
    "from src.training.training_nn import *\n",
    "from src.utils import seed_everything\n",
    "from src.data.data_scaler import PreProcess\n",
    "from data.feature_sets import all_features"
   ]
  },
  {
   "cell_type": "code",
   "execution_count": 9,
   "id": "098d3abd",
   "metadata": {},
   "outputs": [],
   "source": [
    "def glc_transform(x):\n",
    "    x = x.copy()\n",
    "    x[x > 0] = np.log(x[x > 0]) - np.log(140)\n",
    "    return x\n",
    "\n",
    "def glc_invtransform(x):\n",
    "    x = x.copy()\n",
    "    x = np.exp(x + np.log(140))\n",
    "    return x\n",
    "\n",
    "ginv = glc_invtransform"
   ]
  },
  {
   "cell_type": "code",
   "execution_count": 10,
   "id": "774c3b77",
   "metadata": {},
   "outputs": [],
   "source": [
    "def pad_numpy(vec, pad):\n",
    "    pad_size = list(vec.shape)\n",
    "    pad_size[0] = pad - vec.shape[0]\n",
    "    return np.concatenate([vec, np.zeros(pad_size)], axis=0)"
   ]
  },
  {
   "cell_type": "code",
   "execution_count": 11,
   "id": "ad1ff5fb",
   "metadata": {},
   "outputs": [],
   "source": [
    "import torch\n",
    "from torch.utils.data import Dataset,DataLoader\n",
    "import numpy as np\n",
    "import pandas as pd\n",
    "from sklearn.model_selection import train_test_split\n",
    "\n",
    "def import_data(path):\n",
    "    df = pd.read_csv(path)\n",
    "    ids = df.icustay_id.unique()\n",
    "    for id_ in ids:\n",
    "        df_id = df.loc[df.icustay_id == id_,:]\n",
    "        if (sum(df_id.msk) == df_id.shape[0]):\n",
    "            df.drop(df.loc[df.icustay_id == id_,:].index,inplace=True)\n",
    "            print(\"excluding:\",id_)\n",
    "    return df\n",
    "\n",
    "TIME_VARS = [\"timer\",\"timer_dt\"]\n",
    "\n",
    "def pad_numpy(vec, pad, val=\"zeros\"):\n",
    "    pad_size = list(vec.shape)\n",
    "    pad_size[0] = pad - vec.shape[0]\n",
    "    if val == \"zeros\":\n",
    "        out = np.concatenate([vec, np.zeros(pad_size)], axis=0)\n",
    "    elif val == \"ones\":\n",
    "        out = np.concatenate([vec, np.ones(pad_size)], axis=0)\n",
    "    return out\n",
    "\n",
    "TIME_VARS = [\"timer\",\"timer_dt\"]\n",
    "\n",
    "class MIMICDataset(Dataset):\n",
    "    \"\"\"\n",
    "    Args:\n",
    "        patientunitstayids: \n",
    "        df:\n",
    "        ...\n",
    "    \n",
    "    Example:\n",
    "    \"\"\"\n",
    "    def __init__(self,df,features,pad=100,maxrows=100,verbose=True):\n",
    "        self.pad = pad\n",
    "        self.maxrows = maxrows\n",
    "        self.X,self.y,self.msk,self.dt,self.seqlen = self.load_data(df,features,verbose=verbose)\n",
    "        \n",
    "    def __len__(self):\n",
    "        return len(self.y)\n",
    "    \n",
    "    def __getitem__(self, idx):\n",
    "        # pad\n",
    "        X = pad_numpy(self.X[idx],self.pad).astype(np.float32)\n",
    "        y = pad_numpy(self.y[idx],self.pad).astype(np.float32)\n",
    "        msk = pad_numpy(self.msk[idx],self.pad,val=\"ones\").astype(np.int32)\n",
    "        dt = pad_numpy(self.dt[idx],self.pad).astype(np.float32)\n",
    "        seqlen = self.seqlen[idx]\n",
    "\n",
    "        return X,y,msk,dt,seqlen\n",
    "    \n",
    "    def load_data(self,df,features,verbose):\n",
    "        excl = []\n",
    "        n_excl_pt = 0\n",
    "        n_excl_rws = 0\n",
    "        X_list, y_list, msk_list, dt_list, seqlen_list = [], [], [], [], []\n",
    "        ids = df.icustay_id.unique()\n",
    "        if verbose:\n",
    "            print(\"reconfiguring data...\")\n",
    "        for id_ in ids:\n",
    "            df_id = df.loc[df.icustay_id == id_,:].iloc[0:self.maxrows]\n",
    "            if (sum(df_id.msk) == df_id.shape[0]):\n",
    "                #print(\"excluding:\",id_)\n",
    "                n_excl_pt += 1\n",
    "                n_excl_rws +=  df_id.loc[df_id.msk == 0].shape[0]\n",
    "                continue\n",
    "            # additional exclusions\n",
    "#             if ((max(df_id.timer)/24 > 7.0) or (max(df_id.timer) < 6.0)):\n",
    "#                 print(\"excluding (time):\",id_)\n",
    "#                 continue\n",
    "            n_days_gl = (max(df_id.timer_dt) - min(df_id.timer))/24\n",
    "            n_gl_meas = df_id.loc[df_id.msk == 0].shape[0]\n",
    "            if (n_gl_meas/n_days_gl < 1.0):\n",
    "                n_excl_pt += 1\n",
    "                n_excl_rws +=  df_id.loc[df_id.msk == 0].shape[0]\n",
    "                #print(\"excluding (<1/day):\",id_)\n",
    "                continue\n",
    "            X = df_id.loc[:,features]\n",
    "            y = df_id.loc[:,\"glc_dt\"]\n",
    "            msk = df_id.loc[:,\"msk\"]\n",
    "            dt = df_id.loc[:,TIME_VARS]\n",
    "            seqlen = df_id.shape[0]\n",
    "            X = np.array(X).astype(np.float32)\n",
    "            y = np.array(y).astype(np.float32)\n",
    "            msk = np.array(msk).astype(np.int32)\n",
    "            dt = np.array(dt).astype(np.float32)\n",
    "            X_list.append(X)\n",
    "            y_list.append(y)\n",
    "            msk_list.append(msk)\n",
    "            dt_list.append(dt)\n",
    "            seqlen_list.append(seqlen)\n",
    "        print(\"excluded patients:\",n_excl_pt)\n",
    "        print(\"excluded rows:\",n_excl_rws)\n",
    "        return X_list,y_list,msk_list,dt_list,seqlen_list"
   ]
  },
  {
   "cell_type": "code",
   "execution_count": 12,
   "id": "4eba6c3b",
   "metadata": {},
   "outputs": [],
   "source": [
    "df = pd.read_csv('../data/train.csv')\n",
    "train_ids, valid_ids = train_test_split(df.icustay_id.unique(),test_size=0.1)\n",
    "df_train = df.loc[df.icustay_id.isin(train_ids)]\n",
    "df_valid = df.loc[df.icustay_id.isin(valid_ids)]\n",
    "FEATURES = all_features()\n",
    "NFEATURES = len(all_features())\n",
    "preproc = PreProcess(FEATURES,QuantileTransformer())\n",
    "preproc.fit(df_train)\n",
    "df_train = preproc.transform(df_train)\n",
    "df_valid = preproc.transform(df_valid)"
   ]
  },
  {
   "cell_type": "code",
   "execution_count": 13,
   "id": "c346419a",
   "metadata": {},
   "outputs": [
    {
     "data": {
      "text/plain": [
       "42.8632813011104"
      ]
     },
     "execution_count": 13,
     "metadata": {},
     "output_type": "execute_result"
    }
   ],
   "source": [
    "math.sqrt(np.mean((ginv(df_train.loc[df_train.msk==0,'glc']) - ginv(df_train.loc[df_train.msk==0,'glc_dt']))**2))"
   ]
  },
  {
   "cell_type": "code",
   "execution_count": 14,
   "id": "1c15c18d",
   "metadata": {},
   "outputs": [
    {
     "data": {
      "text/plain": [
       "43.50852589919706"
      ]
     },
     "execution_count": 14,
     "metadata": {},
     "output_type": "execute_result"
    }
   ],
   "source": [
    "math.sqrt(np.mean((ginv(df_valid.loc[df_valid.msk==0,'glc']) - ginv(df_valid.loc[df_valid.msk==0,'glc_dt']))**2))"
   ]
  },
  {
   "cell_type": "code",
   "execution_count": 15,
   "id": "987842b2",
   "metadata": {},
   "outputs": [
    {
     "name": "stdout",
     "output_type": "stream",
     "text": [
      "reconfiguring data...\n",
      "excluded patients: 235\n",
      "excluded rows: 659\n",
      "reconfiguring data...\n",
      "excluded patients: 16\n",
      "excluded rows: 43\n"
     ]
    }
   ],
   "source": [
    "dl_train = DataLoader(MIMICDataset(df_train,FEATURES),batch_size=128,pin_memory=False)\n",
    "dl_valid = DataLoader(MIMICDataset(df_valid,FEATURES),batch_size=128,pin_memory=False)\n",
    "dataloaders = {'train':dl_train,'validation':dl_valid}"
   ]
  },
  {
   "cell_type": "code",
   "execution_count": 12,
   "id": "3ba45e75",
   "metadata": {},
   "outputs": [
    {
     "data": {
      "image/png": "[encoded data removed]",
      "text/plain": [
       "<Figure size 432x288 with 1 Axes>"
      ]
     },
     "metadata": {
      "needs_background": "light"
     },
     "output_type": "display_data"
    }
   ],
   "source": [
    "plt.hist(df.groupby(['icustay_id']).size(),range=[0,200],bins=50)\n",
    "plt.xlabel('Number of observations')\n",
    "plt.show()"
   ]
  },
  {
   "cell_type": "code",
   "execution_count": 16,
   "id": "a7b8d23d",
   "metadata": {},
   "outputs": [],
   "source": [
    "import torch \n",
    "import torch.nn as nn\n",
    "import torch.nn.functional as F\n",
    "#from torchdiffeq import odeint_adjoint as odeint\n",
    "from torchdiffeq import odeint\n",
    "\n",
    "import math\n",
    "\n",
    "import torch.nn.functional as F\n",
    "\n",
    "class Baseline(nn.Module):\n",
    "    def __init__(self, input_dim, hidden_dim, p, output_dim, device):\n",
    "        super(Baseline, self).__init__()\n",
    "        \n",
    "        self.input_dim = input_dim\n",
    "        self.hidden_dim = hidden_dim\n",
    "        self.output_dim = output_dim\n",
    "        self.p = p\n",
    "        self.device = device\n",
    "        \n",
    "    def train_single_epoch(self,dataloader,optim):\n",
    "        loss = 0.0\n",
    "        n_batches = len(dataloader)\n",
    "        print(\"number of batchs: {}\".format(n_batches))\n",
    "        for i, (x, y, msk, dt, seqlen) in enumerate(dataloader):\n",
    "            x = x.to(self.device)\n",
    "            y = y.to(self.device)\n",
    "            dt = dt.to(self.device)\n",
    "            msk = msk.bool().to(self.device)\n",
    "            optim.zero_grad()\n",
    "            preds = self.forward(dt,x).squeeze(2)\n",
    "            loss_step = self.loss_fn(preds,y,~msk.squeeze(0))\n",
    "            loss_step.backward()\n",
    "            torch.nn.utils.clip_grad_norm_(self.parameters(), 10.0)\n",
    "            optim.step()\n",
    "            loss += loss_step.item()\n",
    "            if i % int(n_batches/4) == 0:\n",
    "                print(\"Batch number: {}\".format(i))\n",
    "                print(\"BATCH_loss : {:05.3f}\".format(loss_step.item()))\n",
    "        loss /= (i + 1)\n",
    "        print(\"EPOCH_loss : {:05.3f}\".format(loss))\n",
    "        \n",
    "        return loss\n",
    "        \n",
    "    def evaluate(self,dataloader,p=0.0):\n",
    "        # batch size should be 1\n",
    "        \n",
    "        rmse, loss = 0., 0.\n",
    "        N = 0\n",
    "        y_preds = []\n",
    "        y_tests = []\n",
    "        msks = []\n",
    "        #dts = []\n",
    "        with tqdm(total=len(dataloader)) as t:\n",
    "            for i, (x, y, msk, dt,seqlen) in enumerate(dataloader):\n",
    "                N += sum(sum(msk == 0)).item()\n",
    "                x = x.to(self.device)\n",
    "                y = y.to(self.device)\n",
    "                dt = dt.to(self.device)\n",
    "                # model prediction\n",
    "                y_ = self.forward(dt,x).squeeze(2)\n",
    "                y_preds.append([yc.detach().cpu().numpy() for yc in y_]) \n",
    "                y_tests.append(y.cpu().numpy())\n",
    "                msk = msk.bool().to(self.device)\n",
    "                rmse += self.get_sse(y_,y,~msk.squeeze(0)).item()\n",
    "                loss += self.loss_fn(y_,y,~msk.squeeze(0)).item()\n",
    "                msks.append(msk.cpu().numpy())\n",
    "                t.update()\n",
    "        rmse /= N\n",
    "        loss /= (i + 1)\n",
    "        rmse = math.sqrt(rmse)\n",
    "        print(\"_rmse : {:05.3f}\".format(rmse))\n",
    "        print(\"_loss : {:05.3f}\".format(loss))\n",
    "        return loss,rmse, y_preds, y_tests, msks\n",
    "\n",
    "    def get_sse(self,y_,y,msk):\n",
    "        \"\"\"\n",
    "        SSE: sum of squared errors\n",
    "        \"\"\"\n",
    "        if type(y_) == tuple:\n",
    "            y_ = y_[0]\n",
    "        c = torch.log(torch.tensor(140.0))\n",
    "        rmse = torch.sum((torch.exp(y_[msk] + c) - torch.exp(y[msk] + c))**2)\n",
    "        return rmse"
   ]
  },
  {
   "cell_type": "code",
   "execution_count": 46,
   "id": "beb7ed9e",
   "metadata": {},
   "outputs": [],
   "source": [
    "class ODEFunc(nn.Module):\n",
    "    \"\"\"\n",
    "    dglucose/dt = NN(glucose,insulin)\n",
    "    \"\"\"\n",
    "    def __init__(self,input_dim,device):\n",
    "        super(ODEFunc, self).__init__()\n",
    "        \n",
    "        self.x = torch.zeros(128,100,6).to(device)\n",
    "        self.dt = torch.zeros(128,100,1).to(device)\n",
    "        self.device = device\n",
    "        self.net = nn.Sequential(\n",
    "            nn.Linear(input_dim, 50),\n",
    "            nn.ReLU(),\n",
    "            nn.Linear(50, 1),\n",
    "            nn.Tanh(),\n",
    "        )\n",
    "\n",
    "        for m in self.net.modules():\n",
    "            if isinstance(m, nn.Linear):\n",
    "                nn.init.normal_(m.weight, mean=0, std=0.1)\n",
    "                nn.init.constant_(m.bias, val=0)\n",
    "\n",
    "    def forward(self, t, z):\n",
    "        xz = torch.cat((z,self.x),2)\n",
    "        out = self.net(xz)\n",
    "        out = out * (self.dt/100) # -> scale by timestep\n",
    "        return out \n",
    "    \n",
    "    def solve_ode(self, x0, t, x):\n",
    "        self.x = x  # overwrites\n",
    "        self.dt = t\n",
    "        outputs = odeint(self, x0, torch.tensor([0,1.0]).to(self.device),rtol=1e-3, atol=1e-3)[1]\n",
    "        return outputs\n",
    "    \n",
    "class neuralODE(Baseline):\n",
    "\n",
    "    def __init__(self, input_dim, hidden_dim, p, output_dim, device):\n",
    "        Baseline.__init__(self,input_dim, hidden_dim, p, output_dim, device)\n",
    "        self.device = device\n",
    "        self.func = ODEFunc(input_dim,device).to(device)\n",
    "        \n",
    "    def forward(self, dt, x, seqlen=0):\n",
    "        \n",
    "        #x = x.squeeze(0)\n",
    "        #dt = dt.squeeze(0)\n",
    "        T = x.size(1)\n",
    "        \n",
    "        # ODE\n",
    "        mu_out = torch.zeros(x.size(0),T,1,device = self.device)\n",
    "        for i in range(0,T):\n",
    "            y0 = x[:,i:(i+1),0:1]\n",
    "            x_i = x[:,i:(i+1),1:]\n",
    "            dt_i = (dt[:,i,:][:,1] - dt[:,i,:][:,0]).unsqueeze(1).unsqueeze(1)\n",
    "            mu_out[:,i:(i+1),:] = self.func.solve_ode(y0,dt_i,x_i)\n",
    "\n",
    "        return mu_out\n",
    "    \n",
    "    def loss_fn(self,y_,y,msk):\n",
    "        return torch.mean((y_[msk] - y[msk])**2)"
   ]
  },
  {
   "cell_type": "code",
   "execution_count": 39,
   "id": "2d49b8fb",
   "metadata": {},
   "outputs": [],
   "source": [
    "#dl_train = DataLoader(MIMICDataset(df_train,FEATURES),batch_size=2,pin_memory=True)"
   ]
  },
  {
   "cell_type": "code",
   "execution_count": 64,
   "id": "967332cd",
   "metadata": {},
   "outputs": [
    {
     "name": "stdout",
     "output_type": "stream",
     "text": [
      "EPOCH: 0\n",
      "number of batchs: 86\n",
      "Batch number: 0\n",
      "BATCH_loss : 0.090\n",
      "Batch number: 21\n",
      "BATCH_loss : 0.070\n",
      "Batch number: 42\n",
      "BATCH_loss : 0.077\n",
      "Batch number: 63\n",
      "BATCH_loss : 0.070\n",
      "Batch number: 84\n",
      "BATCH_loss : 0.077\n",
      "EPOCH_loss : 0.073\n",
      "EPOCH: 1\n",
      "number of batchs: 86\n",
      "Batch number: 0\n",
      "BATCH_loss : 0.084\n",
      "Batch number: 21\n",
      "BATCH_loss : 0.068\n",
      "Batch number: 42\n",
      "BATCH_loss : 0.076\n",
      "Batch number: 63\n",
      "BATCH_loss : 0.068\n",
      "Batch number: 84\n",
      "BATCH_loss : 0.076\n",
      "EPOCH_loss : 0.071\n",
      "256.4110782146454\n"
     ]
    }
   ],
   "source": [
    "nepochs = 2\n",
    "n_ode = neuralODE(NFEATURES,1,0.0,1,\"cuda\").to(\"cuda\")\n",
    "model_optim = optim.Adam(n_ode.parameters(), lr=1e-2)\n",
    "start_time = time.time()\n",
    "for epoch in range(0,nepochs):\n",
    "    print(\"EPOCH: {}\".format(epoch))\n",
    "    n_ode.train_single_epoch(dl_train,model_optim)\n",
    "current_time = time.time()\n",
    "elapsed_time = current_time - start_time\n",
    "print(elapsed_time)"
   ]
  },
  {
   "cell_type": "code",
   "execution_count": null,
   "id": "9e610c18",
   "metadata": {},
   "outputs": [],
   "source": [
    "# evaluate - averages"
   ]
  },
  {
   "cell_type": "code",
   "execution_count": 65,
   "id": "6b108569",
   "metadata": {},
   "outputs": [
    {
     "name": "stderr",
     "output_type": "stream",
     "text": [
      "100%|██████████| 10/10 [00:10<00:00,  1.01s/it]"
     ]
    },
    {
     "name": "stdout",
     "output_type": "stream",
     "text": [
      "_rmse : 42.164\n",
      "_loss : 0.069\n",
      "42.16436924932725\n",
      "0.06897715628147125\n",
      "0.06976147\n",
      "0.3493343\n"
     ]
    },
    {
     "name": "stderr",
     "output_type": "stream",
     "text": [
      "\n"
     ]
    }
   ],
   "source": [
    "loss,rmse, y_preds, y_tests, msks = n_ode.evaluate(dl_valid)\n",
    "print(rmse)\n",
    "print(loss)\n",
    "\n",
    "y_preds = (np.concatenate(y_preds))\n",
    "y_tests = (np.concatenate(y_tests))\n",
    "msk = (np.concatenate(msks))\n",
    "\n",
    "diff = y_preds - y_tests\n",
    "print(np.mean(diff[~msk]**2))\n",
    "print(np.std(y_tests[~msk]))"
   ]
  },
  {
   "cell_type": "code",
   "execution_count": null,
   "id": "6a103706",
   "metadata": {},
   "outputs": [],
   "source": [
    "plt.hist(y_tests[~msk],bins=20)\n",
    "plt.show()\n",
    "plt.hist(y_preds[~msk],bins=20)\n",
    "plt.show()"
   ]
  },
  {
   "cell_type": "code",
   "execution_count": null,
   "id": "70a8bd20",
   "metadata": {},
   "outputs": [],
   "source": [
    "plt.scatter(y_preds[~msk],y_tests[~msk])\n",
    "plt.show()\n",
    "c = np.log(140)\n",
    "plt.scatter(ginv(y_preds[~msk]),ginv(y_tests[~msk]))\n",
    "plt.show()"
   ]
  },
  {
   "cell_type": "code",
   "execution_count": null,
   "id": "9346baba",
   "metadata": {},
   "outputs": [],
   "source": [
    "N = 20\n",
    "res = np.zeros(N)\n",
    "Y0 = torch.linspace(-1.0,1.0,N)\n",
    "y0 = torch.zeros(1,1,1)\n",
    "dt = torch.ones(1,1,1).to(\"cuda\")\n",
    "n_ode.func.x = torch.zeros(1,1,1).to(\"cuda\")\n",
    "n_ode.func.dt = dt\n",
    "for i in range(0,N):\n",
    "    y0[0,0,0] = Y0[i]\n",
    "    with torch.no_grad():\n",
    "        res[i] = n_ode.func(dt,y0.to(\"cuda\")).cpu().numpy().item()"
   ]
  },
  {
   "cell_type": "code",
   "execution_count": null,
   "id": "92a3efda",
   "metadata": {},
   "outputs": [],
   "source": [
    "Y0 = Y0.cpu().numpy()\n",
    "plt.scatter(Y0,res)"
   ]
  },
  {
   "cell_type": "code",
   "execution_count": null,
   "id": "b85d5796",
   "metadata": {},
   "outputs": [],
   "source": [
    "plt.scatter(Y0,Y0 + res)"
   ]
  },
  {
   "cell_type": "code",
   "execution_count": null,
   "id": "e3bc503c",
   "metadata": {},
   "outputs": [],
   "source": [
    "ts = np.linspace(0,1,10)\n",
    "fig, ax = plt.subplots(1, 1, tight_layout=True)\n",
    "for t in ts:\n",
    "    for i in range(N):\n",
    "        dy =  np.exp(Y0[i]+res[i]+np.log(140)) - np.exp(Y0[i]+np.log(140))\n",
    "        ax.arrow(t,np.exp(Y0[i]+np.log(140)),0.09,dy, width = 0.008)\n",
    "ax.set_xlabel(\"Time (hours)\")\n",
    "ax.set_ylabel(\"Blood glucose (mg/dL)\")\n",
    "fig.savefig('tmp.jpg', bbox_inches='tight', dpi=150)"
   ]
  },
  {
   "cell_type": "code",
   "execution_count": null,
   "id": "8ca166e7",
   "metadata": {},
   "outputs": [],
   "source": [
    "####################################################################################################"
   ]
  },
  {
   "cell_type": "code",
   "execution_count": 71,
   "id": "14fcc526",
   "metadata": {},
   "outputs": [],
   "source": [
    "class LODEFunc(nn.Module):\n",
    "    \"\"\"\n",
    "    dglucose/dt = NN(glucose,insulin)\n",
    "    \"\"\"\n",
    "    def __init__(self,hidden_dim,input_dim,device):\n",
    "        super(LODEFunc, self).__init__()\n",
    "\n",
    "        self.x = torch.zeros(128,100,input_dim).to(device)\n",
    "        self.dt = torch.zeros(128,100,1).to(device)\n",
    "        self.device = device\n",
    "        self.net = nn.Sequential(\n",
    "            nn.Linear(input_dim+hidden_dim, hidden_dim * 2),\n",
    "            nn.Tanh(),\n",
    "            nn.Linear(hidden_dim * 2, hidden_dim),\n",
    "            nn.Tanh(),\n",
    "        )\n",
    "\n",
    "        for m in self.net.modules():\n",
    "            if isinstance(m, nn.Linear):\n",
    "                nn.init.normal_(m.weight, mean=0, std=0.1)\n",
    "                nn.init.constant_(m.bias, val=0)\n",
    "\n",
    "    def forward(self, t, z):\n",
    "        xz = torch.cat((z,self.x),2)\n",
    "        out = self.net(xz)\n",
    "        out = out * (self.dt/100) # -> scale by timestep\n",
    "        return out \n",
    "\n",
    "    def solve_ode(self, z0, t, x):\n",
    "        self.x = x  # overwrites\n",
    "        self.dt = t\n",
    "        outputs = odeint(self, z0, torch.tensor([0,1.0]).to(self.device),rtol=1e-1, atol=1e-1)[1]\n",
    "        return outputs\n",
    "    \n",
    "class latentODE(Baseline):\n",
    "\n",
    "    def __init__(self, input_dim, hidden_dim, p, output_dim, device):\n",
    "        Baseline.__init__(self,input_dim, hidden_dim, p, output_dim, device)\n",
    "        self.device = device\n",
    "        self.func = LODEFunc(hidden_dim,input_dim,device).to(device)\n",
    "        self.mu_net = nn.Sequential(\n",
    "            nn.Linear(hidden_dim, hidden_dim // 2),\n",
    "            nn.Tanh(),\n",
    "            nn.Linear(hidden_dim // 2, 1)\n",
    "        ).to(device)\n",
    "        self.encode_z0 = nn.Sequential(\n",
    "            nn.Linear(input_dim, max(hidden_dim,hidden_dim) // 2),\n",
    "            nn.Tanh(),\n",
    "            nn.Linear(max(hidden_dim,hidden_dim) // 2, hidden_dim),\n",
    "            nn.Tanh(),\n",
    "        ).to(device)\n",
    "        \n",
    "        for m in self.encode_z0.modules():\n",
    "            if isinstance(m, nn.Linear):\n",
    "                nn.init.normal_(m.weight, mean=0, std=0.1)\n",
    "                nn.init.constant_(m.bias, val=0)\n",
    "        \n",
    "    def forward(self, dt, x, seqlen=0):\n",
    "        \n",
    "        #x = x.squeeze(0)\n",
    "        batch_size = x.size(0)\n",
    "        T = x.size(1)\n",
    "        \n",
    "        # ODE\n",
    "        mu_out = torch.zeros(batch_size,T,1,device = self.device)\n",
    "        #z0 = 0.01 * torch.randn(batch_size,1,self.hidden_dim,device = self.device)\n",
    "        z0 = self.encode_z0(x[:,0,:]).unsqueeze(1)\n",
    "        for i in range(0,T):\n",
    "            x_i = x[:,i:(i+1),:]\n",
    "            dt_i = (dt[:,i,:][:,1] - dt[:,i,:][:,0]).unsqueeze(1).unsqueeze(1)\n",
    "            z0 = self.func.solve_ode(z0,dt_i,x_i)\n",
    "            mu_out[:,i:(i+1),:] = self.mu_net(z0.squeeze(1)).unsqueeze(1)\n",
    "\n",
    "        return mu_out\n",
    "    \n",
    "    def loss_fn(self,y_,y,msk):\n",
    "        return torch.mean((y_[msk] - y[msk])**2)"
   ]
  },
  {
   "cell_type": "code",
   "execution_count": 72,
   "id": "4a833ebd",
   "metadata": {},
   "outputs": [
    {
     "name": "stdout",
     "output_type": "stream",
     "text": [
      "torch.Size([128, 100, 1])\n",
      "tensor(0.1486, device='cuda:0', grad_fn=<MeanBackward0>)\n"
     ]
    }
   ],
   "source": [
    "l_ode = latentODE(NFEATURES,8,0.0,1,\"cuda\").to(\"cuda\")\n",
    "x,y,msk,dt,_ = next(iter(dl_train))\n",
    "y_ = l_ode(dt.to(\"cuda\"),x.to(\"cuda\"))\n",
    "print(y_.shape)\n",
    "loss = l_ode.loss_fn(y.to(\"cuda\"),y_.squeeze(2),~msk.bool().to(\"cuda\").squeeze(0))\n",
    "print(loss)\n",
    "loss.backward()"
   ]
  },
  {
   "cell_type": "code",
   "execution_count": 73,
   "id": "3f336a31",
   "metadata": {},
   "outputs": [
    {
     "name": "stdout",
     "output_type": "stream",
     "text": [
      "EPOCH: 0\n",
      "number of batchs: 86\n",
      "Batch number: 0\n",
      "BATCH_loss : 0.238\n",
      "Batch number: 21\n",
      "BATCH_loss : 0.112\n",
      "Batch number: 42\n",
      "BATCH_loss : 0.101\n",
      "Batch number: 63\n",
      "BATCH_loss : 0.107\n",
      "Batch number: 84\n",
      "BATCH_loss : 0.104\n",
      "EPOCH_loss : 0.108\n",
      "EPOCH: 1\n",
      "number of batchs: 86\n",
      "Batch number: 0\n",
      "BATCH_loss : 0.098\n",
      "Batch number: 21\n",
      "BATCH_loss : 0.081\n",
      "Batch number: 42\n",
      "BATCH_loss : 0.082\n",
      "Batch number: 63\n",
      "BATCH_loss : 0.092\n",
      "Batch number: 84\n",
      "BATCH_loss : 0.099\n",
      "EPOCH_loss : 0.087\n",
      "EPOCH: 2\n",
      "number of batchs: 86\n",
      "Batch number: 0\n",
      "BATCH_loss : 0.097\n",
      "Batch number: 21\n",
      "BATCH_loss : 0.078\n",
      "Batch number: 42\n",
      "BATCH_loss : 0.077\n",
      "Batch number: 63\n",
      "BATCH_loss : 0.085\n",
      "Batch number: 84\n",
      "BATCH_loss : 0.092\n",
      "EPOCH_loss : 0.082\n",
      "EPOCH: 3\n",
      "number of batchs: 86\n",
      "Batch number: 0\n",
      "BATCH_loss : 0.091\n",
      "Batch number: 21\n",
      "BATCH_loss : 0.077\n",
      "Batch number: 42\n",
      "BATCH_loss : 0.075\n"
     ]
    },
    {
     "ename": "KeyboardInterrupt",
     "evalue": "",
     "output_type": "error",
     "traceback": [
      "\u001b[0;31m---------------------------------------------------------------------------\u001b[0m",
      "\u001b[0;31mKeyboardInterrupt\u001b[0m                         Traceback (most recent call last)",
      "\u001b[0;32m/tmp/ipykernel_30965/389348401.py\u001b[0m in \u001b[0;36m<module>\u001b[0;34m\u001b[0m\n\u001b[1;32m      5\u001b[0m \u001b[0;32mfor\u001b[0m \u001b[0mepoch\u001b[0m \u001b[0;32min\u001b[0m \u001b[0mrange\u001b[0m\u001b[0;34m(\u001b[0m\u001b[0;36m0\u001b[0m\u001b[0;34m,\u001b[0m\u001b[0mnepochs\u001b[0m\u001b[0;34m)\u001b[0m\u001b[0;34m:\u001b[0m\u001b[0;34m\u001b[0m\u001b[0;34m\u001b[0m\u001b[0m\n\u001b[1;32m      6\u001b[0m     \u001b[0mprint\u001b[0m\u001b[0;34m(\u001b[0m\u001b[0;34m\"EPOCH: {}\"\u001b[0m\u001b[0;34m.\u001b[0m\u001b[0mformat\u001b[0m\u001b[0;34m(\u001b[0m\u001b[0mepoch\u001b[0m\u001b[0;34m)\u001b[0m\u001b[0;34m)\u001b[0m\u001b[0;34m\u001b[0m\u001b[0;34m\u001b[0m\u001b[0m\n\u001b[0;32m----> 7\u001b[0;31m     \u001b[0ml_ode\u001b[0m\u001b[0;34m.\u001b[0m\u001b[0mtrain_single_epoch\u001b[0m\u001b[0;34m(\u001b[0m\u001b[0mdl_train\u001b[0m\u001b[0;34m,\u001b[0m\u001b[0mmodel_optim\u001b[0m\u001b[0;34m)\u001b[0m\u001b[0;34m\u001b[0m\u001b[0;34m\u001b[0m\u001b[0m\n\u001b[0m\u001b[1;32m      8\u001b[0m \u001b[0mcurrent_time\u001b[0m \u001b[0;34m=\u001b[0m \u001b[0mtime\u001b[0m\u001b[0;34m.\u001b[0m\u001b[0mtime\u001b[0m\u001b[0;34m(\u001b[0m\u001b[0;34m)\u001b[0m\u001b[0;34m\u001b[0m\u001b[0;34m\u001b[0m\u001b[0m\n\u001b[1;32m      9\u001b[0m \u001b[0melapsed_time\u001b[0m \u001b[0;34m=\u001b[0m \u001b[0mcurrent_time\u001b[0m \u001b[0;34m-\u001b[0m \u001b[0mstart_time\u001b[0m\u001b[0;34m\u001b[0m\u001b[0;34m\u001b[0m\u001b[0m\n",
      "\u001b[0;32m/tmp/ipykernel_30965/2470841599.py\u001b[0m in \u001b[0;36mtrain_single_epoch\u001b[0;34m(self, dataloader, optim)\u001b[0m\n\u001b[1;32m     29\u001b[0m             \u001b[0mmsk\u001b[0m \u001b[0;34m=\u001b[0m \u001b[0mmsk\u001b[0m\u001b[0;34m.\u001b[0m\u001b[0mbool\u001b[0m\u001b[0;34m(\u001b[0m\u001b[0;34m)\u001b[0m\u001b[0;34m.\u001b[0m\u001b[0mto\u001b[0m\u001b[0;34m(\u001b[0m\u001b[0mself\u001b[0m\u001b[0;34m.\u001b[0m\u001b[0mdevice\u001b[0m\u001b[0;34m)\u001b[0m\u001b[0;34m\u001b[0m\u001b[0;34m\u001b[0m\u001b[0m\n\u001b[1;32m     30\u001b[0m             \u001b[0moptim\u001b[0m\u001b[0;34m.\u001b[0m\u001b[0mzero_grad\u001b[0m\u001b[0;34m(\u001b[0m\u001b[0;34m)\u001b[0m\u001b[0;34m\u001b[0m\u001b[0;34m\u001b[0m\u001b[0m\n\u001b[0;32m---> 31\u001b[0;31m             \u001b[0mpreds\u001b[0m \u001b[0;34m=\u001b[0m \u001b[0mself\u001b[0m\u001b[0;34m.\u001b[0m\u001b[0mforward\u001b[0m\u001b[0;34m(\u001b[0m\u001b[0mdt\u001b[0m\u001b[0;34m,\u001b[0m\u001b[0mx\u001b[0m\u001b[0;34m)\u001b[0m\u001b[0;34m.\u001b[0m\u001b[0msqueeze\u001b[0m\u001b[0;34m(\u001b[0m\u001b[0;36m2\u001b[0m\u001b[0;34m)\u001b[0m\u001b[0;34m\u001b[0m\u001b[0;34m\u001b[0m\u001b[0m\n\u001b[0m\u001b[1;32m     32\u001b[0m             \u001b[0mloss_step\u001b[0m \u001b[0;34m=\u001b[0m \u001b[0mself\u001b[0m\u001b[0;34m.\u001b[0m\u001b[0mloss_fn\u001b[0m\u001b[0;34m(\u001b[0m\u001b[0mpreds\u001b[0m\u001b[0;34m,\u001b[0m\u001b[0my\u001b[0m\u001b[0;34m,\u001b[0m\u001b[0;34m~\u001b[0m\u001b[0mmsk\u001b[0m\u001b[0;34m.\u001b[0m\u001b[0msqueeze\u001b[0m\u001b[0;34m(\u001b[0m\u001b[0;36m0\u001b[0m\u001b[0;34m)\u001b[0m\u001b[0;34m)\u001b[0m\u001b[0;34m\u001b[0m\u001b[0;34m\u001b[0m\u001b[0m\n\u001b[1;32m     33\u001b[0m             \u001b[0mloss_step\u001b[0m\u001b[0;34m.\u001b[0m\u001b[0mbackward\u001b[0m\u001b[0;34m(\u001b[0m\u001b[0;34m)\u001b[0m\u001b[0;34m\u001b[0m\u001b[0;34m\u001b[0m\u001b[0m\n",
      "\u001b[0;32m/tmp/ipykernel_30965/2243593284.py\u001b[0m in \u001b[0;36mforward\u001b[0;34m(self, dt, x, seqlen)\u001b[0m\n\u001b[1;32m     70\u001b[0m             \u001b[0mdt_i\u001b[0m \u001b[0;34m=\u001b[0m \u001b[0;34m(\u001b[0m\u001b[0mdt\u001b[0m\u001b[0;34m[\u001b[0m\u001b[0;34m:\u001b[0m\u001b[0;34m,\u001b[0m\u001b[0mi\u001b[0m\u001b[0;34m,\u001b[0m\u001b[0;34m:\u001b[0m\u001b[0;34m]\u001b[0m\u001b[0;34m[\u001b[0m\u001b[0;34m:\u001b[0m\u001b[0;34m,\u001b[0m\u001b[0;36m1\u001b[0m\u001b[0;34m]\u001b[0m \u001b[0;34m-\u001b[0m \u001b[0mdt\u001b[0m\u001b[0;34m[\u001b[0m\u001b[0;34m:\u001b[0m\u001b[0;34m,\u001b[0m\u001b[0mi\u001b[0m\u001b[0;34m,\u001b[0m\u001b[0;34m:\u001b[0m\u001b[0;34m]\u001b[0m\u001b[0;34m[\u001b[0m\u001b[0;34m:\u001b[0m\u001b[0;34m,\u001b[0m\u001b[0;36m0\u001b[0m\u001b[0;34m]\u001b[0m\u001b[0;34m)\u001b[0m\u001b[0;34m.\u001b[0m\u001b[0munsqueeze\u001b[0m\u001b[0;34m(\u001b[0m\u001b[0;36m1\u001b[0m\u001b[0;34m)\u001b[0m\u001b[0;34m.\u001b[0m\u001b[0munsqueeze\u001b[0m\u001b[0;34m(\u001b[0m\u001b[0;36m1\u001b[0m\u001b[0;34m)\u001b[0m\u001b[0;34m\u001b[0m\u001b[0;34m\u001b[0m\u001b[0m\n\u001b[1;32m     71\u001b[0m             \u001b[0mz0\u001b[0m \u001b[0;34m=\u001b[0m \u001b[0mself\u001b[0m\u001b[0;34m.\u001b[0m\u001b[0mfunc\u001b[0m\u001b[0;34m.\u001b[0m\u001b[0msolve_ode\u001b[0m\u001b[0;34m(\u001b[0m\u001b[0mz0\u001b[0m\u001b[0;34m,\u001b[0m\u001b[0mdt_i\u001b[0m\u001b[0;34m,\u001b[0m\u001b[0mx_i\u001b[0m\u001b[0;34m)\u001b[0m\u001b[0;34m\u001b[0m\u001b[0;34m\u001b[0m\u001b[0m\n\u001b[0;32m---> 72\u001b[0;31m             \u001b[0mmu_out\u001b[0m\u001b[0;34m[\u001b[0m\u001b[0;34m:\u001b[0m\u001b[0;34m,\u001b[0m\u001b[0mi\u001b[0m\u001b[0;34m:\u001b[0m\u001b[0;34m(\u001b[0m\u001b[0mi\u001b[0m\u001b[0;34m+\u001b[0m\u001b[0;36m1\u001b[0m\u001b[0;34m)\u001b[0m\u001b[0;34m,\u001b[0m\u001b[0;34m:\u001b[0m\u001b[0;34m]\u001b[0m \u001b[0;34m=\u001b[0m \u001b[0mself\u001b[0m\u001b[0;34m.\u001b[0m\u001b[0mmu_net\u001b[0m\u001b[0;34m(\u001b[0m\u001b[0mz0\u001b[0m\u001b[0;34m.\u001b[0m\u001b[0msqueeze\u001b[0m\u001b[0;34m(\u001b[0m\u001b[0;36m1\u001b[0m\u001b[0;34m)\u001b[0m\u001b[0;34m)\u001b[0m\u001b[0;34m.\u001b[0m\u001b[0munsqueeze\u001b[0m\u001b[0;34m(\u001b[0m\u001b[0;36m1\u001b[0m\u001b[0;34m)\u001b[0m\u001b[0;34m\u001b[0m\u001b[0;34m\u001b[0m\u001b[0m\n\u001b[0m\u001b[1;32m     73\u001b[0m \u001b[0;34m\u001b[0m\u001b[0m\n\u001b[1;32m     74\u001b[0m         \u001b[0;32mreturn\u001b[0m \u001b[0mmu_out\u001b[0m\u001b[0;34m\u001b[0m\u001b[0;34m\u001b[0m\u001b[0m\n",
      "\u001b[0;32m/opt/conda/lib/python3.7/site-packages/torch/nn/modules/module.py\u001b[0m in \u001b[0;36m_call_impl\u001b[0;34m(self, *input, **kwargs)\u001b[0m\n\u001b[1;32m   1049\u001b[0m         if not (self._backward_hooks or self._forward_hooks or self._forward_pre_hooks or _global_backward_hooks\n\u001b[1;32m   1050\u001b[0m                 or _global_forward_hooks or _global_forward_pre_hooks):\n\u001b[0;32m-> 1051\u001b[0;31m             \u001b[0;32mreturn\u001b[0m \u001b[0mforward_call\u001b[0m\u001b[0;34m(\u001b[0m\u001b[0;34m*\u001b[0m\u001b[0minput\u001b[0m\u001b[0;34m,\u001b[0m \u001b[0;34m**\u001b[0m\u001b[0mkwargs\u001b[0m\u001b[0;34m)\u001b[0m\u001b[0;34m\u001b[0m\u001b[0;34m\u001b[0m\u001b[0m\n\u001b[0m\u001b[1;32m   1052\u001b[0m         \u001b[0;31m# Do not call functions when jit is used\u001b[0m\u001b[0;34m\u001b[0m\u001b[0;34m\u001b[0m\u001b[0;34m\u001b[0m\u001b[0m\n\u001b[1;32m   1053\u001b[0m         \u001b[0mfull_backward_hooks\u001b[0m\u001b[0;34m,\u001b[0m \u001b[0mnon_full_backward_hooks\u001b[0m \u001b[0;34m=\u001b[0m \u001b[0;34m[\u001b[0m\u001b[0;34m]\u001b[0m\u001b[0;34m,\u001b[0m \u001b[0;34m[\u001b[0m\u001b[0;34m]\u001b[0m\u001b[0;34m\u001b[0m\u001b[0;34m\u001b[0m\u001b[0m\n",
      "\u001b[0;32m/opt/conda/lib/python3.7/site-packages/torch/nn/modules/container.py\u001b[0m in \u001b[0;36mforward\u001b[0;34m(self, input)\u001b[0m\n\u001b[1;32m    137\u001b[0m     \u001b[0;32mdef\u001b[0m \u001b[0mforward\u001b[0m\u001b[0;34m(\u001b[0m\u001b[0mself\u001b[0m\u001b[0;34m,\u001b[0m \u001b[0minput\u001b[0m\u001b[0;34m)\u001b[0m\u001b[0;34m:\u001b[0m\u001b[0;34m\u001b[0m\u001b[0;34m\u001b[0m\u001b[0m\n\u001b[1;32m    138\u001b[0m         \u001b[0;32mfor\u001b[0m \u001b[0mmodule\u001b[0m \u001b[0;32min\u001b[0m \u001b[0mself\u001b[0m\u001b[0;34m:\u001b[0m\u001b[0;34m\u001b[0m\u001b[0;34m\u001b[0m\u001b[0m\n\u001b[0;32m--> 139\u001b[0;31m             \u001b[0minput\u001b[0m \u001b[0;34m=\u001b[0m \u001b[0mmodule\u001b[0m\u001b[0;34m(\u001b[0m\u001b[0minput\u001b[0m\u001b[0;34m)\u001b[0m\u001b[0;34m\u001b[0m\u001b[0;34m\u001b[0m\u001b[0m\n\u001b[0m\u001b[1;32m    140\u001b[0m         \u001b[0;32mreturn\u001b[0m \u001b[0minput\u001b[0m\u001b[0;34m\u001b[0m\u001b[0;34m\u001b[0m\u001b[0m\n\u001b[1;32m    141\u001b[0m \u001b[0;34m\u001b[0m\u001b[0m\n",
      "\u001b[0;32m/opt/conda/lib/python3.7/site-packages/torch/nn/modules/module.py\u001b[0m in \u001b[0;36m_call_impl\u001b[0;34m(self, *input, **kwargs)\u001b[0m\n\u001b[1;32m   1049\u001b[0m         if not (self._backward_hooks or self._forward_hooks or self._forward_pre_hooks or _global_backward_hooks\n\u001b[1;32m   1050\u001b[0m                 or _global_forward_hooks or _global_forward_pre_hooks):\n\u001b[0;32m-> 1051\u001b[0;31m             \u001b[0;32mreturn\u001b[0m \u001b[0mforward_call\u001b[0m\u001b[0;34m(\u001b[0m\u001b[0;34m*\u001b[0m\u001b[0minput\u001b[0m\u001b[0;34m,\u001b[0m \u001b[0;34m**\u001b[0m\u001b[0mkwargs\u001b[0m\u001b[0;34m)\u001b[0m\u001b[0;34m\u001b[0m\u001b[0;34m\u001b[0m\u001b[0m\n\u001b[0m\u001b[1;32m   1052\u001b[0m         \u001b[0;31m# Do not call functions when jit is used\u001b[0m\u001b[0;34m\u001b[0m\u001b[0;34m\u001b[0m\u001b[0;34m\u001b[0m\u001b[0m\n\u001b[1;32m   1053\u001b[0m         \u001b[0mfull_backward_hooks\u001b[0m\u001b[0;34m,\u001b[0m \u001b[0mnon_full_backward_hooks\u001b[0m \u001b[0;34m=\u001b[0m \u001b[0;34m[\u001b[0m\u001b[0;34m]\u001b[0m\u001b[0;34m,\u001b[0m \u001b[0;34m[\u001b[0m\u001b[0;34m]\u001b[0m\u001b[0;34m\u001b[0m\u001b[0;34m\u001b[0m\u001b[0m\n",
      "\u001b[0;32m/opt/conda/lib/python3.7/site-packages/torch/nn/modules/activation.py\u001b[0m in \u001b[0;36mforward\u001b[0;34m(self, input)\u001b[0m\n\u001b[1;32m    357\u001b[0m \u001b[0;34m\u001b[0m\u001b[0m\n\u001b[1;32m    358\u001b[0m     \u001b[0;32mdef\u001b[0m \u001b[0mforward\u001b[0m\u001b[0;34m(\u001b[0m\u001b[0mself\u001b[0m\u001b[0;34m,\u001b[0m \u001b[0minput\u001b[0m\u001b[0;34m:\u001b[0m \u001b[0mTensor\u001b[0m\u001b[0;34m)\u001b[0m \u001b[0;34m->\u001b[0m \u001b[0mTensor\u001b[0m\u001b[0;34m:\u001b[0m\u001b[0;34m\u001b[0m\u001b[0;34m\u001b[0m\u001b[0m\n\u001b[0;32m--> 359\u001b[0;31m         \u001b[0;32mreturn\u001b[0m \u001b[0mtorch\u001b[0m\u001b[0;34m.\u001b[0m\u001b[0mtanh\u001b[0m\u001b[0;34m(\u001b[0m\u001b[0minput\u001b[0m\u001b[0;34m)\u001b[0m\u001b[0;34m\u001b[0m\u001b[0;34m\u001b[0m\u001b[0m\n\u001b[0m\u001b[1;32m    360\u001b[0m \u001b[0;34m\u001b[0m\u001b[0m\n\u001b[1;32m    361\u001b[0m \u001b[0;32mclass\u001b[0m \u001b[0mSiLU\u001b[0m\u001b[0;34m(\u001b[0m\u001b[0mModule\u001b[0m\u001b[0;34m)\u001b[0m\u001b[0;34m:\u001b[0m\u001b[0;34m\u001b[0m\u001b[0;34m\u001b[0m\u001b[0m\n",
      "\u001b[0;31mKeyboardInterrupt\u001b[0m: "
     ]
    }
   ],
   "source": [
    "nepochs = 5\n",
    "l_ode = latentODE(NFEATURES,10,0.1,1,\"cuda\")\n",
    "model_optim = optim.Adam(l_ode.parameters(), lr=1e-2)\n",
    "start_time = time.time()\n",
    "for epoch in range(0,nepochs):\n",
    "    print(\"EPOCH: {}\".format(epoch))\n",
    "    l_ode.train_single_epoch(dl_train,model_optim)\n",
    "current_time = time.time()\n",
    "elapsed_time = current_time - start_time\n",
    "print(\"time: {}\".format(elapsed_time))"
   ]
  },
  {
   "cell_type": "code",
   "execution_count": 69,
   "id": "c19c12ba",
   "metadata": {},
   "outputs": [
    {
     "name": "stderr",
     "output_type": "stream",
     "text": [
      "100%|██████████| 10/10 [00:09<00:00,  1.03it/s]"
     ]
    },
    {
     "name": "stdout",
     "output_type": "stream",
     "text": [
      "_rmse : 51.927\n",
      "_loss : 0.090\n"
     ]
    },
    {
     "name": "stderr",
     "output_type": "stream",
     "text": [
      "\n"
     ]
    }
   ],
   "source": [
    "loss,rmse, y_preds, y_tests, msks = l_ode.evaluate(dl_valid)"
   ]
  },
  {
   "cell_type": "code",
   "execution_count": null,
   "id": "86da3160",
   "metadata": {},
   "outputs": [],
   "source": [
    "y_preds = (np.concatenate(y_preds))\n",
    "y_tests = (np.concatenate(y_tests))\n",
    "msk = (np.concatenate(msks))"
   ]
  },
  {
   "cell_type": "code",
   "execution_count": null,
   "id": "e23cb231",
   "metadata": {},
   "outputs": [],
   "source": [
    "plt.scatter(ginv(y_preds[~msk]),ginv(y_tests[~msk]))\n",
    "plt.show()"
   ]
  },
  {
   "cell_type": "code",
   "execution_count": null,
   "id": "bee787d4",
   "metadata": {},
   "outputs": [],
   "source": [
    "##########################################################################################################"
   ]
  },
  {
   "cell_type": "code",
   "execution_count": null,
   "id": "011e7917",
   "metadata": {},
   "outputs": [],
   "source": [
    "# linear system of z = (g,h)"
   ]
  },
  {
   "cell_type": "code",
   "execution_count": 86,
   "id": "487f71d1",
   "metadata": {},
   "outputs": [],
   "source": [
    " class recurrentODE_(nn.Module):\n",
    "    \"\"\"\n",
    "    (dglucose/dt,dh/dt) = (RNN(glucose,h),NN(h,x))\n",
    "    \"\"\"\n",
    "    def __init__(self,hidden_dim,input_dim,batch_size,device):\n",
    "        super(recurrentODE_, self).__init__()\n",
    "        \n",
    "        self.x = torch.zeros(batch_size,100,input_dim).to(device)\n",
    "        self.dt = torch.zeros(batch_size,100,1).to(device)\n",
    "        self.device = device\n",
    "        # dh/dt\n",
    "        self.dh = nn.Sequential(\n",
    "            nn.Linear(hidden_dim+input_dim, (hidden_dim+input_dim)*2),\n",
    "            nn.ReLU(),\n",
    "            nn.Linear((hidden_dim+input_dim)*2, hidden_dim),\n",
    "            nn.Tanh(),\n",
    "        ).to(device)\n",
    "        # dy/dt\n",
    "        self.dy_rnn = nn.RNNCell(input_dim, hidden_dim)\n",
    "        self.dy_lin = nn.Linear(hidden_dim, 1)\n",
    "        self.dy_tanh = nn.Tanh()\n",
    "\n",
    "        for m in self.dh.modules():\n",
    "            if isinstance(m, nn.Linear):\n",
    "                nn.init.normal_(m.weight, mean=0, std=0.1)\n",
    "                nn.init.constant_(m.bias, val=0)\n",
    "        nn.init.normal_(self.dy_rnn.weight_ih,mean=0, std=0.1)\n",
    "        nn.init.normal_(self.dy_rnn.weight_hh,mean=0, std=0.1)\n",
    "        nn.init.constant_(self.dy_rnn.bias_ih, val=0)\n",
    "        nn.init.constant_(self.dy_rnn.bias_ih, val=0)\n",
    "        nn.init.normal_(self.dy_lin.weight,mean=0, std=0.1)\n",
    "        nn.init.constant_(self.dy_lin.bias, val=0)\n",
    "\n",
    "    def forward(self, t, z):\n",
    "        # dh/dt\n",
    "        #dh = self.dh(z[:,:,1:])*self.dt\n",
    "        dh = self.dh(torch.cat((self.x,z[:,:,1:]),2)) * (self.dt / 50)\n",
    "        # dy/dt\n",
    "        #dy = self.dy_rnn(self.x.squeeze(1),z[:,:,1:].squeeze(1)) # hidden should be shape (1,batch,hidden)\n",
    "        #dy = self.dy_lin(dy.unsqueeze(1))\n",
    "        dy = self.dy_lin(z[:,:,1:])\n",
    "        dy = self.dy_tanh(dy) * (self.dt / 50)\n",
    "        return torch.cat((dy,dh),2)\n",
    "    \n",
    "    def solve_ode(self, z0, t, x):\n",
    "        self.x = x  # overwrites\n",
    "        self.dt = t\n",
    "        outputs = odeint(self, z0, torch.tensor([0,1.0]).to(self.device),rtol=1e-1, atol=1e-1)[1]\n",
    "        return outputs\n",
    "    \n",
    "class recurrentODE(Baseline):\n",
    "\n",
    "    def __init__(self, input_dim, hidden_dim, p, output_dim,batch_size, device):\n",
    "        Baseline.__init__(self,input_dim, hidden_dim, p, output_dim, device)\n",
    "        self.device = device\n",
    "        self.batch_size = batch_size\n",
    "        self.func = recurrentODE_(hidden_dim,input_dim,batch_size,device).to(device)\n",
    "        \n",
    "    def forward(self, dt, x, seqlen=0):\n",
    "        \n",
    "        #x = x.squeeze(0)\n",
    "        batch_size = x.size(0)\n",
    "        T = x.size(1)\n",
    "\n",
    "        # ODE stuff\n",
    "        mu_out = torch.zeros(batch_size,T,1,device = self.device)\n",
    "        z0 = torch.zeros(batch_size,1,self.hidden_dim+1,device = self.device)\n",
    "        for i in range(0,T):\n",
    "            x_i = x[:,i:(i+1),:]\n",
    "            y0 = x[:,i:(i+1),0:1]\n",
    "            z0[:,:,0:1] = y0\n",
    "            dt_i = (dt[:,i,:][:,1] - dt[:,i,:][:,0]).unsqueeze(1).unsqueeze(1)\n",
    "            z0 = self.func.solve_ode(z0,dt_i,x_i)\n",
    "            mu_out[:,i:(i+1),:] = z0[:,:,0:1]\n",
    "\n",
    "        return mu_out\n",
    "    \n",
    "    def loss_fn(self,y_,y,msk):\n",
    "        return torch.mean((y_[msk] - y[msk])**2)"
   ]
  },
  {
   "cell_type": "code",
   "execution_count": 89,
   "id": "da5fbb9b",
   "metadata": {},
   "outputs": [
    {
     "name": "stdout",
     "output_type": "stream",
     "text": [
      "EPOCH: 0\n",
      "number of batchs: 86\n",
      "Batch number: 0\n",
      "BATCH_loss : 0.090\n",
      "Batch number: 21\n",
      "BATCH_loss : 0.072\n",
      "Batch number: 42\n",
      "BATCH_loss : 0.082\n",
      "Batch number: 63\n",
      "BATCH_loss : 0.074\n",
      "Batch number: 84\n",
      "BATCH_loss : 0.082\n",
      "EPOCH_loss : 0.076\n",
      "EPOCH: 1\n",
      "number of batchs: 86\n",
      "Batch number: 0\n",
      "BATCH_loss : 0.090\n",
      "Batch number: 21\n",
      "BATCH_loss : 0.072\n",
      "Batch number: 42\n",
      "BATCH_loss : 0.082\n",
      "Batch number: 63\n",
      "BATCH_loss : 0.074\n",
      "Batch number: 84\n",
      "BATCH_loss : 0.081\n",
      "EPOCH_loss : 0.076\n",
      "EPOCH: 2\n",
      "number of batchs: 86\n",
      "Batch number: 0\n",
      "BATCH_loss : 0.090\n",
      "Batch number: 21\n",
      "BATCH_loss : 0.072\n",
      "Batch number: 42\n",
      "BATCH_loss : 0.082\n"
     ]
    },
    {
     "ename": "KeyboardInterrupt",
     "evalue": "",
     "output_type": "error",
     "traceback": [
      "\u001b[0;31m---------------------------------------------------------------------------\u001b[0m",
      "\u001b[0;31mKeyboardInterrupt\u001b[0m                         Traceback (most recent call last)",
      "\u001b[0;32m/tmp/ipykernel_30965/2074084228.py\u001b[0m in \u001b[0;36m<module>\u001b[0;34m\u001b[0m\n\u001b[1;32m      6\u001b[0m \u001b[0;32mfor\u001b[0m \u001b[0mepoch\u001b[0m \u001b[0;32min\u001b[0m \u001b[0mrange\u001b[0m\u001b[0;34m(\u001b[0m\u001b[0;36m0\u001b[0m\u001b[0;34m,\u001b[0m\u001b[0mnepochs\u001b[0m\u001b[0;34m)\u001b[0m\u001b[0;34m:\u001b[0m\u001b[0;34m\u001b[0m\u001b[0;34m\u001b[0m\u001b[0m\n\u001b[1;32m      7\u001b[0m     \u001b[0mprint\u001b[0m\u001b[0;34m(\u001b[0m\u001b[0;34m\"EPOCH: {}\"\u001b[0m\u001b[0;34m.\u001b[0m\u001b[0mformat\u001b[0m\u001b[0;34m(\u001b[0m\u001b[0mepoch\u001b[0m\u001b[0;34m)\u001b[0m\u001b[0;34m)\u001b[0m\u001b[0;34m\u001b[0m\u001b[0;34m\u001b[0m\u001b[0m\n\u001b[0;32m----> 8\u001b[0;31m     \u001b[0mr_ode\u001b[0m\u001b[0;34m.\u001b[0m\u001b[0mtrain_single_epoch\u001b[0m\u001b[0;34m(\u001b[0m\u001b[0mdl_train\u001b[0m\u001b[0;34m,\u001b[0m\u001b[0mmodel_optim\u001b[0m\u001b[0;34m)\u001b[0m\u001b[0;34m\u001b[0m\u001b[0;34m\u001b[0m\u001b[0m\n\u001b[0m\u001b[1;32m      9\u001b[0m \u001b[0mcurrent_time\u001b[0m \u001b[0;34m=\u001b[0m \u001b[0mtime\u001b[0m\u001b[0;34m.\u001b[0m\u001b[0mtime\u001b[0m\u001b[0;34m(\u001b[0m\u001b[0;34m)\u001b[0m\u001b[0;34m\u001b[0m\u001b[0;34m\u001b[0m\u001b[0m\n\u001b[1;32m     10\u001b[0m \u001b[0melapsed_time\u001b[0m \u001b[0;34m=\u001b[0m \u001b[0mcurrent_time\u001b[0m \u001b[0;34m-\u001b[0m \u001b[0mstart_time\u001b[0m\u001b[0;34m\u001b[0m\u001b[0;34m\u001b[0m\u001b[0m\n",
      "\u001b[0;32m/tmp/ipykernel_30965/2470841599.py\u001b[0m in \u001b[0;36mtrain_single_epoch\u001b[0;34m(self, dataloader, optim)\u001b[0m\n\u001b[1;32m     31\u001b[0m             \u001b[0mpreds\u001b[0m \u001b[0;34m=\u001b[0m \u001b[0mself\u001b[0m\u001b[0;34m.\u001b[0m\u001b[0mforward\u001b[0m\u001b[0;34m(\u001b[0m\u001b[0mdt\u001b[0m\u001b[0;34m,\u001b[0m\u001b[0mx\u001b[0m\u001b[0;34m)\u001b[0m\u001b[0;34m.\u001b[0m\u001b[0msqueeze\u001b[0m\u001b[0;34m(\u001b[0m\u001b[0;36m2\u001b[0m\u001b[0;34m)\u001b[0m\u001b[0;34m\u001b[0m\u001b[0;34m\u001b[0m\u001b[0m\n\u001b[1;32m     32\u001b[0m             \u001b[0mloss_step\u001b[0m \u001b[0;34m=\u001b[0m \u001b[0mself\u001b[0m\u001b[0;34m.\u001b[0m\u001b[0mloss_fn\u001b[0m\u001b[0;34m(\u001b[0m\u001b[0mpreds\u001b[0m\u001b[0;34m,\u001b[0m\u001b[0my\u001b[0m\u001b[0;34m,\u001b[0m\u001b[0;34m~\u001b[0m\u001b[0mmsk\u001b[0m\u001b[0;34m.\u001b[0m\u001b[0msqueeze\u001b[0m\u001b[0;34m(\u001b[0m\u001b[0;36m0\u001b[0m\u001b[0;34m)\u001b[0m\u001b[0;34m)\u001b[0m\u001b[0;34m\u001b[0m\u001b[0;34m\u001b[0m\u001b[0m\n\u001b[0;32m---> 33\u001b[0;31m             \u001b[0mloss_step\u001b[0m\u001b[0;34m.\u001b[0m\u001b[0mbackward\u001b[0m\u001b[0;34m(\u001b[0m\u001b[0;34m)\u001b[0m\u001b[0;34m\u001b[0m\u001b[0;34m\u001b[0m\u001b[0m\n\u001b[0m\u001b[1;32m     34\u001b[0m             \u001b[0mtorch\u001b[0m\u001b[0;34m.\u001b[0m\u001b[0mnn\u001b[0m\u001b[0;34m.\u001b[0m\u001b[0mutils\u001b[0m\u001b[0;34m.\u001b[0m\u001b[0mclip_grad_norm_\u001b[0m\u001b[0;34m(\u001b[0m\u001b[0mself\u001b[0m\u001b[0;34m.\u001b[0m\u001b[0mparameters\u001b[0m\u001b[0;34m(\u001b[0m\u001b[0;34m)\u001b[0m\u001b[0;34m,\u001b[0m \u001b[0;36m10.0\u001b[0m\u001b[0;34m)\u001b[0m\u001b[0;34m\u001b[0m\u001b[0;34m\u001b[0m\u001b[0m\n\u001b[1;32m     35\u001b[0m             \u001b[0moptim\u001b[0m\u001b[0;34m.\u001b[0m\u001b[0mstep\u001b[0m\u001b[0;34m(\u001b[0m\u001b[0;34m)\u001b[0m\u001b[0;34m\u001b[0m\u001b[0;34m\u001b[0m\u001b[0m\n",
      "\u001b[0;32m/opt/conda/lib/python3.7/site-packages/torch/_tensor.py\u001b[0m in \u001b[0;36mbackward\u001b[0;34m(self, gradient, retain_graph, create_graph, inputs)\u001b[0m\n\u001b[1;32m    253\u001b[0m                 \u001b[0mcreate_graph\u001b[0m\u001b[0;34m=\u001b[0m\u001b[0mcreate_graph\u001b[0m\u001b[0;34m,\u001b[0m\u001b[0;34m\u001b[0m\u001b[0;34m\u001b[0m\u001b[0m\n\u001b[1;32m    254\u001b[0m                 inputs=inputs)\n\u001b[0;32m--> 255\u001b[0;31m         \u001b[0mtorch\u001b[0m\u001b[0;34m.\u001b[0m\u001b[0mautograd\u001b[0m\u001b[0;34m.\u001b[0m\u001b[0mbackward\u001b[0m\u001b[0;34m(\u001b[0m\u001b[0mself\u001b[0m\u001b[0;34m,\u001b[0m \u001b[0mgradient\u001b[0m\u001b[0;34m,\u001b[0m \u001b[0mretain_graph\u001b[0m\u001b[0;34m,\u001b[0m \u001b[0mcreate_graph\u001b[0m\u001b[0;34m,\u001b[0m \u001b[0minputs\u001b[0m\u001b[0;34m=\u001b[0m\u001b[0minputs\u001b[0m\u001b[0;34m)\u001b[0m\u001b[0;34m\u001b[0m\u001b[0;34m\u001b[0m\u001b[0m\n\u001b[0m\u001b[1;32m    256\u001b[0m \u001b[0;34m\u001b[0m\u001b[0m\n\u001b[1;32m    257\u001b[0m     \u001b[0;32mdef\u001b[0m \u001b[0mregister_hook\u001b[0m\u001b[0;34m(\u001b[0m\u001b[0mself\u001b[0m\u001b[0;34m,\u001b[0m \u001b[0mhook\u001b[0m\u001b[0;34m)\u001b[0m\u001b[0;34m:\u001b[0m\u001b[0;34m\u001b[0m\u001b[0;34m\u001b[0m\u001b[0m\n",
      "\u001b[0;32m/opt/conda/lib/python3.7/site-packages/torch/autograd/__init__.py\u001b[0m in \u001b[0;36mbackward\u001b[0;34m(tensors, grad_tensors, retain_graph, create_graph, grad_variables, inputs)\u001b[0m\n\u001b[1;32m    147\u001b[0m     Variable._execution_engine.run_backward(\n\u001b[1;32m    148\u001b[0m         \u001b[0mtensors\u001b[0m\u001b[0;34m,\u001b[0m \u001b[0mgrad_tensors_\u001b[0m\u001b[0;34m,\u001b[0m \u001b[0mretain_graph\u001b[0m\u001b[0;34m,\u001b[0m \u001b[0mcreate_graph\u001b[0m\u001b[0;34m,\u001b[0m \u001b[0minputs\u001b[0m\u001b[0;34m,\u001b[0m\u001b[0;34m\u001b[0m\u001b[0;34m\u001b[0m\u001b[0m\n\u001b[0;32m--> 149\u001b[0;31m         allow_unreachable=True, accumulate_grad=True)  # allow_unreachable flag\n\u001b[0m\u001b[1;32m    150\u001b[0m \u001b[0;34m\u001b[0m\u001b[0m\n\u001b[1;32m    151\u001b[0m \u001b[0;34m\u001b[0m\u001b[0m\n",
      "\u001b[0;31mKeyboardInterrupt\u001b[0m: "
     ]
    }
   ],
   "source": [
    "nepochs = 5\n",
    "batch_size = 128\n",
    "r_ode = recurrentODE(NFEATURES,4,0.0,1,batch_size,\"cuda\").to(\"cuda\")\n",
    "model_optim = optim.Adam(r_ode.parameters(), lr=1e-2)\n",
    "start_time = time.time()\n",
    "for epoch in range(0,nepochs):\n",
    "    print(\"EPOCH: {}\".format(epoch))\n",
    "    r_ode.train_single_epoch(dl_train,model_optim)\n",
    "current_time = time.time()\n",
    "elapsed_time = current_time - start_time\n",
    "print(\"time: {}\".format(elapsed_time))"
   ]
  },
  {
   "cell_type": "code",
   "execution_count": 90,
   "id": "6d23d5ee",
   "metadata": {},
   "outputs": [
    {
     "name": "stderr",
     "output_type": "stream",
     "text": [
      "100%|██████████| 10/10 [00:15<00:00,  1.56s/it]"
     ]
    },
    {
     "name": "stdout",
     "output_type": "stream",
     "text": [
      "_rmse : 43.812\n",
      "_loss : 0.074\n"
     ]
    },
    {
     "name": "stderr",
     "output_type": "stream",
     "text": [
      "\n"
     ]
    }
   ],
   "source": [
    "loss,rmse, y_preds, y_tests, msks = r_ode.evaluate(dl_valid)"
   ]
  },
  {
   "cell_type": "code",
   "execution_count": null,
   "id": "e58a48d9",
   "metadata": {},
   "outputs": [],
   "source": [
    "_rmse : 41.815\n",
    "_loss : 0.068"
   ]
  },
  {
   "cell_type": "code",
   "execution_count": null,
   "id": "2949d660",
   "metadata": {},
   "outputs": [],
   "source": [
    "#################################################################################"
   ]
  },
  {
   "cell_type": "code",
   "execution_count": null,
   "id": "7c393e9c",
   "metadata": {},
   "outputs": [],
   "source": [
    "# ODE-RNN"
   ]
  },
  {
   "cell_type": "code",
   "execution_count": null,
   "id": "97a90af3",
   "metadata": {},
   "outputs": [],
   "source": [
    "class ODERNN_(nn.Module):\n",
    "    \"\"\"\n",
    "    In an ODE-RNN the hidden state h_t of the RNN evolves according to\n",
    "    an ODE. This ODE is a neural network, i.e. dh/dt = ODEFunc(h,x).\n",
    "    \"\"\"\n",
    "    def __init__(self,hidden_dim,device):\n",
    "        super(ODERNN_, self).__init__()\n",
    "\n",
    "        self.x = torch.zeros(128,100,6).to(device)\n",
    "        self.dt = torch.zeros(128,100,1).to(device)\n",
    "        self.device = device\n",
    "        self.net = nn.Sequential(\n",
    "            nn.Linear(hidden_dim, 50),\n",
    "            nn.Tanh(),\n",
    "            nn.Linear(50, hidden_dim),\n",
    "            nn.Tanh(),\n",
    "        )\n",
    "\n",
    "        for m in self.net.modules():\n",
    "            if isinstance(m, nn.Linear):\n",
    "                nn.init.normal_(m.weight, mean=0, std=0.1)\n",
    "                nn.init.constant_(m.bias, val=0)\n",
    "\n",
    "    def forward(self, dt, y):\n",
    "        out = self.net(y)\n",
    "        out = out * (self.dt / 100)\n",
    "        return out\n",
    "    \n",
    "    def solve_ode(self, z0, t, x):\n",
    "        self.x = x  # overwrites\n",
    "        self.dt = t\n",
    "        outputs = odeint(self, z0, torch.tensor([0,1.0]).to(self.device),rtol=1e-1, atol=1e-1)[1]\n",
    "        return outputs\n",
    "\n",
    "class ODERNN(Baseline):\n",
    "    \"\"\"\n",
    "    ODE-RNN\n",
    "    \"\"\"\n",
    "    def __init__(self, input_dim, hidden_dim, p, output_dim, device):\n",
    "        Baseline.__init__(self,input_dim, hidden_dim, p, output_dim, device)\n",
    "        # ODE-RNN\n",
    "        self.rnn = nn.RNNCell(input_dim, hidden_dim)\n",
    "        self.func = ODERNN_(hidden_dim,device)\n",
    "        # N(mu,sigma)\n",
    "        self.relu = nn.ReLU()\n",
    "        self.l1 = nn.Linear(hidden_dim,hidden_dim//2)\n",
    "        self.distribution_mu = nn.Linear(hidden_dim//2, 1)\n",
    "\n",
    "    def forward(self, dt, x, p=0.0):\n",
    "        \n",
    "        T = x.size(1)\n",
    "\n",
    "        batch_size = x.size(0)\n",
    "        mu_out = torch.zeros(batch_size,T,1,device = self.device)\n",
    "        h_t = torch.zeros(batch_size, self.rnn.hidden_size,device=self.device)\n",
    "        for i in range(0,T):\n",
    "            x_i = x[:,i:(i+1),:]\n",
    "            dt_i = (dt[:,i,:][:,1] - dt[:,i,:][:,0]).unsqueeze(1)\n",
    "            h_t = self.rnn(x_i.squeeze(1),h_t)\n",
    "            h_t = self.func.solve_ode(h_t,dt_i,x_i)\n",
    "            mu = self.l1(h_t)\n",
    "            mu = F.dropout(mu,training=True,p=p)\n",
    "            mu = self.relu(mu)\n",
    "            mu_out[:,i:(i+1),:] = self.distribution_mu(mu).unsqueeze(1)\n",
    "\n",
    "        return mu_out\n",
    "    \n",
    "    def loss_fn(self,y_,y,msk):\n",
    "        return torch.mean((y_[msk] - y[msk])**2)"
   ]
  },
  {
   "cell_type": "code",
   "execution_count": null,
   "id": "de92c7bb",
   "metadata": {},
   "outputs": [],
   "source": [
    "nepochs = 5\n",
    "rnn_ode = ODERNN(NFEATURES,6,0.1,1,\"cuda\").to(\"cuda\")\n",
    "model_optim = optim.Adam(rnn_ode.parameters(), lr=1e-2)\n",
    "start_time = time.time()\n",
    "for epoch in range(0,nepochs):\n",
    "    print(\"EPOCH: {}\".format(epoch))\n",
    "    rnn_ode.train_single_epoch(dl_train,model_optim)\n",
    "current_time = time.time()\n",
    "elapsed_time = current_time - start_time\n",
    "print(\"time: {}\".format(elapsed_time))"
   ]
  },
  {
   "cell_type": "code",
   "execution_count": null,
   "id": "ea718ae8",
   "metadata": {},
   "outputs": [],
   "source": [
    "loss,rmse, y_preds, y_tests, msks = rnn_ode.evaluate(dl_valid)"
   ]
  },
  {
   "cell_type": "code",
   "execution_count": null,
   "id": "fb1b98cb",
   "metadata": {},
   "outputs": [],
   "source": [
    "_rmse : 43.876\n",
    "_loss : 0.062\n",
    "\n",
    "_rmse : 53.869\n",
    "_loss : 0.092"
   ]
  },
  {
   "cell_type": "code",
   "execution_count": 21,
   "id": "1f621a4d",
   "metadata": {},
   "outputs": [],
   "source": [
    "x,y,msk,dt,_ = next(iter(dl_train))"
   ]
  },
  {
   "cell_type": "code",
   "execution_count": 32,
   "id": "22efacc5",
   "metadata": {},
   "outputs": [
    {
     "data": {
      "text/plain": [
       "(array([67.,  9., 37.,  4.,  5.,  1.,  0.,  4.,  0.,  1.]),\n",
       " array([0.        , 0.04828   , 0.09655999, 0.14483999, 0.19311999,\n",
       "        0.24139999, 0.28967997, 0.33795998, 0.38623998, 0.43451998,\n",
       "        0.48279998], dtype=float32),\n",
       " <BarContainer object of 10 artists>)"
      ]
     },
     "execution_count": 32,
     "metadata": {},
     "output_type": "execute_result"
    },
    {
     "data": {
      "image/png": "[encoded data removed]",
      "text/plain": [
       "<Figure size 432x288 with 1 Axes>"
      ]
     },
     "metadata": {
      "needs_background": "light"
     },
     "output_type": "display_data"
    }
   ],
   "source": [
    "plt.hist((dt[:,3,:][:,1] - dt[:,3,:][:,0]).unsqueeze(1).numpy()/50)"
   ]
  },
  {
   "cell_type": "code",
   "execution_count": 33,
   "id": "c5673fc9",
   "metadata": {},
   "outputs": [
    {
     "data": {
      "text/plain": [
       "0.02"
      ]
     },
     "execution_count": 33,
     "metadata": {},
     "output_type": "execute_result"
    }
   ],
   "source": [
    "1/50"
   ]
  },
  {
   "cell_type": "code",
   "execution_count": null,
   "id": "d01fd910",
   "metadata": {},
   "outputs": [],
   "source": []
  }
 ],
 "metadata": {
  "environment": {
   "name": "pytorch-gpu.1-9.m75",
   "type": "gcloud",
   "uri": "gcr.io/deeplearning-platform-release/pytorch-gpu.1-9:m75"
  },
  "kernelspec": {
   "display_name": "Python [conda env:root] *",
   "language": "python",
   "name": "conda-root-py"
  },
  "language_info": {
   "codemirror_mode": {
    "name": "ipython",
    "version": 3
   },
   "file_extension": ".py",
   "mimetype": "text/x-python",
   "name": "python",
   "nbconvert_exporter": "python",
   "pygments_lexer": "ipython3",
   "version": "3.7.10"
  }
 },
 "nbformat": 4,
 "nbformat_minor": 5
}
