{
 "cells": [
  {
   "cell_type": "markdown",
   "id": "fe489162",
   "metadata": {},
   "source": [
    "Things I've fixed:  \n",
    "\n",
    "* number of rows - pad at 100\n",
    "\n"
   ]
  },
  {
   "cell_type": "markdown",
   "id": "bc0e6129",
   "metadata": {},
   "source": [
    "Some timings on the validation data (so multiply by 10)\n",
    "\n",
    "batch size: 56  \n",
    "CUDA - CPU times: user 2min 13s, sys: 1.11 s, total: 2min 14s  \n",
    "CPU - CPU times: user 1min 18s, sys: 3.22 s, total: 1min 21s  \n",
    "\n",
    "batch size: 128  \n",
    "CUDA - CPU times: user 1min 31s, sys: 651 ms, total: 1min 32s  \n",
    "CPU - CPU times: user 1min 18s, sys: 3.22 s, total: 1min 21s  "
   ]
  },
  {
   "cell_type": "code",
   "execution_count": 1,
   "id": "3f361335",
   "metadata": {},
   "outputs": [],
   "source": [
    "import torch\n",
    "import torch.nn as nn\n",
    "import torch.optim as optim\n",
    "from torch.utils.data import Dataset,DataLoader\n",
    "\n",
    "import argparse\n",
    "import logging\n",
    "from tqdm import tqdm\n",
    "import numpy as np\n",
    "import pandas as pd\n",
    "import logging\n",
    "import os\n",
    "import math\n",
    "import copy\n",
    "import matplotlib.pyplot as plt\n",
    "import optuna\n",
    "from datetime import datetime\n",
    "import random\n",
    "from sklearn.model_selection import train_test_split\n",
    "\n",
    "from sklearn.preprocessing import MinMaxScaler\n",
    "from sklearn.preprocessing import QuantileTransformer\n",
    "import copy\n",
    "\n",
    "import scipy.stats"
   ]
  },
  {
   "cell_type": "code",
   "execution_count": 2,
   "id": "b72fc17b",
   "metadata": {},
   "outputs": [],
   "source": [
    "%matplotlib inline"
   ]
  },
  {
   "cell_type": "code",
   "execution_count": 3,
   "id": "f86c22f8",
   "metadata": {},
   "outputs": [],
   "source": [
    "import sys\n",
    "sys.path.append('..')\n",
    "import time"
   ]
  },
  {
   "cell_type": "code",
   "execution_count": 4,
   "id": "ca8aeebf",
   "metadata": {},
   "outputs": [],
   "source": [
    "from src.data.data_loader import MIMICDataset,import_data\n",
    "from src.utils import setup_logger\n",
    "from src.training.training_nn import *\n",
    "from src.utils import seed_everything\n",
    "from src.data.data_scaler import PreProcess\n",
    "from data.feature_sets import all_features"
   ]
  },
  {
   "cell_type": "code",
   "execution_count": 5,
   "id": "6c778ef5",
   "metadata": {},
   "outputs": [],
   "source": [
    "def glc_transform(x):\n",
    "    x = x.copy()\n",
    "    x[x > 0] = np.log(x[x > 0]) - np.log(140)\n",
    "    return x\n",
    "\n",
    "def glc_invtransform(x):\n",
    "    x = x.copy()\n",
    "    x = np.exp(x + np.log(140))\n",
    "    return x\n",
    "\n",
    "ginv = glc_invtransform"
   ]
  },
  {
   "cell_type": "code",
   "execution_count": 6,
   "id": "ceeabd31",
   "metadata": {},
   "outputs": [],
   "source": [
    "def pad_numpy(vec, pad):\n",
    "    pad_size = list(vec.shape)\n",
    "    pad_size[0] = pad - vec.shape[0]\n",
    "    return np.concatenate([vec, np.zeros(pad_size)], axis=0)"
   ]
  },
  {
   "cell_type": "code",
   "execution_count": 7,
   "id": "dcf082bd",
   "metadata": {},
   "outputs": [],
   "source": [
    "import torch\n",
    "from torch.utils.data import Dataset,DataLoader\n",
    "import numpy as np\n",
    "import pandas as pd\n",
    "from sklearn.model_selection import train_test_split\n",
    "\n",
    "def import_data(path):\n",
    "    df = pd.read_csv(path)\n",
    "    ids = df.icustay_id.unique()\n",
    "    for id_ in ids:\n",
    "        df_id = df.loc[df.icustay_id == id_,:]\n",
    "        if (sum(df_id.msk) == df_id.shape[0]):\n",
    "            df.drop(df.loc[df.icustay_id == id_,:].index,inplace=True)\n",
    "            print(\"excluding:\",id_)\n",
    "    return df\n",
    "\n",
    "TIME_VARS = [\"timer\",\"timer_dt\"]\n",
    "\n",
    "def pad_numpy(vec, pad, val=\"zeros\"):\n",
    "    pad_size = list(vec.shape)\n",
    "    pad_size[0] = pad - vec.shape[0]\n",
    "    if val == \"zeros\":\n",
    "        out = np.concatenate([vec, np.zeros(pad_size)], axis=0)\n",
    "    elif val == \"ones\":\n",
    "        out = np.concatenate([vec, np.ones(pad_size)], axis=0)\n",
    "    return out\n",
    "\n",
    "TIME_VARS = [\"timer\",\"timer_dt\"]\n",
    "\n",
    "class MIMICDataset(Dataset):\n",
    "    \"\"\"\n",
    "    Args:\n",
    "        patientunitstayids: \n",
    "        df:\n",
    "        ...\n",
    "    \n",
    "    Example:\n",
    "    \"\"\"\n",
    "    def __init__(self,df,features,pad=100,maxrows=100,verbose=True):\n",
    "        self.pad = pad\n",
    "        self.maxrows = maxrows\n",
    "        self.X,self.y,self.msk,self.dt = self.load_data(df,features,verbose=verbose)\n",
    "        \n",
    "    def __len__(self):\n",
    "        return len(self.y)\n",
    "    \n",
    "    def __getitem__(self, idx):\n",
    "        # pad\n",
    "        X = self.X[idx].astype(np.float32)\n",
    "        y = self.y[idx].astype(np.float32)\n",
    "        msk = self.msk[idx].astype(np.int32)\n",
    "        dt = self.dt[idx].astype(np.float32)\n",
    "\n",
    "        return X,y,msk,dt\n",
    "    \n",
    "    def load_data(self,df,features,verbose):\n",
    "        excl = []\n",
    "        n_excl_pt = 0\n",
    "        n_excl_rws = 0\n",
    "        X_list, y_list, msk_list, dt_list = [], [], [], []\n",
    "        ids = df.icustay_id.unique()\n",
    "        if verbose:\n",
    "            print(\"reconfiguring data...\")\n",
    "        for id_ in ids:\n",
    "            df_id = df.loc[df.icustay_id == id_,:].iloc[0:self.maxrows]\n",
    "            if (sum(df_id.msk) == df_id.shape[0]):\n",
    "                #print(\"excluding:\",id_)\n",
    "                n_excl_pt += 1\n",
    "                n_excl_rws +=  df_id.loc[df_id.msk == 0].shape[0]\n",
    "                continue\n",
    "            # additional exclusions\n",
    "#             if ((max(df_id.timer)/24 > 7.0) or (max(df_id.timer) < 6.0)):\n",
    "#                 print(\"excluding (time):\",id_)\n",
    "#                 continue\n",
    "            n_days_gl = (max(df_id.timer_dt) - min(df_id.timer))/24\n",
    "            n_gl_meas = df_id.loc[df_id.msk == 0].shape[0]\n",
    "            if (n_gl_meas/n_days_gl < 1.0):\n",
    "                n_excl_pt += 1\n",
    "                n_excl_rws +=  df_id.loc[df_id.msk == 0].shape[0]\n",
    "                #print(\"excluding (<1/day):\",id_)\n",
    "                continue\n",
    "            X = df_id.loc[:,features]\n",
    "            y = df_id.loc[:,\"glc_dt\"]\n",
    "            msk = df_id.loc[:,\"msk\"]\n",
    "            dt = df_id.loc[:,TIME_VARS]\n",
    "            X = np.array(X).astype(np.float32)\n",
    "            y = np.array(y).astype(np.float32)\n",
    "            msk = np.array(msk).astype(np.int32)\n",
    "            dt = np.array(dt).astype(np.float32)\n",
    "            X_list.append(X)\n",
    "            y_list.append(y)\n",
    "            msk_list.append(msk)\n",
    "            dt_list.append(dt)\n",
    "        print(\"excluded patients:\",n_excl_pt)\n",
    "        print(\"excluded rows:\",n_excl_rws)\n",
    "        return X_list,y_list,msk_list,dt_list"
   ]
  },
  {
   "cell_type": "code",
   "execution_count": 23,
   "id": "7dcaba26",
   "metadata": {},
   "outputs": [],
   "source": [
    "def collate_fn_padd(batch):\n",
    "    '''\n",
    "    Padds batch of variable length\n",
    "\n",
    "    note: it converts things ToTensor manually here since the ToTensor transform\n",
    "    assume it takes in images rather than arbitrary tensors.\n",
    "    '''\n",
    "    ## get sequence lengths\n",
    "    lengths = torch.tensor([b[0].shape[0] for b in batch])\n",
    "    ## padd\n",
    "    x = [torch.Tensor(b[0]) for b in batch]\n",
    "    y = [torch.Tensor(b[1]) for b in batch]\n",
    "    msk = [torch.Tensor(b[2]) for b in batch]\n",
    "    dt = [torch.Tensor(b[3]) for b in batch]\n",
    "    x = torch.nn.utils.rnn.pad_sequence(x,batch_first=True)\n",
    "    y = torch.nn.utils.rnn.pad_sequence(y,batch_first=True)\n",
    "    msk = torch.nn.utils.rnn.pad_sequence(msk,batch_first=True,padding_value=int(1))\n",
    "    dt = torch.nn.utils.rnn.pad_sequence(dt,batch_first=True)\n",
    "    return x, y, msk, dt"
   ]
  },
  {
   "cell_type": "code",
   "execution_count": 9,
   "id": "92092df2",
   "metadata": {},
   "outputs": [],
   "source": [
    "df = pd.read_csv('../data/train.csv')\n",
    "train_ids, valid_ids = train_test_split(df.icustay_id.unique(),test_size=0.1)\n",
    "df_train = df.loc[df.icustay_id.isin(train_ids)]\n",
    "df_valid = df.loc[df.icustay_id.isin(valid_ids)]\n",
    "FEATURES = all_features()\n",
    "NFEATURES = len(all_features())\n",
    "preproc = PreProcess(FEATURES,QuantileTransformer())\n",
    "preproc.fit(df_train)\n",
    "df_train = preproc.transform(df_train)\n",
    "df_valid = preproc.transform(df_valid)"
   ]
  },
  {
   "cell_type": "code",
   "execution_count": 10,
   "id": "87bbe850",
   "metadata": {},
   "outputs": [
    {
     "data": {
      "image/png": "[encoded data removed]",
      "text/plain": [
       "<Figure size 432x288 with 1 Axes>"
      ]
     },
     "metadata": {
      "needs_background": "light"
     },
     "output_type": "display_data"
    }
   ],
   "source": [
    "plt.scatter(df.glc,df.glc_dt)\n",
    "plt.xlabel(\"glucose (t)\")\n",
    "plt.ylabel(\"glucose (t+)\")\n",
    "plt.show()"
   ]
  },
  {
   "cell_type": "code",
   "execution_count": 11,
   "id": "74aefa85",
   "metadata": {},
   "outputs": [
    {
     "data": {
      "image/png": "[encoded data removed]",
      "text/plain": [
       "<Figure size 432x288 with 1 Axes>"
      ]
     },
     "metadata": {
      "needs_background": "light"
     },
     "output_type": "display_data"
    }
   ],
   "source": [
    "plt.scatter(df_train.glc,df_train.glc_dt)\n",
    "plt.xlabel(\"glucose (t)\")\n",
    "plt.ylabel(\"glucose (t+)\")\n",
    "plt.show()"
   ]
  },
  {
   "cell_type": "code",
   "execution_count": 12,
   "id": "9f42aa6e",
   "metadata": {},
   "outputs": [
    {
     "data": {
      "text/plain": [
       "(array([2.00000e+00, 2.00000e+00, 1.00000e+00, 5.00000e+00, 2.60000e+01,\n",
       "        2.65000e+02, 6.91300e+03, 1.14916e+05, 8.48770e+04, 1.10940e+04]),\n",
       " array([-4.94164242, -4.32038181, -3.6991212 , -3.07786059, -2.45659998,\n",
       "        -1.83533937, -1.21407877, -0.59281816,  0.02844245,  0.64970306,\n",
       "         1.27096367]),\n",
       " <BarContainer object of 10 artists>)"
      ]
     },
     "execution_count": 12,
     "metadata": {},
     "output_type": "execute_result"
    },
    {
     "data": {
      "image/png": "[encoded data removed]",
      "text/plain": [
       "<Figure size 432x288 with 1 Axes>"
      ]
     },
     "metadata": {
      "needs_background": "light"
     },
     "output_type": "display_data"
    }
   ],
   "source": [
    "plt.hist(df_train.glc)"
   ]
  },
  {
   "cell_type": "code",
   "execution_count": 13,
   "id": "7f74ff51",
   "metadata": {},
   "outputs": [
    {
     "data": {
      "image/png": "[encoded data removed]",
      "text/plain": [
       "<Figure size 432x288 with 1 Axes>"
      ]
     },
     "metadata": {
      "needs_background": "light"
     },
     "output_type": "display_data"
    }
   ],
   "source": [
    "plt.scatter(df_valid.glc,df_valid.glc_dt)\n",
    "plt.xlabel(\"glucose (t)\")\n",
    "plt.ylabel(\"glucose (t+)\")\n",
    "plt.show()"
   ]
  },
  {
   "cell_type": "code",
   "execution_count": 14,
   "id": "0e9772fe",
   "metadata": {},
   "outputs": [
    {
     "data": {
      "text/plain": [
       "42.99370427578497"
      ]
     },
     "execution_count": 14,
     "metadata": {},
     "output_type": "execute_result"
    }
   ],
   "source": [
    "math.sqrt(np.mean((ginv(df_train.loc[df_train.msk==0,'glc']) - ginv(df_train.loc[df_train.msk==0,'glc_dt']))**2))"
   ]
  },
  {
   "cell_type": "code",
   "execution_count": 15,
   "id": "fe51427e",
   "metadata": {},
   "outputs": [
    {
     "data": {
      "text/plain": [
       "42.25510215894564"
      ]
     },
     "execution_count": 15,
     "metadata": {},
     "output_type": "execute_result"
    }
   ],
   "source": [
    "math.sqrt(np.mean((ginv(df_valid.loc[df_valid.msk==0,'glc']) - ginv(df_valid.loc[df_valid.msk==0,'glc_dt']))**2))"
   ]
  },
  {
   "cell_type": "code",
   "execution_count": null,
   "id": "f5d980ba",
   "metadata": {},
   "outputs": [],
   "source": []
  },
  {
   "cell_type": "code",
   "execution_count": 25,
   "id": "190b1b28",
   "metadata": {},
   "outputs": [
    {
     "name": "stdout",
     "output_type": "stream",
     "text": [
      "reconfiguring data...\n",
      "excluded patients: 226\n",
      "excluded rows: 653\n",
      "reconfiguring data...\n",
      "excluded patients: 25\n",
      "excluded rows: 49\n"
     ]
    }
   ],
   "source": [
    "dl_train = DataLoader(MIMICDataset(df_train,FEATURES),batch_size=16,pin_memory=False,collate_fn=collate_fn_padd)\n",
    "dl_valid = DataLoader(MIMICDataset(df_valid,FEATURES),batch_size=128,pin_memory=False,collate_fn=collate_fn_padd)\n",
    "dataloaders = {'train':dl_train,'validation':dl_valid}"
   ]
  },
  {
   "cell_type": "code",
   "execution_count": 17,
   "id": "1a39a78f",
   "metadata": {},
   "outputs": [
    {
     "data": {
      "image/png": "[encoded data removed]",
      "text/plain": [
       "<Figure size 432x288 with 1 Axes>"
      ]
     },
     "metadata": {
      "needs_background": "light"
     },
     "output_type": "display_data"
    }
   ],
   "source": [
    "plt.hist(df.groupby(['icustay_id']).size(),range=[0,200],bins=50)\n",
    "plt.xlabel('Number of observations')\n",
    "plt.show()"
   ]
  },
  {
   "cell_type": "code",
   "execution_count": 83,
   "id": "2e11020e",
   "metadata": {},
   "outputs": [],
   "source": [
    "import torch \n",
    "import torch.nn as nn\n",
    "import torch.nn.functional as F\n",
    "#from torchdiffeq import odeint_adjoint as odeint\n",
    "from torchdiffeq import odeint\n",
    "\n",
    "import math\n",
    "\n",
    "import torch.nn.functional as F\n",
    "\n",
    "class Baseline(nn.Module):\n",
    "    def __init__(self, input_dim, hidden_dim, p, output_dim, device):\n",
    "        super(Baseline, self).__init__()\n",
    "        \n",
    "        self.input_dim = input_dim\n",
    "        self.hidden_dim = hidden_dim\n",
    "        self.output_dim = output_dim\n",
    "        self.p = p\n",
    "        self.device = device\n",
    "        \n",
    "    def train_single_epoch(self,dataloader,optim,verbose=True):\n",
    "        loss = 0.0\n",
    "        n_batches = len(dataloader)\n",
    "        print(\"number of batchs: {}\".format(n_batches))\n",
    "        for i, (x, y, msk, dt) in enumerate(dataloader):\n",
    "            x = x.to(self.device)\n",
    "            y = y.to(self.device)\n",
    "            dt = dt.to(self.device)\n",
    "            msk = msk.bool().to(self.device)\n",
    "            optim.zero_grad()\n",
    "            preds = self.forward(dt,x)\n",
    "            loss_step = self.loss_fn(preds,y,~msk.view(x.shape[0],-1))\n",
    "            loss_step.backward()\n",
    "            #torch.nn.utils.clip_grad_norm_(self.parameters(), 10.0)\n",
    "            optim.step()\n",
    "            loss += loss_step.item()\n",
    "            if (i % int(n_batches/10) == 0) & verbose:\n",
    "                print(\"Batch number: {}\".format(i))\n",
    "                print(\"BATCH_loss : {:05.3f}\".format(loss_step.item()))\n",
    "        loss /= (i + 1)\n",
    "        print(\"EPOCH_loss : {:05.3f}\".format(loss))\n",
    "        \n",
    "        return loss\n",
    "        \n",
    "    def evaluate(self,dataloader,p=0.0):\n",
    "        \n",
    "        rmse, loss = 0., 0.\n",
    "        N = 0\n",
    "        y_preds = []\n",
    "        y_tests = []\n",
    "        msks = []\n",
    "        #dts = []\n",
    "        with tqdm(total=len(dataloader)) as t:\n",
    "            for i, (x, y, msk, dt) in enumerate(dataloader):\n",
    "                N += sum(sum(msk == 0)).item()\n",
    "                x = x.to(self.device)\n",
    "                y = y.to(self.device)\n",
    "                dt = dt.to(self.device)\n",
    "                # model prediction\n",
    "                y_ = self.forward(dt,x)\n",
    "                y_preds.append([yc.detach().cpu().numpy() for yc in y_]) \n",
    "                y_tests.append(y.cpu().numpy())\n",
    "                msk = msk.bool().to(self.device)\n",
    "                rmse += self.get_sse(y_,y,~msk.view(x.shape[0],-1)).item()\n",
    "                loss += self.loss_fn(y_,y,~msk.view(x.shape[0],-1)).item()\n",
    "                msks.append(msk.cpu().numpy())\n",
    "                t.update()\n",
    "        rmse /= N\n",
    "        loss /= (i + 1)\n",
    "        rmse = math.sqrt(rmse)\n",
    "        print(\"_rmse : {:05.3f}\".format(rmse))\n",
    "        print(\"_loss : {:05.3f}\".format(loss))\n",
    "        return loss,rmse, y_preds, y_tests, msks\n",
    "\n",
    "    def get_sse(self,y_,y,msk):\n",
    "        \"\"\"\n",
    "        SSE: sum of squared errors\n",
    "        \"\"\"\n",
    "        if type(y_) == tuple:\n",
    "            y_ = y_[0]\n",
    "        y_ = y_.squeeze(2)\n",
    "        c = torch.log(torch.tensor(140.0))\n",
    "        rmse = torch.sum((torch.exp(y_[msk] + c) - torch.exp(y[msk] + c))**2)\n",
    "        return rmse"
   ]
  },
  {
   "cell_type": "code",
   "execution_count": null,
   "id": "b3584b6a",
   "metadata": {},
   "outputs": [],
   "source": [
    "class ODEFunc(nn.Module):\n",
    "    \"\"\"\n",
    "    dglucose/dt = NN(glucose,insulin)\n",
    "    \"\"\"\n",
    "    def __init__(self,input_dim,device):\n",
    "        super(ODEFunc, self).__init__()\n",
    "        \n",
    "        self.x = torch.zeros(128,100,6).to(device)\n",
    "        self.dt = torch.zeros(128,100,1).to(device)\n",
    "        self.device = device\n",
    "        self.net = nn.Sequential(\n",
    "            nn.Linear(input_dim, 50),\n",
    "            nn.ReLU(),\n",
    "            nn.Linear(50, 1),\n",
    "            nn.Tanh(),\n",
    "        )\n",
    "\n",
    "        for m in self.net.modules():\n",
    "            if isinstance(m, nn.Linear):\n",
    "                nn.init.normal_(m.weight, mean=0, std=0.1)\n",
    "                nn.init.constant_(m.bias, val=0)\n",
    "\n",
    "    def forward(self, t, z):\n",
    "        xz = torch.cat((z,self.x),2)\n",
    "        out = self.net(xz)\n",
    "        out = out * (self.dt/100) # -> scale by timestep\n",
    "        return out \n",
    "    \n",
    "    def solve_ode(self, x0, t, x):\n",
    "        self.x = x  # overwrites\n",
    "        self.dt = t\n",
    "        outputs = odeint(self, x0, torch.tensor([0,1.0]).to(self.device),rtol=1e-3, atol=1e-3)[1]\n",
    "        return outputs\n",
    "    \n",
    "class neuralODE(Baseline):\n",
    "\n",
    "    def __init__(self, input_dim, hidden_dim, p, output_dim, device):\n",
    "        Baseline.__init__(self,input_dim, hidden_dim, p, output_dim, device)\n",
    "        self.device = device\n",
    "        self.func = ODEFunc(input_dim,device).to(device)\n",
    "        \n",
    "    def forward(self, dt, x):\n",
    "        \n",
    "        #x = x.squeeze(0)\n",
    "        #dt = dt.squeeze(0)\n",
    "        T = x.size(1)\n",
    "        \n",
    "        # ODE\n",
    "        mu_out = torch.zeros(x.size(0),T,1,device = self.device)\n",
    "        for i in range(0,T):\n",
    "            y0 = x[:,i:(i+1),0:1]\n",
    "            x_i = x[:,i:(i+1),1:]\n",
    "            dt_i = (dt[:,i,:][:,1] - dt[:,i,:][:,0]).unsqueeze(1).unsqueeze(1)\n",
    "            mu_out[:,i:(i+1),:] = self.func.solve_ode(y0,dt_i,x_i)\n",
    "\n",
    "        return mu_out\n",
    "    \n",
    "    def loss_fn(self,y_,y,msk):\n",
    "        return torch.sum((y_[msk] - y[msk])**2)"
   ]
  },
  {
   "cell_type": "code",
   "execution_count": null,
   "id": "e36e37b7",
   "metadata": {},
   "outputs": [],
   "source": [
    "x,y,msk,dt = next(iter(dl_train))\n",
    "n_ode = neuralODE(NFEATURES,1,0.0,1,\"cuda\").to(\"cuda\")\n",
    "n_ode(dt.to(\"cuda\"),x.to(\"cuda\")).shape"
   ]
  },
  {
   "cell_type": "code",
   "execution_count": null,
   "id": "086b216f",
   "metadata": {},
   "outputs": [],
   "source": [
    "nepochs = 2\n",
    "n_ode = neuralODE(NFEATURES,1,0.0,1,\"cpu\").to(\"cpu\")\n",
    "model_optim = optim.Adam(n_ode.parameters(), lr=1e-3)\n",
    "start_time = time.time()\n",
    "for epoch in range(0,nepochs):\n",
    "    print(\"EPOCH: {}\".format(epoch))\n",
    "    %time n_ode.train_single_epoch(dl_train,model_optim)\n",
    "current_time = time.time()\n",
    "elapsed_time = current_time - start_time\n",
    "print(elapsed_time)"
   ]
  },
  {
   "cell_type": "code",
   "execution_count": null,
   "id": "fb6c220a",
   "metadata": {},
   "outputs": [],
   "source": [
    "# evaluate - averages"
   ]
  },
  {
   "cell_type": "code",
   "execution_count": null,
   "id": "d1eb5cfe",
   "metadata": {},
   "outputs": [],
   "source": [
    "loss,rmse, y_preds, y_tests, msks = n_ode.evaluate(dl_valid)\n",
    "print(rmse)\n",
    "print(loss)\n",
    "\n",
    "y_preds = (np.concatenate(y_preds))\n",
    "y_tests = (np.concatenate(y_tests))\n",
    "msk = (np.concatenate(msks))\n",
    "\n",
    "diff = y_preds - y_tests\n",
    "print(np.mean(diff[~msk]**2))\n",
    "print(np.std(y_tests[~msk]))"
   ]
  },
  {
   "cell_type": "code",
   "execution_count": null,
   "id": "f67f1664",
   "metadata": {},
   "outputs": [],
   "source": [
    "plt.hist(y_tests[~msk],bins=20)\n",
    "plt.show()\n",
    "plt.hist(y_preds[~msk],bins=20)\n",
    "plt.show()"
   ]
  },
  {
   "cell_type": "code",
   "execution_count": null,
   "id": "5ba7a7ec",
   "metadata": {},
   "outputs": [],
   "source": [
    "plt.scatter(y_preds[~msk],y_tests[~msk])\n",
    "plt.show()\n",
    "c = np.log(140)\n",
    "plt.scatter(ginv(y_preds[~msk]),ginv(y_tests[~msk]))\n",
    "plt.show()"
   ]
  },
  {
   "cell_type": "code",
   "execution_count": null,
   "id": "b2217b33",
   "metadata": {},
   "outputs": [],
   "source": [
    "N = 20\n",
    "res = np.zeros(N)\n",
    "Y0 = torch.linspace(-1.0,1.0,N)\n",
    "y0 = torch.zeros(1,1,1)\n",
    "dt = torch.ones(1,1,1).to(\"cuda\")\n",
    "n_ode.func.x = torch.zeros(1,1,1).to(\"cuda\")\n",
    "n_ode.func.dt = dt\n",
    "for i in range(0,N):\n",
    "    y0[0,0,0] = Y0[i]\n",
    "    with torch.no_grad():\n",
    "        res[i] = n_ode.func(dt,y0.to(\"cuda\")).cpu().numpy().item()"
   ]
  },
  {
   "cell_type": "code",
   "execution_count": null,
   "id": "f17fa847",
   "metadata": {},
   "outputs": [],
   "source": [
    "Y0 = Y0.cpu().numpy()\n",
    "plt.scatter(Y0,res)"
   ]
  },
  {
   "cell_type": "code",
   "execution_count": null,
   "id": "11490a1a",
   "metadata": {},
   "outputs": [],
   "source": [
    "plt.scatter(Y0,Y0 + res)"
   ]
  },
  {
   "cell_type": "code",
   "execution_count": null,
   "id": "85882944",
   "metadata": {},
   "outputs": [],
   "source": [
    "ts = np.linspace(0,1,10)\n",
    "fig, ax = plt.subplots(1, 1, tight_layout=True)\n",
    "for t in ts:\n",
    "    for i in range(N):\n",
    "        dy =  np.exp(Y0[i]+res[i]+np.log(140)) - np.exp(Y0[i]+np.log(140))\n",
    "        ax.arrow(t,np.exp(Y0[i]+np.log(140)),0.09,dy, width = 0.008)\n",
    "ax.set_xlabel(\"Time (hours)\")\n",
    "ax.set_ylabel(\"Blood glucose (mg/dL)\")\n",
    "fig.savefig('tmp.jpg', bbox_inches='tight', dpi=150)"
   ]
  },
  {
   "cell_type": "code",
   "execution_count": null,
   "id": "bb56990b",
   "metadata": {},
   "outputs": [],
   "source": [
    "####################################################################################################"
   ]
  },
  {
   "cell_type": "code",
   "execution_count": 106,
   "id": "5b784032",
   "metadata": {},
   "outputs": [],
   "source": [
    "class LODEFunc(nn.Module):\n",
    "    \"\"\"\n",
    "    dglucose/dt = NN(glucose,insulin)\n",
    "    \"\"\"\n",
    "    def __init__(self,hidden_dim,input_dim,device):\n",
    "        super(LODEFunc, self).__init__()\n",
    "\n",
    "        self.x = torch.zeros(128,100,input_dim).to(device)\n",
    "        self.dt = torch.zeros(128,100,1).to(device)\n",
    "        self.device = device\n",
    "        self.net = nn.Sequential(\n",
    "            nn.Linear(input_dim+hidden_dim, hidden_dim * 2),\n",
    "            nn.Tanh(),\n",
    "            nn.Linear(hidden_dim * 2, hidden_dim),\n",
    "            nn.Tanh(),\n",
    "        )\n",
    "\n",
    "        for m in self.net.modules():\n",
    "            if isinstance(m, nn.Linear):\n",
    "                nn.init.normal_(m.weight, mean=0, std=0.1)\n",
    "                nn.init.constant_(m.bias, val=0)\n",
    "\n",
    "    def forward(self, t, z):\n",
    "        xz = torch.cat((z,self.x),2)\n",
    "        out = self.net(xz)\n",
    "        out = out #* (self.dt/100) # -> scale by timestep\n",
    "        return out \n",
    "\n",
    "    def solve_ode(self, z0, t, x):\n",
    "        self.x = x  # overwrites\n",
    "        self.dt = t\n",
    "        outputs = odeint(self, z0, torch.tensor([0,1.0]).to(self.device),rtol=1e-1, atol=1e-1,method=\"euler\")[1]\n",
    "        return outputs\n",
    "    \n",
    "class latentODE(Baseline):\n",
    "\n",
    "    def __init__(self, input_dim, hidden_dim, p, output_dim, device):\n",
    "        Baseline.__init__(self,input_dim, hidden_dim, p, output_dim, device)\n",
    "        self.device = device\n",
    "        self.func = LODEFunc(hidden_dim,input_dim,device).to(device)\n",
    "        self.mu_net = nn.Sequential(\n",
    "            nn.Linear(hidden_dim, hidden_dim),\n",
    "            nn.Tanh(),\n",
    "            nn.Linear(hidden_dim, 1)\n",
    "        ).to(device)\n",
    "        self.sigma_net = nn.Sequential(\n",
    "            nn.Linear(hidden_dim, hidden_dim),\n",
    "            nn.Tanh(),\n",
    "            nn.Linear(hidden_dim, 1),\n",
    "            nn.Softplus()\n",
    "        ).to(device)\n",
    "        self.encode_z0 = nn.Sequential(\n",
    "            nn.Linear(input_dim, max(hidden_dim,hidden_dim) // 2),\n",
    "            nn.Tanh(),\n",
    "            nn.Linear(max(hidden_dim,hidden_dim) // 2, hidden_dim),\n",
    "            nn.Tanh(),\n",
    "        ).to(device)\n",
    "        \n",
    "#         for m in self.encode_z0.modules():\n",
    "#             if isinstance(m, nn.Linear):\n",
    "#                 nn.init.normal_(m.weight, mean=0, std=0.1)\n",
    "#                 nn.init.constant_(m.bias, val=0)\n",
    "        \n",
    "    def forward(self, dt, x):\n",
    "        \n",
    "        #x = x.squeeze(0)\n",
    "        batch_size = x.size(0)\n",
    "        T = x.size(1)\n",
    "        \n",
    "        # ODE\n",
    "        mu_out = torch.zeros(batch_size,T,1,device = self.device)\n",
    "        s_out = torch.zeros(batch_size,T,1,device = self.device)\n",
    "        #z0 = 0.01 * torch.randn(batch_size,1,self.hidden_dim,device = self.device)\n",
    "        z0 = self.encode_z0(x[:,0,:]).unsqueeze(1)\n",
    "        for i in range(0,T):\n",
    "            x_i = x[:,i:(i+1),:]\n",
    "            dt_i = (dt[:,i,:][:,1] - dt[:,i,:][:,0]).unsqueeze(1).unsqueeze(1)\n",
    "            z0 = self.func.solve_ode(z0,dt_i,x_i)\n",
    "            mu_out[:,i:(i+1),:] = self.mu_net(z0.squeeze(1)).unsqueeze(1)\n",
    "            s_out[:,i:(i+1),:] = self.sigma_net(z0.squeeze(1)).unsqueeze(1)\n",
    "\n",
    "        return (mu_out,s_out)\n",
    "    \n",
    "    def loss_fn(self,mu_s_,y,msk):\n",
    "        y_, s_ = mu_s_\n",
    "        distribution = torch.distributions.normal.Normal(y_[msk], s_[msk])\n",
    "        likelihood = distribution.log_prob(y[msk])\n",
    "        return -torch.mean(likelihood)\n",
    "    \n",
    "#     def loss_fn(self,y_,y,msk):\n",
    "#         return sum((y_[msk] - y[msk])**2)"
   ]
  },
  {
   "cell_type": "code",
   "execution_count": 107,
   "id": "eca61f27",
   "metadata": {},
   "outputs": [],
   "source": [
    "# tmp = MIMICDataset(df_train.iloc[0:100],FEATURES)"
   ]
  },
  {
   "cell_type": "code",
   "execution_count": 108,
   "id": "fd1eb621",
   "metadata": {},
   "outputs": [],
   "source": [
    "# dl_check = DataLoader(tmp,batch_size=1,pin_memory=False,collate_fn=collate_fn_padd)"
   ]
  },
  {
   "cell_type": "code",
   "execution_count": 109,
   "id": "445b8715",
   "metadata": {},
   "outputs": [
    {
     "name": "stdout",
     "output_type": "stream",
     "text": [
      "tensor(0.6536, grad_fn=<NegBackward>)\n"
     ]
    }
   ],
   "source": [
    "l_ode = latentODE(NFEATURES,8,0.0,1,\"cpu\")\n",
    "x,y,msk,dt = next(iter(dl_valid))\n",
    "y_ = l_ode(dt,x)\n",
    "loss = l_ode.loss_fn(y_,y,~msk.bool().view(x.shape[0],-1))\n",
    "print(loss)\n",
    "loss.backward()"
   ]
  },
  {
   "cell_type": "code",
   "execution_count": 110,
   "id": "76a80b9a",
   "metadata": {},
   "outputs": [
    {
     "data": {
      "text/plain": [
       "torch.Size([128, 100, 1])"
      ]
     },
     "execution_count": 110,
     "metadata": {},
     "output_type": "execute_result"
    }
   ],
   "source": [
    "y_[0].shape"
   ]
  },
  {
   "cell_type": "code",
   "execution_count": 111,
   "id": "c60f0621",
   "metadata": {},
   "outputs": [],
   "source": [
    "y_,s_ = y_"
   ]
  },
  {
   "cell_type": "code",
   "execution_count": 112,
   "id": "4d38b4c2",
   "metadata": {},
   "outputs": [
    {
     "data": {
      "text/plain": [
       "torch.Size([2595, 1])"
      ]
     },
     "execution_count": 112,
     "metadata": {},
     "output_type": "execute_result"
    }
   ],
   "source": [
    "y_[~msk.bool().view(x.shape[0],-1)].shape"
   ]
  },
  {
   "cell_type": "code",
   "execution_count": 113,
   "id": "89dffb4f",
   "metadata": {},
   "outputs": [
    {
     "data": {
      "text/plain": [
       "64.75305781269137"
      ]
     },
     "execution_count": 113,
     "metadata": {},
     "output_type": "execute_result"
    }
   ],
   "source": [
    "math.sqrt(np.mean((ginv(y_[~msk.bool().view(x.shape[0],-1)].detach().numpy()) - ginv(y[~msk.bool().view(x.shape[0],-1)].numpy()))**2).item())"
   ]
  },
  {
   "cell_type": "code",
   "execution_count": 114,
   "id": "9b0292ec",
   "metadata": {},
   "outputs": [],
   "source": [
    "# for p in l_ode.parameters():\n",
    "#     print(p.shape)"
   ]
  },
  {
   "cell_type": "code",
   "execution_count": 115,
   "id": "6eb644f6",
   "metadata": {},
   "outputs": [],
   "source": [
    "# nepochs = 10\n",
    "# l_ode = latentODE(NFEATURES,10,0.1,1,\"cpu\")\n",
    "# model_optim = optim.Adam(l_ode.parameters(), lr=1e-3)\n",
    "# start_time = time.time()\n",
    "# for epoch in range(0,nepochs):\n",
    "#     print(\"EPOCH: {}\".format(epoch))\n",
    "#     l_ode.train_single_epoch(dl_check,model_optim,verbose=False)\n",
    "#     total_norm = 0.0\n",
    "#     for p in l_ode.parameters():\n",
    "#         param_norm = p.grad.detach().data.norm(2)\n",
    "#         total_norm += param_norm.item() ** 2\n",
    "#         total_norm = total_norm ** 0.5\n",
    "#     print(total_norm)\n",
    "# current_time = time.time()\n",
    "# elapsed_time = current_time - start_time\n",
    "# print(\"time: {}\".format(elapsed_time))\n",
    "# l_ode.evaluate(dl_check)"
   ]
  },
  {
   "cell_type": "code",
   "execution_count": 116,
   "id": "b3604f1c",
   "metadata": {},
   "outputs": [],
   "source": [
    "l_ode = latentODE(NFEATURES,10,0.1,1,\"cpu\")\n",
    "model_optim = optim.Adam(l_ode.parameters(), lr=1e-3)"
   ]
  },
  {
   "cell_type": "code",
   "execution_count": 119,
   "id": "870dfb8f",
   "metadata": {},
   "outputs": [
    {
     "name": "stdout",
     "output_type": "stream",
     "text": [
      "EPOCH: 0\n",
      "number of batchs: 10\n",
      "Batch number: 0\n",
      "BATCH_loss : 0.687\n",
      "Batch number: 1\n",
      "BATCH_loss : 0.605\n",
      "Batch number: 2\n",
      "BATCH_loss : 0.617\n",
      "Batch number: 3\n",
      "BATCH_loss : 0.562\n",
      "Batch number: 4\n",
      "BATCH_loss : 0.499\n",
      "Batch number: 5\n",
      "BATCH_loss : 0.535\n",
      "Batch number: 6\n",
      "BATCH_loss : 0.470\n",
      "Batch number: 7\n",
      "BATCH_loss : 0.489\n",
      "Batch number: 8\n",
      "BATCH_loss : 0.490\n",
      "Batch number: 9\n",
      "BATCH_loss : 0.425\n",
      "EPOCH_loss : 0.538\n",
      "NORM: 1.007918480019833\n"
     ]
    },
    {
     "name": "stderr",
     "output_type": "stream",
     "text": [
      "100%|██████████| 10/10 [00:00<00:00, 12.91it/s]\n"
     ]
    },
    {
     "name": "stdout",
     "output_type": "stream",
     "text": [
      "_rmse : 58.101\n",
      "_loss : 0.456\n",
      "EPOCH: 1\n",
      "number of batchs: 10\n",
      "Batch number: 0\n",
      "BATCH_loss : 0.469\n",
      "Batch number: 1\n",
      "BATCH_loss : 0.461\n",
      "Batch number: 2\n",
      "BATCH_loss : 0.491\n",
      "Batch number: 3\n",
      "BATCH_loss : 0.438\n",
      "Batch number: 4\n",
      "BATCH_loss : 0.387\n",
      "Batch number: 5\n",
      "BATCH_loss : 0.454\n",
      "Batch number: 6\n",
      "BATCH_loss : 0.378\n",
      "Batch number: 7\n",
      "BATCH_loss : 0.403\n",
      "Batch number: 8\n",
      "BATCH_loss : 0.421\n",
      "Batch number: 9\n",
      "BATCH_loss : 0.349\n",
      "EPOCH_loss : 0.425\n",
      "NORM: 1.0027438749648747\n"
     ]
    },
    {
     "name": "stderr",
     "output_type": "stream",
     "text": [
      "100%|██████████| 10/10 [00:00<00:00, 12.64it/s]\n"
     ]
    },
    {
     "name": "stdout",
     "output_type": "stream",
     "text": [
      "_rmse : 56.407\n",
      "_loss : 0.401\n",
      "EPOCH: 2\n",
      "number of batchs: 10\n",
      "Batch number: 0\n",
      "BATCH_loss : 0.441\n",
      "Batch number: 1\n",
      "BATCH_loss : 0.420\n",
      "Batch number: 2\n",
      "BATCH_loss : 0.435\n",
      "Batch number: 3\n",
      "BATCH_loss : 0.389\n",
      "Batch number: 4\n",
      "BATCH_loss : 0.343\n",
      "Batch number: 5\n",
      "BATCH_loss : 0.420\n",
      "Batch number: 6\n",
      "BATCH_loss : 0.341\n",
      "Batch number: 7\n",
      "BATCH_loss : 0.366\n",
      "Batch number: 8\n",
      "BATCH_loss : 0.389\n",
      "Batch number: 9\n",
      "BATCH_loss : 0.320\n",
      "EPOCH_loss : 0.386\n",
      "NORM: 1.0031808763453656\n"
     ]
    },
    {
     "name": "stderr",
     "output_type": "stream",
     "text": [
      "100%|██████████| 10/10 [00:00<00:00, 12.49it/s]\n"
     ]
    },
    {
     "name": "stdout",
     "output_type": "stream",
     "text": [
      "_rmse : 55.855\n",
      "_loss : 0.373\n",
      "EPOCH: 3\n",
      "number of batchs: 10\n",
      "Batch number: 0\n",
      "BATCH_loss : 0.413\n",
      "Batch number: 1\n",
      "BATCH_loss : 0.396\n",
      "Batch number: 2\n",
      "BATCH_loss : 0.415\n",
      "Batch number: 3\n",
      "BATCH_loss : 0.367\n",
      "Batch number: 4\n",
      "BATCH_loss : 0.318\n",
      "Batch number: 5\n",
      "BATCH_loss : 0.404\n",
      "Batch number: 6\n",
      "BATCH_loss : 0.323\n",
      "Batch number: 7\n",
      "BATCH_loss : 0.348\n",
      "Batch number: 8\n",
      "BATCH_loss : 0.377\n",
      "Batch number: 9\n",
      "BATCH_loss : 0.304\n",
      "EPOCH_loss : 0.367\n",
      "NORM: 1.0019624289018594\n"
     ]
    },
    {
     "name": "stderr",
     "output_type": "stream",
     "text": [
      "100%|██████████| 10/10 [00:00<00:00, 12.90it/s]\n"
     ]
    },
    {
     "name": "stdout",
     "output_type": "stream",
     "text": [
      "_rmse : 55.832\n",
      "_loss : 0.361\n",
      "EPOCH: 4\n",
      "number of batchs: 10\n",
      "Batch number: 0\n",
      "BATCH_loss : 0.410\n",
      "Batch number: 1\n",
      "BATCH_loss : 0.389\n",
      "Batch number: 2\n",
      "BATCH_loss : 0.408\n",
      "Batch number: 3\n",
      "BATCH_loss : 0.357\n",
      "Batch number: 4\n",
      "BATCH_loss : 0.304\n",
      "Batch number: 5\n",
      "BATCH_loss : 0.398\n",
      "Batch number: 6\n",
      "BATCH_loss : 0.311\n",
      "Batch number: 7\n",
      "BATCH_loss : 0.337\n",
      "Batch number: 8\n",
      "BATCH_loss : 0.369\n",
      "Batch number: 9\n",
      "BATCH_loss : 0.293\n",
      "EPOCH_loss : 0.357\n",
      "NORM: 1.0014354753039014\n"
     ]
    },
    {
     "name": "stderr",
     "output_type": "stream",
     "text": [
      "100%|██████████| 10/10 [00:00<00:00, 12.79it/s]"
     ]
    },
    {
     "name": "stdout",
     "output_type": "stream",
     "text": [
      "_rmse : 55.723\n",
      "_loss : 0.354\n",
      "time: 10.946430683135986\n"
     ]
    },
    {
     "name": "stderr",
     "output_type": "stream",
     "text": [
      "\n"
     ]
    }
   ],
   "source": [
    "nepochs = 5\n",
    "l_ode = latentODE(NFEATURES,8,0.1,1,\"cpu\")\n",
    "model_optim = optim.Adam(l_ode.parameters(), lr=1e-3)\n",
    "start_time = time.time()\n",
    "for epoch in range(0,nepochs):\n",
    "    print(\"EPOCH: {}\".format(epoch))\n",
    "    l_ode.train_single_epoch(dl_valid,model_optim)\n",
    "    total_norm = 0.0\n",
    "    for p in l_ode.parameters():\n",
    "        param_norm = p.grad.detach().data.norm(2)\n",
    "        total_norm += param_norm.item() ** 2\n",
    "        total_norm = total_norm ** 0.5\n",
    "    print(\"NORM: {}\".format(total_norm))\n",
    "    _ = l_ode.evaluate(dl_valid)\n",
    "current_time = time.time()\n",
    "elapsed_time = current_time - start_time\n",
    "print(\"time: {}\".format(elapsed_time))"
   ]
  },
  {
   "cell_type": "code",
   "execution_count": 120,
   "id": "01e8b086",
   "metadata": {},
   "outputs": [
    {
     "name": "stderr",
     "output_type": "stream",
     "text": [
      "100%|██████████| 10/10 [00:00<00:00, 11.83it/s]"
     ]
    },
    {
     "name": "stdout",
     "output_type": "stream",
     "text": [
      "_rmse : 55.723\n",
      "_loss : 0.354\n"
     ]
    },
    {
     "name": "stderr",
     "output_type": "stream",
     "text": [
      "\n"
     ]
    }
   ],
   "source": [
    "loss,rmse, y_preds, y_tests, msks = l_ode.evaluate(dl_valid)"
   ]
  },
  {
   "cell_type": "code",
   "execution_count": 136,
   "id": "bd6e74cf",
   "metadata": {},
   "outputs": [],
   "source": [
    "yy_ = [y_preds[0][0] for y in y_preds]"
   ]
  },
  {
   "cell_type": "code",
   "execution_count": 144,
   "id": "6b18a742",
   "metadata": {},
   "outputs": [
    {
     "data": {
      "text/plain": [
       "array([[[-0.10888918],\n",
       "        [-0.08375314],\n",
       "        [-0.05255094],\n",
       "        ...,\n",
       "        [-0.0261258 ],\n",
       "        [-0.0261258 ],\n",
       "        [-0.0261258 ]],\n",
       "\n",
       "       [[-0.11026572],\n",
       "        [-0.09858496],\n",
       "        [-0.08384787],\n",
       "        ...,\n",
       "        [-0.0261258 ],\n",
       "        [-0.0261258 ],\n",
       "        [-0.0261258 ]],\n",
       "\n",
       "       [[-0.10506231],\n",
       "        [-0.04531836],\n",
       "        [-0.01691126],\n",
       "        ...,\n",
       "        [-0.0261258 ],\n",
       "        [-0.0261258 ],\n",
       "        [-0.0261258 ]],\n",
       "\n",
       "       ...,\n",
       "\n",
       "       [[-0.06881031],\n",
       "        [-0.02902762],\n",
       "        [-0.00883945],\n",
       "        ...,\n",
       "        [-0.0261258 ],\n",
       "        [-0.0261258 ],\n",
       "        [-0.0261258 ]],\n",
       "\n",
       "       [[-0.10076755],\n",
       "        [-0.08714579],\n",
       "        [-0.08172697],\n",
       "        ...,\n",
       "        [-0.0261258 ],\n",
       "        [-0.0261258 ],\n",
       "        [-0.0261258 ]],\n",
       "\n",
       "       [[-0.1071846 ],\n",
       "        [-0.10667901],\n",
       "        [-0.10624893],\n",
       "        ...,\n",
       "        [-0.0261258 ],\n",
       "        [-0.0261258 ],\n",
       "        [-0.0261258 ]]], dtype=float32)"
      ]
     },
     "execution_count": 144,
     "metadata": {},
     "output_type": "execute_result"
    }
   ],
   "source": [
    "yy_[0]"
   ]
  },
  {
   "cell_type": "code",
   "execution_count": null,
   "id": "72632b8e",
   "metadata": {},
   "outputs": [],
   "source": []
  },
  {
   "cell_type": "code",
   "execution_count": null,
   "id": "84e86e78",
   "metadata": {},
   "outputs": [],
   "source": []
  },
  {
   "cell_type": "code",
   "execution_count": null,
   "id": "5a37fa06",
   "metadata": {},
   "outputs": [],
   "source": []
  },
  {
   "cell_type": "code",
   "execution_count": null,
   "id": "92070b8b",
   "metadata": {},
   "outputs": [],
   "source": [
    "y_preds = (np.concatenate(y_preds))\n",
    "y_tests = (np.concatenate(y_tests))\n",
    "msk = (np.concatenate(msks))"
   ]
  },
  {
   "cell_type": "code",
   "execution_count": null,
   "id": "1f2acb75",
   "metadata": {},
   "outputs": [],
   "source": [
    "plt.scatter(ginv(y_preds[~msk]),ginv(y_tests[~msk]))\n",
    "plt.show()"
   ]
  },
  {
   "cell_type": "code",
   "execution_count": null,
   "id": "29d7243d",
   "metadata": {},
   "outputs": [],
   "source": [
    "##########################################################################################################"
   ]
  },
  {
   "cell_type": "code",
   "execution_count": null,
   "id": "8c3f5711",
   "metadata": {},
   "outputs": [],
   "source": [
    "# linear system of z = (g,h)"
   ]
  },
  {
   "cell_type": "code",
   "execution_count": null,
   "id": "f2c659f7",
   "metadata": {},
   "outputs": [],
   "source": [
    " class recurrentODE_(nn.Module):\n",
    "    \"\"\"\n",
    "    (dglucose/dt,dh/dt) = (RNN(glucose,h),NN(h,x))\n",
    "    \"\"\"\n",
    "    def __init__(self,hidden_dim,input_dim,batch_size,device):\n",
    "        super(recurrentODE_, self).__init__()\n",
    "        \n",
    "        self.x = torch.zeros(batch_size,100,input_dim).to(device)\n",
    "        self.dt = torch.zeros(batch_size,100,1).to(device)\n",
    "        self.device = device\n",
    "        # dh/dt\n",
    "        self.dh = nn.Sequential(\n",
    "            nn.Linear(hidden_dim+input_dim, (hidden_dim+input_dim)*2),\n",
    "            nn.ReLU(),\n",
    "            nn.Linear((hidden_dim+input_dim)*2, hidden_dim),\n",
    "            nn.Tanh(),\n",
    "        ).to(device)\n",
    "        # dy/dt\n",
    "        self.dy_rnn = nn.RNNCell(input_dim, hidden_dim)\n",
    "        self.dy_lin = nn.Linear(hidden_dim, 1)\n",
    "        self.dy_tanh = nn.Tanh()\n",
    "\n",
    "        for m in self.dh.modules():\n",
    "            if isinstance(m, nn.Linear):\n",
    "                nn.init.normal_(m.weight, mean=0, std=0.1)\n",
    "                nn.init.constant_(m.bias, val=0)\n",
    "        nn.init.normal_(self.dy_rnn.weight_ih,mean=0, std=0.1)\n",
    "        nn.init.normal_(self.dy_rnn.weight_hh,mean=0, std=0.1)\n",
    "        nn.init.constant_(self.dy_rnn.bias_ih, val=0)\n",
    "        nn.init.constant_(self.dy_rnn.bias_ih, val=0)\n",
    "        nn.init.normal_(self.dy_lin.weight,mean=0, std=0.1)\n",
    "        nn.init.constant_(self.dy_lin.bias, val=0)\n",
    "\n",
    "    def forward(self, t, z):\n",
    "        # dh/dt\n",
    "        #dh = self.dh(z[:,:,1:])*self.dt\n",
    "        dh = self.dh(torch.cat((self.x,z[:,:,1:]),2)) * (self.dt / 50)\n",
    "        # dy/dt\n",
    "        #dy = self.dy_rnn(self.x.squeeze(1),z[:,:,1:].squeeze(1)) # hidden should be shape (1,batch,hidden)\n",
    "        #dy = self.dy_lin(dy.unsqueeze(1))\n",
    "        dy = self.dy_lin(z[:,:,1:])\n",
    "        dy = self.dy_tanh(dy) * (self.dt / 50)\n",
    "        return torch.cat((dy,dh),2)\n",
    "    \n",
    "    def solve_ode(self, z0, t, x):\n",
    "        self.x = x  # overwrites\n",
    "        self.dt = t\n",
    "        outputs = odeint(self, z0, torch.tensor([0,1.0]).to(self.device),rtol=1e-1, atol=1e-1)[1]\n",
    "        return outputs\n",
    "    \n",
    "class recurrentODE(Baseline):\n",
    "\n",
    "    def __init__(self, input_dim, hidden_dim, p, output_dim,batch_size, device):\n",
    "        Baseline.__init__(self,input_dim, hidden_dim, p, output_dim, device)\n",
    "        self.device = device\n",
    "        self.batch_size = batch_size\n",
    "        self.func = recurrentODE_(hidden_dim,input_dim,batch_size,device).to(device)\n",
    "        \n",
    "    def forward(self, dt, x, seqlen=0):\n",
    "        \n",
    "        #x = x.squeeze(0)\n",
    "        batch_size = x.size(0)\n",
    "        T = x.size(1)\n",
    "\n",
    "        # ODE stuff\n",
    "        mu_out = torch.zeros(batch_size,T,1,device = self.device)\n",
    "        z0 = torch.zeros(batch_size,1,self.hidden_dim+1,device = self.device)\n",
    "        for i in range(0,T):\n",
    "            x_i = x[:,i:(i+1),:]\n",
    "            y0 = x[:,i:(i+1),0:1]\n",
    "            z0[:,:,0:1] = y0\n",
    "            dt_i = (dt[:,i,:][:,1] - dt[:,i,:][:,0]).unsqueeze(1).unsqueeze(1)\n",
    "            z0 = self.func.solve_ode(z0,dt_i,x_i)\n",
    "            mu_out[:,i:(i+1),:] = z0[:,:,0:1]\n",
    "\n",
    "        return mu_out\n",
    "    \n",
    "    def loss_fn(self,y_,y,msk):\n",
    "        return torch.mean((y_[msk] - y[msk])**2)"
   ]
  },
  {
   "cell_type": "code",
   "execution_count": null,
   "id": "34fd6cd2",
   "metadata": {},
   "outputs": [],
   "source": [
    "nepochs = 5\n",
    "batch_size = 128\n",
    "r_ode = recurrentODE(NFEATURES,4,0.0,1,batch_size,\"cuda\").to(\"cuda\")\n",
    "model_optim = optim.Adam(r_ode.parameters(), lr=1e-2)\n",
    "start_time = time.time()\n",
    "for epoch in range(0,nepochs):\n",
    "    print(\"EPOCH: {}\".format(epoch))\n",
    "    r_ode.train_single_epoch(dl_train,model_optim)\n",
    "current_time = time.time()\n",
    "elapsed_time = current_time - start_time\n",
    "print(\"time: {}\".format(elapsed_time))"
   ]
  },
  {
   "cell_type": "code",
   "execution_count": null,
   "id": "8135f023",
   "metadata": {},
   "outputs": [],
   "source": [
    "loss,rmse, y_preds, y_tests, msks = r_ode.evaluate(dl_valid)"
   ]
  },
  {
   "cell_type": "code",
   "execution_count": null,
   "id": "430c0bb4",
   "metadata": {},
   "outputs": [],
   "source": [
    "_rmse : 41.815\n",
    "_loss : 0.068"
   ]
  },
  {
   "cell_type": "code",
   "execution_count": null,
   "id": "f495579c",
   "metadata": {},
   "outputs": [],
   "source": [
    "#################################################################################"
   ]
  },
  {
   "cell_type": "code",
   "execution_count": null,
   "id": "40a74fa5",
   "metadata": {},
   "outputs": [],
   "source": [
    "# ODE-RNN"
   ]
  },
  {
   "cell_type": "code",
   "execution_count": null,
   "id": "171d00c9",
   "metadata": {},
   "outputs": [],
   "source": [
    "class ODERNN_(nn.Module):\n",
    "    \"\"\"\n",
    "    In an ODE-RNN the hidden state h_t of the RNN evolves according to\n",
    "    an ODE. This ODE is a neural network, i.e. dh/dt = ODEFunc(h,x).\n",
    "    \"\"\"\n",
    "    def __init__(self,hidden_dim,device):\n",
    "        super(ODERNN_, self).__init__()\n",
    "\n",
    "        self.x = torch.zeros(128,100,6).to(device)\n",
    "        self.dt = torch.zeros(128,100,1).to(device)\n",
    "        self.device = device\n",
    "        self.net = nn.Sequential(\n",
    "            nn.Linear(hidden_dim, 50),\n",
    "            nn.Tanh(),\n",
    "            nn.Linear(50, hidden_dim),\n",
    "            nn.Tanh(),\n",
    "        )\n",
    "\n",
    "        for m in self.net.modules():\n",
    "            if isinstance(m, nn.Linear):\n",
    "                nn.init.normal_(m.weight, mean=0, std=0.1)\n",
    "                nn.init.constant_(m.bias, val=0)\n",
    "\n",
    "    def forward(self, dt, y):\n",
    "        out = self.net(y)\n",
    "        out = out * (self.dt / 100)\n",
    "        return out\n",
    "    \n",
    "    def solve_ode(self, z0, t, x):\n",
    "        self.x = x  # overwrites\n",
    "        self.dt = t\n",
    "        outputs = odeint(self, z0, torch.tensor([0,1.0]).to(self.device),rtol=1e-1, atol=1e-1)[1]\n",
    "        return outputs\n",
    "\n",
    "class ODERNN(Baseline):\n",
    "    \"\"\"\n",
    "    ODE-RNN\n",
    "    \"\"\"\n",
    "    def __init__(self, input_dim, hidden_dim, p, output_dim, device):\n",
    "        Baseline.__init__(self,input_dim, hidden_dim, p, output_dim, device)\n",
    "        # ODE-RNN\n",
    "        self.rnn = nn.RNNCell(input_dim, hidden_dim)\n",
    "        self.func = ODERNN_(hidden_dim,device)\n",
    "        # N(mu,sigma)\n",
    "        self.relu = nn.ReLU()\n",
    "        self.l1 = nn.Linear(hidden_dim,hidden_dim//2)\n",
    "        self.distribution_mu = nn.Linear(hidden_dim//2, 1)\n",
    "\n",
    "    def forward(self, dt, x, p=0.0):\n",
    "        \n",
    "        T = x.size(1)\n",
    "\n",
    "        batch_size = x.size(0)\n",
    "        mu_out = torch.zeros(batch_size,T,1,device = self.device)\n",
    "        h_t = torch.zeros(batch_size, self.rnn.hidden_size,device=self.device)\n",
    "        for i in range(0,T):\n",
    "            x_i = x[:,i:(i+1),:]\n",
    "            dt_i = (dt[:,i,:][:,1] - dt[:,i,:][:,0]).unsqueeze(1)\n",
    "            h_t = self.rnn(x_i.squeeze(1),h_t)\n",
    "            h_t = self.func.solve_ode(h_t,dt_i,x_i)\n",
    "            mu = self.l1(h_t)\n",
    "            mu = F.dropout(mu,training=True,p=p)\n",
    "            mu = self.relu(mu)\n",
    "            mu_out[:,i:(i+1),:] = self.distribution_mu(mu).unsqueeze(1)\n",
    "\n",
    "        return mu_out\n",
    "    \n",
    "    def loss_fn(self,y_,y,msk):\n",
    "        return torch.mean((y_[msk] - y[msk])**2)"
   ]
  },
  {
   "cell_type": "code",
   "execution_count": null,
   "id": "8271ac0d",
   "metadata": {},
   "outputs": [],
   "source": [
    "nepochs = 5\n",
    "rnn_ode = ODERNN(NFEATURES,6,0.1,1,\"cuda\").to(\"cuda\")\n",
    "model_optim = optim.Adam(rnn_ode.parameters(), lr=1e-2)\n",
    "start_time = time.time()\n",
    "for epoch in range(0,nepochs):\n",
    "    print(\"EPOCH: {}\".format(epoch))\n",
    "    rnn_ode.train_single_epoch(dl_train,model_optim)\n",
    "current_time = time.time()\n",
    "elapsed_time = current_time - start_time\n",
    "print(\"time: {}\".format(elapsed_time))"
   ]
  },
  {
   "cell_type": "code",
   "execution_count": null,
   "id": "80f3912e",
   "metadata": {},
   "outputs": [],
   "source": [
    "loss,rmse, y_preds, y_tests, msks = rnn_ode.evaluate(dl_valid)"
   ]
  },
  {
   "cell_type": "code",
   "execution_count": null,
   "id": "052dca98",
   "metadata": {},
   "outputs": [],
   "source": [
    "_rmse : 43.876\n",
    "_loss : 0.062\n",
    "\n",
    "_rmse : 53.869\n",
    "_loss : 0.092"
   ]
  },
  {
   "cell_type": "code",
   "execution_count": null,
   "id": "4ab61b9d",
   "metadata": {},
   "outputs": [],
   "source": [
    "x,y,msk,dt,_ = next(iter(dl_train))"
   ]
  },
  {
   "cell_type": "code",
   "execution_count": null,
   "id": "301f0f54",
   "metadata": {},
   "outputs": [],
   "source": [
    "plt.hist((dt[:,3,:][:,1] - dt[:,3,:][:,0]).unsqueeze(1).numpy()/50)"
   ]
  },
  {
   "cell_type": "code",
   "execution_count": null,
   "id": "c4a478d9",
   "metadata": {},
   "outputs": [],
   "source": [
    "1/50"
   ]
  },
  {
   "cell_type": "code",
   "execution_count": null,
   "id": "346eb8ca",
   "metadata": {},
   "outputs": [],
   "source": []
  }
 ],
 "metadata": {
  "environment": {
   "name": "pytorch-gpu.1-9.m75",
   "type": "gcloud",
   "uri": "gcr.io/deeplearning-platform-release/pytorch-gpu.1-9:m75"
  },
  "kernelspec": {
   "display_name": "Python [conda env:root] *",
   "language": "python",
   "name": "conda-root-py"
  },
  "language_info": {
   "codemirror_mode": {
    "name": "ipython",
    "version": 3
   },
   "file_extension": ".py",
   "mimetype": "text/x-python",
   "name": "python",
   "nbconvert_exporter": "python",
   "pygments_lexer": "ipython3",
   "version": "3.7.10"
  }
 },
 "nbformat": 4,
 "nbformat_minor": 5
}
