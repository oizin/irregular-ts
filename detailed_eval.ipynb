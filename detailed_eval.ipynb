{
 "cells": [
  {
   "cell_type": "markdown",
   "id": "f61ee3f2",
   "metadata": {},
   "source": [
    "# Evaluation of model performance\n",
    "\n",
    "Evaluation...  \n",
    "\n",
    "...  \n",
    "\n",
    "...  \n",
    "\n",
    "\n",
    "..."
   ]
  },
  {
   "cell_type": "code",
   "execution_count": 20,
   "id": "22302f7f",
   "metadata": {},
   "outputs": [],
   "source": [
    "import torch\n",
    "import pandas as pd\n",
    "import matplotlib.pyplot as plt\n",
    "\n",
    "import numpy as np\n",
    "from torch.utils.data import DataLoader\n",
    "import scipy.stats\n",
    "from sklearn.preprocessing import StandardScaler\n",
    "from sklearn.preprocessing import MinMaxScaler\n",
    "from sklearn.preprocessing import QuantileTransformer\n",
    "from sklearn.model_selection import train_test_split,KFold\n",
    "\n",
    "from src.data.data_scaler import PreProcess\n",
    "from src.data.data_loader import MIMICDataset,import_data,collate_fn_padd\n",
    "from src.utils import setup_logger\n",
    "from src.training.training_nn import *\n",
    "from src.models.models import ODERNN,LatentODE1\n",
    "from src.utils import seed_everything"
   ]
  },
  {
   "cell_type": "code",
   "execution_count": 32,
   "id": "e2830ebb",
   "metadata": {},
   "outputs": [],
   "source": [
    "import scipy"
   ]
  },
  {
   "cell_type": "code",
   "execution_count": 39,
   "id": "dac4274d",
   "metadata": {},
   "outputs": [
    {
     "data": {
      "text/plain": [
       "0.975"
      ]
     },
     "execution_count": 39,
     "metadata": {},
     "output_type": "execute_result"
    }
   ],
   "source": [
    "(1-alpha/2)"
   ]
  },
  {
   "cell_type": "code",
   "execution_count": 40,
   "id": "472a561a",
   "metadata": {},
   "outputs": [
    {
     "data": {
      "text/plain": [
       "1.959963984540054"
      ]
     },
     "execution_count": 40,
     "metadata": {},
     "output_type": "execute_result"
    }
   ],
   "source": [
    "alpha = 0.05\n",
    "scipy.stats.norm.ppf(1-alpha/2)"
   ]
  },
  {
   "cell_type": "code",
   "execution_count": 2,
   "id": "4195247c",
   "metadata": {},
   "outputs": [],
   "source": [
    "import plotnine as p9"
   ]
  },
  {
   "cell_type": "code",
   "execution_count": 3,
   "id": "ee1d8a31",
   "metadata": {},
   "outputs": [],
   "source": [
    "from data.feature_sets import all_features"
   ]
  },
  {
   "cell_type": "code",
   "execution_count": 4,
   "id": "19d678c4",
   "metadata": {},
   "outputs": [],
   "source": [
    "def glc_transform(x):\n",
    "    x = x.copy()\n",
    "    x[x > 0] = np.log(x[x > 0]) - np.log(140)\n",
    "    return x\n",
    "\n",
    "def glc_invtransform(x):\n",
    "    x = x.copy()\n",
    "    x = np.exp(x + np.log(140))\n",
    "    return x\n",
    "\n",
    "ginv = glc_invtransform"
   ]
  },
  {
   "cell_type": "code",
   "execution_count": 23,
   "id": "a9a0fa98",
   "metadata": {},
   "outputs": [
    {
     "name": "stdout",
     "output_type": "stream",
     "text": [
      "excluding: 200024\n",
      "excluding: 200586\n",
      "excluding: 201104\n",
      "excluding: 201173\n",
      "excluding: 201605\n",
      "excluding: 203383\n",
      "excluding: 205463\n",
      "excluding: 205830\n",
      "excluding: 206288\n",
      "excluding: 206986\n",
      "excluding: 208691\n",
      "excluding: 208937\n",
      "excluding: 212690\n",
      "excluding: 212925\n",
      "excluding: 214617\n",
      "excluding: 215027\n",
      "excluding: 215250\n",
      "excluding: 216192\n",
      "excluding: 216504\n",
      "excluding: 216867\n",
      "excluding: 217645\n",
      "excluding: 218713\n",
      "excluding: 218874\n",
      "excluding: 219153\n",
      "excluding: 219305\n",
      "excluding: 220024\n",
      "excluding: 220671\n",
      "excluding: 220704\n",
      "excluding: 221494\n",
      "excluding: 221514\n",
      "excluding: 221574\n",
      "excluding: 221812\n",
      "excluding: 222096\n",
      "excluding: 223717\n",
      "excluding: 224428\n",
      "excluding: 226283\n",
      "excluding: 227040\n",
      "excluding: 227991\n",
      "excluding: 228262\n",
      "excluding: 229133\n",
      "excluding: 229142\n",
      "excluding: 229929\n",
      "excluding: 230012\n",
      "excluding: 230384\n",
      "excluding: 231775\n",
      "excluding: 232042\n",
      "excluding: 232582\n",
      "excluding: 233553\n",
      "excluding: 234981\n",
      "excluding: 235824\n",
      "excluding: 236999\n",
      "excluding: 237956\n",
      "excluding: 238662\n",
      "excluding: 240029\n",
      "excluding: 240043\n",
      "excluding: 241162\n",
      "excluding: 241858\n",
      "excluding: 245283\n",
      "excluding: 245481\n",
      "excluding: 245797\n",
      "excluding: 246509\n",
      "excluding: 247191\n",
      "excluding: 247831\n",
      "excluding: 249809\n",
      "excluding: 250329\n",
      "excluding: 251008\n",
      "excluding: 252314\n",
      "excluding: 252591\n",
      "excluding: 253402\n",
      "excluding: 254345\n",
      "excluding: 255499\n",
      "excluding: 257353\n",
      "excluding: 258717\n",
      "excluding: 259024\n",
      "excluding: 259870\n",
      "excluding: 260932\n",
      "excluding: 261264\n",
      "excluding: 262078\n",
      "excluding: 262940\n",
      "excluding: 263133\n",
      "excluding: 263642\n",
      "excluding: 264048\n",
      "excluding: 264655\n",
      "excluding: 264914\n",
      "excluding: 265069\n",
      "excluding: 266377\n",
      "excluding: 267367\n",
      "excluding: 269649\n",
      "excluding: 271127\n",
      "excluding: 272414\n",
      "excluding: 272903\n",
      "excluding: 273102\n",
      "excluding: 275175\n",
      "excluding: 275192\n",
      "excluding: 277137\n",
      "excluding: 277327\n",
      "excluding: 277477\n",
      "excluding: 277949\n",
      "excluding: 278500\n",
      "excluding: 278855\n",
      "excluding: 279337\n",
      "excluding: 279937\n",
      "excluding: 280799\n",
      "excluding: 282423\n",
      "excluding: 282997\n",
      "excluding: 284250\n",
      "excluding: 285213\n",
      "excluding: 285482\n",
      "excluding: 285794\n",
      "excluding: 285846\n",
      "excluding: 286788\n",
      "excluding: 287616\n",
      "excluding: 289705\n",
      "excluding: 290296\n",
      "excluding: 291068\n",
      "excluding: 291475\n",
      "excluding: 291578\n",
      "excluding: 292296\n",
      "excluding: 293368\n",
      "excluding: 293622\n",
      "excluding: 294099\n",
      "excluding: 294641\n",
      "excluding: 295338\n",
      "excluding: 295834\n",
      "excluding: 296104\n",
      "excluding: 297313\n",
      "excluding: 297801\n",
      "excluding: 297962\n",
      "excluding: 298516\n",
      "excluding: 298724\n",
      "(66508, 112)\n"
     ]
    },
    {
     "ename": "NameError",
     "evalue": "name 'FEATURES' is not defined",
     "output_type": "error",
     "traceback": [
      "\u001b[0;31m---------------------------------------------------------------------------\u001b[0m",
      "\u001b[0;31mNameError\u001b[0m                                 Traceback (most recent call last)",
      "\u001b[0;32m/tmp/ipykernel_17026/1522625798.py\u001b[0m in \u001b[0;36m<module>\u001b[0;34m\u001b[0m\n\u001b[1;32m     22\u001b[0m \u001b[0;34m\u001b[0m\u001b[0m\n\u001b[1;32m     23\u001b[0m         \u001b[0;31m# preprocess\u001b[0m\u001b[0;34m\u001b[0m\u001b[0;34m\u001b[0m\u001b[0;34m\u001b[0m\u001b[0m\n\u001b[0;32m---> 24\u001b[0;31m         \u001b[0mpreproc\u001b[0m \u001b[0;34m=\u001b[0m \u001b[0mPreProcess\u001b[0m\u001b[0;34m(\u001b[0m\u001b[0mFEATURES\u001b[0m\u001b[0;34m,\u001b[0m\u001b[0mQuantileTransformer\u001b[0m\u001b[0;34m(\u001b[0m\u001b[0;34m)\u001b[0m\u001b[0;34m)\u001b[0m\u001b[0;34m\u001b[0m\u001b[0;34m\u001b[0m\u001b[0m\n\u001b[0m\u001b[1;32m     25\u001b[0m         \u001b[0mpreproc\u001b[0m\u001b[0;34m.\u001b[0m\u001b[0mfit\u001b[0m\u001b[0;34m(\u001b[0m\u001b[0mdf_train\u001b[0m\u001b[0;34m)\u001b[0m\u001b[0;34m\u001b[0m\u001b[0;34m\u001b[0m\u001b[0m\n\u001b[1;32m     26\u001b[0m         \u001b[0mdf_train\u001b[0m \u001b[0;34m=\u001b[0m \u001b[0mpreproc\u001b[0m\u001b[0;34m.\u001b[0m\u001b[0mtransform\u001b[0m\u001b[0;34m(\u001b[0m\u001b[0mdf_train\u001b[0m\u001b[0;34m)\u001b[0m\u001b[0;34m\u001b[0m\u001b[0;34m\u001b[0m\u001b[0m\n",
      "\u001b[0;31mNameError\u001b[0m: name 'FEATURES' is not defined"
     ]
    }
   ],
   "source": [
    "df = import_data('data/analysis.csv')\n",
    "df.sort_values(by=['icustay_id','timer'],inplace=True)\n",
    "df.reset_index(drop=True,inplace=True)\n",
    "ids = df.icustay_id.unique()\n",
    "NFOLDS = 5\n",
    "FEATURES = all_features()\n",
    "BATCH_SIZE = 128\n",
    "kf = KFold(n_splits=NFOLDS)\n",
    "kf.get_n_splits(ids)\n",
    "for fold, (train_index, test_index) in enumerate(kf.split(ids)):\n",
    "    if fold == 0:\n",
    "\n",
    "        # train-test split\n",
    "        trains_ids,test_ids = ids[train_index],ids[test_index]\n",
    "        df_train = df.loc[df.icustay_id.isin(trains_ids)].copy(deep=True)\n",
    "        df_test = df.loc[df.icustay_id.isin(test_ids)].copy(deep=True)\n",
    "        print(df_test.shape)\n",
    "\n",
    "        # train-valid split\n",
    "        train_ids, valid_ids = train_test_split(df_train.icustay_id.unique(),test_size=0.1)\n",
    "        df_valid = df_train.loc[df_train.icustay_id.isin(valid_ids)].copy(deep=True)\n",
    "        df_train = df_train.loc[df_train.icustay_id.isin(train_ids)].copy(deep=True)\n",
    "\n",
    "        # preprocess\n",
    "        preproc = PreProcess(FEATURES,QuantileTransformer())\n",
    "        preproc.fit(df_train)\n",
    "        df_train = preproc.transform(df_train)\n",
    "        df_valid = preproc.transform(df_valid)\n",
    "        df_test = preproc.transform(df_test)\n",
    "        dl_train = DataLoader(MIMICDataset(df_train,FEATURES,pad=SEQUENCE_LEN),\n",
    "                          batch_size=BATCH_SIZE,collate_fn=collate_fn_padd)\n",
    "        dl_valid = DataLoader(MIMICDataset(df_valid,FEATURES,pad=SEQUENCE_LEN),\n",
    "                          batch_size=BATCH_SIZE,collate_fn=collate_fn_padd)\n",
    "        dl_test = DataLoader(MIMICDataset(df_test,FEATURES,pad=SEQUENCE_LEN),\n",
    "                          batch_size=BATCH_SIZE,collate_fn=collate_fn_padd)\n",
    "        dataloaders = {'train':dl_train,'validation':dl_valid,'test':dl_test}\n"
   ]
  },
  {
   "cell_type": "code",
   "execution_count": 5,
   "id": "3c47bd5a",
   "metadata": {},
   "outputs": [],
   "source": [
    "preproc = PreProcess(all_features(),QuantileTransformer())\n",
    "df_train = pd.read_csv('data/train.csv')\n",
    "preproc.fit(df_train)"
   ]
  },
  {
   "cell_type": "markdown",
   "id": "42083ea1",
   "metadata": {},
   "source": [
    "## Import model"
   ]
  },
  {
   "cell_type": "code",
   "execution_count": 6,
   "id": "9b952fad",
   "metadata": {},
   "outputs": [],
   "source": [
    "model_path = 'experiments/mimic/test.pth'\n",
    "cpt = torch.load(model_path)"
   ]
  },
  {
   "cell_type": "code",
   "execution_count": 7,
   "id": "94b7833f",
   "metadata": {},
   "outputs": [],
   "source": [
    "model = ODERNN(99, 12, 0.1, 1,128,\"cpu\").to(\"cpu\")"
   ]
  },
  {
   "cell_type": "code",
   "execution_count": 8,
   "id": "57dee4c1",
   "metadata": {},
   "outputs": [
    {
     "data": {
      "text/plain": [
       "<All keys matched successfully>"
      ]
     },
     "execution_count": 8,
     "metadata": {},
     "output_type": "execute_result"
    }
   ],
   "source": [
    "model.load_state_dict(cpt['state_dict'])"
   ]
  },
  {
   "cell_type": "code",
   "execution_count": 9,
   "id": "98f027a7",
   "metadata": {},
   "outputs": [
    {
     "data": {
      "text/plain": [
       "ODERNN(\n",
       "  (rnn): RNNCell(99, 12)\n",
       "  (func): ODERNN_(\n",
       "    (net): Sequential(\n",
       "      (0): Linear(in_features=12, out_features=50, bias=True)\n",
       "      (1): Tanh()\n",
       "      (2): Linear(in_features=50, out_features=12, bias=True)\n",
       "    )\n",
       "  )\n",
       "  (relu): ReLU()\n",
       "  (l1): Linear(in_features=12, out_features=6, bias=True)\n",
       "  (distribution_mu): Linear(in_features=6, out_features=1, bias=True)\n",
       "  (sigma_net): Sequential(\n",
       "    (0): Linear(in_features=12, out_features=12, bias=True)\n",
       "    (1): Tanh()\n",
       "    (2): Linear(in_features=12, out_features=1, bias=True)\n",
       "    (3): Softplus(beta=1, threshold=20)\n",
       "  )\n",
       ")"
      ]
     },
     "execution_count": 9,
     "metadata": {},
     "output_type": "execute_result"
    }
   ],
   "source": [
    "model"
   ]
  },
  {
   "cell_type": "markdown",
   "id": "8ee18770",
   "metadata": {},
   "source": [
    "## Import test data"
   ]
  },
  {
   "cell_type": "code",
   "execution_count": 10,
   "id": "3e9f2826",
   "metadata": {},
   "outputs": [
    {
     "name": "stdout",
     "output_type": "stream",
     "text": [
      "(78557, 112)\n"
     ]
    }
   ],
   "source": [
    "df_test = import_data(\"data/test.csv\")\n",
    "print(df_test.shape)"
   ]
  },
  {
   "cell_type": "code",
   "execution_count": 11,
   "id": "02507e59",
   "metadata": {},
   "outputs": [],
   "source": [
    "df_test = preproc.transform(df_test)"
   ]
  },
  {
   "cell_type": "code",
   "execution_count": 12,
   "id": "81d24841",
   "metadata": {},
   "outputs": [],
   "source": [
    "df_test['dt'] = df_test.timer_dt - df_test.timer"
   ]
  },
  {
   "cell_type": "markdown",
   "id": "628375ba",
   "metadata": {},
   "source": [
    "## Check"
   ]
  },
  {
   "cell_type": "code",
   "execution_count": 13,
   "id": "979718a8",
   "metadata": {},
   "outputs": [],
   "source": [
    "tmp = MIMICDataset(df_test,all_features(),verbose=False)"
   ]
  },
  {
   "cell_type": "code",
   "execution_count": 14,
   "id": "92e7069b",
   "metadata": {},
   "outputs": [
    {
     "data": {
      "text/plain": [
       "array([0.34662461, 0.30010459])"
      ]
     },
     "execution_count": 14,
     "metadata": {},
     "output_type": "execute_result"
    }
   ],
   "source": [
    "glc_transform(np.array([198.,189.]))"
   ]
  },
  {
   "cell_type": "code",
   "execution_count": 15,
   "id": "3073ae69",
   "metadata": {},
   "outputs": [
    {
     "name": "stdout",
     "output_type": "stream",
     "text": [
      "198.00000093515325\n",
      "[146.3276]\n",
      "[146.25575]\n",
      "[146.17912]\n",
      "[146.10303]\n",
      "[146.02745]\n",
      "[145.95235]\n",
      "[145.87782]\n",
      "[145.80383]\n",
      "[145.73042]\n",
      "[145.65756]\n"
     ]
    }
   ],
   "source": [
    "x, y, msk, dt, msk0 = tmp[0]\n",
    "print(ginv(x[0,0]))\n",
    "x[0,1] = 0.0\n",
    "for dt_ in np.linspace(0,3,10):\n",
    "    dt[0,1] = dt[0,0] + dt_\n",
    "    print(ginv(model.forward(torch.tensor(dt).unsqueeze(0),torch.tensor(x).unsqueeze(0))[0][0,0].detach().numpy()))"
   ]
  },
  {
   "cell_type": "markdown",
   "id": "44e04d34",
   "metadata": {},
   "source": [
    "# Predict"
   ]
  },
  {
   "cell_type": "code",
   "execution_count": 16,
   "id": "b8f4c4fb",
   "metadata": {},
   "outputs": [
    {
     "name": "stdout",
     "output_type": "stream",
     "text": [
      "reconfiguring data...\n",
      "excluded patients: 0\n",
      "excluded rows: 0\n"
     ]
    },
    {
     "name": "stderr",
     "output_type": "stream",
     "text": [
      "100%|██████████| 17/17 [00:28<00:00,  1.67s/it]"
     ]
    },
    {
     "name": "stdout",
     "output_type": "stream",
     "text": [
      "_rmse : 55.492\n",
      "_loss : 0.297\n"
     ]
    },
    {
     "name": "stderr",
     "output_type": "stream",
     "text": [
      "\n"
     ]
    }
   ],
   "source": [
    "dl_test = DataLoader(MIMICDataset(df_test,all_features()),batch_size=256,collate_fn=collate_fn_padd)\n",
    "dataloaders = {'test':dl_test}\n",
    "loss_test,error_tests,y_preds,y_tests,msks = model.evaluate(dataloaders[\"test\"])"
   ]
  },
  {
   "cell_type": "code",
   "execution_count": 24,
   "id": "7ee93d39",
   "metadata": {},
   "outputs": [],
   "source": [
    "y_obs = df_test.loc[df_test.msk==0,'glc_dt'].to_numpy()"
   ]
  },
  {
   "cell_type": "code",
   "execution_count": 25,
   "id": "5e00e458",
   "metadata": {},
   "outputs": [
    {
     "data": {
      "text/plain": [
       "60624"
      ]
     },
     "execution_count": 25,
     "metadata": {},
     "output_type": "execute_result"
    }
   ],
   "source": [
    "y_obs.shape[0]"
   ]
  },
  {
   "cell_type": "code",
   "execution_count": 17,
   "id": "a43232fc",
   "metadata": {},
   "outputs": [
    {
     "name": "stdout",
     "output_type": "stream",
     "text": [
      "(71414,)\n",
      "(71414,)\n"
     ]
    }
   ],
   "source": [
    "mu,sig = model.predict(dataloaders[\"test\"])\n",
    "print(mu.shape)\n",
    "print(sig.shape)"
   ]
  },
  {
   "cell_type": "code",
   "execution_count": 26,
   "id": "48f21bd3",
   "metadata": {},
   "outputs": [],
   "source": [
    "mu_preds = []"
   ]
  },
  {
   "cell_type": "code",
   "execution_count": 18,
   "id": "9ebfb34b",
   "metadata": {},
   "outputs": [
    {
     "name": "stdout",
     "output_type": "stream",
     "text": [
      "(71414, 113)\n"
     ]
    }
   ],
   "source": [
    "print(df_test.loc[df_test.msk==0].shape)"
   ]
  },
  {
   "cell_type": "code",
   "execution_count": null,
   "id": "3c5a8208",
   "metadata": {},
   "outputs": [],
   "source": [
    "plt.hist(mu)"
   ]
  },
  {
   "cell_type": "markdown",
   "id": "6ee48819",
   "metadata": {},
   "source": [
    "## Evaluate\n",
    "\n",
    "text"
   ]
  },
  {
   "cell_type": "code",
   "execution_count": null,
   "id": "aef4835c",
   "metadata": {},
   "outputs": [],
   "source": [
    "df_test.loc[df_test.msk==0,'mu'] = mu\n",
    "df_test.loc[df_test.msk==0,'sig'] = sig"
   ]
  },
  {
   "cell_type": "code",
   "execution_count": null,
   "id": "d73931a2",
   "metadata": {},
   "outputs": [],
   "source": [
    "df_test['lower80'] = df_test['mu'] - 1.281552*df_test['sig']\n",
    "df_test['upper80'] = df_test['mu'] + 1.281552*df_test['sig']\n",
    "df_test['lower95'] = df_test['mu'] - 1.959964*df_test['sig']\n",
    "df_test['upper95'] = df_test['mu'] + 1.959964*df_test['sig']\n",
    "df_test['lower99'] = df_test['mu'] - 3.290527*df_test['sig']\n",
    "df_test['upper99'] = df_test['mu'] + 3.290527*df_test['sig']"
   ]
  },
  {
   "cell_type": "code",
   "execution_count": null,
   "id": "e576da0c",
   "metadata": {},
   "outputs": [],
   "source": [
    "(\n",
    "    p9.ggplot(df_test.loc[df_test.msk==0],p9.aes(x='ginv(mu)')) + \n",
    "    p9.geom_histogram(bins=100) + \n",
    "    p9.coord_cartesian(xlim=(0,500)) +\n",
    "    p9.labs(x=\"Predicted blood glucose (mg/dL)\") +\n",
    "    p9.theme_bw(base_size=14)\n",
    ")"
   ]
  },
  {
   "cell_type": "code",
   "execution_count": null,
   "id": "32abb068",
   "metadata": {},
   "outputs": [],
   "source": [
    "(\n",
    "    p9.ggplot(df_test.loc[df_test.msk==0],p9.aes(x='ginv(glc_dt)')) + \n",
    "    p9.geom_histogram(bins=100) + \n",
    "    p9.labs(x=\"Observed blood glucose (mg/dL)\") +\n",
    "    p9.theme_bw(base_size=14)\n",
    ")"
   ]
  },
  {
   "cell_type": "code",
   "execution_count": null,
   "id": "75467c33",
   "metadata": {},
   "outputs": [],
   "source": [
    "(\n",
    "    p9.ggplot(df_test.loc[df_test.msk==0],p9.aes(x='ginv(mu)',y='ginv(glc_dt)')) + \n",
    "    p9.geom_point(alpha=0.5) + \n",
    "    p9.geom_smooth(color=\"blue\") +\n",
    "    p9.geom_abline(intercept=0,slope=1,linetype=\"dashed\",color=\"red\") +\n",
    "    p9.coord_cartesian(xlim=(0,500),ylim=(0,500)) +\n",
    "    p9.labs(x=\"Observed blood glucose (mg/dL)\",y= \"Predicted blood glucose (mg/dL)\") +\n",
    "    p9.theme_bw()\n",
    ")"
   ]
  },
  {
   "cell_type": "code",
   "execution_count": null,
   "id": "3ec8cc82",
   "metadata": {},
   "outputs": [],
   "source": [
    "res80 = sum((df_test['lower80'] < df_test.glc_dt) & (df_test['upper80'] > df_test.glc_dt) & (df_test.msk == 0)) / sum(df_test.msk == 0)\n",
    "res95 = sum((df_test['lower95'] < df_test.glc_dt) & (df_test['upper95'] > df_test.glc_dt) & (df_test.msk == 0)) / sum(df_test.msk == 0)\n",
    "res99 = sum((df_test['lower99'] < df_test.glc_dt) & (df_test['upper99'] > df_test.glc_dt) & (df_test.msk == 0)) / sum(df_test.msk == 0)\n",
    "print(\"coverage of 80% prediction interval: {:05.4f}\".format(res80))\n",
    "print(\"coverage of 95% prediction interval: {:05.4f}\".format(res95))\n",
    "print(\"coverage of 99% prediction interval: {:05.4f}\".format(res99))"
   ]
  },
  {
   "cell_type": "code",
   "execution_count": null,
   "id": "702b11da",
   "metadata": {},
   "outputs": [],
   "source": [
    "N = 12\n",
    "max_t = 12\n",
    "conf_res = pd.DataFrame({\n",
    "    \"dt0\" : np.linspace(0,max_t-1,N),\n",
    "    \"dt1\" : np.linspace(1,max_t,N),\n",
    "    \"cov80\" : np.zeros(N),\n",
    "    \"cov95\" : np.zeros(N),\n",
    "    \"cov99\" : np.zeros(N)\n",
    "})\n",
    "for i in range(conf_res.shape[0]):\n",
    "    msk = (df_test.msk==0) & (df_test.dt >= conf_res.dt0[i]) & (df_test.dt < conf_res.dt1[i])\n",
    "    res80 = sum((df_test['lower80'] < df_test.glc_dt) & (df_test['upper80'] > df_test.glc_dt) & msk) / sum(msk)\n",
    "    res95 = sum((df_test['lower95'] < df_test.glc_dt) & (df_test['upper95'] > df_test.glc_dt) & msk) / sum(msk)\n",
    "    res99 = sum((df_test['lower99'] < df_test.glc_dt) & (df_test['upper99'] > df_test.glc_dt) & msk) / sum(msk)\n",
    "    conf_res.cov80[i] = res80\n",
    "    conf_res.cov95[i] = res95\n",
    "    conf_res.cov99[i] = res99"
   ]
  },
  {
   "cell_type": "code",
   "execution_count": null,
   "id": "f758431a",
   "metadata": {},
   "outputs": [],
   "source": [
    "(\n",
    "    p9.ggplot(conf_res,p9.aes(x=\"dt0\",y=\"cov95\")) +\n",
    "    p9.geom_point() +\n",
    "    p9.geom_hline(yintercept=0.95,linetype=\"dashed\",color=\"red\") +\n",
    "    p9.labs(x=\"Forecast time ahead (hours)\",\n",
    "             y=\"Coverage of\\n95% prediction interval\",\n",
    "             title=\"all (to crop)\") +\n",
    "    p9.theme_bw() +\n",
    "    p9.coord_cartesian(ylim=(0.9,1.0)) +\n",
    "    p9.scale_y_continuous(breaks=np.linspace(0.9,1.0,5),labels=np.linspace(0.9,1.0,5)*100) +\n",
    "    p9.scale_x_continuous(breaks=np.linspace(0,12,5),labels=[\"0-1\",\"3-4\",\"6-7\",\"9-10\",\"12-13\"]) \n",
    ")"
   ]
  },
  {
   "cell_type": "code",
   "execution_count": null,
   "id": "fc2553a1",
   "metadata": {},
   "outputs": [],
   "source": [
    "N = 12\n",
    "max_t = 12\n",
    "conf_res_hypo = pd.DataFrame({\n",
    "    \"dt0\" : np.linspace(0,max_t-1,N),\n",
    "    \"dt1\" : np.linspace(1,max_t,N),\n",
    "    \"cov80\" : np.zeros(N),\n",
    "    \"cov95\" : np.zeros(N),\n",
    "    \"cov99\" : np.zeros(N)\n",
    "})\n",
    "for i in range(conf_res_hypo.shape[0]):\n",
    "    msk = (df_test.msk==0) & (df_test.dt >= conf_res_hypo.dt0[i]) & (df_test.dt < conf_res_hypo.dt1[i]) & (ginv(df_test.glc_dt) < 70)\n",
    "    res80 = sum((df_test['lower80'] < df_test.glc_dt) & (df_test['upper80'] > df_test.glc_dt) & msk) / sum(msk)\n",
    "    res95 = sum((df_test['lower95'] < df_test.glc_dt) & (df_test['upper95'] > df_test.glc_dt) & msk) / sum(msk)\n",
    "    res99 = sum((df_test['lower99'] < df_test.glc_dt) & (df_test['upper99'] > df_test.glc_dt) & msk) / sum(msk)\n",
    "    conf_res_hypo.cov80[i] = res80\n",
    "    conf_res_hypo.cov95[i] = res95\n",
    "    conf_res_hypo.cov99[i] = res99"
   ]
  },
  {
   "cell_type": "code",
   "execution_count": null,
   "id": "fa5e2e43",
   "metadata": {},
   "outputs": [],
   "source": [
    "(\n",
    "    p9.ggplot(conf_res_hypo,p9.aes(x=\"dt0\",y=\"cov95\")) +\n",
    "    p9.geom_point() +\n",
    "    p9.geom_hline(yintercept=0.95,linetype=\"dashed\",color=\"red\") +\n",
    "    p9.labs(x=\"Forecast time ahead (hours)\",\n",
    "             y=\"Coverage of\\n95% prediction interval\",\n",
    "             title=\"hypo (to crop)\") +\n",
    "    p9.theme_bw() +\n",
    "    p9.coord_cartesian(ylim=(0.0,1.0)) +\n",
    "    #plt9.scale_y_continuous(breaks=np.linspace(0.9,1.0,5),labels=np.linspace(0.9,1.0,5)*100) +\n",
    "    p9.scale_x_continuous(breaks=np.linspace(0,12,5),labels=[\"0-1\",\"3-4\",\"6-7\",\"9-10\",\"12-13\"]) \n",
    ")"
   ]
  },
  {
   "cell_type": "code",
   "execution_count": null,
   "id": "b83aaa59",
   "metadata": {},
   "outputs": [],
   "source": [
    "N = 12\n",
    "max_t = 12\n",
    "conf_res_hyper = pd.DataFrame({\n",
    "    \"dt0\" : np.linspace(0,max_t-1,N),\n",
    "    \"dt1\" : np.linspace(1,max_t,N),\n",
    "    \"cov80\" : np.zeros(N),\n",
    "    \"cov95\" : np.zeros(N),\n",
    "    \"cov99\" : np.zeros(N)\n",
    "})\n",
    "for i in range(conf_res_hyper.shape[0]):\n",
    "    msk = (df_test.msk==0) & (df_test.dt >= conf_res_hyper.dt0[i]) & (df_test.dt < conf_res_hyper.dt1[i]) & (ginv(df_test.glc_dt) > 180)\n",
    "    res80 = sum((df_test['lower80'] < df_test.glc_dt) & (df_test['upper80'] > df_test.glc_dt) & msk) / sum(msk)\n",
    "    res95 = sum((df_test['lower95'] < df_test.glc_dt) & (df_test['upper95'] > df_test.glc_dt) & msk) / sum(msk)\n",
    "    res99 = sum((df_test['lower99'] < df_test.glc_dt) & (df_test['upper99'] > df_test.glc_dt) & msk) / sum(msk)\n",
    "    conf_res_hyper.cov80[i] = res80\n",
    "    conf_res_hyper.cov95[i] = res95\n",
    "    conf_res_hyper.cov99[i] = res99"
   ]
  },
  {
   "cell_type": "code",
   "execution_count": null,
   "id": "5f4ade6e",
   "metadata": {},
   "outputs": [],
   "source": [
    "(\n",
    "    p9.ggplot(conf_res_hyper,p9.aes(x=\"dt0\",y=\"cov95\")) +\n",
    "    p9.geom_point() +\n",
    "    p9.geom_hline(yintercept=0.95,linetype=\"dashed\",color=\"red\") +\n",
    "    p9.labs(x=\"Forecast time ahead (hours)\",\n",
    "             y=\"Coverage of\\n95% prediction interval\",\n",
    "             title=\"hyper (to crop)\") +\n",
    "    p9.theme_bw() +\n",
    "    p9.coord_cartesian(ylim=(0.75,1.0)) +\n",
    "    #plt9.scale_y_continuous(breaks=np.linspace(0.9,1.0,5),labels=np.linspace(0.9,1.0,5)*100) +\n",
    "    p9.scale_x_continuous(breaks=np.linspace(0,12,5),labels=[\"0-1\",\"3-4\",\"6-7\",\"9-10\",\"12-13\"]) \n",
    ")"
   ]
  },
  {
   "cell_type": "code",
   "execution_count": null,
   "id": "705dfb29",
   "metadata": {},
   "outputs": [],
   "source": [
    "df_test[\"glc_dt_locf\"] = df_test.glc\n",
    "df_test.loc[df_test.glc_dt_locf == 0,'glc_dt_locf'] = np.NaN\n",
    "df_test[\"glc_dt_locf\"] = df_test.groupby('icustay_id')[\"glc_dt_locf\"].ffill()\n",
    "res_rmse_locf = math.sqrt(np.mean((ginv(df_test.glc_dt_locf[df_test.msk==0]) - ginv(df_test.glc_dt[df_test.msk==0]))**2))\n",
    "print(\"RMSE (locf): {:05.4f}\".format(res_rmse_locf))"
   ]
  },
  {
   "cell_type": "code",
   "execution_count": null,
   "id": "9fe1cd78",
   "metadata": {},
   "outputs": [],
   "source": [
    "res_rmse_model = math.sqrt(np.mean((ginv(df_test.mu[df_test.msk==0]) - ginv(df_test.glc_dt[df_test.msk==0]))**2))\n",
    "print(\"RMSE (model): {:05.4f}\".format(res_rmse_model))"
   ]
  },
  {
   "cell_type": "code",
   "execution_count": null,
   "id": "61a2cf1b",
   "metadata": {},
   "outputs": [],
   "source": [
    "N = 12\n",
    "max_t = 12\n",
    "rmse_res = pd.DataFrame({\n",
    "    \"dt0\" : np.linspace(0,max_t-1,N),\n",
    "    \"dt1\" : np.linspace(1,max_t,N),\n",
    "    \"odernn\" : np.zeros(N),\n",
    "    \"locf\" : np.zeros(N)\n",
    "})\n",
    "for i in range(rmse_res.shape[0]):\n",
    "    msk = (df_test.msk==0) & (df_test.dt >= rmse_res.dt0[i]) & (df_test.dt < rmse_res.dt1[i]) \n",
    "    res_rmse_locf = math.sqrt(np.mean((ginv(df_test.glc_dt_locf[msk]) - ginv(df_test.glc_dt[msk]))**2))\n",
    "    res_rmse_odernn = math.sqrt(np.mean((ginv(df_test.mu[msk]) - ginv(df_test.glc_dt[msk]))**2))\n",
    "    rmse_res.odernn[i] = res_rmse_odernn\n",
    "    rmse_res.locf[i] = res_rmse_locf"
   ]
  },
  {
   "cell_type": "code",
   "execution_count": null,
   "id": "754cff4b",
   "metadata": {},
   "outputs": [],
   "source": [
    "rmse_res.index = pd.MultiIndex.from_arrays(rmse_res[['dt0', 'dt1']].values.T, names=['dt0', 'dt1'])"
   ]
  },
  {
   "cell_type": "code",
   "execution_count": null,
   "id": "9a8515a8",
   "metadata": {},
   "outputs": [],
   "source": [
    "rmse_res = rmse_res.loc[:,[\"odernn\",\"locf\"]].stack()"
   ]
  },
  {
   "cell_type": "code",
   "execution_count": null,
   "id": "f3f2058c",
   "metadata": {},
   "outputs": [],
   "source": [
    "rmse_res = pd.concat((rmse_res.index.to_frame().reset_index(drop=True),rmse_res.reset_index(drop=True)),axis=1)"
   ]
  },
  {
   "cell_type": "code",
   "execution_count": null,
   "id": "3f866d01",
   "metadata": {},
   "outputs": [],
   "source": [
    "rmse_res = rmse_res.rename(columns={2:\"model\",0:\"rmse\"})"
   ]
  },
  {
   "cell_type": "code",
   "execution_count": null,
   "id": "001881ba",
   "metadata": {},
   "outputs": [],
   "source": [
    "(\n",
    "    p9.ggplot(rmse_res,p9.aes(x=\"dt0\",y=\"rmse\",color=\"factor(model)\")) +\n",
    "    p9.geom_point() +\n",
    "    p9.geom_line() +\n",
    "    p9.labs(x=\"Forecast time ahead (hours)\",\n",
    "             y=\"RMSE\",\n",
    "             title=\"all (to crop)\") +\n",
    "    p9.theme_bw() +\n",
    "    p9.scale_color_discrete(name=\" \") +\n",
    "    #plt9.coord_cartesian(ylim=(0.75,1.0)) +\n",
    "    #plt9.scale_y_continuous(breaks=np.linspace(0.9,1.0,5),labels=np.linspace(0.9,1.0,5)*100) +\n",
    "    p9.scale_x_continuous(breaks=np.linspace(0,12,5),labels=[\"0-1\",\"3-4\",\"6-7\",\"9-10\",\"12-13\"]) \n",
    ")"
   ]
  },
  {
   "cell_type": "code",
   "execution_count": null,
   "id": "52e051bd",
   "metadata": {},
   "outputs": [],
   "source": []
  },
  {
   "cell_type": "code",
   "execution_count": null,
   "id": "92d49eba",
   "metadata": {},
   "outputs": [],
   "source": [
    "prob_test = scipy.stats.norm(df_test.loc[df_test.msk==0,\"mu\"], df_test.loc[df_test.msk==0,\"sig\"]).cdf(df_test.loc[df_test.msk==0,\"glc_dt\"])"
   ]
  },
  {
   "cell_type": "code",
   "execution_count": null,
   "id": "58c3ac70",
   "metadata": {},
   "outputs": [],
   "source": [
    "# a forecast is overdispersed if var < 0.8333 and underdispersed if var > 0.8333\n",
    "print(1/12)\n",
    "varF = np.var(prob_test)\n",
    "print('variance of probs: {:05.4f}'.format(varF))\n",
    "if varF > 1/12:\n",
    "    print(\"underdispersed\")\n",
    "else: \n",
    "    print(\"overdispersed\")"
   ]
  },
  {
   "cell_type": "code",
   "execution_count": null,
   "id": "06882caa",
   "metadata": {},
   "outputs": [],
   "source": [
    "(\n",
    "    p9.ggplot(pd.DataFrame(prob_test),p9.aes(x=\"prob_test\")) +\n",
    "    p9.geom_histogram(bins=45,color=\"white\",fill=\"lightblue\") + \n",
    "    p9.labs(x=\"Probability integral transform\") +\n",
    "    p9.scale_x_continuous(breaks=np.linspace(0,1,6)) +\n",
    "    p9.theme_bw(base_size=14)\n",
    ")"
   ]
  },
  {
   "cell_type": "code",
   "execution_count": null,
   "id": "dfff7b54",
   "metadata": {},
   "outputs": [],
   "source": [
    "# quantile plot\n",
    "def calibration_plot(prob_test):\n",
    "    nbins = 20\n",
    "    x1s = plt.hist(prob_test,bins=nbins)\n",
    "    plt.close()\n",
    "    xbin = np.zeros(nbins)\n",
    "    for i in range(nbins):\n",
    "        xbin[i] = (x1s[1][i] + x1s[1][i+1])/2\n",
    "    qs = np.cumsum(x1s[0])/sum(x1s[0])\n",
    "    errors = np.sqrt(qs*(1-qs)/sum(x1s[0]))\n",
    "    df = pd.DataFrame({\"predq\":xbin,\"empq\":qs,\"error\":errors})\n",
    "    p = (\n",
    "        p9.ggplot(df,p9.aes(x=\"predq\",y=\"empq\")) +\n",
    "        p9.geom_point() + \n",
    "        p9.theme_bw(base_size=14) +\n",
    "        p9.labs(x=\"Predicted quantile\",y=\"Empirical quantile\") +\n",
    "        p9.geom_abline(intercept=0,slope=1,linetype=\"dashed\",color=\"red\")\n",
    "    )\n",
    "    fig = p.draw()\n",
    "    fig.show()\n",
    "calibration_plot(prob_test)"
   ]
  },
  {
   "cell_type": "code",
   "execution_count": null,
   "id": "3d913614",
   "metadata": {},
   "outputs": [],
   "source": [
    "df_test_input = df_test.loc[df_test.input_hrs > 0].copy()\n",
    "samp_ids = np.random.choice(df_test_input.icustay_id.unique(),min(100,df_test_input.icustay_id.unique().shape[0]))\n",
    "df_test_input = df_test_input[df_test_input.icustay_id.isin(samp_ids)]"
   ]
  },
  {
   "cell_type": "code",
   "execution_count": null,
   "id": "ec040468",
   "metadata": {},
   "outputs": [],
   "source": [
    "inputs = np.linspace(0.7,1.0,3)\n",
    "inputs = np.append(0.0,inputs)\n",
    "dts = np.linspace(0.0,2.0,5)\n",
    "for i in range(0,inputs.shape[0]):\n",
    "    insulin_input = inputs[i]\n",
    "    df_test_input[\"input_hrs\"] = insulin_input\n",
    "    for j in range(0,dts.shape[0]):\n",
    "        df_test_input[\"timer_dt\"] = df_test_input[\"timer\"] + dts[j]\n",
    "        dl_test_input = DataLoader(MIMICDataset(df_test_input,all_features(),verbose=False),batch_size=128,collate_fn=collate_fn_padd)\n",
    "        dataloaders = {'test':dl_test_input}\n",
    "        mu,sig = model.predict(dataloaders[\"test\"])\n",
    "        df_test_input.loc[df_test_input.msk==0,'mu'+str(i)+str(j)] = mu\n",
    "        #df_test_input.loc[df_test_input.msk==0,'sig'+str(i)] = sig\n",
    "        df_test_input.loc[df_test_input.msk==0,'change'+str(i)+str(j)] = ginv(df_test_input.loc[df_test_input.msk==0,'glc']) - ginv(mu)"
   ]
  },
  {
   "cell_type": "code",
   "execution_count": null,
   "id": "9876032d",
   "metadata": {},
   "outputs": [],
   "source": [
    "cols = [col for col in df_test_input if col.startswith('change')]\n",
    "df_test_input = df_test_input.loc[df_test_input.msk == 0,cols]\n",
    "nn = df_test_input.shape[0]\n",
    "df_test_input = df_test_input.stack()"
   ]
  },
  {
   "cell_type": "code",
   "execution_count": null,
   "id": "6842b6fb",
   "metadata": {},
   "outputs": [],
   "source": [
    "df_test_input = pd.concat((df_test_input.index.to_frame().reset_index(drop=True),df_test_input.reset_index(drop=True)),axis=1)\n",
    "df_test_input.columns = [\"id\",\"change\",\"value\"]"
   ]
  },
  {
   "cell_type": "code",
   "execution_count": null,
   "id": "fe2db64e",
   "metadata": {},
   "outputs": [],
   "source": [
    "inputsr = np.repeat(inputs,(nn,))\n",
    "inputsr = np.tile(inputsr,(dts.shape[0],))\n",
    "dtsr = np.tile(dts,(nn,))\n",
    "dtsr = np.tile(dtsr,(inputs.shape[0],))\n",
    "df_test_input['dt'] = dtsr\n",
    "df_test_input['input'] = inputsr"
   ]
  },
  {
   "cell_type": "code",
   "execution_count": null,
   "id": "99b21bdb",
   "metadata": {},
   "outputs": [],
   "source": [
    "df_test_input"
   ]
  },
  {
   "cell_type": "code",
   "execution_count": null,
   "id": "c8da656f",
   "metadata": {},
   "outputs": [],
   "source": [
    "(\n",
    "    p9.ggplot(df_test_input,p9.aes(x=\"dt\",y=\"value\",color=\"factor(input)\")) +\n",
    "    #p9.geom_line() +\n",
    "    p9.geom_smooth() +\n",
    "    p9.coord_cartesian(ylim=(0,10)) +\n",
    "    p9.theme_bw(base_size=14)\n",
    ")"
   ]
  },
  {
   "cell_type": "code",
   "execution_count": null,
   "id": "cc13058f",
   "metadata": {},
   "outputs": [],
   "source": [
    "df_test_input.loc[(df_test_input.input==0) & (df_test_input.id == 325)]"
   ]
  },
  {
   "cell_type": "code",
   "execution_count": null,
   "id": "d2444d81",
   "metadata": {},
   "outputs": [],
   "source": [
    "df_test_input[\"id1\"] = np.repeat(range(0,8984),5)"
   ]
  },
  {
   "cell_type": "code",
   "execution_count": null,
   "id": "90c0b199",
   "metadata": {},
   "outputs": [],
   "source": [
    "(\n",
    "    p9.ggplot(df_test_input.loc[df_test_input.input==0][0:200],p9.aes(x=\"dt\",y=\"-value\")) +\n",
    "    p9.geom_line(p9.aes(group=\"id1\"),alpha=0.2) +\n",
    "    p9.theme_bw(base_size=14) +\n",
    "    p9.geom_smooth(color=\"blue\")+\n",
    "    p9.facet_wrap(\"input\")+\n",
    "    p9.labs(x=\"Forecast time ahead (hours)\",\n",
    "            y=\"Forecast change\\nin blood glucose (mg/dL)\",\n",
    "           title=\"no insulin\")\n",
    ")"
   ]
  },
  {
   "cell_type": "code",
   "execution_count": null,
   "id": "3758dc55",
   "metadata": {},
   "outputs": [],
   "source": [
    "(\n",
    "    p9.ggplot(df_test_input.loc[(df_test_input.input >= 0.7) & (df_test_input.input < 0.8)][0:200],p9.aes(x=\"dt\",y=\"-value\")) +\n",
    "    p9.geom_line(p9.aes(group=\"id1\"),alpha=0.2) +\n",
    "    p9.theme_bw(base_size=14) +\n",
    "    p9.geom_smooth(color=\"blue\")+\n",
    "    p9.facet_wrap(\"input\")+\n",
    "    p9.labs(x=\"Forecast time ahead (hours)\",\n",
    "            y=\"Forecast change\\nin blood glucose (mg/dL)\",\n",
    "           title=\"0.75 std insulin\")\n",
    ")"
   ]
  },
  {
   "cell_type": "code",
   "execution_count": null,
   "id": "85bcc727",
   "metadata": {},
   "outputs": [],
   "source": [
    "(\n",
    "    p9.ggplot(df_test_input.loc[(df_test_input.input >= 0.85) & (df_test_input.input < 1.0)],p9.aes(x=\"dt\",y=\"-value\")) +\n",
    "    p9.geom_line(p9.aes(group=\"id1\"),alpha=0.2) +\n",
    "    p9.theme_bw(base_size=14) +\n",
    "    p9.geom_smooth(color=\"blue\")+\n",
    "    p9.facet_wrap(\"input\")+\n",
    "    p9.labs(x=\"Forecast time ahead (hours)\",\n",
    "            y=\"Forecast change\\nin blood glucose (mg/dL)\",\n",
    "           title=\"0.85 std insulin\")\n",
    ")"
   ]
  },
  {
   "cell_type": "code",
   "execution_count": null,
   "id": "49a51a90",
   "metadata": {},
   "outputs": [],
   "source": [
    "df_test['change_mgdl'] = ginv(df_test.loc[df_test.msk==0].mu) - ginv(df_test.loc[df_test.msk==0].glc)"
   ]
  },
  {
   "cell_type": "code",
   "execution_count": null,
   "id": "dca26b41",
   "metadata": {},
   "outputs": [],
   "source": [
    "df_test['mu_inv'] = ginv(df_test['mu'])\n",
    "df_test['glc_inv'] = ginv(df_test['glc'])\n",
    "df_test['glc_dt_inv'] = ginv(df_test['glc_dt'])"
   ]
  },
  {
   "cell_type": "code",
   "execution_count": null,
   "id": "f060fd02",
   "metadata": {},
   "outputs": [],
   "source": [
    "df_test.loc[df_test.icustay_id == 299957,[\"timer\",\"timer_dt\",\"glc_inv\",\"mu_inv\",\"glc_dt_inv\",\"msk\",\"input_hrs\"]]"
   ]
  },
  {
   "cell_type": "code",
   "execution_count": null,
   "id": "46ce112e",
   "metadata": {},
   "outputs": [],
   "source": [
    "(\n",
    "    p9.ggplot(df_test.loc[df_test.input_hrs>0],p9.aes(x=\"input_hrs\",y=\"change_mgdl\"))+\n",
    "    p9.geom_point(alpha=0.5) +\n",
    "    p9.geom_smooth(color=\"blue\") +\n",
    "    p9.coord_cartesian(ylim=(-150,25))+\n",
    "    p9.labs(x=\"Insulin infusion input (??)\",y=\"Forecast change in\\nblood glucose (mg/dL)\") +\n",
    "    p9.theme_bw(base_size=14)\n",
    ")"
   ]
  },
  {
   "cell_type": "code",
   "execution_count": null,
   "id": "6fc30dcb",
   "metadata": {},
   "outputs": [],
   "source": []
  }
 ],
 "metadata": {
  "environment": {
   "name": "pytorch-gpu.1-9.m75",
   "type": "gcloud",
   "uri": "gcr.io/deeplearning-platform-release/pytorch-gpu.1-9:m75"
  },
  "kernelspec": {
   "display_name": "Python 3",
   "language": "python",
   "name": "python3"
  },
  "language_info": {
   "codemirror_mode": {
    "name": "ipython",
    "version": 3
   },
   "file_extension": ".py",
   "mimetype": "text/x-python",
   "name": "python",
   "nbconvert_exporter": "python",
   "pygments_lexer": "ipython3",
   "version": "3.7.10"
  }
 },
 "nbformat": 4,
 "nbformat_minor": 5
}
