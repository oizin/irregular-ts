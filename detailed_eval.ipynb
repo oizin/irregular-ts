{
 "cells": [
  {
   "cell_type": "markdown",
   "id": "49405b83",
   "metadata": {},
   "source": [
    "# Evaluation of model performance\n",
    "\n",
    "Evaluation..."
   ]
  },
  {
   "cell_type": "code",
   "execution_count": 1,
   "id": "b990ac5a",
   "metadata": {},
   "outputs": [],
   "source": [
    "import torch\n",
    "import pandas as pd\n",
    "import matplotlib.pyplot as plt\n",
    "import numpy as np\n",
    "from torch.utils.data import DataLoader\n",
    "import scipy.stats\n",
    "from sklearn.preprocessing import StandardScaler\n",
    "from sklearn.preprocessing import MinMaxScaler\n",
    "from sklearn.preprocessing import QuantileTransformer\n",
    "\n",
    "from src.data.data_scaler import PreProcess\n",
    "from src.data.data_loader import MIMICDataset,import_data\n",
    "from src.utils import setup_logger\n",
    "from src.training.training_nn import *\n",
    "from src.models.models import ODERNN,GRU,LatentODE\n",
    "from src.utils import seed_everything"
   ]
  },
  {
   "cell_type": "code",
   "execution_count": 2,
   "id": "e824c1d3",
   "metadata": {},
   "outputs": [],
   "source": [
    "from data.feature_sets import all_features"
   ]
  },
  {
   "cell_type": "code",
   "execution_count": 3,
   "id": "3fef9e7b",
   "metadata": {},
   "outputs": [],
   "source": [
    "def glc_transform(x):\n",
    "    x = x.copy()\n",
    "    x[x > 0] = np.log(x[x > 0]) - np.log(140)\n",
    "    return x\n",
    "\n",
    "def glc_invtransform(x):\n",
    "    x = x.copy()\n",
    "    x = np.exp(x + np.log(140))\n",
    "    return x\n",
    "\n",
    "ginv = glc_invtransform"
   ]
  },
  {
   "cell_type": "code",
   "execution_count": 4,
   "id": "e5328a50",
   "metadata": {},
   "outputs": [],
   "source": [
    "preproc = PreProcess(all_features(),QuantileTransformer())\n",
    "df_train = pd.read_csv('data/train.csv')\n",
    "preproc.fit(df_train)"
   ]
  },
  {
   "cell_type": "markdown",
   "id": "06e26ef0",
   "metadata": {},
   "source": [
    "## Model"
   ]
  },
  {
   "cell_type": "code",
   "execution_count": 5,
   "id": "d1b47356",
   "metadata": {},
   "outputs": [],
   "source": [
    "model_path = 'experiments/mimic/LatentODE.pth'\n",
    "cpt = torch.load(model_path)"
   ]
  },
  {
   "cell_type": "code",
   "execution_count": 6,
   "id": "5cc08642",
   "metadata": {},
   "outputs": [
    {
     "name": "stdout",
     "output_type": "stream",
     "text": [
      "85\n"
     ]
    }
   ],
   "source": [
    "print(len(all_features()))"
   ]
  },
  {
   "cell_type": "code",
   "execution_count": 7,
   "id": "6ccaae68",
   "metadata": {},
   "outputs": [],
   "source": [
    "model = LatentODE(85, 10, 0.1, 1,\"cuda\").to(\"cuda\")"
   ]
  },
  {
   "cell_type": "code",
   "execution_count": 8,
   "id": "cba22956",
   "metadata": {},
   "outputs": [
    {
     "data": {
      "text/plain": [
       "<All keys matched successfully>"
      ]
     },
     "execution_count": 8,
     "metadata": {},
     "output_type": "execute_result"
    }
   ],
   "source": [
    "model.load_state_dict(cpt['state_dict'])"
   ]
  },
  {
   "cell_type": "code",
   "execution_count": 9,
   "id": "51c50b2f",
   "metadata": {},
   "outputs": [
    {
     "data": {
      "text/plain": [
       "LatentODE(\n",
       "  (func): LODEFunc(\n",
       "    (net): Sequential(\n",
       "      (0): Linear(in_features=95, out_features=50, bias=True)\n",
       "      (1): Tanh()\n",
       "      (2): Linear(in_features=50, out_features=10, bias=True)\n",
       "      (3): Tanh()\n",
       "    )\n",
       "  )\n",
       "  (ls1): Linear(in_features=10, out_features=10, bias=True)\n",
       "  (as1): Tanh()\n",
       "  (ls2): Linear(in_features=10, out_features=1, bias=True)\n",
       "  (os1): Softplus(beta=1, threshold=20)\n",
       "  (lm1): Linear(in_features=10, out_features=10, bias=True)\n",
       "  (am1): Tanh()\n",
       "  (lm2): Linear(in_features=10, out_features=1, bias=True)\n",
       ")"
      ]
     },
     "execution_count": 9,
     "metadata": {},
     "output_type": "execute_result"
    }
   ],
   "source": [
    "model"
   ]
  },
  {
   "cell_type": "markdown",
   "id": "97da93ce",
   "metadata": {},
   "source": [
    "## Test data"
   ]
  },
  {
   "cell_type": "code",
   "execution_count": 10,
   "id": "6c93cf1d",
   "metadata": {},
   "outputs": [
    {
     "name": "stdout",
     "output_type": "stream",
     "text": [
      "(78557, 97)\n"
     ]
    }
   ],
   "source": [
    "df_test = import_data(\"data/test.csv\")\n",
    "print(df_test.shape)"
   ]
  },
  {
   "cell_type": "code",
   "execution_count": 11,
   "id": "d2f10a43",
   "metadata": {},
   "outputs": [],
   "source": [
    "df_test = preproc.transform(df_test)"
   ]
  },
  {
   "cell_type": "code",
   "execution_count": 12,
   "id": "b50a0532",
   "metadata": {},
   "outputs": [],
   "source": [
    "df_test['dt'] = df_test.timer_dt - df_test.timer"
   ]
  },
  {
   "cell_type": "code",
   "execution_count": 13,
   "id": "51b372b7",
   "metadata": {},
   "outputs": [
    {
     "data": {
      "text/plain": [
       "(array([55924.,     0.,     0.,     0.,     0.,     0.,   238.,  7284.,\n",
       "         8097.,  7014.]),\n",
       " array([0.        , 0.09999823, 0.19999647, 0.2999947 , 0.39999293,\n",
       "        0.49999117, 0.5999894 , 0.69998764, 0.79998587, 0.8999841 ,\n",
       "        0.99998234]),\n",
       " <BarContainer object of 10 artists>)"
      ]
     },
     "execution_count": 13,
     "metadata": {},
     "output_type": "execute_result"
    },
    {
     "data": {
      "image/png": "[encoded data removed]",
      "text/plain": [
       "<Figure size 432x288 with 1 Axes>"
      ]
     },
     "metadata": {
      "needs_background": "light"
     },
     "output_type": "display_data"
    }
   ],
   "source": [
    "plt.hist(df_test.input_hrs)"
   ]
  },
  {
   "cell_type": "markdown",
   "id": "f9a93517",
   "metadata": {},
   "source": [
    "# Predict"
   ]
  },
  {
   "cell_type": "code",
   "execution_count": 14,
   "id": "40cfbcbe",
   "metadata": {},
   "outputs": [
    {
     "name": "stdout",
     "output_type": "stream",
     "text": [
      "reconfiguring data...\n"
     ]
    },
    {
     "name": "stderr",
     "output_type": "stream",
     "text": [
      "100%|██████████| 4123/4123 [13:37<00:00,  5.05it/s]  "
     ]
    },
    {
     "name": "stdout",
     "output_type": "stream",
     "text": [
      "eval_rmse : 40.107\n",
      "eval_loss : -0.005\n"
     ]
    },
    {
     "name": "stderr",
     "output_type": "stream",
     "text": [
      "\n"
     ]
    }
   ],
   "source": [
    "dl_test = DataLoader(MIMICDataset(df_test,all_features()),batch_size=1)\n",
    "dataloaders = {'test':dl_test}\n",
    "loss_test,error_tests,y_preds,y_tests,msks = model.evaluate(dataloaders[\"test\"])"
   ]
  },
  {
   "cell_type": "code",
   "execution_count": 16,
   "id": "8c774bde",
   "metadata": {},
   "outputs": [
    {
     "data": {
      "text/html": [
       "<div>\n",
       "<style scoped>\n",
       "    .dataframe tbody tr th:only-of-type {\n",
       "        vertical-align: middle;\n",
       "    }\n",
       "\n",
       "    .dataframe tbody tr th {\n",
       "        vertical-align: top;\n",
       "    }\n",
       "\n",
       "    .dataframe thead th {\n",
       "        text-align: right;\n",
       "    }\n",
       "</style>\n",
       "<table border=\"1\" class=\"dataframe\">\n",
       "  <thead>\n",
       "    <tr style=\"text-align: right;\">\n",
       "      <th></th>\n",
       "      <th>subject_id</th>\n",
       "      <th>hadm_id</th>\n",
       "      <th>icustay_id</th>\n",
       "      <th>icu_admissiontime</th>\n",
       "      <th>icu_dischargetime</th>\n",
       "      <th>timer</th>\n",
       "      <th>timer_dt</th>\n",
       "      <th>glc</th>\n",
       "      <th>glc_dt</th>\n",
       "      <th>msk</th>\n",
       "      <th>...</th>\n",
       "      <th>demo_gender_F</th>\n",
       "      <th>demo_gender_M</th>\n",
       "      <th>demo_ethnicity_grouped_asian</th>\n",
       "      <th>demo_ethnicity_grouped_black</th>\n",
       "      <th>demo_ethnicity_grouped_hispanic</th>\n",
       "      <th>demo_ethnicity_grouped_native</th>\n",
       "      <th>demo_ethnicity_grouped_other</th>\n",
       "      <th>demo_ethnicity_grouped_unknown</th>\n",
       "      <th>demo_ethnicity_grouped_white</th>\n",
       "      <th>dt</th>\n",
       "    </tr>\n",
       "  </thead>\n",
       "  <tbody>\n",
       "    <tr>\n",
       "      <th>0</th>\n",
       "      <td>41710</td>\n",
       "      <td>181955</td>\n",
       "      <td>200028</td>\n",
       "      <td>0.0</td>\n",
       "      <td>69.68</td>\n",
       "      <td>1.05</td>\n",
       "      <td>5.02</td>\n",
       "      <td>0.346625</td>\n",
       "      <td>0.611317</td>\n",
       "      <td>0.0</td>\n",
       "      <td>...</td>\n",
       "      <td>0.0</td>\n",
       "      <td>1.0</td>\n",
       "      <td>0.0</td>\n",
       "      <td>0.0</td>\n",
       "      <td>0.0</td>\n",
       "      <td>0.0</td>\n",
       "      <td>0.0</td>\n",
       "      <td>0.0</td>\n",
       "      <td>1.0</td>\n",
       "      <td>3.97</td>\n",
       "    </tr>\n",
       "    <tr>\n",
       "      <th>1</th>\n",
       "      <td>41710</td>\n",
       "      <td>181955</td>\n",
       "      <td>200028</td>\n",
       "      <td>0.0</td>\n",
       "      <td>69.68</td>\n",
       "      <td>5.02</td>\n",
       "      <td>13.28</td>\n",
       "      <td>0.611317</td>\n",
       "      <td>NaN</td>\n",
       "      <td>1.0</td>\n",
       "      <td>...</td>\n",
       "      <td>0.0</td>\n",
       "      <td>1.0</td>\n",
       "      <td>0.0</td>\n",
       "      <td>0.0</td>\n",
       "      <td>0.0</td>\n",
       "      <td>0.0</td>\n",
       "      <td>0.0</td>\n",
       "      <td>0.0</td>\n",
       "      <td>1.0</td>\n",
       "      <td>8.26</td>\n",
       "    </tr>\n",
       "    <tr>\n",
       "      <th>2</th>\n",
       "      <td>41710</td>\n",
       "      <td>181955</td>\n",
       "      <td>200028</td>\n",
       "      <td>0.0</td>\n",
       "      <td>69.68</td>\n",
       "      <td>13.28</td>\n",
       "      <td>19.40</td>\n",
       "      <td>0.611317</td>\n",
       "      <td>0.966441</td>\n",
       "      <td>0.0</td>\n",
       "      <td>...</td>\n",
       "      <td>0.0</td>\n",
       "      <td>1.0</td>\n",
       "      <td>0.0</td>\n",
       "      <td>0.0</td>\n",
       "      <td>0.0</td>\n",
       "      <td>0.0</td>\n",
       "      <td>0.0</td>\n",
       "      <td>0.0</td>\n",
       "      <td>1.0</td>\n",
       "      <td>6.12</td>\n",
       "    </tr>\n",
       "    <tr>\n",
       "      <th>3</th>\n",
       "      <td>41710</td>\n",
       "      <td>181955</td>\n",
       "      <td>200028</td>\n",
       "      <td>0.0</td>\n",
       "      <td>69.68</td>\n",
       "      <td>19.40</td>\n",
       "      <td>23.83</td>\n",
       "      <td>0.966441</td>\n",
       "      <td>0.872488</td>\n",
       "      <td>0.0</td>\n",
       "      <td>...</td>\n",
       "      <td>0.0</td>\n",
       "      <td>1.0</td>\n",
       "      <td>0.0</td>\n",
       "      <td>0.0</td>\n",
       "      <td>0.0</td>\n",
       "      <td>0.0</td>\n",
       "      <td>0.0</td>\n",
       "      <td>0.0</td>\n",
       "      <td>1.0</td>\n",
       "      <td>4.43</td>\n",
       "    </tr>\n",
       "    <tr>\n",
       "      <th>4</th>\n",
       "      <td>41710</td>\n",
       "      <td>181955</td>\n",
       "      <td>200028</td>\n",
       "      <td>0.0</td>\n",
       "      <td>69.68</td>\n",
       "      <td>23.83</td>\n",
       "      <td>29.12</td>\n",
       "      <td>0.872488</td>\n",
       "      <td>NaN</td>\n",
       "      <td>1.0</td>\n",
       "      <td>...</td>\n",
       "      <td>0.0</td>\n",
       "      <td>1.0</td>\n",
       "      <td>0.0</td>\n",
       "      <td>0.0</td>\n",
       "      <td>0.0</td>\n",
       "      <td>0.0</td>\n",
       "      <td>0.0</td>\n",
       "      <td>0.0</td>\n",
       "      <td>1.0</td>\n",
       "      <td>5.29</td>\n",
       "    </tr>\n",
       "  </tbody>\n",
       "</table>\n",
       "<p>5 rows × 98 columns</p>\n",
       "</div>"
      ],
      "text/plain": [
       "   subject_id  hadm_id  icustay_id  icu_admissiontime  icu_dischargetime  \\\n",
       "0       41710   181955      200028                0.0              69.68   \n",
       "1       41710   181955      200028                0.0              69.68   \n",
       "2       41710   181955      200028                0.0              69.68   \n",
       "3       41710   181955      200028                0.0              69.68   \n",
       "4       41710   181955      200028                0.0              69.68   \n",
       "\n",
       "   timer  timer_dt       glc    glc_dt  msk  ...  demo_gender_F  \\\n",
       "0   1.05      5.02  0.346625  0.611317  0.0  ...            0.0   \n",
       "1   5.02     13.28  0.611317       NaN  1.0  ...            0.0   \n",
       "2  13.28     19.40  0.611317  0.966441  0.0  ...            0.0   \n",
       "3  19.40     23.83  0.966441  0.872488  0.0  ...            0.0   \n",
       "4  23.83     29.12  0.872488       NaN  1.0  ...            0.0   \n",
       "\n",
       "   demo_gender_M  demo_ethnicity_grouped_asian  demo_ethnicity_grouped_black  \\\n",
       "0            1.0                           0.0                           0.0   \n",
       "1            1.0                           0.0                           0.0   \n",
       "2            1.0                           0.0                           0.0   \n",
       "3            1.0                           0.0                           0.0   \n",
       "4            1.0                           0.0                           0.0   \n",
       "\n",
       "   demo_ethnicity_grouped_hispanic  demo_ethnicity_grouped_native  \\\n",
       "0                              0.0                            0.0   \n",
       "1                              0.0                            0.0   \n",
       "2                              0.0                            0.0   \n",
       "3                              0.0                            0.0   \n",
       "4                              0.0                            0.0   \n",
       "\n",
       "   demo_ethnicity_grouped_other  demo_ethnicity_grouped_unknown  \\\n",
       "0                           0.0                             0.0   \n",
       "1                           0.0                             0.0   \n",
       "2                           0.0                             0.0   \n",
       "3                           0.0                             0.0   \n",
       "4                           0.0                             0.0   \n",
       "\n",
       "   demo_ethnicity_grouped_white    dt  \n",
       "0                           1.0  3.97  \n",
       "1                           1.0  8.26  \n",
       "2                           1.0  6.12  \n",
       "3                           1.0  4.43  \n",
       "4                           1.0  5.29  \n",
       "\n",
       "[5 rows x 98 columns]"
      ]
     },
     "execution_count": 16,
     "metadata": {},
     "output_type": "execute_result"
    }
   ],
   "source": [
    "mu = [y[0] for y in y_preds]\n",
    "sig = [y[1] for y in y_preds]\n",
    "msks = np.concatenate([m.squeeze(0) for m in msks])\n",
    "df_test.head()"
   ]
  },
  {
   "cell_type": "markdown",
   "id": "c2b7e24d",
   "metadata": {},
   "source": [
    "## Evaluate\n",
    "\n",
    "text"
   ]
  },
  {
   "cell_type": "code",
   "execution_count": 17,
   "id": "6128e9b2",
   "metadata": {},
   "outputs": [],
   "source": [
    "df_test['mu'] = np.concatenate(mu)\n",
    "df_test['sig'] = np.concatenate(sig)\n",
    "df_test['lower80'] = df_test['mu'] - 1.281552*df_test['sig']\n",
    "df_test['upper80'] = df_test['mu'] + 1.281552*df_test['sig']\n",
    "df_test['lower95'] = df_test['mu'] - 1.959964*df_test['sig']\n",
    "df_test['upper95'] = df_test['mu'] + 1.959964*df_test['sig']\n",
    "df_test['lower99'] = df_test['mu'] - 3.290527*df_test['sig']\n",
    "df_test['upper99'] = df_test['mu'] + 3.290527*df_test['sig']"
   ]
  },
  {
   "cell_type": "code",
   "execution_count": 18,
   "id": "a40a64e6",
   "metadata": {},
   "outputs": [
    {
     "name": "stdout",
     "output_type": "stream",
     "text": [
      "coverage of 80% prediction interval: 0.8347\n",
      "coverage of 95% prediction interval: 0.9480\n",
      "coverage of 99% prediction interval: 0.9936\n"
     ]
    }
   ],
   "source": [
    "res80 = sum((df_test['lower80'] < df_test.glc_dt) & (df_test['upper80'] > df_test.glc_dt) & (df_test.msk == 0)) / sum(df_test.msk == 0)\n",
    "res95 = sum((df_test['lower95'] < df_test.glc_dt) & (df_test['upper95'] > df_test.glc_dt) & (df_test.msk == 0)) / sum(df_test.msk == 0)\n",
    "res99 = sum((df_test['lower99'] < df_test.glc_dt) & (df_test['upper99'] > df_test.glc_dt) & (df_test.msk == 0)) / sum(df_test.msk == 0)\n",
    "print(\"coverage of 80% prediction interval: {:05.4f}\".format(res80))\n",
    "print(\"coverage of 95% prediction interval: {:05.4f}\".format(res95))\n",
    "print(\"coverage of 99% prediction interval: {:05.4f}\".format(res99))"
   ]
  },
  {
   "cell_type": "code",
   "execution_count": 19,
   "id": "eb4497ae",
   "metadata": {},
   "outputs": [
    {
     "name": "stdout",
     "output_type": "stream",
     "text": [
      "time ahead (hours): 00.00-01.00\n",
      "coverage of 80% prediction interval: 0.8663\n",
      "coverage of 95% prediction interval: 0.9653\n",
      "coverage of 99% prediction interval: 0.9955\n",
      "time ahead (hours): 01.00-02.00\n",
      "coverage of 80% prediction interval: 0.8622\n",
      "coverage of 95% prediction interval: 0.9632\n",
      "coverage of 99% prediction interval: 0.9956\n",
      "time ahead (hours): 02.00-03.00\n",
      "coverage of 80% prediction interval: 0.8320\n",
      "coverage of 95% prediction interval: 0.9432\n",
      "coverage of 99% prediction interval: 0.9938\n",
      "time ahead (hours): 03.00-04.00\n",
      "coverage of 80% prediction interval: 0.7933\n",
      "coverage of 95% prediction interval: 0.9273\n",
      "coverage of 99% prediction interval: 0.9885\n",
      "time ahead (hours): 04.00-05.00\n",
      "coverage of 80% prediction interval: 0.8021\n",
      "coverage of 95% prediction interval: 0.9333\n",
      "coverage of 99% prediction interval: 0.9930\n",
      "time ahead (hours): 05.00-06.00\n",
      "coverage of 80% prediction interval: 0.8260\n",
      "coverage of 95% prediction interval: 0.9408\n",
      "coverage of 99% prediction interval: 0.9929\n",
      "time ahead (hours): 06.00-07.00\n",
      "coverage of 80% prediction interval: 0.8392\n",
      "coverage of 95% prediction interval: 0.9496\n",
      "coverage of 99% prediction interval: 0.9945\n",
      "time ahead (hours): 07.00-08.00\n",
      "coverage of 80% prediction interval: 0.7829\n",
      "coverage of 95% prediction interval: 0.9278\n",
      "coverage of 99% prediction interval: 0.9916\n",
      "time ahead (hours): 08.00-09.00\n",
      "coverage of 80% prediction interval: 0.7799\n",
      "coverage of 95% prediction interval: 0.9151\n",
      "coverage of 99% prediction interval: 0.9844\n",
      "time ahead (hours): 09.00-10.00\n",
      "coverage of 80% prediction interval: 0.7916\n",
      "coverage of 95% prediction interval: 0.9265\n",
      "coverage of 99% prediction interval: 0.9865\n",
      "time ahead (hours): 10.00-11.00\n",
      "coverage of 80% prediction interval: 0.8115\n",
      "coverage of 95% prediction interval: 0.9223\n",
      "coverage of 99% prediction interval: 0.9834\n",
      "time ahead (hours): 11.00-12.00\n",
      "coverage of 80% prediction interval: 0.8008\n",
      "coverage of 95% prediction interval: 0.9362\n",
      "coverage of 99% prediction interval: 0.9908\n"
     ]
    }
   ],
   "source": [
    "dts = np.linspace(0,11,12)\n",
    "dts = np.append(dts,12.)\n",
    "for i in range(dts.shape[0]-1):\n",
    "    print('time ahead (hours): {:05.2f}-{:05.2f}'.format(dts[i],dts[i+1]))\n",
    "    msk = (df_test.msk==0) & (df_test.dt >= dts[i]) & (df_test.dt < dts[i+1])\n",
    "    res80 = sum((df_test['lower80'] < df_test.glc_dt) & (df_test['upper80'] > df_test.glc_dt) & msk) / sum(msk)\n",
    "    res95 = sum((df_test['lower95'] < df_test.glc_dt) & (df_test['upper95'] > df_test.glc_dt) & msk) / sum(msk)\n",
    "    res99 = sum((df_test['lower99'] < df_test.glc_dt) & (df_test['upper99'] > df_test.glc_dt) & msk) / sum(msk)\n",
    "    print(\"coverage of 80% prediction interval: {:05.4f}\".format(res80))\n",
    "    print(\"coverage of 95% prediction interval: {:05.4f}\".format(res95))\n",
    "    print(\"coverage of 99% prediction interval: {:05.4f}\".format(res99))"
   ]
  },
  {
   "cell_type": "code",
   "execution_count": 20,
   "id": "d2697bbb",
   "metadata": {},
   "outputs": [
    {
     "name": "stdout",
     "output_type": "stream",
     "text": [
      "interval coverage when hypoglycaemia region...\n",
      "time ahead (hours): 00.00-01.00\n",
      "coverage of 80% prediction interval: 0.3309\n",
      "coverage of 95% prediction interval: 0.6801\n",
      "coverage of 99% prediction interval: 0.9118\n",
      "time ahead (hours): 01.00-02.00\n",
      "coverage of 80% prediction interval: 0.2396\n",
      "coverage of 95% prediction interval: 0.5486\n",
      "coverage of 99% prediction interval: 0.8785\n",
      "time ahead (hours): 02.00-03.00\n",
      "coverage of 80% prediction interval: 0.2793\n",
      "coverage of 95% prediction interval: 0.5315\n",
      "coverage of 99% prediction interval: 0.8378\n",
      "time ahead (hours): 03.00-04.00\n",
      "coverage of 80% prediction interval: 0.2600\n",
      "coverage of 95% prediction interval: 0.4700\n",
      "coverage of 99% prediction interval: 0.7500\n",
      "time ahead (hours): 04.00-05.00\n",
      "coverage of 80% prediction interval: 0.0941\n",
      "coverage of 95% prediction interval: 0.3647\n",
      "coverage of 99% prediction interval: 0.7529\n",
      "time ahead (hours): 05.00-06.00\n",
      "coverage of 80% prediction interval: 0.1182\n",
      "coverage of 95% prediction interval: 0.3455\n",
      "coverage of 99% prediction interval: 0.6636\n",
      "time ahead (hours): 06.00-07.00\n",
      "coverage of 80% prediction interval: 0.2065\n",
      "coverage of 95% prediction interval: 0.4130\n",
      "coverage of 99% prediction interval: 0.7609\n",
      "time ahead (hours): 07.00-08.00\n",
      "coverage of 80% prediction interval: 0.1852\n",
      "coverage of 95% prediction interval: 0.4074\n",
      "coverage of 99% prediction interval: 0.8889\n",
      "time ahead (hours): 08.00-09.00\n",
      "coverage of 80% prediction interval: 0.0769\n",
      "coverage of 95% prediction interval: 0.4615\n",
      "coverage of 99% prediction interval: 0.6923\n",
      "time ahead (hours): 09.00-10.00\n",
      "coverage of 80% prediction interval: 0.1667\n",
      "coverage of 95% prediction interval: 0.2778\n",
      "coverage of 99% prediction interval: 0.7222\n",
      "time ahead (hours): 10.00-11.00\n",
      "coverage of 80% prediction interval: 0.0000\n",
      "coverage of 95% prediction interval: 0.2727\n",
      "coverage of 99% prediction interval: 0.7273\n",
      "time ahead (hours): 11.00-12.00\n",
      "coverage of 80% prediction interval: 0.1429\n",
      "coverage of 95% prediction interval: 0.2857\n",
      "coverage of 99% prediction interval: 0.6429\n"
     ]
    }
   ],
   "source": [
    "print(\"interval coverage when hypoglycaemia region...\")\n",
    "dts = np.linspace(0,11,12)\n",
    "dts = np.append(dts,12.)\n",
    "for i in range(dts.shape[0]-1):\n",
    "    print('time ahead (hours): {:05.2f}-{:05.2f}'.format(dts[i],dts[i+1]))\n",
    "    msk = (df_test.msk==0) & (df_test.dt >= dts[i]) & (df_test.dt < dts[i+1]) & (ginv(df_test.glc_dt) < 70)\n",
    "    res80 = sum((df_test['lower80'] < df_test.glc_dt) & (df_test['upper80'] > df_test.glc_dt) & msk) / sum(msk)\n",
    "    res95 = sum((df_test['lower95'] < df_test.glc_dt) & (df_test['upper95'] > df_test.glc_dt) & msk) / sum(msk)\n",
    "    res99 = sum((df_test['lower99'] < df_test.glc_dt) & (df_test['upper99'] > df_test.glc_dt) & msk) / sum(msk)\n",
    "    print(\"coverage of 80% prediction interval: {:05.4f}\".format(res80))\n",
    "    print(\"coverage of 95% prediction interval: {:05.4f}\".format(res95))\n",
    "    print(\"coverage of 99% prediction interval: {:05.4f}\".format(res99))"
   ]
  },
  {
   "cell_type": "code",
   "execution_count": 21,
   "id": "d827b3b6",
   "metadata": {},
   "outputs": [
    {
     "name": "stdout",
     "output_type": "stream",
     "text": [
      "interval coverage when hypoglycaemia region...\n",
      "time ahead (hours): 00.00\n",
      "coverage of 80% prediction interval: 0.2304\n",
      "coverage of 95% prediction interval: 0.5068\n",
      "coverage of 99% prediction interval: 0.8197\n",
      "interval coverage when hypoglycaemia region...\n",
      "time ahead (hours): 00.67\n",
      "coverage of 80% prediction interval: 0.2149\n",
      "coverage of 95% prediction interval: 0.4809\n",
      "coverage of 99% prediction interval: 0.8037\n",
      "interval coverage when hypoglycaemia region...\n",
      "time ahead (hours): 01.33\n",
      "coverage of 80% prediction interval: 0.1860\n",
      "coverage of 95% prediction interval: 0.4149\n",
      "coverage of 99% prediction interval: 0.7611\n",
      "interval coverage when hypoglycaemia region...\n",
      "time ahead (hours): 02.00\n",
      "coverage of 80% prediction interval: 0.1740\n",
      "coverage of 95% prediction interval: 0.3972\n",
      "coverage of 99% prediction interval: 0.7381\n",
      "interval coverage when hypoglycaemia region...\n",
      "time ahead (hours): 02.67\n",
      "coverage of 80% prediction interval: 0.1679\n",
      "coverage of 95% prediction interval: 0.3912\n",
      "coverage of 99% prediction interval: 0.7347\n",
      "interval coverage when hypoglycaemia region...\n",
      "time ahead (hours): 03.33\n",
      "coverage of 80% prediction interval: 0.1479\n",
      "coverage of 95% prediction interval: 0.3642\n",
      "coverage of 99% prediction interval: 0.7263\n",
      "interval coverage when hypoglycaemia region...\n",
      "time ahead (hours): 04.00\n",
      "coverage of 80% prediction interval: 0.1328\n",
      "coverage of 95% prediction interval: 0.3496\n",
      "coverage of 99% prediction interval: 0.7182\n",
      "interval coverage when hypoglycaemia region...\n",
      "time ahead (hours): 04.67\n",
      "coverage of 80% prediction interval: 0.1463\n",
      "coverage of 95% prediction interval: 0.3612\n",
      "coverage of 99% prediction interval: 0.7254\n",
      "interval coverage when hypoglycaemia region...\n",
      "time ahead (hours): 05.33\n",
      "coverage of 80% prediction interval: 0.1533\n",
      "coverage of 95% prediction interval: 0.3686\n",
      "coverage of 99% prediction interval: 0.7372\n",
      "interval coverage when hypoglycaemia region...\n",
      "time ahead (hours): 06.00\n",
      "coverage of 80% prediction interval: 0.1447\n",
      "coverage of 95% prediction interval: 0.3522\n",
      "coverage of 99% prediction interval: 0.7296\n"
     ]
    }
   ],
   "source": [
    "dts = np.linspace(0,6,10)\n",
    "for dt in dts:\n",
    "    print(\"interval coverage when hypoglycaemia region...\")\n",
    "    print('time ahead (hours): {:05.2f}'.format(dt))\n",
    "    _msk_ = (df_test.msk == 0) & (ginv(df_test.glc_dt) < 70) & (df_test.timer_dt - df_test.timer > dt)\n",
    "    res80 = sum((df_test['lower80'] < df_test.glc_dt) & (df_test['upper80'] > df_test.glc_dt) & _msk_) / sum(_msk_)\n",
    "    res95 = sum((df_test['lower95'] < df_test.glc_dt) & (df_test['upper95'] > df_test.glc_dt) & _msk_) / sum(_msk_)\n",
    "    res99 = sum((df_test['lower99'] < df_test.glc_dt) & (df_test['upper99'] > df_test.glc_dt) & _msk_) / sum(_msk_)\n",
    "    print(\"coverage of 80% prediction interval: {:05.4f}\".format(res80))\n",
    "    print(\"coverage of 95% prediction interval: {:05.4f}\".format(res95))\n",
    "    print(\"coverage of 99% prediction interval: {:05.4f}\".format(res99))"
   ]
  },
  {
   "cell_type": "code",
   "execution_count": 22,
   "id": "003781bb",
   "metadata": {},
   "outputs": [
    {
     "name": "stdout",
     "output_type": "stream",
     "text": [
      "RMSE (locf): 44.0801\n"
     ]
    }
   ],
   "source": [
    "df_test[\"glc_dt_locf\"] = df_test.glc\n",
    "df_test.loc[df_test.glc_dt_locf == 0,'glc_dt_locf'] = np.NaN\n",
    "df_test[\"glc_dt_locf\"] = df_test.groupby('icustay_id')[\"glc_dt_locf\"].ffill()\n",
    "res_rmse_locf = math.sqrt(np.mean((ginv(df_test.glc_dt_locf[df_test.msk==0]) - ginv(df_test.glc_dt[df_test.msk==0]))**2))\n",
    "print(\"RMSE (locf): {:05.4f}\".format(res_rmse_locf))"
   ]
  },
  {
   "cell_type": "code",
   "execution_count": 23,
   "id": "31a1dec8",
   "metadata": {},
   "outputs": [
    {
     "name": "stdout",
     "output_type": "stream",
     "text": [
      "RMSE (model): 40.6188\n"
     ]
    }
   ],
   "source": [
    "res_rmse_model = math.sqrt(np.mean((ginv(df_test.mu[df_test.msk==0]) - ginv(df_test.glc_dt[df_test.msk==0]))**2))\n",
    "print(\"RMSE (model): {:05.4f}\".format(res_rmse_model))"
   ]
  },
  {
   "cell_type": "code",
   "execution_count": 24,
   "id": "bc0ff286",
   "metadata": {},
   "outputs": [
    {
     "name": "stdout",
     "output_type": "stream",
     "text": [
      "RMSE...\n",
      "time ahead (hours): 00.50-01.00\n",
      "N:  8372\n",
      "RMSE (locf): 33.2910\n",
      "RMSE (model): 33.1894\n",
      "0.9969\n",
      "time ahead (hours): 01.00-02.00\n",
      "N: 15469\n",
      "RMSE (locf): 36.0315\n",
      "RMSE (model): 34.3808\n",
      "0.9542\n",
      "time ahead (hours): 02.00-03.00\n",
      "N:  5144\n",
      "RMSE (locf): 45.3529\n",
      "RMSE (model): 42.4962\n",
      "0.9370\n",
      "time ahead (hours): 03.00-04.00\n",
      "N:  3643\n",
      "RMSE (locf): 55.6535\n",
      "RMSE (model): 50.9200\n",
      "0.9149\n",
      "time ahead (hours): 04.00-05.00\n",
      "N:  4840\n",
      "RMSE (locf): 56.0239\n",
      "RMSE (model): 49.8989\n",
      "0.8907\n",
      "time ahead (hours): 05.00-06.00\n",
      "N:  9056\n",
      "RMSE (locf): 49.6703\n",
      "RMSE (model): 43.8876\n",
      "0.8836\n",
      "time ahead (hours): 06.00-07.00\n",
      "N: 11477\n",
      "RMSE (locf): 43.9566\n",
      "RMSE (model): 40.5479\n",
      "0.9225\n",
      "time ahead (hours): 07.00-08.00\n",
      "N:  2022\n",
      "RMSE (locf): 48.0570\n",
      "RMSE (model): 45.3022\n",
      "0.9427\n",
      "time ahead (hours): 08.00-09.00\n",
      "N:   836\n",
      "RMSE (locf): 56.7502\n",
      "RMSE (model): 48.0657\n",
      "0.8470\n",
      "time ahead (hours): 09.00-10.00\n",
      "N:   667\n",
      "RMSE (locf): 54.7058\n",
      "RMSE (model): 46.7840\n",
      "0.8552\n",
      "time ahead (hours): 10.00-11.00\n",
      "N:   785\n",
      "RMSE (locf): 58.4267\n",
      "RMSE (model): 50.7004\n",
      "0.8678\n",
      "time ahead (hours): 11.00-12.00\n",
      "N:  1300\n",
      "RMSE (locf): 45.5336\n",
      "RMSE (model): 41.1562\n",
      "0.9039\n"
     ]
    }
   ],
   "source": [
    "print(\"RMSE...\")\n",
    "dts = np.linspace(0,11,12)\n",
    "dts = np.append(dts,12.)\n",
    "dts[0] = 0.5\n",
    "for i in range(dts.shape[0]-1):\n",
    "    print('time ahead (hours): {:05.2f}-{:05.2f}'.format(dts[i],dts[i+1]))\n",
    "    msk = (df_test.msk==0) & (df_test.dt >= dts[i]) & (df_test.dt < dts[i+1])\n",
    "    print(\"N: {:5}\".format(sum(msk)))\n",
    "    res_rmse_locf = math.sqrt(np.mean((ginv(df_test.glc_dt_locf[msk]) - ginv(df_test.glc_dt[msk]))**2))\n",
    "    print(\"RMSE (locf): {:05.4f}\".format(res_rmse_locf))\n",
    "    res_rmse_model = math.sqrt(np.mean((ginv(df_test.mu[msk]) - ginv(df_test.glc_dt[msk]))**2))\n",
    "    print(\"RMSE (model): {:05.4f}\".format(res_rmse_model))\n",
    "    print(\"{:05.4f}\".format(res_rmse_model/res_rmse_locf))"
   ]
  },
  {
   "cell_type": "code",
   "execution_count": 25,
   "id": "8d8fd600",
   "metadata": {},
   "outputs": [],
   "source": [
    "# dts = np.linspace(0,6,10)\n",
    "# for dt in dts:\n",
    "#     print('time ahead (hours): {:05.2f}'.format(dt))\n",
    "#     msk = (df_test.msk==0) & (df_test.timer_dt - df_test.timer > dt)\n",
    "#     res_rmse_locf = math.sqrt(np.mean((ginv(df_test.glc_dt_locf[msk]) - ginv(df_test.glc_dt[msk]))**2))\n",
    "#     print(\"RMSE (locf): {:05.4f}\".format(res_rmse_locf))\n",
    "#     res_rmse_model = math.sqrt(np.mean((ginv(df_test.mu[msk]) - ginv(df_test.glc_dt[msk]))**2))\n",
    "#     print(\"RMSE (model): {:05.4f}\".format(res_rmse_model))\n",
    "#     print(\"{:05.4f}\".format(res_rmse_model/res_rmse_locf))"
   ]
  },
  {
   "cell_type": "code",
   "execution_count": 26,
   "id": "3f24e048",
   "metadata": {},
   "outputs": [
    {
     "data": {
      "image/png": "[encoded data removed]",
      "text/plain": [
       "<Figure size 432x864 with 4 Axes>"
      ]
     },
     "metadata": {
      "needs_background": "light"
     },
     "output_type": "display_data"
    }
   ],
   "source": [
    "import random\n",
    "fig, axs = plt.subplots(4,1,figsize=(6,12))\n",
    "plt.rcParams['font.size'] = '16'\n",
    "\n",
    "ids = random.sample(list(df_test.icustay_id.unique()),4)\n",
    "for i in range(4):\n",
    "    msk_i = (df_test['icustay_id'] == ids[i]) & (df_test['timer_dt'] < 48)\n",
    "    xs = df_test[msk_i].timer_dt\n",
    "    axs[i].plot(xs,glc_invtransform(df_test.mu[msk_i]),label='predictions',linestyle='--', marker='o', color='b')\n",
    "    axs[i].plot(xs, glc_invtransform(df_test.lower95[msk_i]),label='',linestyle='--', color='lightblue')\n",
    "    axs[i].plot(xs,glc_invtransform(df_test.upper95[msk_i]),label='',linestyle='--', color='lightblue')\n",
    "#     axs[i].fill_between(xs,glc_invtransform(df_test.mu[msk_i])-glc_invtransform(df_test.lower95[msk_i]),\n",
    "#                         glc_invtransform(df_test.mu[msk_i])+glc_invtransform(df_test.lower95[msk_i]),\n",
    "#                         label='', color='lightblue',interpolate=True)\n",
    "    axs[i].scatter(xs,glc_invtransform(df_test.glc_dt[msk_i]),label='truth', marker='o', color='red')\n",
    "    axs[i].set_xlabel('Time in ICU (hours)', fontsize=12)\n",
    "    axs[i].set_ylabel('Blood glucose\\n(mg/dL)', fontsize=12)\n",
    "    axs[i].set_xlim(0,48)\n",
    "    axs[i].set_title(ids[i])\n",
    "    if i == 0:\n",
    "        axs[i].legend(fontsize = 'x-small')\n",
    "fig.tight_layout(rect=[0, 0.03, 1, 0.95])"
   ]
  },
  {
   "cell_type": "code",
   "execution_count": 27,
   "id": "8fbd47e0",
   "metadata": {},
   "outputs": [],
   "source": [
    "mu = [y[0] for y in y_preds]\n",
    "sig = [y[1] for y in y_preds]\n",
    "mu = np.concatenate(mu)\n",
    "sig = np.concatenate(sig)\n",
    "y_tests = np.concatenate(y_tests)"
   ]
  },
  {
   "cell_type": "code",
   "execution_count": 28,
   "id": "0fe8e779",
   "metadata": {},
   "outputs": [],
   "source": [
    "prob_test = scipy.stats.norm(mu, sig).cdf(y_tests)"
   ]
  },
  {
   "cell_type": "code",
   "execution_count": 29,
   "id": "af055e4b",
   "metadata": {},
   "outputs": [
    {
     "name": "stdout",
     "output_type": "stream",
     "text": [
      "0.08333333333333333\n",
      "variance of probs: 0.0726\n",
      "overdispersed\n"
     ]
    }
   ],
   "source": [
    "# a forecast is overdispersed if var < 0.8333 and underdispersed if var > 0.8333\n",
    "print(1/12)\n",
    "varF = np.var(prob_test[~msks])\n",
    "print('variance of probs: {:05.4f}'.format(varF))\n",
    "if varF > 1/12:\n",
    "    print(\"underdispersed\")\n",
    "else: \n",
    "    print(\"overdispersed\")"
   ]
  },
  {
   "cell_type": "code",
   "execution_count": 30,
   "id": "546cd633",
   "metadata": {},
   "outputs": [
    {
     "data": {
      "image/png": "[encoded data removed]",
      "text/plain": [
       "<Figure size 432x288 with 1 Axes>"
      ]
     },
     "metadata": {
      "needs_background": "light"
     },
     "output_type": "display_data"
    }
   ],
   "source": [
    "plt.hist(prob_test[~msks], color=['#0504aa'],alpha=0.7, bins=20)\n",
    "plt.xlabel(\"Probability integral transform\")\n",
    "plt.show()"
   ]
  },
  {
   "cell_type": "code",
   "execution_count": 33,
   "id": "3cda9e4f",
   "metadata": {},
   "outputs": [
    {
     "data": {
      "text/plain": [
       "array([[0.80572914],\n",
       "       [0.95002073],\n",
       "       [0.71379929],\n",
       "       ...,\n",
       "       [0.93888149],\n",
       "       [0.16785077],\n",
       "       [0.04997783]])"
      ]
     },
     "execution_count": 33,
     "metadata": {},
     "output_type": "execute_result"
    }
   ],
   "source": [
    "prob_test[~msks]"
   ]
  },
  {
   "cell_type": "code",
   "execution_count": 35,
   "id": "e5e53f21",
   "metadata": {},
   "outputs": [],
   "source": [
    "df_test['probs'] = prob_test"
   ]
  },
  {
   "cell_type": "code",
   "execution_count": 40,
   "id": "d7617762",
   "metadata": {},
   "outputs": [],
   "source": [
    "df_test.to_csv('data/eval/test.csv',index=False)"
   ]
  },
  {
   "cell_type": "code",
   "execution_count": 41,
   "id": "8f8cbf9b",
   "metadata": {},
   "outputs": [
    {
     "data": {
      "text/plain": [
       "array([[0.80572914],\n",
       "       [0.95002073],\n",
       "       [0.71379929],\n",
       "       ...,\n",
       "       [0.93888149],\n",
       "       [0.16785077],\n",
       "       [0.04997783]])"
      ]
     },
     "execution_count": 41,
     "metadata": {},
     "output_type": "execute_result"
    }
   ],
   "source": [
    "prob_test[~msks]"
   ]
  },
  {
   "cell_type": "code",
   "execution_count": 31,
   "id": "39e4c521",
   "metadata": {},
   "outputs": [
    {
     "data": {
      "image/png": "[encoded data removed]",
      "text/plain": [
       "<Figure size 432x288 with 1 Axes>"
      ]
     },
     "metadata": {
      "needs_background": "light"
     },
     "output_type": "display_data"
    }
   ],
   "source": [
    "# quantile plot\n",
    "def calibration_plot(prob_test):\n",
    "    nbins = 20\n",
    "    x1s = plt.hist(prob_test,bins=nbins)\n",
    "    plt.close()\n",
    "    xbin = np.zeros(nbins)\n",
    "    for i in range(nbins):\n",
    "        xbin[i] = (x1s[1][i] + x1s[1][i+1])/2\n",
    "    qs = np.cumsum(x1s[0])/sum(x1s[0])\n",
    "    errors = np.sqrt(qs*(1-qs)/sum(x1s[0]))\n",
    "    plt.scatter(xbin,qs)\n",
    "    plt.errorbar(xbin, qs, yerr=2*errors, fmt='o')\n",
    "    plt.plot(np.linspace(0,1),np.linspace(0,1),'--r')\n",
    "    plt.xlabel(\"Predicted quantile\")\n",
    "    plt.ylabel(\"Empirical quantile\")\n",
    "    plt.show()\n",
    "calibration_plot(prob_test[~msks])"
   ]
  },
  {
   "cell_type": "code",
   "execution_count": 429,
   "id": "3ff1fa56",
   "metadata": {},
   "outputs": [],
   "source": [
    "x,y,msk,t = next(iter(dataloaders[\"test\"]))"
   ]
  },
  {
   "cell_type": "code",
   "execution_count": 430,
   "id": "b207d740",
   "metadata": {},
   "outputs": [
    {
     "data": {
      "text/plain": [
       "array([[198.00002, 257.99997, 257.99997, 368.     , 334.9999 , 334.9999 ,\n",
       "        288.     , 288.     , 288.     , 288.     , 288.     , 288.     ]],\n",
       "      dtype=float32)"
      ]
     },
     "execution_count": 430,
     "metadata": {},
     "output_type": "execute_result"
    }
   ],
   "source": [
    "ginv(x[:,:,0].numpy())"
   ]
  },
  {
   "cell_type": "code",
   "execution_count": 431,
   "id": "9b892f7f",
   "metadata": {},
   "outputs": [
    {
     "data": {
      "text/plain": [
       "tensor([[ 1.0500,  5.0200],\n",
       "        [ 5.0200, 13.2800],\n",
       "        [13.2800, 19.4000],\n",
       "        [19.4000, 23.8300],\n",
       "        [23.8300, 29.1200],\n",
       "        [29.1200, 36.7700],\n",
       "        [36.7700, 38.7700],\n",
       "        [38.7700, 42.7700],\n",
       "        [42.7700, 48.3000],\n",
       "        [48.3000, 48.7700],\n",
       "        [48.7700, 52.7700],\n",
       "        [52.7700, 63.2800]])"
      ]
     },
     "execution_count": 431,
     "metadata": {},
     "output_type": "execute_result"
    }
   ],
   "source": [
    "t[0]"
   ]
  },
  {
   "cell_type": "code",
   "execution_count": 432,
   "id": "7ddbd61f",
   "metadata": {},
   "outputs": [
    {
     "data": {
      "text/plain": [
       "tensor([0.3466, 0.0000, 0.0000, 0.0000, 0.0000, 0.0000, 0.4890, 0.5135, 0.0000,\n",
       "        1.0000, 0.0000, 1.0000, 0.0000, 0.0000, 0.0000, 0.0000, 0.0000, 0.0000,\n",
       "        0.0000, 1.0000, 0.0000, 0.0000, 0.0000, 0.0000, 0.0000, 0.0000, 0.0000,\n",
       "        0.0000, 0.0000, 1.0000, 0.0000, 0.0000, 1.0000, 0.0000, 0.0000, 0.0000,\n",
       "        0.0000, 0.0000, 0.0000, 0.2868, 0.3829, 0.1071, 0.1577, 0.0000, 0.0000,\n",
       "        0.0000, 1.0000, 0.0000, 0.0000, 0.0000, 0.0000, 0.0000, 0.9748, 0.9793,\n",
       "        0.9729, 0.0000, 0.0000, 0.0000, 0.0000, 0.0000, 0.0000, 0.0000, 0.0000,\n",
       "        0.0000, 0.0000, 0.3408, 0.0000, 0.0000, 0.0000, 0.0000, 0.0000, 0.0000,\n",
       "        0.0000, 0.0000, 0.0000, 0.0000, 0.0000, 1.0000, 0.0000, 0.0000, 0.0000,\n",
       "        0.0000, 0.0000, 0.0000, 1.0000])"
      ]
     },
     "execution_count": 432,
     "metadata": {},
     "output_type": "execute_result"
    }
   ],
   "source": [
    "x[0][0]"
   ]
  },
  {
   "cell_type": "code",
   "execution_count": 433,
   "id": "7ac76dd8",
   "metadata": {},
   "outputs": [],
   "source": [
    "x[0][0][5] = 0.0"
   ]
  },
  {
   "cell_type": "code",
   "execution_count": 434,
   "id": "f1d9cbca",
   "metadata": {},
   "outputs": [
    {
     "data": {
      "text/plain": [
       "array([[191.68753],\n",
       "       [213.30302],\n",
       "       [227.82916],\n",
       "       [267.07733],\n",
       "       [247.55693],\n",
       "       [250.65355],\n",
       "       [238.89648],\n",
       "       [239.30066],\n",
       "       [230.94965],\n",
       "       [233.10822],\n",
       "       [233.9514 ],\n",
       "       [227.77658]], dtype=float32)"
      ]
     },
     "execution_count": 434,
     "metadata": {},
     "output_type": "execute_result"
    }
   ],
   "source": [
    "ginv(model(t.to(\"cuda\"),x.to(\"cuda\"))[0].detach().cpu().numpy())"
   ]
  },
  {
   "cell_type": "code",
   "execution_count": 435,
   "id": "c0318410",
   "metadata": {},
   "outputs": [
    {
     "data": {
      "text/plain": [
       "['glc',\n",
       " 'input_short_injection',\n",
       " 'input_short_push',\n",
       " 'input_intermediate',\n",
       " 'input_long',\n",
       " 'input_hrs',\n",
       " 'demo_admission_age',\n",
       " 'demo_weight_first',\n",
       " 'demo_height_first',\n",
       " 'demo_diabetes_uncomplicated',\n",
       " 'demo_diabetes_complicated']"
      ]
     },
     "execution_count": 435,
     "metadata": {},
     "output_type": "execute_result"
    }
   ],
   "source": [
    "all_features()[0:11]"
   ]
  },
  {
   "cell_type": "code",
   "execution_count": 436,
   "id": "83601bb0",
   "metadata": {},
   "outputs": [],
   "source": [
    "x = x[:,0:2,:]\n",
    "t = t[:,0:2,:]"
   ]
  },
  {
   "cell_type": "code",
   "execution_count": 449,
   "id": "982e896a",
   "metadata": {},
   "outputs": [],
   "source": [
    "ntimes = 100\n",
    "ninsulin = 10\n",
    "x[:,1,1] = 0.0\n",
    "x[:,1,4] = 0.0\n",
    "x[:,1,2] = 0.0\n",
    "x[:,1,3] = 0.0\n",
    "res = np.zeros((10,ntimes))\n",
    "insulin = np.concatenate((np.zeros((1,1)),np.linspace(0.7,1.0,ninsulin-1).reshape(-1,1)))\n",
    "times = np.linspace(0.5,6,100)\n",
    "for i in range(ninsulin):\n",
    "    x[:,1,1] = insulin[i,:].item()\n",
    "    for j in range(ntimes):\n",
    "        t[:,1,1] = t[:,1,0] + times[j]\n",
    "        mu,sig = model(t.to(\"cuda\"),x.to(\"cuda\"))\n",
    "        res[i,j] = mu[1].detach().cpu().item()"
   ]
  },
  {
   "cell_type": "code",
   "execution_count": 450,
   "id": "659dcb38",
   "metadata": {},
   "outputs": [
    {
     "data": {
      "text/plain": [
       "array([[0.    ],\n",
       "       [0.7   ],\n",
       "       [0.7375],\n",
       "       [0.775 ],\n",
       "       [0.8125],\n",
       "       [0.85  ],\n",
       "       [0.8875],\n",
       "       [0.925 ],\n",
       "       [0.9625],\n",
       "       [1.    ]])"
      ]
     },
     "execution_count": 450,
     "metadata": {},
     "output_type": "execute_result"
    }
   ],
   "source": [
    "insulin "
   ]
  },
  {
   "cell_type": "code",
   "execution_count": 451,
   "id": "711c94bd",
   "metadata": {},
   "outputs": [
    {
     "data": {
      "image/png": "[encoded data removed]",
      "text/plain": [
       "<Figure size 432x288 with 1 Axes>"
      ]
     },
     "metadata": {
      "needs_background": "light"
     },
     "output_type": "display_data"
    }
   ],
   "source": [
    "for p in range(ninsulin):\n",
    "    plt.plot(times,ginv(res[p]))\n",
    "plt.show()"
   ]
  },
  {
   "cell_type": "code",
   "execution_count": 452,
   "id": "68ba27ab",
   "metadata": {},
   "outputs": [
    {
     "data": {
      "text/plain": [
       "array([[0.56566513, 0.56718773, 0.56111789, 0.55941504, 0.55627924,\n",
       "        0.55211711, 0.5473935 , 0.54293537, 0.53818464, 0.53445035,\n",
       "        0.52992159, 0.5253877 , 0.52090502, 0.51821697, 0.5141626 ,\n",
       "        0.51023042, 0.50643468, 0.50450444, 0.50111336, 0.49786431,\n",
       "        0.49623787, 0.49333066, 0.49055767, 0.48791775, 0.48668438,\n",
       "        0.48432699, 0.48209292, 0.48104125, 0.47905749, 0.4771899 ,\n",
       "        0.47543722, 0.47468901, 0.47316304, 0.4717465 , 0.47043842,\n",
       "        0.46999061, 0.468894  , 0.46790087, 0.46765706, 0.46686652,\n",
       "        0.46617496, 0.46558097, 0.46564543, 0.46524158, 0.4649303 ,\n",
       "        0.46520206, 0.46507037, 0.4650259 , 0.46506691, 0.46561983,\n",
       "        0.4658241 , 0.46610764, 0.46646887, 0.46727011, 0.46777499,\n",
       "        0.4683505 , 0.46929997, 0.47000253, 0.47076797, 0.47159386,\n",
       "        0.47271502, 0.47364289, 0.47462195, 0.47582704, 0.47688624,\n",
       "        0.47798622, 0.47912338, 0.48039675, 0.48158062, 0.48278913,\n",
       "        0.48401785, 0.48528713, 0.48652428, 0.48776752, 0.48897916,\n",
       "        0.49020088, 0.49141371, 0.49261308, 0.49369228, 0.49483252,\n",
       "        0.49594563, 0.49688482, 0.4979158 , 0.49890864, 0.49985981,\n",
       "        0.50058085, 0.50142819, 0.50222707, 0.50297534, 0.50346279,\n",
       "        0.50409836, 0.50468111, 0.50500166, 0.50547361, 0.50589341,\n",
       "        0.50626147, 0.50637901, 0.50664663, 0.50686657, 0.50686085],\n",
       "       [0.52649635, 0.52224958, 0.51364923, 0.50770068, 0.50086248,\n",
       "        0.49355984, 0.48819053, 0.48160666, 0.47513431, 0.47118497,\n",
       "        0.46552989, 0.46012321, 0.45498475, 0.45240659, 0.44796515,\n",
       "        0.44377461, 0.43982989, 0.43807828, 0.43465728, 0.43144757,\n",
       "        0.42999712, 0.42720422, 0.42459375, 0.42215967, 0.42112556,\n",
       "        0.41901726, 0.41706288, 0.41622609, 0.41454846, 0.41300547,\n",
       "        0.41159213, 0.41106474, 0.40988123, 0.40881187, 0.40785199,\n",
       "        0.40760821, 0.40684524, 0.40618002, 0.40612093, 0.40563542,\n",
       "        0.40523821, 0.40492672, 0.40513408, 0.40498373, 0.40491208,\n",
       "        0.40529764, 0.40537608, 0.40552732, 0.40574956, 0.40637475,\n",
       "        0.40673316, 0.40715754, 0.4076466 , 0.40848866, 0.40910023,\n",
       "        0.40977174, 0.41075116, 0.41153452, 0.41237295, 0.41326502,\n",
       "        0.41441339, 0.41540179, 0.41643807, 0.41768253, 0.41880071,\n",
       "        0.4199599 , 0.42115772, 0.42249888, 0.4237538 , 0.42503762,\n",
       "        0.42634672, 0.42772391, 0.42905766, 0.43040401, 0.43175566,\n",
       "        0.43309796, 0.43443847, 0.43577266, 0.43703002, 0.43832076,\n",
       "        0.43959087, 0.44072938, 0.44192976, 0.44309688, 0.44422704,\n",
       "        0.44516563, 0.44619963, 0.44718802, 0.44812849, 0.44883952,\n",
       "        0.44967043, 0.45044956, 0.45099095, 0.4516595 , 0.45227587,\n",
       "        0.4528403 , 0.45316988, 0.4536311 , 0.4540436 , 0.45423865],\n",
       "       [0.52424902, 0.51973999, 0.5110451 , 0.50491756, 0.49793142,\n",
       "        0.49051023, 0.48512709, 0.47846931, 0.47194123, 0.46799135,\n",
       "        0.46230304, 0.456873  , 0.45171908, 0.44914785, 0.44469908,\n",
       "        0.44050562, 0.43656135, 0.4348169 , 0.43139964, 0.42819613,\n",
       "        0.4267531 , 0.42396885, 0.42136881, 0.41894674, 0.41792113,\n",
       "        0.41582629, 0.41388607, 0.41305867, 0.41139591, 0.4098683 ,\n",
       "        0.40847057, 0.40795207, 0.4067837 , 0.40572914, 0.40478393,\n",
       "        0.40454757, 0.40379804, 0.40314561, 0.40309262, 0.40261835,\n",
       "        0.40223187, 0.40193015, 0.40214121, 0.40199912, 0.40193504,\n",
       "        0.40232262, 0.40240693, 0.4025633 , 0.40279004, 0.40341502,\n",
       "        0.40377641, 0.40420324, 0.40469396, 0.40553433, 0.40614641,\n",
       "        0.40681785, 0.40779486, 0.40857744, 0.40941474, 0.41030526,\n",
       "        0.41145086, 0.41243732, 0.4134717 , 0.41471404, 0.41583046,\n",
       "        0.4169879 , 0.41818398, 0.41952503, 0.4207792 , 0.42206258,\n",
       "        0.42337188, 0.42475191, 0.42608732, 0.42743582, 0.42879325,\n",
       "        0.43013942, 0.43148476, 0.43282455, 0.43409148, 0.43538958,\n",
       "        0.43666786, 0.43781865, 0.43902868, 0.44020641, 0.44134775,\n",
       "        0.44230121, 0.44334754, 0.44434893, 0.4453029 , 0.44603026,\n",
       "        0.44687533, 0.44766903, 0.44822705, 0.44891047, 0.44954193,\n",
       "        0.45012158, 0.45046741, 0.45094371, 0.45137125, 0.45158195],\n",
       "       [0.52199507, 0.51722962, 0.50844371, 0.50214249, 0.49501324,\n",
       "        0.48747838, 0.48208278, 0.47535467, 0.46877384, 0.46482396,\n",
       "        0.45910478, 0.45365304, 0.44848511, 0.44592059, 0.4414655 ,\n",
       "        0.43726963, 0.4333263 , 0.4315888 , 0.42817581, 0.42497867,\n",
       "        0.42354271, 0.42076731, 0.41817766, 0.41576752, 0.41475043,\n",
       "        0.4126687 , 0.4107427 , 0.40992448, 0.40827638, 0.40676382,\n",
       "        0.40538126, 0.4048717 , 0.40371799, 0.40267801, 0.4017469 ,\n",
       "        0.40151775, 0.4007811 , 0.40014094, 0.40009388, 0.39963058,\n",
       "        0.39925417, 0.3989619 , 0.39917636, 0.39904219, 0.39898503,\n",
       "        0.39937437, 0.39946413, 0.39962536, 0.39985609, 0.40048069,\n",
       "        0.40084475, 0.40127349, 0.40176553, 0.40260366, 0.40321606,\n",
       "        0.40388721, 0.40486139, 0.40564284, 0.40647858, 0.40736711,\n",
       "        0.40850961, 0.40949392, 0.41052583, 0.41176566, 0.41287979,\n",
       "        0.41403502, 0.41522908, 0.41656947, 0.41782239, 0.41910496,\n",
       "        0.42041388, 0.42179641, 0.42313284, 0.4244833 , 0.42584607,\n",
       "        0.42719588, 0.42854556, 0.42989054, 0.43116689, 0.43247211,\n",
       "        0.43375841, 0.43492121, 0.43614095, 0.43732911, 0.43848163,\n",
       "        0.43944985, 0.44050872, 0.44152319, 0.44249076, 0.44323462,\n",
       "        0.44409412, 0.44490248, 0.44547737, 0.44617599, 0.44682282,\n",
       "        0.44741786, 0.44778037, 0.44827205, 0.44871512, 0.44894171],\n",
       "       [0.51973569, 0.51471972, 0.5058462 , 0.4993763 , 0.49210918,\n",
       "        0.48446524, 0.47905838, 0.47226346, 0.46563277, 0.46168345,\n",
       "        0.45593536, 0.45046368, 0.44528311, 0.44272509, 0.43826446,\n",
       "        0.43406695, 0.43012506, 0.42839408, 0.42498565, 0.42179513,\n",
       "        0.42036617, 0.41759968, 0.41502047, 0.41262221, 0.41161335,\n",
       "        0.40954477, 0.40763277, 0.40682352, 0.40518987, 0.40369213,\n",
       "        0.40232441, 0.40182337, 0.40068406, 0.3996582 , 0.39874077,\n",
       "        0.39851862, 0.39779454, 0.39716637, 0.39712483, 0.39667189,\n",
       "        0.39630529, 0.39602196, 0.39623961, 0.3961128 , 0.39606231,\n",
       "        0.3964532 , 0.39654815, 0.39671367, 0.39694798, 0.39757186,\n",
       "        0.39793825, 0.39836857, 0.3988615 , 0.39969727, 0.40030959,\n",
       "        0.40098006, 0.40195116, 0.40273109, 0.40356484, 0.4044511 ,\n",
       "        0.40559027, 0.40657184, 0.40760094, 0.40883794, 0.40994936,\n",
       "        0.41110185, 0.41229343, 0.41363269, 0.41488397, 0.41616529,\n",
       "        0.41747338, 0.41885793, 0.42019507, 0.42154688, 0.42291468,\n",
       "        0.42426759, 0.42562133, 0.4269712 , 0.42825681, 0.42956883,\n",
       "        0.43086272, 0.4320375 , 0.43326688, 0.43446523, 0.43562883,\n",
       "        0.43661204, 0.43768343, 0.4387109 , 0.43969226, 0.44045275,\n",
       "        0.44132674, 0.44215   , 0.44274214, 0.44345611, 0.44411838,\n",
       "        0.44472927, 0.44510868, 0.44561619, 0.44607496, 0.44631782],\n",
       "       [0.51747203, 0.51221144, 0.50325352, 0.49662018, 0.48922002,\n",
       "        0.4814716 , 0.47605461, 0.4691962 , 0.46251869, 0.45857027,\n",
       "        0.45279515, 0.44730538, 0.44211322, 0.43956155, 0.43509632,\n",
       "        0.43089771, 0.42695767, 0.42523301, 0.42182934, 0.41864571,\n",
       "        0.41722339, 0.41446593, 0.41189727, 0.40951079, 0.40851009,\n",
       "        0.4064545 , 0.40455627, 0.40375584, 0.40213642, 0.400653  ,\n",
       "        0.3993001 , 0.39880723, 0.39768195, 0.39666981, 0.39576575,\n",
       "        0.39555031, 0.39483833, 0.39422163, 0.39418542, 0.39374256,\n",
       "        0.39338526, 0.39311045, 0.39333105, 0.39321125, 0.39316693,\n",
       "        0.3935591 , 0.3936587 , 0.39382818, 0.39406586, 0.39468881,\n",
       "        0.39505702, 0.39548862, 0.39598215, 0.39681542, 0.39742726,\n",
       "        0.39809662, 0.39906451, 0.39984256, 0.40067399, 0.40155759,\n",
       "        0.40269297, 0.40367159, 0.40469745, 0.4059312 , 0.40703955,\n",
       "        0.40818897, 0.40937757, 0.41071537, 0.41196448, 0.41324401,\n",
       "        0.41455078, 0.41593707, 0.41727436, 0.41862708, 0.41999954,\n",
       "        0.42135522, 0.42271259, 0.42406705, 0.42536145, 0.42668003,\n",
       "        0.42798138, 0.42916799, 0.43040663, 0.43161517, 0.4327898 ,\n",
       "        0.43378794, 0.4348717 , 0.43591243, 0.43690729, 0.43768474,\n",
       "        0.43857327, 0.43941167, 0.44002116, 0.44075066, 0.44142878,\n",
       "        0.44205558, 0.44245237, 0.44297576, 0.44345057, 0.44371009],\n",
       "       [0.51520485, 0.5097059 , 0.50066662, 0.49387515, 0.48634684,\n",
       "        0.47849834, 0.47307223, 0.46615356, 0.45943204, 0.45548481,\n",
       "        0.44968477, 0.44417816, 0.43897593, 0.43643028, 0.43196109,\n",
       "        0.42776194, 0.42382434, 0.42210567, 0.41870707, 0.41553041,\n",
       "        0.41411459, 0.41136622, 0.40880805, 0.40643325, 0.40544045,\n",
       "        0.40339783, 0.40151328, 0.4007214 , 0.39911583, 0.39764673,\n",
       "        0.39630809, 0.39582336, 0.39471173, 0.39371288, 0.39282167,\n",
       "        0.39261287, 0.39191246, 0.39130688, 0.39127582, 0.39084256,\n",
       "        0.39049405, 0.39022744, 0.39045066, 0.39033747, 0.39029902,\n",
       "        0.3906922 , 0.39079618, 0.39096931, 0.39120978, 0.39183176,\n",
       "        0.39220154, 0.39263403, 0.39312786, 0.39395833, 0.39456934,\n",
       "        0.39523733, 0.39620161, 0.39697748, 0.39780641, 0.39868689,\n",
       "        0.3998183 , 0.40079355, 0.40181577, 0.40304604, 0.40415072,\n",
       "        0.40529674, 0.40648186, 0.40781793, 0.40906441, 0.41034162,\n",
       "        0.41164666, 0.4130342 , 0.41437122, 0.4157244 , 0.41710114,\n",
       "        0.41845924, 0.41981977, 0.42117831, 0.42248139, 0.42380619,\n",
       "        0.42511472, 0.42631298, 0.42756069, 0.42877927, 0.42996472,\n",
       "        0.43097773, 0.43207392, 0.43312764, 0.4341363 , 0.43493071,\n",
       "        0.43583399, 0.43668753, 0.43731451, 0.43805975, 0.43875384,\n",
       "        0.4393968 , 0.43981111, 0.44035086, 0.44084191, 0.4411183 ],\n",
       "       [0.5129354 , 0.50720406, 0.49808657, 0.49114192, 0.48349023,\n",
       "        0.47554615, 0.47011188, 0.46313614, 0.45637327, 0.4524276 ,\n",
       "        0.44660437, 0.44108251, 0.43587115, 0.4333314 , 0.42885906,\n",
       "        0.42466003, 0.42072493, 0.4190121 , 0.41561878, 0.41244918,\n",
       "        0.41103977, 0.40830046, 0.40575278, 0.40338981, 0.40240473,\n",
       "        0.40037483, 0.39850366, 0.39772019, 0.39612836, 0.3946732 ,\n",
       "        0.39334846, 0.39287159, 0.39177322, 0.39078736, 0.3899087 ,\n",
       "        0.38970608, 0.38901705, 0.38842201, 0.38839579, 0.38797167,\n",
       "        0.38763177, 0.38737291, 0.38759851, 0.38749152, 0.38745856,\n",
       "        0.38785267, 0.38796058, 0.38813698, 0.38837993, 0.38900062,\n",
       "        0.38937163, 0.38980472, 0.39029858, 0.39112616, 0.39173591,\n",
       "        0.39240229, 0.39336294, 0.39413625, 0.39496219, 0.39583939,\n",
       "        0.39696652, 0.39793795, 0.39895627, 0.40018272, 0.4012835 ,\n",
       "        0.40242553, 0.40360689, 0.40494063, 0.40618414, 0.40745869,\n",
       "        0.40876153, 0.41014984, 0.41148615, 0.41283929, 0.41421998,\n",
       "        0.41557986, 0.41694328, 0.41830564, 0.41961694, 0.4209477 ,\n",
       "        0.42226297, 0.4234727 , 0.42472935, 0.42595768, 0.4271538 ,\n",
       "        0.42818168, 0.42929021, 0.43035692, 0.43137932, 0.43219072,\n",
       "        0.43310881, 0.43397743, 0.43462235, 0.43538338, 0.43609357,\n",
       "        0.43675286, 0.43718505, 0.43774122, 0.43824869, 0.43854225],\n",
       "       [0.51066458, 0.50470704, 0.49551421, 0.48842132, 0.48065129,\n",
       "        0.47261566, 0.46717411, 0.4601444 , 0.45334268, 0.44939893,\n",
       "        0.44355419, 0.43801859, 0.43279916, 0.43026495, 0.42579019,\n",
       "        0.42159155, 0.41765967, 0.41595227, 0.41256443, 0.4094021 ,\n",
       "        0.40799886, 0.40526873, 0.40273154, 0.40038016, 0.39940262,\n",
       "        0.39738536, 0.39552748, 0.39475214, 0.39317375, 0.39173228,\n",
       "        0.39042112, 0.38995185, 0.38886636, 0.38789302, 0.38702655,\n",
       "        0.38682994, 0.38615179, 0.38556707, 0.38554534, 0.38513017,\n",
       "        0.38479832, 0.3845467 , 0.38477466, 0.38467348, 0.38464552,\n",
       "        0.38504028, 0.38515186, 0.38533118, 0.38557643, 0.38619572,\n",
       "        0.38656765, 0.38700101, 0.38749442, 0.38831887, 0.38892731,\n",
       "        0.38959175, 0.39054835, 0.39131895, 0.39214164, 0.39301527,\n",
       "        0.39413786, 0.39510521, 0.3961193 , 0.39734149, 0.39843804,\n",
       "        0.39957583, 0.40075296, 0.40208405, 0.40332407, 0.40459555,\n",
       "        0.40589571, 0.40728444, 0.40861964, 0.40997231, 0.41135636,\n",
       "        0.41271776, 0.41408351, 0.41544923, 0.41676861, 0.41810483,\n",
       "        0.41942671, 0.42064762, 0.42191279, 0.42315072, 0.42435732,\n",
       "        0.42540002, 0.42652062, 0.42760026, 0.42863628, 0.42946494,\n",
       "        0.43039775, 0.43128163, 0.43194449, 0.43272141, 0.4334479 ,\n",
       "        0.43412364, 0.43457386, 0.43514669, 0.43567085, 0.43598187],\n",
       "       [0.50839341, 0.5022158 , 0.49295038, 0.48571447, 0.4778305 ,\n",
       "        0.46970767, 0.46425959, 0.45717883, 0.45034087, 0.44639906,\n",
       "        0.44053462, 0.43498635, 0.42976007, 0.42723116, 0.4227545 ,\n",
       "        0.41855699, 0.41462845, 0.41292626, 0.40954411, 0.40638912,\n",
       "        0.40499195, 0.402271  , 0.39974421, 0.39740434, 0.39643419,\n",
       "        0.39442936, 0.39258456, 0.39181721, 0.39025202, 0.38882375,\n",
       "        0.38752586, 0.38706398, 0.38599104, 0.38502994, 0.38417521,\n",
       "        0.38398433, 0.38331664, 0.38274181, 0.38272443, 0.3823176 ,\n",
       "        0.38199347, 0.38174897, 0.38197887, 0.38188308, 0.38185996,\n",
       "        0.38225514, 0.38237005, 0.382552  , 0.38279921, 0.38341677,\n",
       "        0.38378942, 0.38422281, 0.38471556, 0.38553676, 0.38614357,\n",
       "        0.38680571, 0.38775828, 0.38852578, 0.38934499, 0.39021462,\n",
       "        0.39133257, 0.39229566, 0.39330503, 0.39452279, 0.39561474,\n",
       "        0.39674783, 0.39792037, 0.39924854, 0.40048459, 0.40175259,\n",
       "        0.40304962, 0.40443835, 0.40577194, 0.40712374, 0.40851086,\n",
       "        0.40987328, 0.41124099, 0.41260964, 0.41393661, 0.41527793,\n",
       "        0.41660601, 0.41783786, 0.41911143, 0.4203586 , 0.42157546,\n",
       "        0.42263281, 0.42376548, 0.42485791, 0.42590752, 0.42675331,\n",
       "        0.42770085, 0.42860013, 0.42928094, 0.43007392, 0.43081665,\n",
       "        0.43150908, 0.43197757, 0.43256715, 0.43310821, 0.4334369 ]])"
      ]
     },
     "execution_count": 452,
     "metadata": {},
     "output_type": "execute_result"
    }
   ],
   "source": [
    "res"
   ]
  },
  {
   "cell_type": "code",
   "execution_count": 308,
   "id": "e026a8d1",
   "metadata": {},
   "outputs": [],
   "source": [
    "inject_times = df_test.loc[df_test.input_short_injection > 0,[\"timer\",\"timer_dt\"]]"
   ]
  },
  {
   "cell_type": "code",
   "execution_count": 315,
   "id": "c77edc07",
   "metadata": {},
   "outputs": [
    {
     "data": {
      "text/plain": [
       "(0.0, 24.0)"
      ]
     },
     "execution_count": 315,
     "metadata": {},
     "output_type": "execute_result"
    },
    {
     "data": {
      "image/png": "[encoded data removed]",
      "text/plain": [
       "<Figure size 432x288 with 1 Axes>"
      ]
     },
     "metadata": {
      "needs_background": "light"
     },
     "output_type": "display_data"
    }
   ],
   "source": [
    "plt.hist(inject_times.timer_dt - inject_times.timer,bins=100)\n",
    "plt.xlim(0,24)"
   ]
  },
  {
   "cell_type": "markdown",
   "id": "d582ef82",
   "metadata": {},
   "source": [
    "## Predict with dropout"
   ]
  },
  {
   "cell_type": "code",
   "execution_count": null,
   "id": "e249c179",
   "metadata": {},
   "outputs": [],
   "source": [
    "B = 10\n",
    "res_mu = np.zeros((B,df_test.shape[0]))\n",
    "res_sig = np.zeros((B,df_test.shape[0]))\n",
    "with tqdm(total=B) as t:\n",
    "    for b in range(B):\n",
    "        loss,rmse, y_preds_b, ll,jj = model.evaluate(dataloaders[\"test\"],p=0.1,verbose=False)\n",
    "        mu_b = np.concatenate([y[0] for y in y_preds_b])\n",
    "        sig_b = np.concatenate([y[1] for y in y_preds_b])\n",
    "        res_mu[b,:] = mu_b.squeeze(1)\n",
    "        res_sig[b,:] = sig_b.squeeze(1)\n",
    "        t.update()"
   ]
  },
  {
   "cell_type": "code",
   "execution_count": null,
   "id": "b9a14f46",
   "metadata": {},
   "outputs": [],
   "source": [
    "res_mu_mean = np.mean(res_mu,axis=0)\n",
    "res_sig_mean = np.median(res_sig,axis=0)"
   ]
  },
  {
   "cell_type": "code",
   "execution_count": null,
   "id": "04c2381e",
   "metadata": {},
   "outputs": [],
   "source": [
    "dts = np.linspace(0,6,10)\n",
    "for dt in dts:\n",
    "    print('time ahead (hours): {:05.2f}'.format(dt))\n",
    "    msk = (df_test.msk==0) & (df_test.timer_dt - df_test.timer > dt)\n",
    "    res_rmse_locf = math.sqrt(np.mean((ginv(df_test.glc_dt_locf[msk]) - ginv(df_test.glc_dt[msk]))**2))\n",
    "    print(\"RMSE (locf): {:05.4f}\".format(res_rmse_locf))\n",
    "    res_rmse_model = math.sqrt(np.mean((ginv(res_mu_mean[msk]) - ginv(df_test.glc_dt[msk]))**2))\n",
    "    print(\"RMSE (model): {:05.4f}\".format(res_rmse_model))\n",
    "    print(\"{:05.4f}\".format(res_rmse_model/res_rmse_locf))"
   ]
  },
  {
   "cell_type": "code",
   "execution_count": null,
   "id": "3556feb6",
   "metadata": {},
   "outputs": [],
   "source": [
    "prob_test_B = scipy.stats.norm(np.expand_dims(res_mu_mean,1), np.expand_dims(res_sig_mean,1)).cdf(y_tests)"
   ]
  },
  {
   "cell_type": "code",
   "execution_count": null,
   "id": "e8b45530",
   "metadata": {},
   "outputs": [],
   "source": [
    "# a forecast is overdispersed if var < 0.8333 and underdispersed if var > 0.8333\n",
    "print(1/12)\n",
    "varF = np.var(prob_test_B[~msks])\n",
    "print('variance of probs: {:05.4f}'.format(varF))\n",
    "if varF > 1/12:\n",
    "    print(\"underdispersed\")\n",
    "else: \n",
    "    print(\"overdispersed\")"
   ]
  },
  {
   "cell_type": "code",
   "execution_count": null,
   "id": "05b52d2f",
   "metadata": {},
   "outputs": [],
   "source": [
    "plt.hist(prob_test_B[~msks], color=['#0504aa'],alpha=0.7, bins=20)\n",
    "plt.xlabel(\"Probability integral transform\")\n",
    "plt.show()"
   ]
  },
  {
   "cell_type": "code",
   "execution_count": null,
   "id": "849602e8",
   "metadata": {},
   "outputs": [],
   "source": [
    "# quantile plot\n",
    "def calibration_plot(prob_test):\n",
    "    nbins = 20\n",
    "    x1s = plt.hist(prob_test,bins=nbins)\n",
    "    plt.close()\n",
    "    xbin = np.zeros(nbins)\n",
    "    for i in range(nbins):\n",
    "        xbin[i] = (x1s[1][i] + x1s[1][i+1])/2\n",
    "    qs = np.cumsum(x1s[0])/sum(x1s[0])\n",
    "    errors = np.sqrt(qs*(1-qs)/sum(x1s[0]))\n",
    "    plt.scatter(xbin,qs)\n",
    "    plt.errorbar(xbin, qs, yerr=2*errors, fmt='o')\n",
    "    plt.plot(np.linspace(0,1),np.linspace(0,1),'--r')\n",
    "    plt.xlabel(\"Predicted quantile\")\n",
    "    plt.ylabel(\"Empirical quantile\")\n",
    "    plt.show()\n",
    "calibration_plot(prob_test_B[~msks])"
   ]
  },
  {
   "cell_type": "code",
   "execution_count": null,
   "id": "27cd74a2",
   "metadata": {},
   "outputs": [],
   "source": [
    "df_test['muB'] = (res_mu_mean)\n",
    "df_test['sigB'] = (res_sig_mean)\n",
    "df_test['lower80B'] = df_test['muB'] - 1.281552*df_test['sigB']\n",
    "df_test['upper80B'] = df_test['muB'] + 1.281552*df_test['sigB']\n",
    "df_test['lower95B'] = df_test['muB'] - 1.959964*df_test['sigB']\n",
    "df_test['upper95B'] = df_test['muB'] + 1.959964*df_test['sigB']\n",
    "df_test['lower99B'] = df_test['muB'] - 3.290527*df_test['sigB']\n",
    "df_test['upper99B'] = df_test['muB'] + 3.290527*df_test['sigB']"
   ]
  },
  {
   "cell_type": "code",
   "execution_count": null,
   "id": "79ad291c",
   "metadata": {},
   "outputs": [],
   "source": [
    "res80 = sum((df_test['lower80B'] < df_test.glc_dt) & (df_test['upper80B'] > df_test.glc_dt) & (df_test.msk == 0)) / sum(df_test.msk == 0)\n",
    "res95 = sum((df_test['lower95B'] < df_test.glc_dt) & (df_test['upper95B'] > df_test.glc_dt) & (df_test.msk == 0)) / sum(df_test.msk == 0)\n",
    "res99 = sum((df_test['lower99B'] < df_test.glc_dt) & (df_test['upper99B'] > df_test.glc_dt) & (df_test.msk == 0)) / sum(df_test.msk == 0)\n",
    "print(\"coverage of 80% prediction interval: {:05.4f}\".format(res80))\n",
    "print(\"coverage of 95% prediction interval: {:05.4f}\".format(res95))\n",
    "print(\"coverage of 99% prediction interval: {:05.4f}\".format(res99))"
   ]
  },
  {
   "cell_type": "code",
   "execution_count": null,
   "id": "b60ae378",
   "metadata": {},
   "outputs": [],
   "source": [
    "print(\"interval coverage when hypoglycaemia region...\")\n",
    "_msk_ = (df_test.msk == 0) & (ginv(df_test.glc_dt) < 70)\n",
    "res80 = sum((df_test['lower80B'] < df_test.glc_dt) & (df_test['upper80B'] > df_test.glc_dt) & _msk_) / sum(_msk_)\n",
    "res95 = sum((df_test['lower95B'] < df_test.glc_dt) & (df_test['upper95B'] > df_test.glc_dt) & _msk_) / sum(_msk_)\n",
    "res99 = sum((df_test['lower99B'] < df_test.glc_dt) & (df_test['upper99B'] > df_test.glc_dt) & _msk_) / sum(_msk_)\n",
    "print(\"coverage of 80% prediction interval: {:05.4f}\".format(res80))\n",
    "print(\"coverage of 95% prediction interval: {:05.4f}\".format(res95))\n",
    "print(\"coverage of 99% prediction interval: {:05.4f}\".format(res99))"
   ]
  },
  {
   "cell_type": "code",
   "execution_count": null,
   "id": "8f9dc032",
   "metadata": {},
   "outputs": [],
   "source": [
    "dts = np.linspace(0,6,10)\n",
    "for dt in dts:\n",
    "    print(\"interval coverage when hypoglycaemia region...\")\n",
    "    print('time ahead (hours): {:05.2f}'.format(dt))\n",
    "    _msk_ = (df_test.msk == 0) & (ginv(df_test.glc_dt) < 70) & (df_test.dt > dt)\n",
    "    res80 = sum((df_test['lower80B'] < df_test.glc_dt) & (df_test['upper80B'] > df_test.glc_dt) & _msk_) / sum(_msk_)\n",
    "    res95 = sum((df_test['lower95B'] < df_test.glc_dt) & (df_test['upper95B'] > df_test.glc_dt) & _msk_) / sum(_msk_)\n",
    "    res99 = sum((df_test['lower99B'] < df_test.glc_dt) & (df_test['upper99B'] > df_test.glc_dt) & _msk_) / sum(_msk_)\n",
    "    print(\"coverage of 80% prediction interval: {:05.4f}\".format(res80))\n",
    "    print(\"coverage of 95% prediction interval: {:05.4f}\".format(res95))\n",
    "    print(\"coverage of 99% prediction interval: {:05.4f}\".format(res99))"
   ]
  },
  {
   "cell_type": "code",
   "execution_count": null,
   "id": "d1c3859a",
   "metadata": {},
   "outputs": [],
   "source": [
    "model(torch.randn(1,1,4),torch.rand(1,1))"
   ]
  },
  {
   "cell_type": "code",
   "execution_count": null,
   "id": "e38ab264",
   "metadata": {},
   "outputs": [],
   "source": [
    "# injection \tinput_hrs \tinput \tglc\n",
    "x_ = torch.tensor([0.,0.,0.,glc_transform(np.array(200.0))]).unsqueeze(0).unsqueeze(0).float()\n",
    "dt_ = torch.tensor([1.0]).unsqueeze(0).float()\n",
    "ys_ = model(x_,dt_)\n",
    "ginv(ys_[0].detach().cpu().numpy())"
   ]
  },
  {
   "cell_type": "code",
   "execution_count": null,
   "id": "daeedf7d",
   "metadata": {},
   "outputs": [],
   "source": [
    "x_ = torch.tensor([0.,12.,0.,glc_transform(np.array(200.0))]).unsqueeze(0).unsqueeze(0).float()\n",
    "dt_ = torch.tensor([1.0]).unsqueeze(0).float()\n",
    "ys_ = model(x_,dt_)\n",
    "ginv(ys_[0].detach().cpu().numpy())"
   ]
  },
  {
   "cell_type": "code",
   "execution_count": null,
   "id": "c2869274",
   "metadata": {},
   "outputs": [],
   "source": [
    "x_ = torch.tensor([1.,0.,20.,glc_transform(np.array(200.0))]).unsqueeze(0).unsqueeze(0).float()\n",
    "dt_ = torch.tensor([1.0]).unsqueeze(0).float()\n",
    "ys_ = model(x_,dt_)\n",
    "ginv(ys_[0].detach().cpu().numpy())"
   ]
  },
  {
   "cell_type": "code",
   "execution_count": null,
   "id": "1ab6b423",
   "metadata": {},
   "outputs": [],
   "source": [
    "x_ = torch.tensor(np.array(([1.,0.,4.,0.],[1.,0.,4.,0.]))).unsqueeze(0).float()\n",
    "dt_ = torch.tensor(np.array(([2.0],[2.0]))).unsqueeze(0).unsqueeze(0).float()\n",
    "ys_ = model(x_,dt_)\n",
    "ginv(ys_[0].detach().numpy())"
   ]
  },
  {
   "cell_type": "code",
   "execution_count": null,
   "id": "93cb1d09",
   "metadata": {},
   "outputs": [],
   "source": [
    "FEATURE_VARS = [\"injection\",\"input_hrs\",\"input\",\"glc\"]"
   ]
  },
  {
   "cell_type": "code",
   "execution_count": null,
   "id": "a062772a",
   "metadata": {},
   "outputs": [],
   "source": [
    "torch.tensor(np.array(([1.,0.,4.,0.],[1.,0.,4.,0.]))).shape"
   ]
  },
  {
   "cell_type": "code",
   "execution_count": null,
   "id": "75d4c04e",
   "metadata": {},
   "outputs": [],
   "source": [
    "x_ = torch.tensor(np.array(([0.,0.,0.,glc_transform(np.array(150.0))],[0.,10.,0.,0.]))).float()\n",
    "dt_ = torch.tensor(np.array(([2354.],[0.4]))).float()\n",
    "ys_ = model(x_,dt_)\n"
   ]
  },
  {
   "cell_type": "code",
   "execution_count": null,
   "id": "9e909b5f",
   "metadata": {},
   "outputs": [],
   "source": [
    "ginv(ys_[0].detach().numpy())"
   ]
  },
  {
   "cell_type": "code",
   "execution_count": null,
   "id": "4fba075f",
   "metadata": {},
   "outputs": [],
   "source": []
  }
 ],
 "metadata": {
  "environment": {
   "name": "pytorch-gpu.1-8.m69",
   "type": "gcloud",
   "uri": "gcr.io/deeplearning-platform-release/pytorch-gpu.1-8:m69"
  },
  "kernelspec": {
   "display_name": "Python 3",
   "language": "python",
   "name": "python3"
  },
  "language_info": {
   "codemirror_mode": {
    "name": "ipython",
    "version": 3
   },
   "file_extension": ".py",
   "mimetype": "text/x-python",
   "name": "python",
   "nbconvert_exporter": "python",
   "pygments_lexer": "ipython3",
   "version": "3.7.10"
  }
 },
 "nbformat": 4,
 "nbformat_minor": 5
}
