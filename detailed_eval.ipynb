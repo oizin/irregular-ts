{
 "cells": [
  {
   "cell_type": "markdown",
   "id": "3163a991",
   "metadata": {},
   "source": [
    "# Evaluation of model performance\n",
    "\n",
    "Evaluation..."
   ]
  },
  {
   "cell_type": "code",
   "execution_count": 3,
   "id": "6f407f33",
   "metadata": {},
   "outputs": [],
   "source": [
    "import torch\n",
    "import pandas as pd\n",
    "import matplotlib.pyplot as plt\n",
    "import numpy as np\n",
    "from torch.utils.data import DataLoader\n",
    "import scipy.stats\n",
    "from sklearn.preprocessing import StandardScaler\n",
    "from sklearn.preprocessing import MinMaxScaler\n",
    "from sklearn.preprocessing import QuantileTransformer\n",
    "\n",
    "from src.data.data_scaler import PreProcess\n",
    "from src.data.data_loader import MIMICDataset,import_data,collate_fn_padd\n",
    "from src.utils import setup_logger\n",
    "from src.training.training_nn import *\n",
    "from src.models.models import ODERNN,LatentODE1\n",
    "from src.utils import seed_everything"
   ]
  },
  {
   "cell_type": "code",
   "execution_count": 4,
   "id": "689194cb",
   "metadata": {},
   "outputs": [],
   "source": [
    "from data.feature_sets import all_features"
   ]
  },
  {
   "cell_type": "code",
   "execution_count": 5,
   "id": "b4d8e0aa",
   "metadata": {},
   "outputs": [],
   "source": [
    "def glc_transform(x):\n",
    "    x = x.copy()\n",
    "    x[x > 0] = np.log(x[x > 0]) - np.log(140)\n",
    "    return x\n",
    "\n",
    "def glc_invtransform(x):\n",
    "    x = x.copy()\n",
    "    x = np.exp(x + np.log(140))\n",
    "    return x\n",
    "\n",
    "ginv = glc_invtransform"
   ]
  },
  {
   "cell_type": "code",
   "execution_count": 6,
   "id": "7aee6170",
   "metadata": {},
   "outputs": [],
   "source": [
    "preproc = PreProcess(all_features(),QuantileTransformer())\n",
    "df_train = pd.read_csv('data/train.csv')\n",
    "preproc.fit(df_train)"
   ]
  },
  {
   "cell_type": "markdown",
   "id": "f6ebfdc9",
   "metadata": {},
   "source": [
    "## Model"
   ]
  },
  {
   "cell_type": "code",
   "execution_count": 7,
   "id": "6a8a4d92",
   "metadata": {},
   "outputs": [],
   "source": [
    "model_path = 'experiments/mimic/LatentODE1.pth'\n",
    "cpt = torch.load(model_path)"
   ]
  },
  {
   "cell_type": "code",
   "execution_count": 8,
   "id": "a2c602f1",
   "metadata": {},
   "outputs": [
    {
     "name": "stdout",
     "output_type": "stream",
     "text": [
      "99\n"
     ]
    }
   ],
   "source": [
    "print(len(all_features()))"
   ]
  },
  {
   "cell_type": "code",
   "execution_count": 9,
   "id": "a70108b9",
   "metadata": {},
   "outputs": [],
   "source": [
    "model = LatentODE1(99, 8, 0.1, 1,128,\"cpu\").to(\"cpu\")"
   ]
  },
  {
   "cell_type": "code",
   "execution_count": 10,
   "id": "a2e43c27",
   "metadata": {},
   "outputs": [
    {
     "data": {
      "text/plain": [
       "<All keys matched successfully>"
      ]
     },
     "execution_count": 10,
     "metadata": {},
     "output_type": "execute_result"
    }
   ],
   "source": [
    "model.load_state_dict(cpt['state_dict'])"
   ]
  },
  {
   "cell_type": "code",
   "execution_count": 11,
   "id": "c06da548",
   "metadata": {},
   "outputs": [
    {
     "data": {
      "text/plain": [
       "LatentODE1(\n",
       "  (func): LatentODE1_(\n",
       "    (net): Sequential(\n",
       "      (0): Linear(in_features=107, out_features=50, bias=True)\n",
       "      (1): ReLU()\n",
       "      (2): Linear(in_features=50, out_features=8, bias=True)\n",
       "      (3): Tanh()\n",
       "    )\n",
       "  )\n",
       "  (mu_net): Sequential(\n",
       "    (0): Linear(in_features=8, out_features=8, bias=True)\n",
       "    (1): Tanh()\n",
       "    (2): Linear(in_features=8, out_features=1, bias=True)\n",
       "  )\n",
       "  (sigma_net): Sequential(\n",
       "    (0): Linear(in_features=8, out_features=8, bias=True)\n",
       "    (1): Tanh()\n",
       "    (2): Linear(in_features=8, out_features=1, bias=True)\n",
       "    (3): Softplus(beta=1, threshold=20)\n",
       "  )\n",
       "  (jumpNN): Sequential(\n",
       "    (0): Linear(in_features=99, out_features=50, bias=True)\n",
       "    (1): Tanh()\n",
       "    (2): Linear(in_features=50, out_features=8, bias=True)\n",
       "    (3): Tanh()\n",
       "  )\n",
       ")"
      ]
     },
     "execution_count": 11,
     "metadata": {},
     "output_type": "execute_result"
    }
   ],
   "source": [
    "model"
   ]
  },
  {
   "cell_type": "markdown",
   "id": "57904721",
   "metadata": {},
   "source": [
    "## Test data"
   ]
  },
  {
   "cell_type": "code",
   "execution_count": 12,
   "id": "c01c4933",
   "metadata": {},
   "outputs": [
    {
     "name": "stdout",
     "output_type": "stream",
     "text": [
      "(78557, 111)\n"
     ]
    }
   ],
   "source": [
    "df_test = import_data(\"data/test.csv\")\n",
    "print(df_test.shape)"
   ]
  },
  {
   "cell_type": "code",
   "execution_count": 13,
   "id": "c780c9d2",
   "metadata": {},
   "outputs": [],
   "source": [
    "df_test = preproc.transform(df_test)"
   ]
  },
  {
   "cell_type": "code",
   "execution_count": 14,
   "id": "8a362287",
   "metadata": {},
   "outputs": [],
   "source": [
    "df_test['dt'] = df_test.timer_dt - df_test.timer"
   ]
  },
  {
   "cell_type": "code",
   "execution_count": 15,
   "id": "a557c968",
   "metadata": {},
   "outputs": [
    {
     "data": {
      "text/plain": [
       "(array([55924.,     0.,     0.,     0.,     0.,     0.,   166.,  7399.,\n",
       "         7627.,  7441.]),\n",
       " array([0. , 0.1, 0.2, 0.3, 0.4, 0.5, 0.6, 0.7, 0.8, 0.9, 1. ]),\n",
       " <BarContainer object of 10 artists>)"
      ]
     },
     "execution_count": 15,
     "metadata": {},
     "output_type": "execute_result"
    },
    {
     "data": {
      "image/png": "[encoded data removed]",
      "text/plain": [
       "<Figure size 432x288 with 1 Axes>"
      ]
     },
     "metadata": {
      "needs_background": "light"
     },
     "output_type": "display_data"
    }
   ],
   "source": [
    "plt.hist(df_test.input_hrs)"
   ]
  },
  {
   "cell_type": "markdown",
   "id": "863b587c",
   "metadata": {},
   "source": [
    "# Predict"
   ]
  },
  {
   "cell_type": "code",
   "execution_count": 16,
   "id": "514838ae",
   "metadata": {},
   "outputs": [
    {
     "name": "stdout",
     "output_type": "stream",
     "text": [
      "reconfiguring data...\n",
      "excluded patients: 0\n",
      "excluded rows: 0\n"
     ]
    },
    {
     "name": "stderr",
     "output_type": "stream",
     "text": [
      "100%|██████████| 17/17 [00:16<00:00,  1.01it/s]"
     ]
    },
    {
     "name": "stdout",
     "output_type": "stream",
     "text": [
      "_rmse : 40.984\n",
      "_loss : -0.027\n"
     ]
    },
    {
     "name": "stderr",
     "output_type": "stream",
     "text": [
      "\n"
     ]
    }
   ],
   "source": [
    "dl_test = DataLoader(MIMICDataset(df_test,all_features()),batch_size=256,collate_fn=collate_fn_padd)\n",
    "dataloaders = {'test':dl_test}\n",
    "loss_test,error_tests,y_preds,y_tests,msks = model.evaluate(dataloaders[\"test\"])"
   ]
  },
  {
   "cell_type": "code",
   "execution_count": 17,
   "id": "f87e43b2",
   "metadata": {},
   "outputs": [
    {
     "name": "stderr",
     "output_type": "stream",
     "text": [
      "100%|██████████| 17/17 [00:15<00:00,  1.12it/s]\n"
     ]
    }
   ],
   "source": [
    "mu,sig = model.predict(dataloaders[\"test\"])"
   ]
  },
  {
   "cell_type": "code",
   "execution_count": 18,
   "id": "81a77dcd",
   "metadata": {},
   "outputs": [
    {
     "data": {
      "text/plain": [
       "torch.Size([256, 233, 99])"
      ]
     },
     "execution_count": 18,
     "metadata": {},
     "output_type": "execute_result"
    }
   ],
   "source": [
    "next(iter(dl_test))[0].shape"
   ]
  },
  {
   "cell_type": "code",
   "execution_count": 19,
   "id": "7c6f6dcc",
   "metadata": {},
   "outputs": [
    {
     "data": {
      "text/plain": [
       "(array([  786.,  5794., 11546., 17010., 16481.,  9544.,  4919.,  2735.,\n",
       "         1682.,   917.]),\n",
       " array([-0.57715786, -0.44387394, -0.31059003, -0.17730612, -0.0440222 ,\n",
       "         0.08926171,  0.22254562,  0.35582954,  0.48911345,  0.62239736,\n",
       "         0.7556813 ], dtype=float32),\n",
       " <BarContainer object of 10 artists>)"
      ]
     },
     "execution_count": 19,
     "metadata": {},
     "output_type": "execute_result"
    },
    {
     "data": {
      "image/png": "[encoded data removed]",
      "text/plain": [
       "<Figure size 432x288 with 1 Axes>"
      ]
     },
     "metadata": {
      "needs_background": "light"
     },
     "output_type": "display_data"
    }
   ],
   "source": [
    "plt.hist(mu)"
   ]
  },
  {
   "cell_type": "code",
   "execution_count": 20,
   "id": "04d86b12",
   "metadata": {},
   "outputs": [
    {
     "data": {
      "text/plain": [
       "(71414,)"
      ]
     },
     "execution_count": 20,
     "metadata": {},
     "output_type": "execute_result"
    }
   ],
   "source": [
    "sig.shape"
   ]
  },
  {
   "cell_type": "code",
   "execution_count": 21,
   "id": "71fc75b6",
   "metadata": {},
   "outputs": [
    {
     "data": {
      "text/plain": [
       "(71414, 112)"
      ]
     },
     "execution_count": 21,
     "metadata": {},
     "output_type": "execute_result"
    }
   ],
   "source": [
    "df_test.loc[df_test.msk==0].shape"
   ]
  },
  {
   "cell_type": "markdown",
   "id": "c37619ce",
   "metadata": {},
   "source": [
    "## Evaluate\n",
    "\n",
    "text"
   ]
  },
  {
   "cell_type": "code",
   "execution_count": null,
   "id": "c363e7ca",
   "metadata": {},
   "outputs": [],
   "source": [
    "df_test['mu'] = np.concatenate(mu)\n",
    "df_test['sig'] = np.concatenate(sig)\n",
    "df_test['lower80'] = df_test['mu'] - 1.281552*df_test['sig']\n",
    "df_test['upper80'] = df_test['mu'] + 1.281552*df_test['sig']\n",
    "df_test['lower95'] = df_test['mu'] - 1.959964*df_test['sig']\n",
    "df_test['upper95'] = df_test['mu'] + 1.959964*df_test['sig']\n",
    "df_test['lower99'] = df_test['mu'] - 3.290527*df_test['sig']\n",
    "df_test['upper99'] = df_test['mu'] + 3.290527*df_test['sig']"
   ]
  },
  {
   "cell_type": "code",
   "execution_count": null,
   "id": "b7b2e5e8",
   "metadata": {},
   "outputs": [],
   "source": [
    "res80 = sum((df_test['lower80'] < df_test.glc_dt) & (df_test['upper80'] > df_test.glc_dt) & (df_test.msk == 0)) / sum(df_test.msk == 0)\n",
    "res95 = sum((df_test['lower95'] < df_test.glc_dt) & (df_test['upper95'] > df_test.glc_dt) & (df_test.msk == 0)) / sum(df_test.msk == 0)\n",
    "res99 = sum((df_test['lower99'] < df_test.glc_dt) & (df_test['upper99'] > df_test.glc_dt) & (df_test.msk == 0)) / sum(df_test.msk == 0)\n",
    "print(\"coverage of 80% prediction interval: {:05.4f}\".format(res80))\n",
    "print(\"coverage of 95% prediction interval: {:05.4f}\".format(res95))\n",
    "print(\"coverage of 99% prediction interval: {:05.4f}\".format(res99))"
   ]
  },
  {
   "cell_type": "code",
   "execution_count": null,
   "id": "d9c01ae0",
   "metadata": {},
   "outputs": [],
   "source": [
    "dts = np.linspace(0,11,12)\n",
    "dts = np.append(dts,12.)\n",
    "for i in range(dts.shape[0]-1):\n",
    "    print('time ahead (hours): {:05.2f}-{:05.2f}'.format(dts[i],dts[i+1]))\n",
    "    msk = (df_test.msk==0) & (df_test.dt >= dts[i]) & (df_test.dt < dts[i+1])\n",
    "    res80 = sum((df_test['lower80'] < df_test.glc_dt) & (df_test['upper80'] > df_test.glc_dt) & msk) / sum(msk)\n",
    "    res95 = sum((df_test['lower95'] < df_test.glc_dt) & (df_test['upper95'] > df_test.glc_dt) & msk) / sum(msk)\n",
    "    res99 = sum((df_test['lower99'] < df_test.glc_dt) & (df_test['upper99'] > df_test.glc_dt) & msk) / sum(msk)\n",
    "    print(\"coverage of 80% prediction interval: {:05.4f}\".format(res80))\n",
    "    print(\"coverage of 95% prediction interval: {:05.4f}\".format(res95))\n",
    "    print(\"coverage of 99% prediction interval: {:05.4f}\".format(res99))"
   ]
  },
  {
   "cell_type": "code",
   "execution_count": null,
   "id": "e8883e82",
   "metadata": {},
   "outputs": [],
   "source": [
    "print(\"interval coverage when hypoglycaemia region...\")\n",
    "dts = np.linspace(0,11,12)\n",
    "dts = np.append(dts,12.)\n",
    "for i in range(dts.shape[0]-1):\n",
    "    print('time ahead (hours): {:05.2f}-{:05.2f}'.format(dts[i],dts[i+1]))\n",
    "    msk = (df_test.msk==0) & (df_test.dt >= dts[i]) & (df_test.dt < dts[i+1]) & (ginv(df_test.glc_dt) < 70)\n",
    "    res80 = sum((df_test['lower80'] < df_test.glc_dt) & (df_test['upper80'] > df_test.glc_dt) & msk) / sum(msk)\n",
    "    res95 = sum((df_test['lower95'] < df_test.glc_dt) & (df_test['upper95'] > df_test.glc_dt) & msk) / sum(msk)\n",
    "    res99 = sum((df_test['lower99'] < df_test.glc_dt) & (df_test['upper99'] > df_test.glc_dt) & msk) / sum(msk)\n",
    "    print(\"coverage of 80% prediction interval: {:05.4f}\".format(res80))\n",
    "    print(\"coverage of 95% prediction interval: {:05.4f}\".format(res95))\n",
    "    print(\"coverage of 99% prediction interval: {:05.4f}\".format(res99))"
   ]
  },
  {
   "cell_type": "code",
   "execution_count": null,
   "id": "32abf9a5",
   "metadata": {},
   "outputs": [],
   "source": [
    "dts = np.linspace(0,6,10)\n",
    "for dt in dts:\n",
    "    print(\"interval coverage when hypoglycaemia region...\")\n",
    "    print('time ahead (hours): {:05.2f}'.format(dt))\n",
    "    _msk_ = (df_test.msk == 0) & (ginv(df_test.glc_dt) < 70) & (df_test.timer_dt - df_test.timer > dt)\n",
    "    res80 = sum((df_test['lower80'] < df_test.glc_dt) & (df_test['upper80'] > df_test.glc_dt) & _msk_) / sum(_msk_)\n",
    "    res95 = sum((df_test['lower95'] < df_test.glc_dt) & (df_test['upper95'] > df_test.glc_dt) & _msk_) / sum(_msk_)\n",
    "    res99 = sum((df_test['lower99'] < df_test.glc_dt) & (df_test['upper99'] > df_test.glc_dt) & _msk_) / sum(_msk_)\n",
    "    print(\"coverage of 80% prediction interval: {:05.4f}\".format(res80))\n",
    "    print(\"coverage of 95% prediction interval: {:05.4f}\".format(res95))\n",
    "    print(\"coverage of 99% prediction interval: {:05.4f}\".format(res99))"
   ]
  },
  {
   "cell_type": "code",
   "execution_count": null,
   "id": "334f5c64",
   "metadata": {},
   "outputs": [],
   "source": [
    "df_test[\"glc_dt_locf\"] = df_test.glc\n",
    "df_test.loc[df_test.glc_dt_locf == 0,'glc_dt_locf'] = np.NaN\n",
    "df_test[\"glc_dt_locf\"] = df_test.groupby('icustay_id')[\"glc_dt_locf\"].ffill()\n",
    "res_rmse_locf = math.sqrt(np.mean((ginv(df_test.glc_dt_locf[df_test.msk==0]) - ginv(df_test.glc_dt[df_test.msk==0]))**2))\n",
    "print(\"RMSE (locf): {:05.4f}\".format(res_rmse_locf))"
   ]
  },
  {
   "cell_type": "code",
   "execution_count": null,
   "id": "e91272cf",
   "metadata": {},
   "outputs": [],
   "source": [
    "res_rmse_model = math.sqrt(np.mean((ginv(df_test.mu[df_test.msk==0]) - ginv(df_test.glc_dt[df_test.msk==0]))**2))\n",
    "print(\"RMSE (model): {:05.4f}\".format(res_rmse_model))"
   ]
  },
  {
   "cell_type": "code",
   "execution_count": null,
   "id": "c0e44e02",
   "metadata": {},
   "outputs": [],
   "source": [
    "print(\"RMSE...\")\n",
    "dts = np.linspace(0,11,12)\n",
    "dts = np.append(dts,12.)\n",
    "dts[0] = 0.5\n",
    "for i in range(dts.shape[0]-1):\n",
    "    print('time ahead (hours): {:05.2f}-{:05.2f}'.format(dts[i],dts[i+1]))\n",
    "    msk = (df_test.msk==0) & (df_test.dt >= dts[i]) & (df_test.dt < dts[i+1])\n",
    "    print(\"N: {:5}\".format(sum(msk)))\n",
    "    res_rmse_locf = math.sqrt(np.mean((ginv(df_test.glc_dt_locf[msk]) - ginv(df_test.glc_dt[msk]))**2))\n",
    "    print(\"RMSE (locf): {:05.4f}\".format(res_rmse_locf))\n",
    "    res_rmse_model = math.sqrt(np.mean((ginv(df_test.mu[msk]) - ginv(df_test.glc_dt[msk]))**2))\n",
    "    print(\"RMSE (model): {:05.4f}\".format(res_rmse_model))\n",
    "    print(\"{:05.4f}\".format(res_rmse_model/res_rmse_locf))"
   ]
  },
  {
   "cell_type": "code",
   "execution_count": null,
   "id": "e4cfbbae",
   "metadata": {},
   "outputs": [],
   "source": [
    "# dts = np.linspace(0,6,10)\n",
    "# for dt in dts:\n",
    "#     print('time ahead (hours): {:05.2f}'.format(dt))\n",
    "#     msk = (df_test.msk==0) & (df_test.timer_dt - df_test.timer > dt)\n",
    "#     res_rmse_locf = math.sqrt(np.mean((ginv(df_test.glc_dt_locf[msk]) - ginv(df_test.glc_dt[msk]))**2))\n",
    "#     print(\"RMSE (locf): {:05.4f}\".format(res_rmse_locf))\n",
    "#     res_rmse_model = math.sqrt(np.mean((ginv(df_test.mu[msk]) - ginv(df_test.glc_dt[msk]))**2))\n",
    "#     print(\"RMSE (model): {:05.4f}\".format(res_rmse_model))\n",
    "#     print(\"{:05.4f}\".format(res_rmse_model/res_rmse_locf))"
   ]
  },
  {
   "cell_type": "code",
   "execution_count": null,
   "id": "9ef1e8f5",
   "metadata": {},
   "outputs": [],
   "source": [
    "import random\n",
    "fig, axs = plt.subplots(4,1,figsize=(6,12))\n",
    "plt.rcParams['font.size'] = '16'\n",
    "\n",
    "ids = random.sample(list(df_test.icustay_id.unique()),4)\n",
    "for i in range(4):\n",
    "    msk_i = (df_test['icustay_id'] == ids[i]) & (df_test['timer_dt'] < 48)\n",
    "    xs = df_test[msk_i].timer_dt\n",
    "    axs[i].plot(xs,glc_invtransform(df_test.mu[msk_i]),label='predictions',linestyle='--', marker='o', color='b')\n",
    "    axs[i].plot(xs, glc_invtransform(df_test.lower95[msk_i]),label='',linestyle='--', color='lightblue')\n",
    "    axs[i].plot(xs,glc_invtransform(df_test.upper95[msk_i]),label='',linestyle='--', color='lightblue')\n",
    "#     axs[i].fill_between(xs,glc_invtransform(df_test.mu[msk_i])-glc_invtransform(df_test.lower95[msk_i]),\n",
    "#                         glc_invtransform(df_test.mu[msk_i])+glc_invtransform(df_test.lower95[msk_i]),\n",
    "#                         label='', color='lightblue',interpolate=True)\n",
    "    axs[i].scatter(xs,glc_invtransform(df_test.glc_dt[msk_i]),label='truth', marker='o', color='red')\n",
    "    axs[i].set_xlabel('Time in ICU (hours)', fontsize=12)\n",
    "    axs[i].set_ylabel('Blood glucose\\n(mg/dL)', fontsize=12)\n",
    "    axs[i].set_xlim(0,48)\n",
    "    axs[i].set_title(ids[i])\n",
    "    if i == 0:\n",
    "        axs[i].legend(fontsize = 'x-small')\n",
    "fig.tight_layout(rect=[0, 0.03, 1, 0.95])"
   ]
  },
  {
   "cell_type": "code",
   "execution_count": null,
   "id": "cba74869",
   "metadata": {},
   "outputs": [],
   "source": [
    "mu = [y[0] for y in y_preds]\n",
    "sig = [y[1] for y in y_preds]\n",
    "mu = np.concatenate(mu)\n",
    "sig = np.concatenate(sig)\n",
    "y_tests = np.concatenate(y_tests)"
   ]
  },
  {
   "cell_type": "code",
   "execution_count": null,
   "id": "7f46e658",
   "metadata": {},
   "outputs": [],
   "source": [
    "prob_test = scipy.stats.norm(mu, sig).cdf(y_tests)"
   ]
  },
  {
   "cell_type": "code",
   "execution_count": null,
   "id": "ebedc40e",
   "metadata": {},
   "outputs": [],
   "source": [
    "# a forecast is overdispersed if var < 0.8333 and underdispersed if var > 0.8333\n",
    "print(1/12)\n",
    "varF = np.var(prob_test[~msks])\n",
    "print('variance of probs: {:05.4f}'.format(varF))\n",
    "if varF > 1/12:\n",
    "    print(\"underdispersed\")\n",
    "else: \n",
    "    print(\"overdispersed\")"
   ]
  },
  {
   "cell_type": "code",
   "execution_count": null,
   "id": "3105835d",
   "metadata": {},
   "outputs": [],
   "source": [
    "plt.hist(prob_test[~msks], color=['#0504aa'],alpha=0.7, bins=20)\n",
    "plt.xlabel(\"Probability integral transform\")\n",
    "plt.show()"
   ]
  },
  {
   "cell_type": "code",
   "execution_count": null,
   "id": "d7f1228f",
   "metadata": {},
   "outputs": [],
   "source": [
    "prob_test[~msks]"
   ]
  },
  {
   "cell_type": "code",
   "execution_count": null,
   "id": "7fcb8502",
   "metadata": {},
   "outputs": [],
   "source": [
    "df_test['probs'] = prob_test"
   ]
  },
  {
   "cell_type": "code",
   "execution_count": null,
   "id": "8042eaaa",
   "metadata": {},
   "outputs": [],
   "source": [
    "df_test.to_csv('data/eval/test.csv',index=False)"
   ]
  },
  {
   "cell_type": "code",
   "execution_count": null,
   "id": "d3efdf51",
   "metadata": {},
   "outputs": [],
   "source": [
    "prob_test[~msks]"
   ]
  },
  {
   "cell_type": "code",
   "execution_count": null,
   "id": "28798856",
   "metadata": {},
   "outputs": [],
   "source": [
    "# quantile plot\n",
    "def calibration_plot(prob_test):\n",
    "    nbins = 20\n",
    "    x1s = plt.hist(prob_test,bins=nbins)\n",
    "    plt.close()\n",
    "    xbin = np.zeros(nbins)\n",
    "    for i in range(nbins):\n",
    "        xbin[i] = (x1s[1][i] + x1s[1][i+1])/2\n",
    "    qs = np.cumsum(x1s[0])/sum(x1s[0])\n",
    "    errors = np.sqrt(qs*(1-qs)/sum(x1s[0]))\n",
    "    plt.scatter(xbin,qs)\n",
    "    plt.errorbar(xbin, qs, yerr=2*errors, fmt='o')\n",
    "    plt.plot(np.linspace(0,1),np.linspace(0,1),'--r')\n",
    "    plt.xlabel(\"Predicted quantile\")\n",
    "    plt.ylabel(\"Empirical quantile\")\n",
    "    plt.show()\n",
    "calibration_plot(prob_test[~msks])"
   ]
  },
  {
   "cell_type": "code",
   "execution_count": null,
   "id": "8feaffc6",
   "metadata": {},
   "outputs": [],
   "source": [
    "x,y,msk,t = next(iter(dataloaders[\"test\"]))"
   ]
  },
  {
   "cell_type": "code",
   "execution_count": null,
   "id": "2ef23cdb",
   "metadata": {},
   "outputs": [],
   "source": [
    "ginv(x[:,:,0].numpy())"
   ]
  },
  {
   "cell_type": "code",
   "execution_count": null,
   "id": "aae76414",
   "metadata": {},
   "outputs": [],
   "source": [
    "t[0]"
   ]
  },
  {
   "cell_type": "code",
   "execution_count": null,
   "id": "b1b30f22",
   "metadata": {},
   "outputs": [],
   "source": [
    "x[0][0]"
   ]
  },
  {
   "cell_type": "code",
   "execution_count": null,
   "id": "66b19184",
   "metadata": {},
   "outputs": [],
   "source": [
    "x[0][0][5] = 0.0"
   ]
  },
  {
   "cell_type": "code",
   "execution_count": null,
   "id": "d0c94f38",
   "metadata": {},
   "outputs": [],
   "source": [
    "ginv(model(t.to(\"cuda\"),x.to(\"cuda\"))[0].detach().cpu().numpy())"
   ]
  },
  {
   "cell_type": "code",
   "execution_count": null,
   "id": "e45ea6a2",
   "metadata": {},
   "outputs": [],
   "source": [
    "all_features()[0:11]"
   ]
  },
  {
   "cell_type": "code",
   "execution_count": null,
   "id": "085ed54e",
   "metadata": {},
   "outputs": [],
   "source": [
    "x = x[:,0:2,:]\n",
    "t = t[:,0:2,:]"
   ]
  },
  {
   "cell_type": "code",
   "execution_count": null,
   "id": "478379db",
   "metadata": {},
   "outputs": [],
   "source": [
    "ntimes = 100\n",
    "ninsulin = 10\n",
    "x[:,1,1] = 0.0\n",
    "x[:,1,4] = 0.0\n",
    "x[:,1,2] = 0.0\n",
    "x[:,1,3] = 0.0\n",
    "res = np.zeros((10,ntimes))\n",
    "insulin = np.concatenate((np.zeros((1,1)),np.linspace(0.7,1.0,ninsulin-1).reshape(-1,1)))\n",
    "times = np.linspace(0.5,6,100)\n",
    "for i in range(ninsulin):\n",
    "    x[:,1,1] = insulin[i,:].item()\n",
    "    for j in range(ntimes):\n",
    "        t[:,1,1] = t[:,1,0] + times[j]\n",
    "        mu,sig = model(t.to(\"cuda\"),x.to(\"cuda\"))\n",
    "        res[i,j] = mu[1].detach().cpu().item()"
   ]
  },
  {
   "cell_type": "code",
   "execution_count": null,
   "id": "874445c7",
   "metadata": {},
   "outputs": [],
   "source": [
    "insulin "
   ]
  },
  {
   "cell_type": "code",
   "execution_count": null,
   "id": "40fc4f76",
   "metadata": {},
   "outputs": [],
   "source": [
    "for p in range(ninsulin):\n",
    "    plt.plot(times,ginv(res[p]))\n",
    "plt.show()"
   ]
  },
  {
   "cell_type": "code",
   "execution_count": null,
   "id": "1d283932",
   "metadata": {},
   "outputs": [],
   "source": [
    "res"
   ]
  },
  {
   "cell_type": "code",
   "execution_count": null,
   "id": "67c3fc71",
   "metadata": {},
   "outputs": [],
   "source": [
    "inject_times = df_test.loc[df_test.input_short_injection > 0,[\"timer\",\"timer_dt\"]]"
   ]
  },
  {
   "cell_type": "code",
   "execution_count": null,
   "id": "70442cfe",
   "metadata": {},
   "outputs": [],
   "source": [
    "plt.hist(inject_times.timer_dt - inject_times.timer,bins=100)\n",
    "plt.xlim(0,24)"
   ]
  },
  {
   "cell_type": "markdown",
   "id": "d5e1fa8a",
   "metadata": {},
   "source": [
    "## Predict with dropout"
   ]
  },
  {
   "cell_type": "code",
   "execution_count": null,
   "id": "5285f3b7",
   "metadata": {},
   "outputs": [],
   "source": [
    "B = 10\n",
    "res_mu = np.zeros((B,df_test.shape[0]))\n",
    "res_sig = np.zeros((B,df_test.shape[0]))\n",
    "with tqdm(total=B) as t:\n",
    "    for b in range(B):\n",
    "        loss,rmse, y_preds_b, ll,jj = model.evaluate(dataloaders[\"test\"],p=0.1,verbose=False)\n",
    "        mu_b = np.concatenate([y[0] for y in y_preds_b])\n",
    "        sig_b = np.concatenate([y[1] for y in y_preds_b])\n",
    "        res_mu[b,:] = mu_b.squeeze(1)\n",
    "        res_sig[b,:] = sig_b.squeeze(1)\n",
    "        t.update()"
   ]
  },
  {
   "cell_type": "code",
   "execution_count": null,
   "id": "af8678e8",
   "metadata": {},
   "outputs": [],
   "source": [
    "res_mu_mean = np.mean(res_mu,axis=0)\n",
    "res_sig_mean = np.median(res_sig,axis=0)"
   ]
  },
  {
   "cell_type": "code",
   "execution_count": null,
   "id": "0145ba6c",
   "metadata": {},
   "outputs": [],
   "source": [
    "dts = np.linspace(0,6,10)\n",
    "for dt in dts:\n",
    "    print('time ahead (hours): {:05.2f}'.format(dt))\n",
    "    msk = (df_test.msk==0) & (df_test.timer_dt - df_test.timer > dt)\n",
    "    res_rmse_locf = math.sqrt(np.mean((ginv(df_test.glc_dt_locf[msk]) - ginv(df_test.glc_dt[msk]))**2))\n",
    "    print(\"RMSE (locf): {:05.4f}\".format(res_rmse_locf))\n",
    "    res_rmse_model = math.sqrt(np.mean((ginv(res_mu_mean[msk]) - ginv(df_test.glc_dt[msk]))**2))\n",
    "    print(\"RMSE (model): {:05.4f}\".format(res_rmse_model))\n",
    "    print(\"{:05.4f}\".format(res_rmse_model/res_rmse_locf))"
   ]
  },
  {
   "cell_type": "code",
   "execution_count": null,
   "id": "19793f99",
   "metadata": {},
   "outputs": [],
   "source": [
    "prob_test_B = scipy.stats.norm(np.expand_dims(res_mu_mean,1), np.expand_dims(res_sig_mean,1)).cdf(y_tests)"
   ]
  },
  {
   "cell_type": "code",
   "execution_count": null,
   "id": "18752d84",
   "metadata": {},
   "outputs": [],
   "source": [
    "# a forecast is overdispersed if var < 0.8333 and underdispersed if var > 0.8333\n",
    "print(1/12)\n",
    "varF = np.var(prob_test_B[~msks])\n",
    "print('variance of probs: {:05.4f}'.format(varF))\n",
    "if varF > 1/12:\n",
    "    print(\"underdispersed\")\n",
    "else: \n",
    "    print(\"overdispersed\")"
   ]
  },
  {
   "cell_type": "code",
   "execution_count": null,
   "id": "ddd30b4d",
   "metadata": {},
   "outputs": [],
   "source": [
    "plt.hist(prob_test_B[~msks], color=['#0504aa'],alpha=0.7, bins=20)\n",
    "plt.xlabel(\"Probability integral transform\")\n",
    "plt.show()"
   ]
  },
  {
   "cell_type": "code",
   "execution_count": null,
   "id": "e57da64a",
   "metadata": {},
   "outputs": [],
   "source": [
    "# quantile plot\n",
    "def calibration_plot(prob_test):\n",
    "    nbins = 20\n",
    "    x1s = plt.hist(prob_test,bins=nbins)\n",
    "    plt.close()\n",
    "    xbin = np.zeros(nbins)\n",
    "    for i in range(nbins):\n",
    "        xbin[i] = (x1s[1][i] + x1s[1][i+1])/2\n",
    "    qs = np.cumsum(x1s[0])/sum(x1s[0])\n",
    "    errors = np.sqrt(qs*(1-qs)/sum(x1s[0]))\n",
    "    plt.scatter(xbin,qs)\n",
    "    plt.errorbar(xbin, qs, yerr=2*errors, fmt='o')\n",
    "    plt.plot(np.linspace(0,1),np.linspace(0,1),'--r')\n",
    "    plt.xlabel(\"Predicted quantile\")\n",
    "    plt.ylabel(\"Empirical quantile\")\n",
    "    plt.show()\n",
    "calibration_plot(prob_test_B[~msks])"
   ]
  },
  {
   "cell_type": "code",
   "execution_count": null,
   "id": "ae3d5b83",
   "metadata": {},
   "outputs": [],
   "source": [
    "df_test['muB'] = (res_mu_mean)\n",
    "df_test['sigB'] = (res_sig_mean)\n",
    "df_test['lower80B'] = df_test['muB'] - 1.281552*df_test['sigB']\n",
    "df_test['upper80B'] = df_test['muB'] + 1.281552*df_test['sigB']\n",
    "df_test['lower95B'] = df_test['muB'] - 1.959964*df_test['sigB']\n",
    "df_test['upper95B'] = df_test['muB'] + 1.959964*df_test['sigB']\n",
    "df_test['lower99B'] = df_test['muB'] - 3.290527*df_test['sigB']\n",
    "df_test['upper99B'] = df_test['muB'] + 3.290527*df_test['sigB']"
   ]
  },
  {
   "cell_type": "code",
   "execution_count": null,
   "id": "3a57f338",
   "metadata": {},
   "outputs": [],
   "source": [
    "res80 = sum((df_test['lower80B'] < df_test.glc_dt) & (df_test['upper80B'] > df_test.glc_dt) & (df_test.msk == 0)) / sum(df_test.msk == 0)\n",
    "res95 = sum((df_test['lower95B'] < df_test.glc_dt) & (df_test['upper95B'] > df_test.glc_dt) & (df_test.msk == 0)) / sum(df_test.msk == 0)\n",
    "res99 = sum((df_test['lower99B'] < df_test.glc_dt) & (df_test['upper99B'] > df_test.glc_dt) & (df_test.msk == 0)) / sum(df_test.msk == 0)\n",
    "print(\"coverage of 80% prediction interval: {:05.4f}\".format(res80))\n",
    "print(\"coverage of 95% prediction interval: {:05.4f}\".format(res95))\n",
    "print(\"coverage of 99% prediction interval: {:05.4f}\".format(res99))"
   ]
  },
  {
   "cell_type": "code",
   "execution_count": null,
   "id": "d05e8bf2",
   "metadata": {},
   "outputs": [],
   "source": [
    "print(\"interval coverage when hypoglycaemia region...\")\n",
    "_msk_ = (df_test.msk == 0) & (ginv(df_test.glc_dt) < 70)\n",
    "res80 = sum((df_test['lower80B'] < df_test.glc_dt) & (df_test['upper80B'] > df_test.glc_dt) & _msk_) / sum(_msk_)\n",
    "res95 = sum((df_test['lower95B'] < df_test.glc_dt) & (df_test['upper95B'] > df_test.glc_dt) & _msk_) / sum(_msk_)\n",
    "res99 = sum((df_test['lower99B'] < df_test.glc_dt) & (df_test['upper99B'] > df_test.glc_dt) & _msk_) / sum(_msk_)\n",
    "print(\"coverage of 80% prediction interval: {:05.4f}\".format(res80))\n",
    "print(\"coverage of 95% prediction interval: {:05.4f}\".format(res95))\n",
    "print(\"coverage of 99% prediction interval: {:05.4f}\".format(res99))"
   ]
  },
  {
   "cell_type": "code",
   "execution_count": null,
   "id": "e6385f67",
   "metadata": {},
   "outputs": [],
   "source": [
    "dts = np.linspace(0,6,10)\n",
    "for dt in dts:\n",
    "    print(\"interval coverage when hypoglycaemia region...\")\n",
    "    print('time ahead (hours): {:05.2f}'.format(dt))\n",
    "    _msk_ = (df_test.msk == 0) & (ginv(df_test.glc_dt) < 70) & (df_test.dt > dt)\n",
    "    res80 = sum((df_test['lower80B'] < df_test.glc_dt) & (df_test['upper80B'] > df_test.glc_dt) & _msk_) / sum(_msk_)\n",
    "    res95 = sum((df_test['lower95B'] < df_test.glc_dt) & (df_test['upper95B'] > df_test.glc_dt) & _msk_) / sum(_msk_)\n",
    "    res99 = sum((df_test['lower99B'] < df_test.glc_dt) & (df_test['upper99B'] > df_test.glc_dt) & _msk_) / sum(_msk_)\n",
    "    print(\"coverage of 80% prediction interval: {:05.4f}\".format(res80))\n",
    "    print(\"coverage of 95% prediction interval: {:05.4f}\".format(res95))\n",
    "    print(\"coverage of 99% prediction interval: {:05.4f}\".format(res99))"
   ]
  },
  {
   "cell_type": "code",
   "execution_count": null,
   "id": "1e974121",
   "metadata": {},
   "outputs": [],
   "source": [
    "model(torch.randn(1,1,4),torch.rand(1,1))"
   ]
  },
  {
   "cell_type": "code",
   "execution_count": null,
   "id": "17138c4d",
   "metadata": {},
   "outputs": [],
   "source": [
    "# injection \tinput_hrs \tinput \tglc\n",
    "x_ = torch.tensor([0.,0.,0.,glc_transform(np.array(200.0))]).unsqueeze(0).unsqueeze(0).float()\n",
    "dt_ = torch.tensor([1.0]).unsqueeze(0).float()\n",
    "ys_ = model(x_,dt_)\n",
    "ginv(ys_[0].detach().cpu().numpy())"
   ]
  },
  {
   "cell_type": "code",
   "execution_count": null,
   "id": "4870ce8e",
   "metadata": {},
   "outputs": [],
   "source": [
    "x_ = torch.tensor([0.,12.,0.,glc_transform(np.array(200.0))]).unsqueeze(0).unsqueeze(0).float()\n",
    "dt_ = torch.tensor([1.0]).unsqueeze(0).float()\n",
    "ys_ = model(x_,dt_)\n",
    "ginv(ys_[0].detach().cpu().numpy())"
   ]
  },
  {
   "cell_type": "code",
   "execution_count": null,
   "id": "0d240702",
   "metadata": {},
   "outputs": [],
   "source": [
    "x_ = torch.tensor([1.,0.,20.,glc_transform(np.array(200.0))]).unsqueeze(0).unsqueeze(0).float()\n",
    "dt_ = torch.tensor([1.0]).unsqueeze(0).float()\n",
    "ys_ = model(x_,dt_)\n",
    "ginv(ys_[0].detach().cpu().numpy())"
   ]
  },
  {
   "cell_type": "code",
   "execution_count": null,
   "id": "140ea5ae",
   "metadata": {},
   "outputs": [],
   "source": [
    "x_ = torch.tensor(np.array(([1.,0.,4.,0.],[1.,0.,4.,0.]))).unsqueeze(0).float()\n",
    "dt_ = torch.tensor(np.array(([2.0],[2.0]))).unsqueeze(0).unsqueeze(0).float()\n",
    "ys_ = model(x_,dt_)\n",
    "ginv(ys_[0].detach().numpy())"
   ]
  },
  {
   "cell_type": "code",
   "execution_count": null,
   "id": "05879efc",
   "metadata": {},
   "outputs": [],
   "source": [
    "FEATURE_VARS = [\"injection\",\"input_hrs\",\"input\",\"glc\"]"
   ]
  },
  {
   "cell_type": "code",
   "execution_count": null,
   "id": "f2348f3b",
   "metadata": {},
   "outputs": [],
   "source": [
    "torch.tensor(np.array(([1.,0.,4.,0.],[1.,0.,4.,0.]))).shape"
   ]
  },
  {
   "cell_type": "code",
   "execution_count": null,
   "id": "5b1fef1e",
   "metadata": {},
   "outputs": [],
   "source": [
    "x_ = torch.tensor(np.array(([0.,0.,0.,glc_transform(np.array(150.0))],[0.,10.,0.,0.]))).float()\n",
    "dt_ = torch.tensor(np.array(([2354.],[0.4]))).float()\n",
    "ys_ = model(x_,dt_)\n"
   ]
  },
  {
   "cell_type": "code",
   "execution_count": null,
   "id": "bbbdfa4b",
   "metadata": {},
   "outputs": [],
   "source": [
    "ginv(ys_[0].detach().numpy())"
   ]
  },
  {
   "cell_type": "code",
   "execution_count": null,
   "id": "3ee865b8",
   "metadata": {},
   "outputs": [],
   "source": []
  }
 ],
 "metadata": {
  "environment": {
   "name": "pytorch-gpu.1-9.m75",
   "type": "gcloud",
   "uri": "gcr.io/deeplearning-platform-release/pytorch-gpu.1-9:m75"
  },
  "kernelspec": {
   "display_name": "Python 3",
   "language": "python",
   "name": "python3"
  },
  "language_info": {
   "codemirror_mode": {
    "name": "ipython",
    "version": 3
   },
   "file_extension": ".py",
   "mimetype": "text/x-python",
   "name": "python",
   "nbconvert_exporter": "python",
   "pygments_lexer": "ipython3",
   "version": "3.7.10"
  }
 },
 "nbformat": 4,
 "nbformat_minor": 5
}
