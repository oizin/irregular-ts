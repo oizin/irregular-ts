{
 "cells": [
  {
   "cell_type": "markdown",
   "metadata": {},
   "source": [
    "A look at the data..."
   ]
  },
  {
   "cell_type": "code",
   "execution_count": 1,
   "metadata": {},
   "outputs": [],
   "source": [
    "import  os\n",
    "import yaml\n",
    "import pandas as pd\n",
    "import matplotlib.pyplot as plt \n",
    "from google.cloud import bigquery\n",
    "import numpy as np"
   ]
  },
  {
   "cell_type": "code",
   "execution_count": 2,
   "metadata": {},
   "outputs": [],
   "source": [
    "client = bigquery.Client()"
   ]
  },
  {
   "cell_type": "code",
   "execution_count": 3,
   "metadata": {},
   "outputs": [],
   "source": [
    "# TODO: fix this\n",
    "with open(os.path.expanduser(\"~/.dbt/profiles.yml\"), \"r\") as stream:\n",
    "    profiles = yaml.safe_load(stream)\n",
    "PROJECT = profiles['mimic']['outputs']['dev']['project']\n",
    "DATA = profiles['mimic']['outputs']['dev']['schema']"
   ]
  },
  {
   "cell_type": "code",
   "execution_count": 4,
   "metadata": {},
   "outputs": [
    {
     "name": "stdout",
     "output_type": "stream",
     "text": [
      "(828111, 45)\n"
     ]
    }
   ],
   "source": [
    "# Download data.\n",
    "query_string = \"\"\"\n",
    "SELECT *\n",
    "FROM `{}.{}.insulin_glucose_nutrition`\n",
    "ORDER BY stay_id,timer\n",
    "\"\"\".format(PROJECT,DATA)\n",
    "\n",
    "df = (\n",
    "    client.query(query_string)\n",
    "    .result()\n",
    "    .to_dataframe(\n",
    "        create_bqstorage_client=True,\n",
    "    )\n",
    ")\n",
    "df = df.loc[~df.stay_id.isnull(),:]\n",
    "print(df.shape)"
   ]
  },
  {
   "cell_type": "code",
   "execution_count": 5,
   "metadata": {},
   "outputs": [
    {
     "name": "stdout",
     "output_type": "stream",
     "text": [
      "Index(['subject_id', 'hadm_id', 'stay_id', 'timer', 'timer_next', 'timer_prev',\n",
      "       'glc', 'glc_next', 'glc_lab', 'glctimer', 'glcsource',\n",
      "       'input_bolus_push', 'input_bolus_injection', 'input_hrs', 'starttime',\n",
      "       'endtime', 'gender', 'diabetes_without_cc', 'diabetes_with_cc',\n",
      "       'weight', 'dod', 'admittime', 'dischtime', 'los_hospital',\n",
      "       'admission_age', 'ethnicity', 'hospital_expire_flag', 'hospstay_seq',\n",
      "       'first_hosp_stay', 'icu_intime', 'icu_outtime', 'los_icu',\n",
      "       'icustay_seq', 'first_icu_stay', 'enteral_rate', 'cho_enteral',\n",
      "       'dextrose_enteral', 'fat_enteral', 'protein_enteral', 'fibre_enteral',\n",
      "       'calorie_enteral', 'ent_starttime', 'ent_endtime', 'tpn_rate',\n",
      "       'dextrose_fluid'],\n",
      "      dtype='object')\n"
     ]
    }
   ],
   "source": [
    "df.columns = df.columns.str.lower()\n",
    "print(df.columns)"
   ]
  },
  {
   "cell_type": "code",
   "execution_count": 6,
   "metadata": {},
   "outputs": [],
   "source": [
    "df['delta_t'] = (df.timer_next - df.timer).astype('timedelta64[m]')/60.0"
   ]
  },
  {
   "cell_type": "code",
   "execution_count": 7,
   "metadata": {},
   "outputs": [],
   "source": [
    "# cumulative count\n",
    "df['n'] = df.groupby(['stay_id']).cumcount().add(1)"
   ]
  },
  {
   "cell_type": "code",
   "execution_count": 8,
   "metadata": {},
   "outputs": [
    {
     "name": "stdout",
     "output_type": "stream",
     "text": [
      "(822124, 47)\n"
     ]
    }
   ],
   "source": [
    "# drop if only 1 glucose measure\n",
    "df_n_glc = df.groupby('stay_id')['glc'].count()\n",
    "df_n_glc = df_n_glc.to_frame('n_glc')\n",
    "remove_stay_ids = df_n_glc.loc[df_n_glc.n_glc <= 1,:].index\n",
    "df = df.loc[~df.stay_id.isin(remove_stay_ids),:]\n",
    "print(df.shape)"
   ]
  },
  {
   "cell_type": "code",
   "execution_count": 9,
   "metadata": {},
   "outputs": [
    {
     "name": "stdout",
     "output_type": "stream",
     "text": [
      "44337\n",
      "2002\n",
      "186\n",
      "21\n",
      "3\n",
      "1\n",
      "0\n",
      "(775574, 47)\n"
     ]
    }
   ],
   "source": [
    "# delete rows where final measures are missing\n",
    "n = df.shape[0]\n",
    "n_delete = 999\n",
    "while n_delete > 0:\n",
    "    df_N = df.groupby('stay_id').size()\n",
    "    df_N = df_N.to_frame('N')\n",
    "    df_N = df_N.reset_index(level=0)\n",
    "    df = df.merge(df_N,left_on='stay_id',right_on='stay_id')\n",
    "    df = df.loc[~((df.N == df.n) & df.glc_next.isnull()),:]\n",
    "    df.drop(columns='N',inplace=True)\n",
    "    n_new = df.shape[0]\n",
    "    n_delete = n - n_new\n",
    "    print(n_delete)\n",
    "    n = n_new\n",
    "print(df.shape)"
   ]
  },
  {
   "cell_type": "code",
   "execution_count": 10,
   "metadata": {},
   "outputs": [],
   "source": [
    "# drop if before first glucose\n",
    "df['msk0'] = 1.0*(df['glc'].isnull())\n",
    "df['sum_msk0'] = df.groupby('stay_id')['msk0'].cumsum()\n",
    "df = df.loc[~(df.sum_msk0 == df.n),:]\n",
    "# redo cumulative count\n",
    "df.drop(columns=['n'],inplace=True)\n",
    "df['n'] = df.groupby(['stay_id']).cumcount().add(1)"
   ]
  },
  {
   "cell_type": "code",
   "execution_count": 11,
   "metadata": {},
   "outputs": [
    {
     "data": {
      "text/html": [
       "<div>\n",
       "<style scoped>\n",
       "    .dataframe tbody tr th:only-of-type {\n",
       "        vertical-align: middle;\n",
       "    }\n",
       "\n",
       "    .dataframe tbody tr th {\n",
       "        vertical-align: top;\n",
       "    }\n",
       "\n",
       "    .dataframe thead th {\n",
       "        text-align: right;\n",
       "    }\n",
       "</style>\n",
       "<table border=\"1\" class=\"dataframe\">\n",
       "  <thead>\n",
       "    <tr style=\"text-align: right;\">\n",
       "      <th></th>\n",
       "      <th>subject_id</th>\n",
       "      <th>hadm_id</th>\n",
       "      <th>stay_id</th>\n",
       "      <th>timer</th>\n",
       "      <th>timer_next</th>\n",
       "      <th>timer_prev</th>\n",
       "      <th>glc</th>\n",
       "      <th>glc_next</th>\n",
       "      <th>glc_lab</th>\n",
       "      <th>glctimer</th>\n",
       "      <th>...</th>\n",
       "      <th>fibre_enteral</th>\n",
       "      <th>calorie_enteral</th>\n",
       "      <th>ent_starttime</th>\n",
       "      <th>ent_endtime</th>\n",
       "      <th>tpn_rate</th>\n",
       "      <th>dextrose_fluid</th>\n",
       "      <th>delta_t</th>\n",
       "      <th>msk0</th>\n",
       "      <th>sum_msk0</th>\n",
       "      <th>n</th>\n",
       "    </tr>\n",
       "  </thead>\n",
       "  <tbody>\n",
       "  </tbody>\n",
       "</table>\n",
       "<p>0 rows × 49 columns</p>\n",
       "</div>"
      ],
      "text/plain": [
       "Empty DataFrame\n",
       "Columns: [subject_id, hadm_id, stay_id, timer, timer_next, timer_prev, glc, glc_next, glc_lab, glctimer, glcsource, input_bolus_push, input_bolus_injection, input_hrs, starttime, endtime, gender, diabetes_without_cc, diabetes_with_cc, weight, dod, admittime, dischtime, los_hospital, admission_age, ethnicity, hospital_expire_flag, hospstay_seq, first_hosp_stay, icu_intime, icu_outtime, los_icu, icustay_seq, first_icu_stay, enteral_rate, cho_enteral, dextrose_enteral, fat_enteral, protein_enteral, fibre_enteral, calorie_enteral, ent_starttime, ent_endtime, tpn_rate, dextrose_fluid, delta_t, msk0, sum_msk0, n]\n",
       "Index: []\n",
       "\n",
       "[0 rows x 49 columns]"
      ]
     },
     "execution_count": 11,
     "metadata": {},
     "output_type": "execute_result"
    }
   ],
   "source": [
    "df.loc[df.delta_t == 0.0,:]"
   ]
  },
  {
   "cell_type": "code",
   "execution_count": 12,
   "metadata": {},
   "outputs": [
    {
     "data": {
      "image/png": "[encoded data removed]",
      "text/plain": [
       "<Figure size 432x288 with 1 Axes>"
      ]
     },
     "metadata": {
      "needs_background": "light"
     },
     "output_type": "display_data"
    },
    {
     "data": {
      "image/png": "[encoded data removed]",
      "text/plain": [
       "<Figure size 432x288 with 1 Axes>"
      ]
     },
     "metadata": {
      "needs_background": "light"
     },
     "output_type": "display_data"
    },
    {
     "data": {
      "image/png": "[encoded data removed]",
      "text/plain": [
       "<Figure size 432x288 with 1 Axes>"
      ]
     },
     "metadata": {
      "needs_background": "light"
     },
     "output_type": "display_data"
    }
   ],
   "source": [
    "for t in [24.0,7.0,1.0]:\n",
    "    plt.hist(df.loc[df.delta_t < t,:].delta_t,bins=30)\n",
    "    plt.title(\"time between measurements <{} hours\".format(t))\n",
    "    plt.xlabel(\"time (hours)\")\n",
    "    plt.show()"
   ]
  },
  {
   "cell_type": "markdown",
   "metadata": {},
   "source": [
    "### Scaling of treatment"
   ]
  },
  {
   "cell_type": "code",
   "execution_count": null,
   "metadata": {},
   "outputs": [],
   "source": []
  },
  {
   "cell_type": "code",
   "execution_count": 50,
   "metadata": {},
   "outputs": [],
   "source": [
    "df.loc[df.input_hrs > 50,'input_hrs'] = np.median(df.input_hrs[df.input_hrs > 0])\n",
    "df.loc[df.input_bolus_injection > 50,'input_bolus_injection'] = np.median(df.input_bolus_injection[df.input_bolus_injection > 0])\n",
    "df.loc[df.input_bolus_push > 50,'input_bolus_push'] = np.median(df.input_bolus_push[df.input_bolus_push > 0])"
   ]
  },
  {
   "cell_type": "code",
   "execution_count": 56,
   "metadata": {},
   "outputs": [
    {
     "data": {
      "image/png": "[encoded data removed]",
      "text/plain": [
       "<Figure size 432x288 with 1 Axes>"
      ]
     },
     "metadata": {
      "needs_background": "light"
     },
     "output_type": "display_data"
    },
    {
     "data": {
      "image/png": "[encoded data removed]",
      "text/plain": [
       "<Figure size 432x288 with 1 Axes>"
      ]
     },
     "metadata": {
      "needs_background": "light"
     },
     "output_type": "display_data"
    }
   ],
   "source": [
    "plt.hist(df.loc[df.input_bolus_push > 0.0,'input_bolus_push'],bins=50)\n",
    "plt.show()\n",
    "plt.hist(df.loc[df.input_bolus_push > 0.0,'input_bolus_push'] / 20.0,bins=50)\n",
    "plt.show()"
   ]
  },
  {
   "cell_type": "code",
   "execution_count": 54,
   "metadata": {},
   "outputs": [
    {
     "data": {
      "image/png": "[encoded data removed]",
      "text/plain": [
       "<Figure size 432x288 with 1 Axes>"
      ]
     },
     "metadata": {
      "needs_background": "light"
     },
     "output_type": "display_data"
    },
    {
     "data": {
      "image/png": "[encoded data removed]",
      "text/plain": [
       "<Figure size 432x288 with 1 Axes>"
      ]
     },
     "metadata": {
      "needs_background": "light"
     },
     "output_type": "display_data"
    }
   ],
   "source": [
    "plt.hist(df.loc[df.input_bolus_injection > 0.0,'input_bolus_injection'],bins=50)\n",
    "plt.show()\n",
    "plt.hist(df.loc[df.input_bolus_injection > 0.0,'input_bolus_injection'] / 30.0,bins=50)\n",
    "plt.show()"
   ]
  },
  {
   "cell_type": "code",
   "execution_count": 47,
   "metadata": {},
   "outputs": [
    {
     "data": {
      "image/png": "[encoded data removed]",
      "text/plain": [
       "<Figure size 432x288 with 1 Axes>"
      ]
     },
     "metadata": {
      "needs_background": "light"
     },
     "output_type": "display_data"
    },
    {
     "data": {
      "image/png": "[encoded data removed]",
      "text/plain": [
       "<Figure size 432x288 with 1 Axes>"
      ]
     },
     "metadata": {
      "needs_background": "light"
     },
     "output_type": "display_data"
    }
   ],
   "source": [
    "# scale insulin variables\n",
    "plt.hist(df.loc[df.input_hrs > 0.0,'input_hrs'],bins=50)\n",
    "plt.show()\n",
    "plt.hist(df.loc[df.input_hrs > 0.0,'input_hrs']/30.0,bins=50)\n",
    "plt.show()"
   ]
  },
  {
   "cell_type": "code",
   "execution_count": 13,
   "metadata": {},
   "outputs": [],
   "source": [
    "df['gender_m'] = 1.0*(df['gender'] == 'M')"
   ]
  },
  {
   "cell_type": "markdown",
   "metadata": {},
   "source": [
    "### Variable creation"
   ]
  },
  {
   "cell_type": "code",
   "execution_count": 14,
   "metadata": {},
   "outputs": [
    {
     "name": "stdout",
     "output_type": "stream",
     "text": [
      "46193.0\n"
     ]
    }
   ],
   "source": [
    "df['msk'] = 1.0*(df['glc_next'].isnull())\n",
    "print(sum(df['msk']))"
   ]
  },
  {
   "cell_type": "code",
   "execution_count": 15,
   "metadata": {},
   "outputs": [],
   "source": [
    "df['timer_d'] = (df.timer - df.icu_intime).astype('timedelta64[m]')/60.0\n",
    "df['timer_next_d'] = (df.timer_next - df.icu_intime).astype('timedelta64[m]')/60.0"
   ]
  },
  {
   "cell_type": "code",
   "execution_count": null,
   "metadata": {},
   "outputs": [],
   "source": []
  },
  {
   "cell_type": "markdown",
   "metadata": {},
   "source": [
    "### imputations"
   ]
  },
  {
   "cell_type": "code",
   "execution_count": 16,
   "metadata": {},
   "outputs": [],
   "source": [
    "df['glc'] = df.groupby('stay_id')['glc'].apply(lambda x: x.fillna(x.interpolate()))\n",
    "df['glc'] = df.groupby('stay_id')['glc'].apply(lambda x: x.fillna(x.interpolate(limit=2, limit_direction='backward')))"
   ]
  },
  {
   "cell_type": "code",
   "execution_count": 17,
   "metadata": {},
   "outputs": [
    {
     "name": "stdout",
     "output_type": "stream",
     "text": [
      "0\n"
     ]
    }
   ],
   "source": [
    "print(sum(df.glc.isnull()))"
   ]
  },
  {
   "cell_type": "code",
   "execution_count": 18,
   "metadata": {},
   "outputs": [
    {
     "data": {
      "text/html": [
       "<div>\n",
       "<style scoped>\n",
       "    .dataframe tbody tr th:only-of-type {\n",
       "        vertical-align: middle;\n",
       "    }\n",
       "\n",
       "    .dataframe tbody tr th {\n",
       "        vertical-align: top;\n",
       "    }\n",
       "\n",
       "    .dataframe thead th {\n",
       "        text-align: right;\n",
       "    }\n",
       "</style>\n",
       "<table border=\"1\" class=\"dataframe\">\n",
       "  <thead>\n",
       "    <tr style=\"text-align: right;\">\n",
       "      <th></th>\n",
       "      <th>subject_id</th>\n",
       "      <th>hadm_id</th>\n",
       "      <th>stay_id</th>\n",
       "      <th>timer</th>\n",
       "      <th>timer_next</th>\n",
       "      <th>timer_prev</th>\n",
       "      <th>glc</th>\n",
       "      <th>glc_next</th>\n",
       "      <th>glc_lab</th>\n",
       "      <th>glctimer</th>\n",
       "      <th>...</th>\n",
       "      <th>tpn_rate</th>\n",
       "      <th>dextrose_fluid</th>\n",
       "      <th>delta_t</th>\n",
       "      <th>msk0</th>\n",
       "      <th>sum_msk0</th>\n",
       "      <th>n</th>\n",
       "      <th>gender_m</th>\n",
       "      <th>msk</th>\n",
       "      <th>timer_d</th>\n",
       "      <th>timer_next_d</th>\n",
       "    </tr>\n",
       "  </thead>\n",
       "  <tbody>\n",
       "  </tbody>\n",
       "</table>\n",
       "<p>0 rows × 53 columns</p>\n",
       "</div>"
      ],
      "text/plain": [
       "Empty DataFrame\n",
       "Columns: [subject_id, hadm_id, stay_id, timer, timer_next, timer_prev, glc, glc_next, glc_lab, glctimer, glcsource, input_bolus_push, input_bolus_injection, input_hrs, starttime, endtime, gender, diabetes_without_cc, diabetes_with_cc, weight, dod, admittime, dischtime, los_hospital, admission_age, ethnicity, hospital_expire_flag, hospstay_seq, first_hosp_stay, icu_intime, icu_outtime, los_icu, icustay_seq, first_icu_stay, enteral_rate, cho_enteral, dextrose_enteral, fat_enteral, protein_enteral, fibre_enteral, calorie_enteral, ent_starttime, ent_endtime, tpn_rate, dextrose_fluid, delta_t, msk0, sum_msk0, n, gender_m, msk, timer_d, timer_next_d]\n",
       "Index: []\n",
       "\n",
       "[0 rows x 53 columns]"
      ]
     },
     "execution_count": 18,
     "metadata": {},
     "output_type": "execute_result"
    }
   ],
   "source": [
    "df.loc[df.glc.isnull(),:]"
   ]
  },
  {
   "cell_type": "code",
   "execution_count": 19,
   "metadata": {},
   "outputs": [],
   "source": [
    "fillzero_vars = ['input_bolus_push','input_bolus_injection','input_hrs',\n",
    "            'enteral_rate','cho_enteral','dextrose_enteral','fat_enteral',\n",
    "            'protein_enteral','fibre_enteral','calorie_enteral','tpn_rate',\n",
    "            'dextrose_fluid']\n",
    "for var in fillzero_vars:\n",
    "    df[var] = df[var].fillna(0)"
   ]
  },
  {
   "cell_type": "markdown",
   "metadata": {},
   "source": [
    "### Statistics"
   ]
  },
  {
   "cell_type": "code",
   "execution_count": 20,
   "metadata": {},
   "outputs": [
    {
     "name": "stdout",
     "output_type": "stream",
     "text": [
      "number of ICU stays: 44337\n",
      "number of hospital stays: 40954\n",
      "number of patients: 33560\n"
     ]
    }
   ],
   "source": [
    "print(\"number of ICU stays:\",len(df.stay_id.unique()))\n",
    "print(\"number of hospital stays:\",len(df.hadm_id.unique()))\n",
    "print(\"number of patients:\",len(df.subject_id.unique()))"
   ]
  },
  {
   "cell_type": "code",
   "execution_count": 21,
   "metadata": {},
   "outputs": [
    {
     "name": "stdout",
     "output_type": "stream",
     "text": [
      "median age: 67.0\n"
     ]
    }
   ],
   "source": [
    "print(\"median age:\",df.groupby('stay_id').admission_age.min().median())"
   ]
  },
  {
   "cell_type": "code",
   "execution_count": 22,
   "metadata": {},
   "outputs": [
    {
     "name": "stdout",
     "output_type": "stream",
     "text": [
      "diabetes (uncomplicated): 13780\n",
      "diabetes (complicated): 6162\n"
     ]
    }
   ],
   "source": [
    "print(\"diabetes (uncomplicated):\",df.groupby('hadm_id').diabetes_without_cc.max().sum())\n",
    "print(\"diabetes (complicated):\",df.groupby('hadm_id').diabetes_with_cc.max().sum())"
   ]
  },
  {
   "cell_type": "code",
   "execution_count": 23,
   "metadata": {},
   "outputs": [
    {
     "name": "stdout",
     "output_type": "stream",
     "text": [
      "no change prediction: 42.62244031429739\n"
     ]
    }
   ],
   "source": [
    "print('no change prediction: {}'.format(np.sqrt(np.mean((df.glc - df.glc_next)**2))))"
   ]
  },
  {
   "cell_type": "code",
   "execution_count": 24,
   "metadata": {},
   "outputs": [
    {
     "data": {
      "image/png": "[encoded data removed]",
      "text/plain": [
       "<Figure size 432x288 with 1 Axes>"
      ]
     },
     "metadata": {
      "needs_background": "light"
     },
     "output_type": "display_data"
    }
   ],
   "source": [
    "plt.hist(df.glc - df.glc_next,bins=60)\n",
    "plt.xlim(-250,250)\n",
    "plt.xlabel('Change in blood glucose mg/dL')\n",
    "plt.show()"
   ]
  },
  {
   "cell_type": "code",
   "execution_count": 25,
   "metadata": {},
   "outputs": [
    {
     "data": {
      "image/png": "[encoded data removed]",
      "text/plain": [
       "<Figure size 432x288 with 1 Axes>"
      ]
     },
     "metadata": {
      "needs_background": "light"
     },
     "output_type": "display_data"
    }
   ],
   "source": [
    "plt.hist(np.log(df.glc) - 5,bins=60)\n",
    "plt.xlim(-2,2)\n",
    "plt.xlabel('Log blood glucose mg/dL')\n",
    "plt.show()"
   ]
  },
  {
   "cell_type": "markdown",
   "metadata": {},
   "source": [
    "### Save"
   ]
  },
  {
   "cell_type": "code",
   "execution_count": 26,
   "metadata": {},
   "outputs": [],
   "source": [
    "df.to_csv('../data/mimic.csv',index_label='rn')"
   ]
  },
  {
   "cell_type": "code",
   "execution_count": null,
   "metadata": {},
   "outputs": [],
   "source": []
  }
 ],
 "metadata": {
  "interpreter": {
   "hash": "ecc1c50628902f08c75493490d20a97c4c3cb59d2babb20057f178e65cae767f"
  },
  "kernelspec": {
   "display_name": "Python 3.8.12 ('base')",
   "language": "python",
   "name": "python3"
  },
  "language_info": {
   "codemirror_mode": {
    "name": "ipython",
    "version": 3
   },
   "file_extension": ".py",
   "mimetype": "text/x-python",
   "name": "python",
   "nbconvert_exporter": "python",
   "pygments_lexer": "ipython3",
   "version": "3.8.12"
  },
  "orig_nbformat": 4
 },
 "nbformat": 4,
 "nbformat_minor": 2
}
