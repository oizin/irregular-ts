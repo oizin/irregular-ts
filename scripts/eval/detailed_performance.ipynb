{
 "cells": [],
 "metadata": {
  "environment": {
   "name": "pytorch-gpu.1-9.m75",
   "type": "gcloud",
   "uri": "gcr.io/deeplearning-platform-release/pytorch-gpu.1-9:m75"
  }
 },
 "nbformat": 4,
 "nbformat_minor": 5
}
