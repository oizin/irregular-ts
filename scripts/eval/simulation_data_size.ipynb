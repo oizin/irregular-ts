{
 "cells": [
  {
   "cell_type": "code",
   "execution_count": 3,
   "id": "197f459f",
   "metadata": {},
   "outputs": [],
   "source": [
    "import sys\n",
    "sys.path.append(\"../..\") "
   ]
  },
  {
   "cell_type": "code",
   "execution_count": 4,
   "id": "549fdba3",
   "metadata": {},
   "outputs": [],
   "source": [
    "import glob,os\n",
    "import pandas as pd\n",
    "import matplotlib.pyplot as plt\n",
    "import torch\n",
    "import seaborn as sns\n",
    "import numpy as np"
   ]
  },
  {
   "cell_type": "code",
   "execution_count": 5,
   "id": "16c2378f",
   "metadata": {},
   "outputs": [],
   "source": [
    "# args\n",
    "RES_PATH = \"../../experiments/simulations/data_size/\""
   ]
  },
  {
   "cell_type": "code",
   "execution_count": 14,
   "id": "830ede3f",
   "metadata": {},
   "outputs": [],
   "source": [
    "def get_metrics_from_folder(path):\n",
    "    df_tests = []\n",
    "    for folder in os.listdir(path):\n",
    "        if folder.startswith('.') == False:\n",
    "            pathm = os.path.join(path, folder, \"metrics.csv\")\n",
    "            pathc = os.path.join(path, folder, \"checkpoints/\")\n",
    "            paths = os.path.join(path, folder, \"settings.csv\")\n",
    "            # model name:\n",
    "            for _, _, files in os.walk(pathc):\n",
    "                file = [f for f in files if f.endswith('.ckpt')][0]\n",
    "                chk_path = os.path.join(pathc,file)\n",
    "            checkpoint = torch.load(chk_path)\n",
    "            model_name = checkpoint[\"hyper_parameters\"]['net']\n",
    "            hidden_dim_t = checkpoint[\"hyper_parameters\"]['hidden_dims']\n",
    "            # sim settings\n",
    "            settings = pd.read_csv(paths)\n",
    "            # model results:\n",
    "            df = pd.read_csv(pathm)\n",
    "            df_test = df.loc[:,df.columns.str.startswith('test') | df.columns.str.startswith('int')]\n",
    "            df_test = df_test.dropna()\n",
    "            df_test.loc[:,'model'] = model_name\n",
    "            df_test.loc[:,'N'] = settings.N.item()\n",
    "            df_tests.append(df_test)\n",
    "        df_test = pd.concat(df_tests, axis=0)\n",
    "    return df_test"
   ]
  },
  {
   "cell_type": "code",
   "execution_count": 15,
   "id": "d9d2940a",
   "metadata": {},
   "outputs": [
    {
     "name": "stdout",
     "output_type": "stream",
     "text": [
      "{'hidden_dim_t': 10, 'hidden_dim_0': 0}\n",
      "{'hidden_dim_t': 10, 'hidden_dim_0': 0}\n",
      "{'hidden_dim_t': 10, 'hidden_dim_0': 0}\n",
      "{'hidden_dim_t': 10, 'hidden_dim_0': 0}\n",
      "{'hidden_dim_t': 10, 'hidden_dim_0': 0}\n",
      "{'hidden_dim_t': 10, 'hidden_dim_0': 0}\n",
      "{'hidden_dim_t': 10, 'hidden_dim_0': 0}\n",
      "{'hidden_dim_t': 10, 'hidden_dim_0': 0}\n",
      "{'hidden_dim_t': 10, 'hidden_dim_0': 0}\n",
      "{'hidden_dim_t': 10, 'hidden_dim_0': 0}\n",
      "{'hidden_dim_t': 10, 'hidden_dim_0': 0}\n",
      "{'hidden_dim_t': 10, 'hidden_dim_0': 0}\n"
     ]
    }
   ],
   "source": [
    "df_test = get_metrics_from_folder(RES_PATH)"
   ]
  },
  {
   "cell_type": "code",
   "execution_count": 6,
   "id": "c6e12ff5",
   "metadata": {},
   "outputs": [],
   "source": [
    "df_test.test_loss_pred = np.sqrt(df_test.test_loss_pred)\n",
    "df_test.test_loss_update = np.sqrt(df_test.test_loss_update)"
   ]
  },
  {
   "cell_type": "code",
   "execution_count": 7,
   "id": "e57bc09c",
   "metadata": {},
   "outputs": [
    {
     "data": {
      "text/html": [
       "<div>\n",
       "<style scoped>\n",
       "    .dataframe tbody tr th:only-of-type {\n",
       "        vertical-align: middle;\n",
       "    }\n",
       "\n",
       "    .dataframe tbody tr th {\n",
       "        vertical-align: top;\n",
       "    }\n",
       "\n",
       "    .dataframe thead th {\n",
       "        text-align: right;\n",
       "    }\n",
       "</style>\n",
       "<table border=\"1\" class=\"dataframe\">\n",
       "  <thead>\n",
       "    <tr style=\"text-align: right;\">\n",
       "      <th></th>\n",
       "      <th>test_loss</th>\n",
       "      <th>test_loss_pred</th>\n",
       "      <th>test_loss_update</th>\n",
       "      <th>test_rmse</th>\n",
       "      <th>model</th>\n",
       "      <th>N</th>\n",
       "    </tr>\n",
       "  </thead>\n",
       "  <tbody>\n",
       "    <tr>\n",
       "      <th>511</th>\n",
       "      <td>0.001999</td>\n",
       "      <td>0.044301</td>\n",
       "      <td>0.019200</td>\n",
       "      <td>0.044301</td>\n",
       "      <td>ctGRUModel</td>\n",
       "      <td>5000</td>\n",
       "    </tr>\n",
       "    <tr>\n",
       "      <th>1485</th>\n",
       "      <td>0.001974</td>\n",
       "      <td>0.043996</td>\n",
       "      <td>0.019492</td>\n",
       "      <td>0.043996</td>\n",
       "      <td>neuralJumpModel</td>\n",
       "      <td>20000</td>\n",
       "    </tr>\n",
       "    <tr>\n",
       "      <th>1265</th>\n",
       "      <td>0.001929</td>\n",
       "      <td>0.043652</td>\n",
       "      <td>0.015209</td>\n",
       "      <td>0.043652</td>\n",
       "      <td>ctRNNModel</td>\n",
       "      <td>20000</td>\n",
       "    </tr>\n",
       "    <tr>\n",
       "      <th>672</th>\n",
       "      <td>0.001984</td>\n",
       "      <td>0.044101</td>\n",
       "      <td>0.019672</td>\n",
       "      <td>0.044101</td>\n",
       "      <td>ctRNNModel</td>\n",
       "      <td>10000</td>\n",
       "    </tr>\n",
       "    <tr>\n",
       "      <th>643</th>\n",
       "      <td>0.001944</td>\n",
       "      <td>0.043869</td>\n",
       "      <td>0.014059</td>\n",
       "      <td>0.043869</td>\n",
       "      <td>ctGRUModel</td>\n",
       "      <td>10000</td>\n",
       "    </tr>\n",
       "    <tr>\n",
       "      <th>5500</th>\n",
       "      <td>0.001925</td>\n",
       "      <td>0.043660</td>\n",
       "      <td>0.013518</td>\n",
       "      <td>0.043660</td>\n",
       "      <td>ctGRUModel</td>\n",
       "      <td>20000</td>\n",
       "    </tr>\n",
       "    <tr>\n",
       "      <th>511</th>\n",
       "      <td>0.002018</td>\n",
       "      <td>0.044396</td>\n",
       "      <td>0.021731</td>\n",
       "      <td>0.044396</td>\n",
       "      <td>ctRNNModel</td>\n",
       "      <td>5000</td>\n",
       "    </tr>\n",
       "    <tr>\n",
       "      <th>560</th>\n",
       "      <td>0.002092</td>\n",
       "      <td>0.044859</td>\n",
       "      <td>0.028171</td>\n",
       "      <td>0.044859</td>\n",
       "      <td>neuralJumpModel</td>\n",
       "      <td>10000</td>\n",
       "    </tr>\n",
       "    <tr>\n",
       "      <th>700</th>\n",
       "      <td>0.002063</td>\n",
       "      <td>0.044690</td>\n",
       "      <td>0.025615</td>\n",
       "      <td>0.044690</td>\n",
       "      <td>neuralJumpModel</td>\n",
       "      <td>5000</td>\n",
       "    </tr>\n",
       "    <tr>\n",
       "      <th>144</th>\n",
       "      <td>0.002930</td>\n",
       "      <td>0.051181</td>\n",
       "      <td>0.055751</td>\n",
       "      <td>0.051181</td>\n",
       "      <td>neuralJumpModel</td>\n",
       "      <td>1000</td>\n",
       "    </tr>\n",
       "    <tr>\n",
       "      <th>182</th>\n",
       "      <td>0.002703</td>\n",
       "      <td>0.049946</td>\n",
       "      <td>0.045613</td>\n",
       "      <td>0.049946</td>\n",
       "      <td>ctRNNModel</td>\n",
       "      <td>1000</td>\n",
       "    </tr>\n",
       "    <tr>\n",
       "      <th>182</th>\n",
       "      <td>0.002184</td>\n",
       "      <td>0.045374</td>\n",
       "      <td>0.035317</td>\n",
       "      <td>0.045374</td>\n",
       "      <td>ctGRUModel</td>\n",
       "      <td>1000</td>\n",
       "    </tr>\n",
       "  </tbody>\n",
       "</table>\n",
       "</div>"
      ],
      "text/plain": [
       "      test_loss  test_loss_pred  test_loss_update  test_rmse            model  \\\n",
       "511    0.001999        0.044301          0.019200   0.044301       ctGRUModel   \n",
       "1485   0.001974        0.043996          0.019492   0.043996  neuralJumpModel   \n",
       "1265   0.001929        0.043652          0.015209   0.043652       ctRNNModel   \n",
       "672    0.001984        0.044101          0.019672   0.044101       ctRNNModel   \n",
       "643    0.001944        0.043869          0.014059   0.043869       ctGRUModel   \n",
       "5500   0.001925        0.043660          0.013518   0.043660       ctGRUModel   \n",
       "511    0.002018        0.044396          0.021731   0.044396       ctRNNModel   \n",
       "560    0.002092        0.044859          0.028171   0.044859  neuralJumpModel   \n",
       "700    0.002063        0.044690          0.025615   0.044690  neuralJumpModel   \n",
       "144    0.002930        0.051181          0.055751   0.051181  neuralJumpModel   \n",
       "182    0.002703        0.049946          0.045613   0.049946       ctRNNModel   \n",
       "182    0.002184        0.045374          0.035317   0.045374       ctGRUModel   \n",
       "\n",
       "          N  \n",
       "511    5000  \n",
       "1485  20000  \n",
       "1265  20000  \n",
       "672   10000  \n",
       "643   10000  \n",
       "5500  20000  \n",
       "511    5000  \n",
       "560   10000  \n",
       "700    5000  \n",
       "144    1000  \n",
       "182    1000  \n",
       "182    1000  "
      ]
     },
     "execution_count": 7,
     "metadata": {},
     "output_type": "execute_result"
    }
   ],
   "source": [
    "df_test"
   ]
  },
  {
   "cell_type": "code",
   "execution_count": 8,
   "id": "b48d3f55",
   "metadata": {},
   "outputs": [],
   "source": [
    "d = {'neuralJumpModel':'NJ-ODE','ctRNNModel':'ODE-RNN','ctGRUModel':'ODE-GRU'}"
   ]
  },
  {
   "cell_type": "code",
   "execution_count": 9,
   "id": "2f833f85",
   "metadata": {},
   "outputs": [],
   "source": [
    "df_test['model_name'] = [d[m] for m in df_test.model]"
   ]
  },
  {
   "cell_type": "code",
   "execution_count": 10,
   "id": "a9fdbea0",
   "metadata": {},
   "outputs": [
    {
     "data": {
      "image/png": "[encoded data removed]",
      "text/plain": [
       "<Figure size 432x288 with 1 Axes>"
      ]
     },
     "metadata": {
      "needs_background": "light"
     },
     "output_type": "display_data"
    }
   ],
   "source": [
    "f, ax = plt.subplots()\n",
    "sns.scatterplot(x=\"N\", y=\"test_loss_pred\", hue=\"model_name\",data=df_test)\n",
    "ax.set_xlabel('Number of training examples')\n",
    "ax.set_ylabel('RMSE (prediction)')\n",
    "ax.ticklabel_format(axis=\"x\", style=\"sci\", scilimits=(0,0))\n",
    "ax.legend(title=\"\",frameon=False)\n",
    "plt.show()"
   ]
  },
  {
   "cell_type": "code",
   "execution_count": 11,
   "id": "351ca812",
   "metadata": {},
   "outputs": [
    {
     "data": {
      "image/png": "[encoded data removed]",
      "text/plain": [
       "<Figure size 432x288 with 1 Axes>"
      ]
     },
     "metadata": {
      "needs_background": "light"
     },
     "output_type": "display_data"
    }
   ],
   "source": [
    "f, ax = plt.subplots()\n",
    "sns.scatterplot(x=\"N\", y=\"test_loss_update\", hue=\"model_name\",data=df_test)\n",
    "ax.set_xlabel('Number of training examples')\n",
    "ax.set_ylabel('RMSE (update)')\n",
    "ax.ticklabel_format(axis=\"x\", style=\"sci\", scilimits=(0,0))\n",
    "ax.legend(title=\"\",frameon=False)\n",
    "plt.show()"
   ]
  },
  {
   "cell_type": "code",
   "execution_count": null,
   "id": "2181c500",
   "metadata": {},
   "outputs": [],
   "source": []
  }
 ],
 "metadata": {
  "environment": {
   "name": "pytorch-gpu.1-9.m75",
   "type": "gcloud",
   "uri": "gcr.io/deeplearning-platform-release/pytorch-gpu.1-9:m75"
  },
  "kernelspec": {
   "display_name": "Python 3",
   "language": "python",
   "name": "python3"
  },
  "language_info": {
   "codemirror_mode": {
    "name": "ipython",
    "version": 3
   },
   "file_extension": ".py",
   "mimetype": "text/x-python",
   "name": "python",
   "nbconvert_exporter": "python",
   "pygments_lexer": "ipython3",
   "version": "3.7.10"
  }
 },
 "nbformat": 4,
 "nbformat_minor": 5
}
